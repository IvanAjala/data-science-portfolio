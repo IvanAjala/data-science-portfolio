{
  "nbformat": 4,
  "nbformat_minor": 0,
  "metadata": {
    "colab": {
      "provenance": [],
      "collapsed_sections": [
        "R9J9Snjnafx4",
        "QdOo4ya_e74q",
        "e0Qkcvmzi2nG",
        "8x0yQhBXwEi-",
        "Co4twMVhxMB5",
        "FZOTiorI4NJp",
        "gFmJXbpj4Gqt"
      ],
      "include_colab_link": true
    },
    "kernelspec": {
      "name": "python3",
      "display_name": "Python 3"
    },
    "language_info": {
      "name": "python"
    }
  },
  "cells": [
    {
      "cell_type": "markdown",
      "metadata": {
        "id": "view-in-github",
        "colab_type": "text"
      },
      "source": [
        "<a href=\"https://colab.research.google.com/github/IvanAjala/data-science-portfolio/blob/main/An%C3%A1lise%20Explorat%C3%B3ria%20de%20Dados%20(EDA)/churn_analysis/notebooks/Copy_of_churn_analysis.ipynb\" target=\"_parent\"><img src=\"https://colab.research.google.com/assets/colab-badge.svg\" alt=\"Open In Colab\"/></a>"
      ]
    },
    {
      "cell_type": "markdown",
      "source": [
        "## 1. **Importação de Bibliotecas e Carregamento de Dados**\n",
        "\n",
        "- **Importação das Bibliotecas**: O notebook começa importando bibliotecas essenciais para análise de dados (**`pandas`**, **`numpy`**) e visualização (**`matplotlib`** e **`seaborn`**).\n",
        "\n",
        "- **Carregamento dos Dados**: Em seguida, o conjunto de dados é carregado usando **`pd.read_csv()`**, que lê o arquivo [Churn.csv](https://github.com/IvanAjala/data-science-portfolio/tree/cc0e7024da7ffb10f205bf0ff2b4262e733614d6/An%C3%A1lise%20Explorat%C3%B3ria%20de%20Dados%20(EDA)/churn_analysis/data) com os dados.\n",
        "\n"
      ],
      "metadata": {
        "id": "R9J9Snjnafx4"
      }
    },
    {
      "cell_type": "code",
      "execution_count": 1,
      "metadata": {
        "id": "Aaako-Du7Dnf"
      },
      "outputs": [],
      "source": [
        "import pandas as pd\n",
        "import numpy as np\n",
        "import matplotlib.pyplot as plt\n",
        "import seaborn as sns"
      ]
    },
    {
      "cell_type": "code",
      "source": [
        "# URL do arquivo CSV no GitHub\n",
        "url = 'https://raw.githubusercontent.com/IvanAjala/data-science-portfolio/main/An%C3%A1lise%20Explorat%C3%B3ria%20de%20Dados%20(EDA)/churn_analysis/data/Churn.csv'\n",
        "\n",
        "# Importa a base de dados\n",
        "df = pd.read_csv(url, sep=';')\n"
      ],
      "metadata": {
        "id": "K577sgZ7_k_r"
      },
      "execution_count": 8,
      "outputs": []
    },
    {
      "cell_type": "markdown",
      "source": [
        "## 2. **Análise Inicial dos Dados**\n",
        "\n",
        "- **Visualização das Primeiras Linhas**: O notebook mostra as primeiras linhas do dataframe para dar uma visão geral dos dados."
      ],
      "metadata": {
        "id": "QdOo4ya_e74q"
      }
    },
    {
      "cell_type": "code",
      "source": [
        "# Visualização das primeiras linhas\n",
        "df.head()"
      ],
      "metadata": {
        "colab": {
          "base_uri": "https://localhost:8080/",
          "height": 206
        },
        "id": "_wHtv3Zle7Bq",
        "outputId": "c8bc6188-1aed-4122-a0c9-151c39401ab8"
      },
      "execution_count": 9,
      "outputs": [
        {
          "output_type": "execute_result",
          "data": {
            "text/plain": [
              "   X0   X1  X2        X3  X4  X4.1        X6  X7  X8  X9         X10  X11\n",
              "0   1  619  RS  Feminino  42     2         0   1   1   1  10134888.0    1\n",
              "1   2  608  SC  Feminino  41     1   8380786   1   0   1  11254258.0    0\n",
              "2   3  502  RS  Feminino  42     8   1596608   3   1   0  11393157.0    1\n",
              "3   4  699  RS  Feminino  39     1         0   2   0   0   9382663.0    0\n",
              "4   5  850  SC  Feminino  43     2  12551082   1   1   1    790841.0    0"
            ],
            "text/html": [
              "\n",
              "  <div id=\"df-6e9278bd-115f-4519-97eb-3c99a866e851\" class=\"colab-df-container\">\n",
              "    <div>\n",
              "<style scoped>\n",
              "    .dataframe tbody tr th:only-of-type {\n",
              "        vertical-align: middle;\n",
              "    }\n",
              "\n",
              "    .dataframe tbody tr th {\n",
              "        vertical-align: top;\n",
              "    }\n",
              "\n",
              "    .dataframe thead th {\n",
              "        text-align: right;\n",
              "    }\n",
              "</style>\n",
              "<table border=\"1\" class=\"dataframe\">\n",
              "  <thead>\n",
              "    <tr style=\"text-align: right;\">\n",
              "      <th></th>\n",
              "      <th>X0</th>\n",
              "      <th>X1</th>\n",
              "      <th>X2</th>\n",
              "      <th>X3</th>\n",
              "      <th>X4</th>\n",
              "      <th>X4.1</th>\n",
              "      <th>X6</th>\n",
              "      <th>X7</th>\n",
              "      <th>X8</th>\n",
              "      <th>X9</th>\n",
              "      <th>X10</th>\n",
              "      <th>X11</th>\n",
              "    </tr>\n",
              "  </thead>\n",
              "  <tbody>\n",
              "    <tr>\n",
              "      <th>0</th>\n",
              "      <td>1</td>\n",
              "      <td>619</td>\n",
              "      <td>RS</td>\n",
              "      <td>Feminino</td>\n",
              "      <td>42</td>\n",
              "      <td>2</td>\n",
              "      <td>0</td>\n",
              "      <td>1</td>\n",
              "      <td>1</td>\n",
              "      <td>1</td>\n",
              "      <td>10134888.0</td>\n",
              "      <td>1</td>\n",
              "    </tr>\n",
              "    <tr>\n",
              "      <th>1</th>\n",
              "      <td>2</td>\n",
              "      <td>608</td>\n",
              "      <td>SC</td>\n",
              "      <td>Feminino</td>\n",
              "      <td>41</td>\n",
              "      <td>1</td>\n",
              "      <td>8380786</td>\n",
              "      <td>1</td>\n",
              "      <td>0</td>\n",
              "      <td>1</td>\n",
              "      <td>11254258.0</td>\n",
              "      <td>0</td>\n",
              "    </tr>\n",
              "    <tr>\n",
              "      <th>2</th>\n",
              "      <td>3</td>\n",
              "      <td>502</td>\n",
              "      <td>RS</td>\n",
              "      <td>Feminino</td>\n",
              "      <td>42</td>\n",
              "      <td>8</td>\n",
              "      <td>1596608</td>\n",
              "      <td>3</td>\n",
              "      <td>1</td>\n",
              "      <td>0</td>\n",
              "      <td>11393157.0</td>\n",
              "      <td>1</td>\n",
              "    </tr>\n",
              "    <tr>\n",
              "      <th>3</th>\n",
              "      <td>4</td>\n",
              "      <td>699</td>\n",
              "      <td>RS</td>\n",
              "      <td>Feminino</td>\n",
              "      <td>39</td>\n",
              "      <td>1</td>\n",
              "      <td>0</td>\n",
              "      <td>2</td>\n",
              "      <td>0</td>\n",
              "      <td>0</td>\n",
              "      <td>9382663.0</td>\n",
              "      <td>0</td>\n",
              "    </tr>\n",
              "    <tr>\n",
              "      <th>4</th>\n",
              "      <td>5</td>\n",
              "      <td>850</td>\n",
              "      <td>SC</td>\n",
              "      <td>Feminino</td>\n",
              "      <td>43</td>\n",
              "      <td>2</td>\n",
              "      <td>12551082</td>\n",
              "      <td>1</td>\n",
              "      <td>1</td>\n",
              "      <td>1</td>\n",
              "      <td>790841.0</td>\n",
              "      <td>0</td>\n",
              "    </tr>\n",
              "  </tbody>\n",
              "</table>\n",
              "</div>\n",
              "    <div class=\"colab-df-buttons\">\n",
              "\n",
              "  <div class=\"colab-df-container\">\n",
              "    <button class=\"colab-df-convert\" onclick=\"convertToInteractive('df-6e9278bd-115f-4519-97eb-3c99a866e851')\"\n",
              "            title=\"Convert this dataframe to an interactive table.\"\n",
              "            style=\"display:none;\">\n",
              "\n",
              "  <svg xmlns=\"http://www.w3.org/2000/svg\" height=\"24px\" viewBox=\"0 -960 960 960\">\n",
              "    <path d=\"M120-120v-720h720v720H120Zm60-500h600v-160H180v160Zm220 220h160v-160H400v160Zm0 220h160v-160H400v160ZM180-400h160v-160H180v160Zm440 0h160v-160H620v160ZM180-180h160v-160H180v160Zm440 0h160v-160H620v160Z\"/>\n",
              "  </svg>\n",
              "    </button>\n",
              "\n",
              "  <style>\n",
              "    .colab-df-container {\n",
              "      display:flex;\n",
              "      gap: 12px;\n",
              "    }\n",
              "\n",
              "    .colab-df-convert {\n",
              "      background-color: #E8F0FE;\n",
              "      border: none;\n",
              "      border-radius: 50%;\n",
              "      cursor: pointer;\n",
              "      display: none;\n",
              "      fill: #1967D2;\n",
              "      height: 32px;\n",
              "      padding: 0 0 0 0;\n",
              "      width: 32px;\n",
              "    }\n",
              "\n",
              "    .colab-df-convert:hover {\n",
              "      background-color: #E2EBFA;\n",
              "      box-shadow: 0px 1px 2px rgba(60, 64, 67, 0.3), 0px 1px 3px 1px rgba(60, 64, 67, 0.15);\n",
              "      fill: #174EA6;\n",
              "    }\n",
              "\n",
              "    .colab-df-buttons div {\n",
              "      margin-bottom: 4px;\n",
              "    }\n",
              "\n",
              "    [theme=dark] .colab-df-convert {\n",
              "      background-color: #3B4455;\n",
              "      fill: #D2E3FC;\n",
              "    }\n",
              "\n",
              "    [theme=dark] .colab-df-convert:hover {\n",
              "      background-color: #434B5C;\n",
              "      box-shadow: 0px 1px 3px 1px rgba(0, 0, 0, 0.15);\n",
              "      filter: drop-shadow(0px 1px 2px rgba(0, 0, 0, 0.3));\n",
              "      fill: #FFFFFF;\n",
              "    }\n",
              "  </style>\n",
              "\n",
              "    <script>\n",
              "      const buttonEl =\n",
              "        document.querySelector('#df-6e9278bd-115f-4519-97eb-3c99a866e851 button.colab-df-convert');\n",
              "      buttonEl.style.display =\n",
              "        google.colab.kernel.accessAllowed ? 'block' : 'none';\n",
              "\n",
              "      async function convertToInteractive(key) {\n",
              "        const element = document.querySelector('#df-6e9278bd-115f-4519-97eb-3c99a866e851');\n",
              "        const dataTable =\n",
              "          await google.colab.kernel.invokeFunction('convertToInteractive',\n",
              "                                                    [key], {});\n",
              "        if (!dataTable) return;\n",
              "\n",
              "        const docLinkHtml = 'Like what you see? Visit the ' +\n",
              "          '<a target=\"_blank\" href=https://colab.research.google.com/notebooks/data_table.ipynb>data table notebook</a>'\n",
              "          + ' to learn more about interactive tables.';\n",
              "        element.innerHTML = '';\n",
              "        dataTable['output_type'] = 'display_data';\n",
              "        await google.colab.output.renderOutput(dataTable, element);\n",
              "        const docLink = document.createElement('div');\n",
              "        docLink.innerHTML = docLinkHtml;\n",
              "        element.appendChild(docLink);\n",
              "      }\n",
              "    </script>\n",
              "  </div>\n",
              "\n",
              "\n",
              "<div id=\"df-0c8489b4-6409-420b-a46f-f0e05e57f222\">\n",
              "  <button class=\"colab-df-quickchart\" onclick=\"quickchart('df-0c8489b4-6409-420b-a46f-f0e05e57f222')\"\n",
              "            title=\"Suggest charts\"\n",
              "            style=\"display:none;\">\n",
              "\n",
              "<svg xmlns=\"http://www.w3.org/2000/svg\" height=\"24px\"viewBox=\"0 0 24 24\"\n",
              "     width=\"24px\">\n",
              "    <g>\n",
              "        <path d=\"M19 3H5c-1.1 0-2 .9-2 2v14c0 1.1.9 2 2 2h14c1.1 0 2-.9 2-2V5c0-1.1-.9-2-2-2zM9 17H7v-7h2v7zm4 0h-2V7h2v10zm4 0h-2v-4h2v4z\"/>\n",
              "    </g>\n",
              "</svg>\n",
              "  </button>\n",
              "\n",
              "<style>\n",
              "  .colab-df-quickchart {\n",
              "      --bg-color: #E8F0FE;\n",
              "      --fill-color: #1967D2;\n",
              "      --hover-bg-color: #E2EBFA;\n",
              "      --hover-fill-color: #174EA6;\n",
              "      --disabled-fill-color: #AAA;\n",
              "      --disabled-bg-color: #DDD;\n",
              "  }\n",
              "\n",
              "  [theme=dark] .colab-df-quickchart {\n",
              "      --bg-color: #3B4455;\n",
              "      --fill-color: #D2E3FC;\n",
              "      --hover-bg-color: #434B5C;\n",
              "      --hover-fill-color: #FFFFFF;\n",
              "      --disabled-bg-color: #3B4455;\n",
              "      --disabled-fill-color: #666;\n",
              "  }\n",
              "\n",
              "  .colab-df-quickchart {\n",
              "    background-color: var(--bg-color);\n",
              "    border: none;\n",
              "    border-radius: 50%;\n",
              "    cursor: pointer;\n",
              "    display: none;\n",
              "    fill: var(--fill-color);\n",
              "    height: 32px;\n",
              "    padding: 0;\n",
              "    width: 32px;\n",
              "  }\n",
              "\n",
              "  .colab-df-quickchart:hover {\n",
              "    background-color: var(--hover-bg-color);\n",
              "    box-shadow: 0 1px 2px rgba(60, 64, 67, 0.3), 0 1px 3px 1px rgba(60, 64, 67, 0.15);\n",
              "    fill: var(--button-hover-fill-color);\n",
              "  }\n",
              "\n",
              "  .colab-df-quickchart-complete:disabled,\n",
              "  .colab-df-quickchart-complete:disabled:hover {\n",
              "    background-color: var(--disabled-bg-color);\n",
              "    fill: var(--disabled-fill-color);\n",
              "    box-shadow: none;\n",
              "  }\n",
              "\n",
              "  .colab-df-spinner {\n",
              "    border: 2px solid var(--fill-color);\n",
              "    border-color: transparent;\n",
              "    border-bottom-color: var(--fill-color);\n",
              "    animation:\n",
              "      spin 1s steps(1) infinite;\n",
              "  }\n",
              "\n",
              "  @keyframes spin {\n",
              "    0% {\n",
              "      border-color: transparent;\n",
              "      border-bottom-color: var(--fill-color);\n",
              "      border-left-color: var(--fill-color);\n",
              "    }\n",
              "    20% {\n",
              "      border-color: transparent;\n",
              "      border-left-color: var(--fill-color);\n",
              "      border-top-color: var(--fill-color);\n",
              "    }\n",
              "    30% {\n",
              "      border-color: transparent;\n",
              "      border-left-color: var(--fill-color);\n",
              "      border-top-color: var(--fill-color);\n",
              "      border-right-color: var(--fill-color);\n",
              "    }\n",
              "    40% {\n",
              "      border-color: transparent;\n",
              "      border-right-color: var(--fill-color);\n",
              "      border-top-color: var(--fill-color);\n",
              "    }\n",
              "    60% {\n",
              "      border-color: transparent;\n",
              "      border-right-color: var(--fill-color);\n",
              "    }\n",
              "    80% {\n",
              "      border-color: transparent;\n",
              "      border-right-color: var(--fill-color);\n",
              "      border-bottom-color: var(--fill-color);\n",
              "    }\n",
              "    90% {\n",
              "      border-color: transparent;\n",
              "      border-bottom-color: var(--fill-color);\n",
              "    }\n",
              "  }\n",
              "</style>\n",
              "\n",
              "  <script>\n",
              "    async function quickchart(key) {\n",
              "      const quickchartButtonEl =\n",
              "        document.querySelector('#' + key + ' button');\n",
              "      quickchartButtonEl.disabled = true;  // To prevent multiple clicks.\n",
              "      quickchartButtonEl.classList.add('colab-df-spinner');\n",
              "      try {\n",
              "        const charts = await google.colab.kernel.invokeFunction(\n",
              "            'suggestCharts', [key], {});\n",
              "      } catch (error) {\n",
              "        console.error('Error during call to suggestCharts:', error);\n",
              "      }\n",
              "      quickchartButtonEl.classList.remove('colab-df-spinner');\n",
              "      quickchartButtonEl.classList.add('colab-df-quickchart-complete');\n",
              "    }\n",
              "    (() => {\n",
              "      let quickchartButtonEl =\n",
              "        document.querySelector('#df-0c8489b4-6409-420b-a46f-f0e05e57f222 button');\n",
              "      quickchartButtonEl.style.display =\n",
              "        google.colab.kernel.accessAllowed ? 'block' : 'none';\n",
              "    })();\n",
              "  </script>\n",
              "</div>\n",
              "\n",
              "    </div>\n",
              "  </div>\n"
            ],
            "application/vnd.google.colaboratory.intrinsic+json": {
              "type": "dataframe",
              "variable_name": "df",
              "summary": "{\n  \"name\": \"df\",\n  \"rows\": 999,\n  \"fields\": [\n    {\n      \"column\": \"X0\",\n      \"properties\": {\n        \"dtype\": \"number\",\n        \"std\": 288,\n        \"min\": 1,\n        \"max\": 1000,\n        \"num_unique_values\": 998,\n        \"samples\": [\n          456,\n          795,\n          212\n        ],\n        \"semantic_type\": \"\",\n        \"description\": \"\"\n      }\n    },\n    {\n      \"column\": \"X1\",\n      \"properties\": {\n        \"dtype\": \"number\",\n        \"std\": 98,\n        \"min\": 376,\n        \"max\": 850,\n        \"num_unique_values\": 354,\n        \"samples\": [\n          840,\n          660,\n          417\n        ],\n        \"semantic_type\": \"\",\n        \"description\": \"\"\n      }\n    },\n    {\n      \"column\": \"X2\",\n      \"properties\": {\n        \"dtype\": \"category\",\n        \"num_unique_values\": 6,\n        \"samples\": [\n          \"RS\",\n          \"SC\",\n          \"TD\"\n        ],\n        \"semantic_type\": \"\",\n        \"description\": \"\"\n      }\n    },\n    {\n      \"column\": \"X3\",\n      \"properties\": {\n        \"dtype\": \"category\",\n        \"num_unique_values\": 5,\n        \"samples\": [\n          \"Masculino\",\n          \"Fem\",\n          \"M\"\n        ],\n        \"semantic_type\": \"\",\n        \"description\": \"\"\n      }\n    },\n    {\n      \"column\": \"X4\",\n      \"properties\": {\n        \"dtype\": \"number\",\n        \"std\": 11,\n        \"min\": -20,\n        \"max\": 140,\n        \"num_unique_values\": 64,\n        \"samples\": [\n          60,\n          69,\n          42\n        ],\n        \"semantic_type\": \"\",\n        \"description\": \"\"\n      }\n    },\n    {\n      \"column\": \"X4.1\",\n      \"properties\": {\n        \"dtype\": \"number\",\n        \"std\": 2,\n        \"min\": 0,\n        \"max\": 10,\n        \"num_unique_values\": 11,\n        \"samples\": [\n          6,\n          2,\n          9\n        ],\n        \"semantic_type\": \"\",\n        \"description\": \"\"\n      }\n    },\n    {\n      \"column\": \"X6\",\n      \"properties\": {\n        \"dtype\": \"number\",\n        \"std\": 6311840,\n        \"min\": 0,\n        \"max\": 21177431,\n        \"num_unique_values\": 649,\n        \"samples\": [\n          12453278,\n          18784199,\n          13380229\n        ],\n        \"semantic_type\": \"\",\n        \"description\": \"\"\n      }\n    },\n    {\n      \"column\": \"X7\",\n      \"properties\": {\n        \"dtype\": \"number\",\n        \"std\": 0,\n        \"min\": 1,\n        \"max\": 4,\n        \"num_unique_values\": 4,\n        \"samples\": [\n          3,\n          4,\n          1\n        ],\n        \"semantic_type\": \"\",\n        \"description\": \"\"\n      }\n    },\n    {\n      \"column\": \"X8\",\n      \"properties\": {\n        \"dtype\": \"number\",\n        \"std\": 0,\n        \"min\": 0,\n        \"max\": 1,\n        \"num_unique_values\": 2,\n        \"samples\": [\n          0,\n          1\n        ],\n        \"semantic_type\": \"\",\n        \"description\": \"\"\n      }\n    },\n    {\n      \"column\": \"X9\",\n      \"properties\": {\n        \"dtype\": \"number\",\n        \"std\": 0,\n        \"min\": 0,\n        \"max\": 1,\n        \"num_unique_values\": 2,\n        \"samples\": [\n          0,\n          1\n        ],\n        \"semantic_type\": \"\",\n        \"description\": \"\"\n      }\n    },\n    {\n      \"column\": \"X10\",\n      \"properties\": {\n        \"dtype\": \"number\",\n        \"std\": 530579988.3011111,\n        \"min\": 9677.0,\n        \"max\": 11934688000.0,\n        \"num_unique_values\": 987,\n        \"samples\": [\n          12054083.0,\n          19331833.0\n        ],\n        \"semantic_type\": \"\",\n        \"description\": \"\"\n      }\n    },\n    {\n      \"column\": \"X11\",\n      \"properties\": {\n        \"dtype\": \"number\",\n        \"std\": 0,\n        \"min\": 0,\n        \"max\": 1,\n        \"num_unique_values\": 2,\n        \"samples\": [\n          0,\n          1\n        ],\n        \"semantic_type\": \"\",\n        \"description\": \"\"\n      }\n    }\n  ]\n}"
            }
          },
          "metadata": {},
          "execution_count": 9
        }
      ]
    },
    {
      "cell_type": "markdown",
      "source": [
        "- **Visualização das dimensões do Dataframe**: O notebook mostra o total de linhas x total de colunas."
      ],
      "metadata": {
        "id": "IgywDeJef7Yd"
      }
    },
    {
      "cell_type": "code",
      "source": [
        "# Visualizando o total de linhas e colunas\n",
        "df.shape"
      ],
      "metadata": {
        "id": "WpxgaBnrACjo",
        "colab": {
          "base_uri": "https://localhost:8080/"
        },
        "outputId": "cfbf2552-98ff-41fe-a12d-ebfc89b5d1e8"
      },
      "execution_count": 10,
      "outputs": [
        {
          "output_type": "execute_result",
          "data": {
            "text/plain": [
              "(999, 12)"
            ]
          },
          "metadata": {},
          "execution_count": 10
        }
      ]
    },
    {
      "cell_type": "markdown",
      "source": [
        "- **Informações Gerais**: São exibidas informações gerais como a quantidade de registros e colunas, tipos de dados, e presença de valores nulos."
      ],
      "metadata": {
        "id": "9GQUD6EFgfDl"
      }
    },
    {
      "cell_type": "code",
      "source": [
        "df.info()"
      ],
      "metadata": {
        "colab": {
          "base_uri": "https://localhost:8080/"
        },
        "id": "IJG9fTe5gvZg",
        "outputId": "fc58e23f-4762-46c0-a6bc-65fc8541f317"
      },
      "execution_count": 11,
      "outputs": [
        {
          "output_type": "stream",
          "name": "stdout",
          "text": [
            "<class 'pandas.core.frame.DataFrame'>\n",
            "RangeIndex: 999 entries, 0 to 998\n",
            "Data columns (total 12 columns):\n",
            " #   Column  Non-Null Count  Dtype  \n",
            "---  ------  --------------  -----  \n",
            " 0   X0      999 non-null    int64  \n",
            " 1   X1      999 non-null    int64  \n",
            " 2   X2      999 non-null    object \n",
            " 3   X3      991 non-null    object \n",
            " 4   X4      999 non-null    int64  \n",
            " 5   X4.1    999 non-null    int64  \n",
            " 6   X6      999 non-null    int64  \n",
            " 7   X7      999 non-null    int64  \n",
            " 8   X8      999 non-null    int64  \n",
            " 9   X9      999 non-null    int64  \n",
            " 10  X10     992 non-null    float64\n",
            " 11  X11     999 non-null    int64  \n",
            "dtypes: float64(1), int64(9), object(2)\n",
            "memory usage: 93.8+ KB\n"
          ]
        }
      ]
    },
    {
      "cell_type": "markdown",
      "source": [
        "- **Estatísticas Descritivas**: Fornece estatísticas descritivas das colunas numéricas, como média, desvio padrão, mínimo e máximo."
      ],
      "metadata": {
        "id": "Uq_WEzyqhN2j"
      }
    },
    {
      "cell_type": "code",
      "source": [
        "df.describe()"
      ],
      "metadata": {
        "colab": {
          "base_uri": "https://localhost:8080/",
          "height": 300
        },
        "id": "rULxxpwvh1Oz",
        "outputId": "8e473c5f-0f36-470d-f896-7bf32e81913a"
      },
      "execution_count": 12,
      "outputs": [
        {
          "output_type": "execute_result",
          "data": {
            "text/plain": [
              "                X0          X1          X4        X4.1            X6  \\\n",
              "count   999.000000  999.000000  999.000000  999.000000  9.990000e+02   \n",
              "mean    500.916917  648.621622   38.902903    5.069069  7.164928e+06   \n",
              "std     288.662884   98.264219   11.401912    2.927691  6.311840e+06   \n",
              "min       1.000000  376.000000  -20.000000    0.000000  0.000000e+00   \n",
              "25%     251.500000  580.000000   32.000000    2.000000  0.000000e+00   \n",
              "50%     501.000000  653.000000   37.000000    5.000000  8.958835e+06   \n",
              "75%     750.500000  721.000000   44.000000    8.000000  1.258684e+07   \n",
              "max    1000.000000  850.000000  140.000000   10.000000  2.117743e+07   \n",
              "\n",
              "               X7          X8         X9           X10         X11  \n",
              "count  999.000000  999.000000  999.00000  9.920000e+02  999.000000  \n",
              "mean     1.526527    0.702703    0.50951  3.528762e+07    0.203203  \n",
              "std      0.574201    0.457297    0.50016  5.305800e+08    0.402584  \n",
              "min      1.000000    0.000000    0.00000  9.677000e+03    0.000000  \n",
              "25%      1.000000    0.000000    0.00000  3.029011e+06    0.000000  \n",
              "50%      1.000000    1.000000    1.00000  8.703250e+06    0.000000  \n",
              "75%      2.000000    1.000000    1.00000  1.405213e+07    0.000000  \n",
              "max      4.000000    1.000000    1.00000  1.193469e+10    1.000000  "
            ],
            "text/html": [
              "\n",
              "  <div id=\"df-73555304-e58d-4369-8840-84292424257e\" class=\"colab-df-container\">\n",
              "    <div>\n",
              "<style scoped>\n",
              "    .dataframe tbody tr th:only-of-type {\n",
              "        vertical-align: middle;\n",
              "    }\n",
              "\n",
              "    .dataframe tbody tr th {\n",
              "        vertical-align: top;\n",
              "    }\n",
              "\n",
              "    .dataframe thead th {\n",
              "        text-align: right;\n",
              "    }\n",
              "</style>\n",
              "<table border=\"1\" class=\"dataframe\">\n",
              "  <thead>\n",
              "    <tr style=\"text-align: right;\">\n",
              "      <th></th>\n",
              "      <th>X0</th>\n",
              "      <th>X1</th>\n",
              "      <th>X4</th>\n",
              "      <th>X4.1</th>\n",
              "      <th>X6</th>\n",
              "      <th>X7</th>\n",
              "      <th>X8</th>\n",
              "      <th>X9</th>\n",
              "      <th>X10</th>\n",
              "      <th>X11</th>\n",
              "    </tr>\n",
              "  </thead>\n",
              "  <tbody>\n",
              "    <tr>\n",
              "      <th>count</th>\n",
              "      <td>999.000000</td>\n",
              "      <td>999.000000</td>\n",
              "      <td>999.000000</td>\n",
              "      <td>999.000000</td>\n",
              "      <td>9.990000e+02</td>\n",
              "      <td>999.000000</td>\n",
              "      <td>999.000000</td>\n",
              "      <td>999.00000</td>\n",
              "      <td>9.920000e+02</td>\n",
              "      <td>999.000000</td>\n",
              "    </tr>\n",
              "    <tr>\n",
              "      <th>mean</th>\n",
              "      <td>500.916917</td>\n",
              "      <td>648.621622</td>\n",
              "      <td>38.902903</td>\n",
              "      <td>5.069069</td>\n",
              "      <td>7.164928e+06</td>\n",
              "      <td>1.526527</td>\n",
              "      <td>0.702703</td>\n",
              "      <td>0.50951</td>\n",
              "      <td>3.528762e+07</td>\n",
              "      <td>0.203203</td>\n",
              "    </tr>\n",
              "    <tr>\n",
              "      <th>std</th>\n",
              "      <td>288.662884</td>\n",
              "      <td>98.264219</td>\n",
              "      <td>11.401912</td>\n",
              "      <td>2.927691</td>\n",
              "      <td>6.311840e+06</td>\n",
              "      <td>0.574201</td>\n",
              "      <td>0.457297</td>\n",
              "      <td>0.50016</td>\n",
              "      <td>5.305800e+08</td>\n",
              "      <td>0.402584</td>\n",
              "    </tr>\n",
              "    <tr>\n",
              "      <th>min</th>\n",
              "      <td>1.000000</td>\n",
              "      <td>376.000000</td>\n",
              "      <td>-20.000000</td>\n",
              "      <td>0.000000</td>\n",
              "      <td>0.000000e+00</td>\n",
              "      <td>1.000000</td>\n",
              "      <td>0.000000</td>\n",
              "      <td>0.00000</td>\n",
              "      <td>9.677000e+03</td>\n",
              "      <td>0.000000</td>\n",
              "    </tr>\n",
              "    <tr>\n",
              "      <th>25%</th>\n",
              "      <td>251.500000</td>\n",
              "      <td>580.000000</td>\n",
              "      <td>32.000000</td>\n",
              "      <td>2.000000</td>\n",
              "      <td>0.000000e+00</td>\n",
              "      <td>1.000000</td>\n",
              "      <td>0.000000</td>\n",
              "      <td>0.00000</td>\n",
              "      <td>3.029011e+06</td>\n",
              "      <td>0.000000</td>\n",
              "    </tr>\n",
              "    <tr>\n",
              "      <th>50%</th>\n",
              "      <td>501.000000</td>\n",
              "      <td>653.000000</td>\n",
              "      <td>37.000000</td>\n",
              "      <td>5.000000</td>\n",
              "      <td>8.958835e+06</td>\n",
              "      <td>1.000000</td>\n",
              "      <td>1.000000</td>\n",
              "      <td>1.00000</td>\n",
              "      <td>8.703250e+06</td>\n",
              "      <td>0.000000</td>\n",
              "    </tr>\n",
              "    <tr>\n",
              "      <th>75%</th>\n",
              "      <td>750.500000</td>\n",
              "      <td>721.000000</td>\n",
              "      <td>44.000000</td>\n",
              "      <td>8.000000</td>\n",
              "      <td>1.258684e+07</td>\n",
              "      <td>2.000000</td>\n",
              "      <td>1.000000</td>\n",
              "      <td>1.00000</td>\n",
              "      <td>1.405213e+07</td>\n",
              "      <td>0.000000</td>\n",
              "    </tr>\n",
              "    <tr>\n",
              "      <th>max</th>\n",
              "      <td>1000.000000</td>\n",
              "      <td>850.000000</td>\n",
              "      <td>140.000000</td>\n",
              "      <td>10.000000</td>\n",
              "      <td>2.117743e+07</td>\n",
              "      <td>4.000000</td>\n",
              "      <td>1.000000</td>\n",
              "      <td>1.00000</td>\n",
              "      <td>1.193469e+10</td>\n",
              "      <td>1.000000</td>\n",
              "    </tr>\n",
              "  </tbody>\n",
              "</table>\n",
              "</div>\n",
              "    <div class=\"colab-df-buttons\">\n",
              "\n",
              "  <div class=\"colab-df-container\">\n",
              "    <button class=\"colab-df-convert\" onclick=\"convertToInteractive('df-73555304-e58d-4369-8840-84292424257e')\"\n",
              "            title=\"Convert this dataframe to an interactive table.\"\n",
              "            style=\"display:none;\">\n",
              "\n",
              "  <svg xmlns=\"http://www.w3.org/2000/svg\" height=\"24px\" viewBox=\"0 -960 960 960\">\n",
              "    <path d=\"M120-120v-720h720v720H120Zm60-500h600v-160H180v160Zm220 220h160v-160H400v160Zm0 220h160v-160H400v160ZM180-400h160v-160H180v160Zm440 0h160v-160H620v160ZM180-180h160v-160H180v160Zm440 0h160v-160H620v160Z\"/>\n",
              "  </svg>\n",
              "    </button>\n",
              "\n",
              "  <style>\n",
              "    .colab-df-container {\n",
              "      display:flex;\n",
              "      gap: 12px;\n",
              "    }\n",
              "\n",
              "    .colab-df-convert {\n",
              "      background-color: #E8F0FE;\n",
              "      border: none;\n",
              "      border-radius: 50%;\n",
              "      cursor: pointer;\n",
              "      display: none;\n",
              "      fill: #1967D2;\n",
              "      height: 32px;\n",
              "      padding: 0 0 0 0;\n",
              "      width: 32px;\n",
              "    }\n",
              "\n",
              "    .colab-df-convert:hover {\n",
              "      background-color: #E2EBFA;\n",
              "      box-shadow: 0px 1px 2px rgba(60, 64, 67, 0.3), 0px 1px 3px 1px rgba(60, 64, 67, 0.15);\n",
              "      fill: #174EA6;\n",
              "    }\n",
              "\n",
              "    .colab-df-buttons div {\n",
              "      margin-bottom: 4px;\n",
              "    }\n",
              "\n",
              "    [theme=dark] .colab-df-convert {\n",
              "      background-color: #3B4455;\n",
              "      fill: #D2E3FC;\n",
              "    }\n",
              "\n",
              "    [theme=dark] .colab-df-convert:hover {\n",
              "      background-color: #434B5C;\n",
              "      box-shadow: 0px 1px 3px 1px rgba(0, 0, 0, 0.15);\n",
              "      filter: drop-shadow(0px 1px 2px rgba(0, 0, 0, 0.3));\n",
              "      fill: #FFFFFF;\n",
              "    }\n",
              "  </style>\n",
              "\n",
              "    <script>\n",
              "      const buttonEl =\n",
              "        document.querySelector('#df-73555304-e58d-4369-8840-84292424257e button.colab-df-convert');\n",
              "      buttonEl.style.display =\n",
              "        google.colab.kernel.accessAllowed ? 'block' : 'none';\n",
              "\n",
              "      async function convertToInteractive(key) {\n",
              "        const element = document.querySelector('#df-73555304-e58d-4369-8840-84292424257e');\n",
              "        const dataTable =\n",
              "          await google.colab.kernel.invokeFunction('convertToInteractive',\n",
              "                                                    [key], {});\n",
              "        if (!dataTable) return;\n",
              "\n",
              "        const docLinkHtml = 'Like what you see? Visit the ' +\n",
              "          '<a target=\"_blank\" href=https://colab.research.google.com/notebooks/data_table.ipynb>data table notebook</a>'\n",
              "          + ' to learn more about interactive tables.';\n",
              "        element.innerHTML = '';\n",
              "        dataTable['output_type'] = 'display_data';\n",
              "        await google.colab.output.renderOutput(dataTable, element);\n",
              "        const docLink = document.createElement('div');\n",
              "        docLink.innerHTML = docLinkHtml;\n",
              "        element.appendChild(docLink);\n",
              "      }\n",
              "    </script>\n",
              "  </div>\n",
              "\n",
              "\n",
              "<div id=\"df-bfaaffdf-4e9c-4718-8926-c55b4e69fd6f\">\n",
              "  <button class=\"colab-df-quickchart\" onclick=\"quickchart('df-bfaaffdf-4e9c-4718-8926-c55b4e69fd6f')\"\n",
              "            title=\"Suggest charts\"\n",
              "            style=\"display:none;\">\n",
              "\n",
              "<svg xmlns=\"http://www.w3.org/2000/svg\" height=\"24px\"viewBox=\"0 0 24 24\"\n",
              "     width=\"24px\">\n",
              "    <g>\n",
              "        <path d=\"M19 3H5c-1.1 0-2 .9-2 2v14c0 1.1.9 2 2 2h14c1.1 0 2-.9 2-2V5c0-1.1-.9-2-2-2zM9 17H7v-7h2v7zm4 0h-2V7h2v10zm4 0h-2v-4h2v4z\"/>\n",
              "    </g>\n",
              "</svg>\n",
              "  </button>\n",
              "\n",
              "<style>\n",
              "  .colab-df-quickchart {\n",
              "      --bg-color: #E8F0FE;\n",
              "      --fill-color: #1967D2;\n",
              "      --hover-bg-color: #E2EBFA;\n",
              "      --hover-fill-color: #174EA6;\n",
              "      --disabled-fill-color: #AAA;\n",
              "      --disabled-bg-color: #DDD;\n",
              "  }\n",
              "\n",
              "  [theme=dark] .colab-df-quickchart {\n",
              "      --bg-color: #3B4455;\n",
              "      --fill-color: #D2E3FC;\n",
              "      --hover-bg-color: #434B5C;\n",
              "      --hover-fill-color: #FFFFFF;\n",
              "      --disabled-bg-color: #3B4455;\n",
              "      --disabled-fill-color: #666;\n",
              "  }\n",
              "\n",
              "  .colab-df-quickchart {\n",
              "    background-color: var(--bg-color);\n",
              "    border: none;\n",
              "    border-radius: 50%;\n",
              "    cursor: pointer;\n",
              "    display: none;\n",
              "    fill: var(--fill-color);\n",
              "    height: 32px;\n",
              "    padding: 0;\n",
              "    width: 32px;\n",
              "  }\n",
              "\n",
              "  .colab-df-quickchart:hover {\n",
              "    background-color: var(--hover-bg-color);\n",
              "    box-shadow: 0 1px 2px rgba(60, 64, 67, 0.3), 0 1px 3px 1px rgba(60, 64, 67, 0.15);\n",
              "    fill: var(--button-hover-fill-color);\n",
              "  }\n",
              "\n",
              "  .colab-df-quickchart-complete:disabled,\n",
              "  .colab-df-quickchart-complete:disabled:hover {\n",
              "    background-color: var(--disabled-bg-color);\n",
              "    fill: var(--disabled-fill-color);\n",
              "    box-shadow: none;\n",
              "  }\n",
              "\n",
              "  .colab-df-spinner {\n",
              "    border: 2px solid var(--fill-color);\n",
              "    border-color: transparent;\n",
              "    border-bottom-color: var(--fill-color);\n",
              "    animation:\n",
              "      spin 1s steps(1) infinite;\n",
              "  }\n",
              "\n",
              "  @keyframes spin {\n",
              "    0% {\n",
              "      border-color: transparent;\n",
              "      border-bottom-color: var(--fill-color);\n",
              "      border-left-color: var(--fill-color);\n",
              "    }\n",
              "    20% {\n",
              "      border-color: transparent;\n",
              "      border-left-color: var(--fill-color);\n",
              "      border-top-color: var(--fill-color);\n",
              "    }\n",
              "    30% {\n",
              "      border-color: transparent;\n",
              "      border-left-color: var(--fill-color);\n",
              "      border-top-color: var(--fill-color);\n",
              "      border-right-color: var(--fill-color);\n",
              "    }\n",
              "    40% {\n",
              "      border-color: transparent;\n",
              "      border-right-color: var(--fill-color);\n",
              "      border-top-color: var(--fill-color);\n",
              "    }\n",
              "    60% {\n",
              "      border-color: transparent;\n",
              "      border-right-color: var(--fill-color);\n",
              "    }\n",
              "    80% {\n",
              "      border-color: transparent;\n",
              "      border-right-color: var(--fill-color);\n",
              "      border-bottom-color: var(--fill-color);\n",
              "    }\n",
              "    90% {\n",
              "      border-color: transparent;\n",
              "      border-bottom-color: var(--fill-color);\n",
              "    }\n",
              "  }\n",
              "</style>\n",
              "\n",
              "  <script>\n",
              "    async function quickchart(key) {\n",
              "      const quickchartButtonEl =\n",
              "        document.querySelector('#' + key + ' button');\n",
              "      quickchartButtonEl.disabled = true;  // To prevent multiple clicks.\n",
              "      quickchartButtonEl.classList.add('colab-df-spinner');\n",
              "      try {\n",
              "        const charts = await google.colab.kernel.invokeFunction(\n",
              "            'suggestCharts', [key], {});\n",
              "      } catch (error) {\n",
              "        console.error('Error during call to suggestCharts:', error);\n",
              "      }\n",
              "      quickchartButtonEl.classList.remove('colab-df-spinner');\n",
              "      quickchartButtonEl.classList.add('colab-df-quickchart-complete');\n",
              "    }\n",
              "    (() => {\n",
              "      let quickchartButtonEl =\n",
              "        document.querySelector('#df-bfaaffdf-4e9c-4718-8926-c55b4e69fd6f button');\n",
              "      quickchartButtonEl.style.display =\n",
              "        google.colab.kernel.accessAllowed ? 'block' : 'none';\n",
              "    })();\n",
              "  </script>\n",
              "</div>\n",
              "\n",
              "    </div>\n",
              "  </div>\n"
            ],
            "application/vnd.google.colaboratory.intrinsic+json": {
              "type": "dataframe",
              "summary": "{\n  \"name\": \"df\",\n  \"rows\": 8,\n  \"fields\": [\n    {\n      \"column\": \"X0\",\n      \"properties\": {\n        \"dtype\": \"number\",\n        \"std\": 359.85500052606363,\n        \"min\": 1.0,\n        \"max\": 1000.0,\n        \"num_unique_values\": 8,\n        \"samples\": [\n          500.91691691691693,\n          501.0,\n          999.0\n        ],\n        \"semantic_type\": \"\",\n        \"description\": \"\"\n      }\n    },\n    {\n      \"column\": \"X1\",\n      \"properties\": {\n        \"dtype\": \"number\",\n        \"std\": 278.22112240753756,\n        \"min\": 98.26421874897119,\n        \"max\": 999.0,\n        \"num_unique_values\": 8,\n        \"samples\": [\n          648.6216216216217,\n          653.0,\n          999.0\n        ],\n        \"semantic_type\": \"\",\n        \"description\": \"\"\n      }\n    },\n    {\n      \"column\": \"X4\",\n      \"properties\": {\n        \"dtype\": \"number\",\n        \"std\": 341.93467103111163,\n        \"min\": -20.0,\n        \"max\": 999.0,\n        \"num_unique_values\": 8,\n        \"samples\": [\n          38.9029029029029,\n          37.0,\n          999.0\n        ],\n        \"semantic_type\": \"\",\n        \"description\": \"\"\n      }\n    },\n    {\n      \"column\": \"X4.1\",\n      \"properties\": {\n        \"dtype\": \"number\",\n        \"std\": 351.5478229270986,\n        \"min\": 0.0,\n        \"max\": 999.0,\n        \"num_unique_values\": 8,\n        \"samples\": [\n          5.069069069069069,\n          5.0,\n          999.0\n        ],\n        \"semantic_type\": \"\",\n        \"description\": \"\"\n      }\n    },\n    {\n      \"column\": \"X6\",\n      \"properties\": {\n        \"dtype\": \"number\",\n        \"std\": 7402037.811872118,\n        \"min\": 0.0,\n        \"max\": 21177431.0,\n        \"num_unique_values\": 7,\n        \"samples\": [\n          999.0,\n          7164927.564564564,\n          12586844.0\n        ],\n        \"semantic_type\": \"\",\n        \"description\": \"\"\n      }\n    },\n    {\n      \"column\": \"X7\",\n      \"properties\": {\n        \"dtype\": \"number\",\n        \"std\": 352.64079763432574,\n        \"min\": 0.5742007140077248,\n        \"max\": 999.0,\n        \"num_unique_values\": 6,\n        \"samples\": [\n          999.0,\n          1.5265265265265264,\n          4.0\n        ],\n        \"semantic_type\": \"\",\n        \"description\": \"\"\n      }\n    },\n    {\n      \"column\": \"X8\",\n      \"properties\": {\n        \"dtype\": \"number\",\n        \"std\": 352.98997449894324,\n        \"min\": 0.0,\n        \"max\": 999.0,\n        \"num_unique_values\": 5,\n        \"samples\": [\n          0.7027027027027027,\n          1.0,\n          0.457297435584201\n        ],\n        \"semantic_type\": \"\",\n        \"description\": \"\"\n      }\n    },\n    {\n      \"column\": \"X9\",\n      \"properties\": {\n        \"dtype\": \"number\",\n        \"std\": 352.9975637573254,\n        \"min\": 0.0,\n        \"max\": 999.0,\n        \"num_unique_values\": 5,\n        \"samples\": [\n          0.5095095095095095,\n          1.0,\n          0.5001599540336046\n        ],\n        \"semantic_type\": \"\",\n        \"description\": \"\"\n      }\n    },\n    {\n      \"column\": \"X10\",\n      \"properties\": {\n        \"dtype\": \"number\",\n        \"std\": 4193636978.539777,\n        \"min\": 992.0,\n        \"max\": 11934688000.0,\n        \"num_unique_values\": 8,\n        \"samples\": [\n          35287620.25100806,\n          8703249.5,\n          992.0\n        ],\n        \"semantic_type\": \"\",\n        \"description\": \"\"\n      }\n    },\n    {\n      \"column\": \"X11\",\n      \"properties\": {\n        \"dtype\": \"number\",\n        \"std\": 353.1189016031703,\n        \"min\": 0.0,\n        \"max\": 999.0,\n        \"num_unique_values\": 5,\n        \"samples\": [\n          0.2032032032032032,\n          1.0,\n          0.40258402544666305\n        ],\n        \"semantic_type\": \"\",\n        \"description\": \"\"\n      }\n    }\n  ]\n}"
            }
          },
          "metadata": {},
          "execution_count": 12
        }
      ]
    },
    {
      "cell_type": "markdown",
      "source": [
        "# 3. **Limpeza e Preparação dos Dados**\n"
      ],
      "metadata": {
        "id": "6Aw82KRhh67v"
      }
    },
    {
      "cell_type": "markdown",
      "source": [
        "## 3.1 **Nomes das Colunas**\n",
        "- As colunas possuem os seguintes nomes ( X0; X1; X2; X3; X4; X4.1; X6; X7; X8; X9; X10; X11 )."
      ],
      "metadata": {
        "id": "e0Qkcvmzi2nG"
      }
    },
    {
      "cell_type": "code",
      "source": [
        "df.columns"
      ],
      "metadata": {
        "colab": {
          "base_uri": "https://localhost:8080/"
        },
        "id": "JNl71y_MjS_K",
        "outputId": "5ee5cf03-b10d-4376-e440-1a6cb681addb"
      },
      "execution_count": 15,
      "outputs": [
        {
          "output_type": "execute_result",
          "data": {
            "text/plain": [
              "Index(['X0', 'X1', 'X2', 'X3', 'X4', 'X4.1', 'X6', 'X7', 'X8', 'X9', 'X10',\n",
              "       'X11'],\n",
              "      dtype='object')"
            ]
          },
          "metadata": {},
          "execution_count": 15
        }
      ]
    },
    {
      "cell_type": "markdown",
      "source": [
        "- **Renomeando as colunas**: Ao verificar o dicionário de dados, entende-se que o  significado para cada uma das colunas são respectivamente (\"Id\", \"Score\", \"Estado\", \"Genero\", \"Idade\", \"Patrimonio\", \"Saldo\", \"Produtos\", \"TemCartCredito\", \"Ativo\", \"Salario\", \"Saiu\")"
      ],
      "metadata": {
        "id": "VSKXNB4Kjemy"
      }
    },
    {
      "cell_type": "code",
      "source": [
        "# Renomeia as colunas de acordo com o dicionário de dados\n",
        "df.columns = [\"Id\",\"Score\",\"Estado\",\"Genero\",\"Idade\",\"Patrimonio\",\"Saldo\",\"Produtos\",\"TemCartCredito\",\n",
        "                  \"Ativo\",\"Salario\",\"Saiu\"]"
      ],
      "metadata": {
        "id": "UPHblqrZAFsz"
      },
      "execution_count": 16,
      "outputs": []
    },
    {
      "cell_type": "code",
      "source": [
        "# Verifica novos nomes para as colunas\n",
        "df.columns"
      ],
      "metadata": {
        "colab": {
          "base_uri": "https://localhost:8080/"
        },
        "id": "xMPUP0aakILV",
        "outputId": "f9e6dbc5-f286-4bf3-aff0-70b5c86e5dfb"
      },
      "execution_count": 20,
      "outputs": [
        {
          "output_type": "execute_result",
          "data": {
            "text/plain": [
              "Index(['Id', 'Score', 'Estado', 'Genero', 'Idade', 'Patrimonio', 'Saldo',\n",
              "       'Produtos', 'TemCartCredito', 'Ativo', 'Salario', 'Saiu'],\n",
              "      dtype='object')"
            ]
          },
          "metadata": {},
          "execution_count": 20
        }
      ]
    },
    {
      "cell_type": "code",
      "source": [
        "# Verifica novos nomes para as colunas em formato de tabela\n",
        "df.head(2)"
      ],
      "metadata": {
        "id": "QItO7igwAYSQ",
        "colab": {
          "base_uri": "https://localhost:8080/",
          "height": 112
        },
        "outputId": "e69ddffa-89bd-4fc7-e96d-f298ad870643"
      },
      "execution_count": 17,
      "outputs": [
        {
          "output_type": "execute_result",
          "data": {
            "text/plain": [
              "   Id  Score Estado    Genero  Idade  Patrimonio    Saldo  Produtos  \\\n",
              "0   1    619     RS  Feminino     42           2        0         1   \n",
              "1   2    608     SC  Feminino     41           1  8380786         1   \n",
              "\n",
              "   TemCartCredito  Ativo     Salario  Saiu  \n",
              "0               1      1  10134888.0     1  \n",
              "1               0      1  11254258.0     0  "
            ],
            "text/html": [
              "\n",
              "  <div id=\"df-8b1d7a50-97da-4cd0-9d5c-eecaadd9ee46\" class=\"colab-df-container\">\n",
              "    <div>\n",
              "<style scoped>\n",
              "    .dataframe tbody tr th:only-of-type {\n",
              "        vertical-align: middle;\n",
              "    }\n",
              "\n",
              "    .dataframe tbody tr th {\n",
              "        vertical-align: top;\n",
              "    }\n",
              "\n",
              "    .dataframe thead th {\n",
              "        text-align: right;\n",
              "    }\n",
              "</style>\n",
              "<table border=\"1\" class=\"dataframe\">\n",
              "  <thead>\n",
              "    <tr style=\"text-align: right;\">\n",
              "      <th></th>\n",
              "      <th>Id</th>\n",
              "      <th>Score</th>\n",
              "      <th>Estado</th>\n",
              "      <th>Genero</th>\n",
              "      <th>Idade</th>\n",
              "      <th>Patrimonio</th>\n",
              "      <th>Saldo</th>\n",
              "      <th>Produtos</th>\n",
              "      <th>TemCartCredito</th>\n",
              "      <th>Ativo</th>\n",
              "      <th>Salario</th>\n",
              "      <th>Saiu</th>\n",
              "    </tr>\n",
              "  </thead>\n",
              "  <tbody>\n",
              "    <tr>\n",
              "      <th>0</th>\n",
              "      <td>1</td>\n",
              "      <td>619</td>\n",
              "      <td>RS</td>\n",
              "      <td>Feminino</td>\n",
              "      <td>42</td>\n",
              "      <td>2</td>\n",
              "      <td>0</td>\n",
              "      <td>1</td>\n",
              "      <td>1</td>\n",
              "      <td>1</td>\n",
              "      <td>10134888.0</td>\n",
              "      <td>1</td>\n",
              "    </tr>\n",
              "    <tr>\n",
              "      <th>1</th>\n",
              "      <td>2</td>\n",
              "      <td>608</td>\n",
              "      <td>SC</td>\n",
              "      <td>Feminino</td>\n",
              "      <td>41</td>\n",
              "      <td>1</td>\n",
              "      <td>8380786</td>\n",
              "      <td>1</td>\n",
              "      <td>0</td>\n",
              "      <td>1</td>\n",
              "      <td>11254258.0</td>\n",
              "      <td>0</td>\n",
              "    </tr>\n",
              "  </tbody>\n",
              "</table>\n",
              "</div>\n",
              "    <div class=\"colab-df-buttons\">\n",
              "\n",
              "  <div class=\"colab-df-container\">\n",
              "    <button class=\"colab-df-convert\" onclick=\"convertToInteractive('df-8b1d7a50-97da-4cd0-9d5c-eecaadd9ee46')\"\n",
              "            title=\"Convert this dataframe to an interactive table.\"\n",
              "            style=\"display:none;\">\n",
              "\n",
              "  <svg xmlns=\"http://www.w3.org/2000/svg\" height=\"24px\" viewBox=\"0 -960 960 960\">\n",
              "    <path d=\"M120-120v-720h720v720H120Zm60-500h600v-160H180v160Zm220 220h160v-160H400v160Zm0 220h160v-160H400v160ZM180-400h160v-160H180v160Zm440 0h160v-160H620v160ZM180-180h160v-160H180v160Zm440 0h160v-160H620v160Z\"/>\n",
              "  </svg>\n",
              "    </button>\n",
              "\n",
              "  <style>\n",
              "    .colab-df-container {\n",
              "      display:flex;\n",
              "      gap: 12px;\n",
              "    }\n",
              "\n",
              "    .colab-df-convert {\n",
              "      background-color: #E8F0FE;\n",
              "      border: none;\n",
              "      border-radius: 50%;\n",
              "      cursor: pointer;\n",
              "      display: none;\n",
              "      fill: #1967D2;\n",
              "      height: 32px;\n",
              "      padding: 0 0 0 0;\n",
              "      width: 32px;\n",
              "    }\n",
              "\n",
              "    .colab-df-convert:hover {\n",
              "      background-color: #E2EBFA;\n",
              "      box-shadow: 0px 1px 2px rgba(60, 64, 67, 0.3), 0px 1px 3px 1px rgba(60, 64, 67, 0.15);\n",
              "      fill: #174EA6;\n",
              "    }\n",
              "\n",
              "    .colab-df-buttons div {\n",
              "      margin-bottom: 4px;\n",
              "    }\n",
              "\n",
              "    [theme=dark] .colab-df-convert {\n",
              "      background-color: #3B4455;\n",
              "      fill: #D2E3FC;\n",
              "    }\n",
              "\n",
              "    [theme=dark] .colab-df-convert:hover {\n",
              "      background-color: #434B5C;\n",
              "      box-shadow: 0px 1px 3px 1px rgba(0, 0, 0, 0.15);\n",
              "      filter: drop-shadow(0px 1px 2px rgba(0, 0, 0, 0.3));\n",
              "      fill: #FFFFFF;\n",
              "    }\n",
              "  </style>\n",
              "\n",
              "    <script>\n",
              "      const buttonEl =\n",
              "        document.querySelector('#df-8b1d7a50-97da-4cd0-9d5c-eecaadd9ee46 button.colab-df-convert');\n",
              "      buttonEl.style.display =\n",
              "        google.colab.kernel.accessAllowed ? 'block' : 'none';\n",
              "\n",
              "      async function convertToInteractive(key) {\n",
              "        const element = document.querySelector('#df-8b1d7a50-97da-4cd0-9d5c-eecaadd9ee46');\n",
              "        const dataTable =\n",
              "          await google.colab.kernel.invokeFunction('convertToInteractive',\n",
              "                                                    [key], {});\n",
              "        if (!dataTable) return;\n",
              "\n",
              "        const docLinkHtml = 'Like what you see? Visit the ' +\n",
              "          '<a target=\"_blank\" href=https://colab.research.google.com/notebooks/data_table.ipynb>data table notebook</a>'\n",
              "          + ' to learn more about interactive tables.';\n",
              "        element.innerHTML = '';\n",
              "        dataTable['output_type'] = 'display_data';\n",
              "        await google.colab.output.renderOutput(dataTable, element);\n",
              "        const docLink = document.createElement('div');\n",
              "        docLink.innerHTML = docLinkHtml;\n",
              "        element.appendChild(docLink);\n",
              "      }\n",
              "    </script>\n",
              "  </div>\n",
              "\n",
              "\n",
              "<div id=\"df-9d1c2de4-c3b1-4f10-9aed-7cc31182e49c\">\n",
              "  <button class=\"colab-df-quickchart\" onclick=\"quickchart('df-9d1c2de4-c3b1-4f10-9aed-7cc31182e49c')\"\n",
              "            title=\"Suggest charts\"\n",
              "            style=\"display:none;\">\n",
              "\n",
              "<svg xmlns=\"http://www.w3.org/2000/svg\" height=\"24px\"viewBox=\"0 0 24 24\"\n",
              "     width=\"24px\">\n",
              "    <g>\n",
              "        <path d=\"M19 3H5c-1.1 0-2 .9-2 2v14c0 1.1.9 2 2 2h14c1.1 0 2-.9 2-2V5c0-1.1-.9-2-2-2zM9 17H7v-7h2v7zm4 0h-2V7h2v10zm4 0h-2v-4h2v4z\"/>\n",
              "    </g>\n",
              "</svg>\n",
              "  </button>\n",
              "\n",
              "<style>\n",
              "  .colab-df-quickchart {\n",
              "      --bg-color: #E8F0FE;\n",
              "      --fill-color: #1967D2;\n",
              "      --hover-bg-color: #E2EBFA;\n",
              "      --hover-fill-color: #174EA6;\n",
              "      --disabled-fill-color: #AAA;\n",
              "      --disabled-bg-color: #DDD;\n",
              "  }\n",
              "\n",
              "  [theme=dark] .colab-df-quickchart {\n",
              "      --bg-color: #3B4455;\n",
              "      --fill-color: #D2E3FC;\n",
              "      --hover-bg-color: #434B5C;\n",
              "      --hover-fill-color: #FFFFFF;\n",
              "      --disabled-bg-color: #3B4455;\n",
              "      --disabled-fill-color: #666;\n",
              "  }\n",
              "\n",
              "  .colab-df-quickchart {\n",
              "    background-color: var(--bg-color);\n",
              "    border: none;\n",
              "    border-radius: 50%;\n",
              "    cursor: pointer;\n",
              "    display: none;\n",
              "    fill: var(--fill-color);\n",
              "    height: 32px;\n",
              "    padding: 0;\n",
              "    width: 32px;\n",
              "  }\n",
              "\n",
              "  .colab-df-quickchart:hover {\n",
              "    background-color: var(--hover-bg-color);\n",
              "    box-shadow: 0 1px 2px rgba(60, 64, 67, 0.3), 0 1px 3px 1px rgba(60, 64, 67, 0.15);\n",
              "    fill: var(--button-hover-fill-color);\n",
              "  }\n",
              "\n",
              "  .colab-df-quickchart-complete:disabled,\n",
              "  .colab-df-quickchart-complete:disabled:hover {\n",
              "    background-color: var(--disabled-bg-color);\n",
              "    fill: var(--disabled-fill-color);\n",
              "    box-shadow: none;\n",
              "  }\n",
              "\n",
              "  .colab-df-spinner {\n",
              "    border: 2px solid var(--fill-color);\n",
              "    border-color: transparent;\n",
              "    border-bottom-color: var(--fill-color);\n",
              "    animation:\n",
              "      spin 1s steps(1) infinite;\n",
              "  }\n",
              "\n",
              "  @keyframes spin {\n",
              "    0% {\n",
              "      border-color: transparent;\n",
              "      border-bottom-color: var(--fill-color);\n",
              "      border-left-color: var(--fill-color);\n",
              "    }\n",
              "    20% {\n",
              "      border-color: transparent;\n",
              "      border-left-color: var(--fill-color);\n",
              "      border-top-color: var(--fill-color);\n",
              "    }\n",
              "    30% {\n",
              "      border-color: transparent;\n",
              "      border-left-color: var(--fill-color);\n",
              "      border-top-color: var(--fill-color);\n",
              "      border-right-color: var(--fill-color);\n",
              "    }\n",
              "    40% {\n",
              "      border-color: transparent;\n",
              "      border-right-color: var(--fill-color);\n",
              "      border-top-color: var(--fill-color);\n",
              "    }\n",
              "    60% {\n",
              "      border-color: transparent;\n",
              "      border-right-color: var(--fill-color);\n",
              "    }\n",
              "    80% {\n",
              "      border-color: transparent;\n",
              "      border-right-color: var(--fill-color);\n",
              "      border-bottom-color: var(--fill-color);\n",
              "    }\n",
              "    90% {\n",
              "      border-color: transparent;\n",
              "      border-bottom-color: var(--fill-color);\n",
              "    }\n",
              "  }\n",
              "</style>\n",
              "\n",
              "  <script>\n",
              "    async function quickchart(key) {\n",
              "      const quickchartButtonEl =\n",
              "        document.querySelector('#' + key + ' button');\n",
              "      quickchartButtonEl.disabled = true;  // To prevent multiple clicks.\n",
              "      quickchartButtonEl.classList.add('colab-df-spinner');\n",
              "      try {\n",
              "        const charts = await google.colab.kernel.invokeFunction(\n",
              "            'suggestCharts', [key], {});\n",
              "      } catch (error) {\n",
              "        console.error('Error during call to suggestCharts:', error);\n",
              "      }\n",
              "      quickchartButtonEl.classList.remove('colab-df-spinner');\n",
              "      quickchartButtonEl.classList.add('colab-df-quickchart-complete');\n",
              "    }\n",
              "    (() => {\n",
              "      let quickchartButtonEl =\n",
              "        document.querySelector('#df-9d1c2de4-c3b1-4f10-9aed-7cc31182e49c button');\n",
              "      quickchartButtonEl.style.display =\n",
              "        google.colab.kernel.accessAllowed ? 'block' : 'none';\n",
              "    })();\n",
              "  </script>\n",
              "</div>\n",
              "\n",
              "    </div>\n",
              "  </div>\n"
            ],
            "application/vnd.google.colaboratory.intrinsic+json": {
              "type": "dataframe",
              "variable_name": "df",
              "summary": "{\n  \"name\": \"df\",\n  \"rows\": 999,\n  \"fields\": [\n    {\n      \"column\": \"Id\",\n      \"properties\": {\n        \"dtype\": \"number\",\n        \"std\": 288,\n        \"min\": 1,\n        \"max\": 1000,\n        \"num_unique_values\": 998,\n        \"samples\": [\n          456,\n          795,\n          212\n        ],\n        \"semantic_type\": \"\",\n        \"description\": \"\"\n      }\n    },\n    {\n      \"column\": \"Score\",\n      \"properties\": {\n        \"dtype\": \"number\",\n        \"std\": 98,\n        \"min\": 376,\n        \"max\": 850,\n        \"num_unique_values\": 354,\n        \"samples\": [\n          840,\n          660,\n          417\n        ],\n        \"semantic_type\": \"\",\n        \"description\": \"\"\n      }\n    },\n    {\n      \"column\": \"Estado\",\n      \"properties\": {\n        \"dtype\": \"category\",\n        \"num_unique_values\": 6,\n        \"samples\": [\n          \"RS\",\n          \"SC\",\n          \"TD\"\n        ],\n        \"semantic_type\": \"\",\n        \"description\": \"\"\n      }\n    },\n    {\n      \"column\": \"Genero\",\n      \"properties\": {\n        \"dtype\": \"category\",\n        \"num_unique_values\": 5,\n        \"samples\": [\n          \"Masculino\",\n          \"Fem\",\n          \"M\"\n        ],\n        \"semantic_type\": \"\",\n        \"description\": \"\"\n      }\n    },\n    {\n      \"column\": \"Idade\",\n      \"properties\": {\n        \"dtype\": \"number\",\n        \"std\": 11,\n        \"min\": -20,\n        \"max\": 140,\n        \"num_unique_values\": 64,\n        \"samples\": [\n          60,\n          69,\n          42\n        ],\n        \"semantic_type\": \"\",\n        \"description\": \"\"\n      }\n    },\n    {\n      \"column\": \"Patrimonio\",\n      \"properties\": {\n        \"dtype\": \"number\",\n        \"std\": 2,\n        \"min\": 0,\n        \"max\": 10,\n        \"num_unique_values\": 11,\n        \"samples\": [\n          6,\n          2,\n          9\n        ],\n        \"semantic_type\": \"\",\n        \"description\": \"\"\n      }\n    },\n    {\n      \"column\": \"Saldo\",\n      \"properties\": {\n        \"dtype\": \"number\",\n        \"std\": 6311840,\n        \"min\": 0,\n        \"max\": 21177431,\n        \"num_unique_values\": 649,\n        \"samples\": [\n          12453278,\n          18784199,\n          13380229\n        ],\n        \"semantic_type\": \"\",\n        \"description\": \"\"\n      }\n    },\n    {\n      \"column\": \"Produtos\",\n      \"properties\": {\n        \"dtype\": \"number\",\n        \"std\": 0,\n        \"min\": 1,\n        \"max\": 4,\n        \"num_unique_values\": 4,\n        \"samples\": [\n          3,\n          4,\n          1\n        ],\n        \"semantic_type\": \"\",\n        \"description\": \"\"\n      }\n    },\n    {\n      \"column\": \"TemCartCredito\",\n      \"properties\": {\n        \"dtype\": \"number\",\n        \"std\": 0,\n        \"min\": 0,\n        \"max\": 1,\n        \"num_unique_values\": 2,\n        \"samples\": [\n          0,\n          1\n        ],\n        \"semantic_type\": \"\",\n        \"description\": \"\"\n      }\n    },\n    {\n      \"column\": \"Ativo\",\n      \"properties\": {\n        \"dtype\": \"number\",\n        \"std\": 0,\n        \"min\": 0,\n        \"max\": 1,\n        \"num_unique_values\": 2,\n        \"samples\": [\n          0,\n          1\n        ],\n        \"semantic_type\": \"\",\n        \"description\": \"\"\n      }\n    },\n    {\n      \"column\": \"Salario\",\n      \"properties\": {\n        \"dtype\": \"number\",\n        \"std\": 530579988.3011111,\n        \"min\": 9677.0,\n        \"max\": 11934688000.0,\n        \"num_unique_values\": 987,\n        \"samples\": [\n          12054083.0,\n          19331833.0\n        ],\n        \"semantic_type\": \"\",\n        \"description\": \"\"\n      }\n    },\n    {\n      \"column\": \"Saiu\",\n      \"properties\": {\n        \"dtype\": \"number\",\n        \"std\": 0,\n        \"min\": 0,\n        \"max\": 1,\n        \"num_unique_values\": 2,\n        \"samples\": [\n          0,\n          1\n        ],\n        \"semantic_type\": \"\",\n        \"description\": \"\"\n      }\n    }\n  ]\n}"
            }
          },
          "metadata": {},
          "execution_count": 17
        }
      ]
    },
    {
      "cell_type": "markdown",
      "source": [
        "## 3.2 **Valores Nulos / Missing Values**"
      ],
      "metadata": {
        "id": "8x0yQhBXwEi-"
      }
    },
    {
      "cell_type": "markdown",
      "source": [
        "- **Valores Nulos**: Verifica e conta valores ausentes em cada coluna, o que ajuda a entender a qualidade dos dados e a necessidade de limpeza."
      ],
      "metadata": {
        "id": "zG6jTGbJmEcz"
      }
    },
    {
      "cell_type": "code",
      "source": [
        "df.isnull().sum()"
      ],
      "metadata": {
        "colab": {
          "base_uri": "https://localhost:8080/",
          "height": 460
        },
        "id": "hHVEYA59iW7e",
        "outputId": "8ce1b32f-3b5d-4cec-b9b6-d449a76b386d"
      },
      "execution_count": 21,
      "outputs": [
        {
          "output_type": "execute_result",
          "data": {
            "text/plain": [
              "Id                0\n",
              "Score             0\n",
              "Estado            0\n",
              "Genero            8\n",
              "Idade             0\n",
              "Patrimonio        0\n",
              "Saldo             0\n",
              "Produtos          0\n",
              "TemCartCredito    0\n",
              "Ativo             0\n",
              "Salario           7\n",
              "Saiu              0\n",
              "dtype: int64"
            ],
            "text/html": [
              "<div>\n",
              "<style scoped>\n",
              "    .dataframe tbody tr th:only-of-type {\n",
              "        vertical-align: middle;\n",
              "    }\n",
              "\n",
              "    .dataframe tbody tr th {\n",
              "        vertical-align: top;\n",
              "    }\n",
              "\n",
              "    .dataframe thead th {\n",
              "        text-align: right;\n",
              "    }\n",
              "</style>\n",
              "<table border=\"1\" class=\"dataframe\">\n",
              "  <thead>\n",
              "    <tr style=\"text-align: right;\">\n",
              "      <th></th>\n",
              "      <th>0</th>\n",
              "    </tr>\n",
              "  </thead>\n",
              "  <tbody>\n",
              "    <tr>\n",
              "      <th>Id</th>\n",
              "      <td>0</td>\n",
              "    </tr>\n",
              "    <tr>\n",
              "      <th>Score</th>\n",
              "      <td>0</td>\n",
              "    </tr>\n",
              "    <tr>\n",
              "      <th>Estado</th>\n",
              "      <td>0</td>\n",
              "    </tr>\n",
              "    <tr>\n",
              "      <th>Genero</th>\n",
              "      <td>8</td>\n",
              "    </tr>\n",
              "    <tr>\n",
              "      <th>Idade</th>\n",
              "      <td>0</td>\n",
              "    </tr>\n",
              "    <tr>\n",
              "      <th>Patrimonio</th>\n",
              "      <td>0</td>\n",
              "    </tr>\n",
              "    <tr>\n",
              "      <th>Saldo</th>\n",
              "      <td>0</td>\n",
              "    </tr>\n",
              "    <tr>\n",
              "      <th>Produtos</th>\n",
              "      <td>0</td>\n",
              "    </tr>\n",
              "    <tr>\n",
              "      <th>TemCartCredito</th>\n",
              "      <td>0</td>\n",
              "    </tr>\n",
              "    <tr>\n",
              "      <th>Ativo</th>\n",
              "      <td>0</td>\n",
              "    </tr>\n",
              "    <tr>\n",
              "      <th>Salario</th>\n",
              "      <td>7</td>\n",
              "    </tr>\n",
              "    <tr>\n",
              "      <th>Saiu</th>\n",
              "      <td>0</td>\n",
              "    </tr>\n",
              "  </tbody>\n",
              "</table>\n",
              "</div><br><label><b>dtype:</b> int64</label>"
            ]
          },
          "metadata": {},
          "execution_count": 21
        }
      ]
    },
    {
      "cell_type": "markdown",
      "source": [
        "- **Tratamento de dados faltantes**: As colunas **`Genero`** e **`Salario`** possuem valores faltantes e serão tratados conforme abaixo."
      ],
      "metadata": {
        "id": "ZlGY8rCBmGrV"
      }
    },
    {
      "cell_type": "code",
      "source": [
        "df['Salario'].describe()"
      ],
      "metadata": {
        "colab": {
          "base_uri": "https://localhost:8080/",
          "height": 335
        },
        "id": "IohtHBainX3G",
        "outputId": "e6277f8b-b3e8-43bd-f9b0-20e3cee75ecd"
      },
      "execution_count": 22,
      "outputs": [
        {
          "output_type": "execute_result",
          "data": {
            "text/plain": [
              "count    9.920000e+02\n",
              "mean     3.528762e+07\n",
              "std      5.305800e+08\n",
              "min      9.677000e+03\n",
              "25%      3.029011e+06\n",
              "50%      8.703250e+06\n",
              "75%      1.405213e+07\n",
              "max      1.193469e+10\n",
              "Name: Salario, dtype: float64"
            ],
            "text/html": [
              "<div>\n",
              "<style scoped>\n",
              "    .dataframe tbody tr th:only-of-type {\n",
              "        vertical-align: middle;\n",
              "    }\n",
              "\n",
              "    .dataframe tbody tr th {\n",
              "        vertical-align: top;\n",
              "    }\n",
              "\n",
              "    .dataframe thead th {\n",
              "        text-align: right;\n",
              "    }\n",
              "</style>\n",
              "<table border=\"1\" class=\"dataframe\">\n",
              "  <thead>\n",
              "    <tr style=\"text-align: right;\">\n",
              "      <th></th>\n",
              "      <th>Salario</th>\n",
              "    </tr>\n",
              "  </thead>\n",
              "  <tbody>\n",
              "    <tr>\n",
              "      <th>count</th>\n",
              "      <td>9.920000e+02</td>\n",
              "    </tr>\n",
              "    <tr>\n",
              "      <th>mean</th>\n",
              "      <td>3.528762e+07</td>\n",
              "    </tr>\n",
              "    <tr>\n",
              "      <th>std</th>\n",
              "      <td>5.305800e+08</td>\n",
              "    </tr>\n",
              "    <tr>\n",
              "      <th>min</th>\n",
              "      <td>9.677000e+03</td>\n",
              "    </tr>\n",
              "    <tr>\n",
              "      <th>25%</th>\n",
              "      <td>3.029011e+06</td>\n",
              "    </tr>\n",
              "    <tr>\n",
              "      <th>50%</th>\n",
              "      <td>8.703250e+06</td>\n",
              "    </tr>\n",
              "    <tr>\n",
              "      <th>75%</th>\n",
              "      <td>1.405213e+07</td>\n",
              "    </tr>\n",
              "    <tr>\n",
              "      <th>max</th>\n",
              "      <td>1.193469e+10</td>\n",
              "    </tr>\n",
              "  </tbody>\n",
              "</table>\n",
              "</div><br><label><b>dtype:</b> float64</label>"
            ]
          },
          "metadata": {},
          "execution_count": 22
        }
      ]
    },
    {
      "cell_type": "markdown",
      "source": [
        "- **Substituindo valores faltantes pela Mediana na coluna Salario**: Como os dados estão distribuídos de forma assimétrica (ou seja, a distribuição é inclinada para um lado), a média pode ser distorcida por valores extremos. A mediana é menos afetada por esses outliers e reflete melhor o \"centro\" da distribuição resultando em uma estimativa mais estável e representativa da distribuição dos dados."
      ],
      "metadata": {
        "id": "YJtS8eIhqumW"
      }
    },
    {
      "cell_type": "code",
      "source": [
        "# Tratamento de dados faltantes\n",
        "# Salário - Substituir pela mediana\n",
        "df['Salario'].fillna(df['Salario'].median(), inplace = True)"
      ],
      "metadata": {
        "id": "D1zqrZPHrxgv"
      },
      "execution_count": 29,
      "outputs": []
    },
    {
      "cell_type": "markdown",
      "source": [
        "- Verificando se ainda existem valores nulos em **Salario**"
      ],
      "metadata": {
        "id": "SkmNaAYZsENc"
      }
    },
    {
      "cell_type": "code",
      "source": [
        "df['Salario'].isnull().sum()"
      ],
      "metadata": {
        "colab": {
          "base_uri": "https://localhost:8080/"
        },
        "id": "jdthzyjFsPeb",
        "outputId": "1d8e8717-52c7-4135-a556-18924a2cc99c"
      },
      "execution_count": 32,
      "outputs": [
        {
          "output_type": "execute_result",
          "data": {
            "text/plain": [
              "0"
            ]
          },
          "metadata": {},
          "execution_count": 32
        }
      ]
    },
    {
      "cell_type": "code",
      "source": [
        "df['Genero'].isnull().sum()"
      ],
      "metadata": {
        "colab": {
          "base_uri": "https://localhost:8080/"
        },
        "id": "mAAvoYg0r5tb",
        "outputId": "e7bb8181-dc41-4a49-db3f-cdcf039390e3"
      },
      "execution_count": 33,
      "outputs": [
        {
          "output_type": "execute_result",
          "data": {
            "text/plain": [
              "8"
            ]
          },
          "metadata": {},
          "execution_count": 33
        }
      ]
    },
    {
      "cell_type": "code",
      "source": [
        "df['Genero'].value_counts()"
      ],
      "metadata": {
        "colab": {
          "base_uri": "https://localhost:8080/",
          "height": 272
        },
        "id": "osC-Si-4svmR",
        "outputId": "c2cf2e1c-ebd6-4eef-85c8-48037e1de2e1"
      },
      "execution_count": 38,
      "outputs": [
        {
          "output_type": "execute_result",
          "data": {
            "text/plain": [
              "Genero\n",
              "Masculino    521\n",
              "Feminino     461\n",
              "M              6\n",
              "F              2\n",
              "Fem            1\n",
              "Name: count, dtype: int64"
            ],
            "text/html": [
              "<div>\n",
              "<style scoped>\n",
              "    .dataframe tbody tr th:only-of-type {\n",
              "        vertical-align: middle;\n",
              "    }\n",
              "\n",
              "    .dataframe tbody tr th {\n",
              "        vertical-align: top;\n",
              "    }\n",
              "\n",
              "    .dataframe thead th {\n",
              "        text-align: right;\n",
              "    }\n",
              "</style>\n",
              "<table border=\"1\" class=\"dataframe\">\n",
              "  <thead>\n",
              "    <tr style=\"text-align: right;\">\n",
              "      <th></th>\n",
              "      <th>count</th>\n",
              "    </tr>\n",
              "    <tr>\n",
              "      <th>Genero</th>\n",
              "      <th></th>\n",
              "    </tr>\n",
              "  </thead>\n",
              "  <tbody>\n",
              "    <tr>\n",
              "      <th>Masculino</th>\n",
              "      <td>521</td>\n",
              "    </tr>\n",
              "    <tr>\n",
              "      <th>Feminino</th>\n",
              "      <td>461</td>\n",
              "    </tr>\n",
              "    <tr>\n",
              "      <th>M</th>\n",
              "      <td>6</td>\n",
              "    </tr>\n",
              "    <tr>\n",
              "      <th>F</th>\n",
              "      <td>2</td>\n",
              "    </tr>\n",
              "    <tr>\n",
              "      <th>Fem</th>\n",
              "      <td>1</td>\n",
              "    </tr>\n",
              "  </tbody>\n",
              "</table>\n",
              "</div><br><label><b>dtype:</b> int64</label>"
            ]
          },
          "metadata": {},
          "execution_count": 38
        }
      ]
    },
    {
      "cell_type": "markdown",
      "source": [
        "- **Substituindo valores faltantes pela Moda na coluna Genero**: Pelo fato de ser uma variável categorica, calcular a média ou a mediana não faz sentido, porque essas medidas são projetadas para dados numéricos e contínuos. Estatisticamente falando, substituir **valores categóricos nulos** pela **Moda** garante que a substituição reflita a categoria mais comum no conjunto de dados, visto que ao substituir os valores nulos por uma categoria arbitrária ou por outra estratégia, pode introduzir um viés que não está presente na distribuição original. Portanto, a moda preserva a distribuição natural das categorias, mantendo a consistência com a maioria dos dados."
      ],
      "metadata": {
        "id": "_JsYX_GXt4wu"
      }
    },
    {
      "cell_type": "code",
      "source": [
        "# Genero - Substituir pela moda (Masculino)\n",
        "df['Genero'].fillna(df['Genero'].mode()[0], inplace = True)"
      ],
      "metadata": {
        "id": "cTNpFjDFvCvy"
      },
      "execution_count": 39,
      "outputs": []
    },
    {
      "cell_type": "markdown",
      "source": [
        "- Verificando se ainda existem valores **nulos** no Datrafame"
      ],
      "metadata": {
        "id": "iiAGOBWmvTSe"
      }
    },
    {
      "cell_type": "code",
      "source": [
        "df.isnull().sum()"
      ],
      "metadata": {
        "colab": {
          "base_uri": "https://localhost:8080/",
          "height": 460
        },
        "id": "BW-o8KZDvSo4",
        "outputId": "c2b19910-0730-4925-bf01-4b08059b6bee"
      },
      "execution_count": 40,
      "outputs": [
        {
          "output_type": "execute_result",
          "data": {
            "text/plain": [
              "Id                0\n",
              "Score             0\n",
              "Estado            0\n",
              "Genero            0\n",
              "Idade             0\n",
              "Patrimonio        0\n",
              "Saldo             0\n",
              "Produtos          0\n",
              "TemCartCredito    0\n",
              "Ativo             0\n",
              "Salario           0\n",
              "Saiu              0\n",
              "dtype: int64"
            ],
            "text/html": [
              "<div>\n",
              "<style scoped>\n",
              "    .dataframe tbody tr th:only-of-type {\n",
              "        vertical-align: middle;\n",
              "    }\n",
              "\n",
              "    .dataframe tbody tr th {\n",
              "        vertical-align: top;\n",
              "    }\n",
              "\n",
              "    .dataframe thead th {\n",
              "        text-align: right;\n",
              "    }\n",
              "</style>\n",
              "<table border=\"1\" class=\"dataframe\">\n",
              "  <thead>\n",
              "    <tr style=\"text-align: right;\">\n",
              "      <th></th>\n",
              "      <th>0</th>\n",
              "    </tr>\n",
              "  </thead>\n",
              "  <tbody>\n",
              "    <tr>\n",
              "      <th>Id</th>\n",
              "      <td>0</td>\n",
              "    </tr>\n",
              "    <tr>\n",
              "      <th>Score</th>\n",
              "      <td>0</td>\n",
              "    </tr>\n",
              "    <tr>\n",
              "      <th>Estado</th>\n",
              "      <td>0</td>\n",
              "    </tr>\n",
              "    <tr>\n",
              "      <th>Genero</th>\n",
              "      <td>0</td>\n",
              "    </tr>\n",
              "    <tr>\n",
              "      <th>Idade</th>\n",
              "      <td>0</td>\n",
              "    </tr>\n",
              "    <tr>\n",
              "      <th>Patrimonio</th>\n",
              "      <td>0</td>\n",
              "    </tr>\n",
              "    <tr>\n",
              "      <th>Saldo</th>\n",
              "      <td>0</td>\n",
              "    </tr>\n",
              "    <tr>\n",
              "      <th>Produtos</th>\n",
              "      <td>0</td>\n",
              "    </tr>\n",
              "    <tr>\n",
              "      <th>TemCartCredito</th>\n",
              "      <td>0</td>\n",
              "    </tr>\n",
              "    <tr>\n",
              "      <th>Ativo</th>\n",
              "      <td>0</td>\n",
              "    </tr>\n",
              "    <tr>\n",
              "      <th>Salario</th>\n",
              "      <td>0</td>\n",
              "    </tr>\n",
              "    <tr>\n",
              "      <th>Saiu</th>\n",
              "      <td>0</td>\n",
              "    </tr>\n",
              "  </tbody>\n",
              "</table>\n",
              "</div><br><label><b>dtype:</b> int64</label>"
            ]
          },
          "metadata": {},
          "execution_count": 40
        }
      ]
    },
    {
      "cell_type": "markdown",
      "source": [
        "## 3.3 **Verificando dados inconsistentes (variáveis categóricas)**\n",
        "* Verificar dados inconsistentes em variáveis categóricas é crucial por várias razões, especialmente quando se busca garantir a integridade dos dados e a precisão das análises estatísticas.\n",
        "\n",
        "* **Dados inconsistentes** em variáveis categóricas referem-se a entradas que não seguem o padrão esperado ou que são inválidas. Exemplos incluem:\n",
        "\n",
        "  - **Erro de Digitaçã**o: \"Feminino\" vs. \"Femino\".\n",
        "  - **Categorias Não Padronizadas**: \"Masculino\", \"Masculino \", \"M\".\n",
        "  - **Valores Nulos ou Faltantes**: Ausência de dados em uma coluna categórica onde são esperadas categorias.\n",
        "\n",
        "* Esta verificação é importante de modo que garanta:\n",
        "\n",
        "  - **Precisão e Qualidade da Análise**:\n",
        "  > * **Impacto na Análise Estatística**: Se os dados de gênero incluírem erros de digitação ou categorias não padronizadas, as análises sobre a distribuição de gênero podem ser imprecisas, resultando em conclusões incorretas.\n",
        "  > * **Comprometimento dos Resultados**: Estatísticas descritivas e inferenciais, como frequências e distribuições, podem ser afetadas. Se \"Masculino\" e \"M\" forem tratados como categorias distintas, a análise pode erroneamente indicar que há duas categorias principais quando há, na verdade, apenas uma.\n",
        "\n",
        "  - **Impacto na Modelagem e Algoritmos**:\n",
        "  > * **Modelos de Machine Learning**: Muitos algoritmos de machine learning e estatísticas dependem da qualidade dos dados para gerar previsões precisas. Dados inconsistentes podem introduzir ruído e reduzir a performance dos modelos, resultando em modelos menos eficazes.\n",
        "> * **Prevenção de Overfitting e Underfitting**: Dados inconsistentes podem levar ao overfitting (quando o modelo aprende ruídos e não padrões reais) ou underfitting (quando o modelo não captura os padrões reais). Garantir que as variáveis categóricas sejam consistentes ajuda a construir modelos mais robustos.\n"
      ],
      "metadata": {
        "id": "Co4twMVhxMB5"
      }
    },
    {
      "cell_type": "markdown",
      "source": [
        "### - Verificando dados inconsistentes em **Estado**"
      ],
      "metadata": {
        "id": "FZOTiorI4NJp"
      }
    },
    {
      "cell_type": "code",
      "source": [
        "df['Estado'].value_counts()"
      ],
      "metadata": {
        "colab": {
          "base_uri": "https://localhost:8080/",
          "height": 304
        },
        "id": "3LThbi2P3Cp9",
        "outputId": "2e0f4b04-cfd2-499b-c967-c1d082c517e5"
      },
      "execution_count": 41,
      "outputs": [
        {
          "output_type": "execute_result",
          "data": {
            "text/plain": [
              "Estado\n",
              "RS    478\n",
              "SC    258\n",
              "PR    257\n",
              "SP      4\n",
              "RP      1\n",
              "TD      1\n",
              "Name: count, dtype: int64"
            ],
            "text/html": [
              "<div>\n",
              "<style scoped>\n",
              "    .dataframe tbody tr th:only-of-type {\n",
              "        vertical-align: middle;\n",
              "    }\n",
              "\n",
              "    .dataframe tbody tr th {\n",
              "        vertical-align: top;\n",
              "    }\n",
              "\n",
              "    .dataframe thead th {\n",
              "        text-align: right;\n",
              "    }\n",
              "</style>\n",
              "<table border=\"1\" class=\"dataframe\">\n",
              "  <thead>\n",
              "    <tr style=\"text-align: right;\">\n",
              "      <th></th>\n",
              "      <th>count</th>\n",
              "    </tr>\n",
              "    <tr>\n",
              "      <th>Estado</th>\n",
              "      <th></th>\n",
              "    </tr>\n",
              "  </thead>\n",
              "  <tbody>\n",
              "    <tr>\n",
              "      <th>RS</th>\n",
              "      <td>478</td>\n",
              "    </tr>\n",
              "    <tr>\n",
              "      <th>SC</th>\n",
              "      <td>258</td>\n",
              "    </tr>\n",
              "    <tr>\n",
              "      <th>PR</th>\n",
              "      <td>257</td>\n",
              "    </tr>\n",
              "    <tr>\n",
              "      <th>SP</th>\n",
              "      <td>4</td>\n",
              "    </tr>\n",
              "    <tr>\n",
              "      <th>RP</th>\n",
              "      <td>1</td>\n",
              "    </tr>\n",
              "    <tr>\n",
              "      <th>TD</th>\n",
              "      <td>1</td>\n",
              "    </tr>\n",
              "  </tbody>\n",
              "</table>\n",
              "</div><br><label><b>dtype:</b> int64</label>"
            ]
          },
          "metadata": {},
          "execution_count": 41
        }
      ]
    },
    {
      "cell_type": "code",
      "source": [
        "df['Estado'].mode()"
      ],
      "metadata": {
        "colab": {
          "base_uri": "https://localhost:8080/",
          "height": 115
        },
        "id": "beGcs3uQ3bPE",
        "outputId": "344264fd-619c-40ce-c2cb-240523ea683a"
      },
      "execution_count": 44,
      "outputs": [
        {
          "output_type": "execute_result",
          "data": {
            "text/plain": [
              "0    RS\n",
              "Name: Estado, dtype: object"
            ],
            "text/html": [
              "<div>\n",
              "<style scoped>\n",
              "    .dataframe tbody tr th:only-of-type {\n",
              "        vertical-align: middle;\n",
              "    }\n",
              "\n",
              "    .dataframe tbody tr th {\n",
              "        vertical-align: top;\n",
              "    }\n",
              "\n",
              "    .dataframe thead th {\n",
              "        text-align: right;\n",
              "    }\n",
              "</style>\n",
              "<table border=\"1\" class=\"dataframe\">\n",
              "  <thead>\n",
              "    <tr style=\"text-align: right;\">\n",
              "      <th></th>\n",
              "      <th>Estado</th>\n",
              "    </tr>\n",
              "  </thead>\n",
              "  <tbody>\n",
              "    <tr>\n",
              "      <th>0</th>\n",
              "      <td>RS</td>\n",
              "    </tr>\n",
              "  </tbody>\n",
              "</table>\n",
              "</div><br><label><b>dtype:</b> object</label>"
            ]
          },
          "metadata": {},
          "execution_count": 44
        }
      ]
    },
    {
      "cell_type": "markdown",
      "source": [
        "- Padronizar de acordo com o dominio os valores SP, RP e TD pela moda (RS)"
      ],
      "metadata": {
        "id": "cwktBAB-3vwD"
      }
    },
    {
      "cell_type": "code",
      "source": [
        "df.loc[df['Estado'].isin(['SP', 'RP', 'TD']), 'Estado'] = df['Estado'].mode()[0]\n",
        "df['Estado'].value_counts()"
      ],
      "metadata": {
        "colab": {
          "base_uri": "https://localhost:8080/",
          "height": 210
        },
        "id": "XCerPIV-36k9",
        "outputId": "2eece2f7-9432-4ad2-bf88-000396e2d95d"
      },
      "execution_count": 45,
      "outputs": [
        {
          "output_type": "execute_result",
          "data": {
            "text/plain": [
              "Estado\n",
              "RS    484\n",
              "SC    258\n",
              "PR    257\n",
              "Name: count, dtype: int64"
            ],
            "text/html": [
              "<div>\n",
              "<style scoped>\n",
              "    .dataframe tbody tr th:only-of-type {\n",
              "        vertical-align: middle;\n",
              "    }\n",
              "\n",
              "    .dataframe tbody tr th {\n",
              "        vertical-align: top;\n",
              "    }\n",
              "\n",
              "    .dataframe thead th {\n",
              "        text-align: right;\n",
              "    }\n",
              "</style>\n",
              "<table border=\"1\" class=\"dataframe\">\n",
              "  <thead>\n",
              "    <tr style=\"text-align: right;\">\n",
              "      <th></th>\n",
              "      <th>count</th>\n",
              "    </tr>\n",
              "    <tr>\n",
              "      <th>Estado</th>\n",
              "      <th></th>\n",
              "    </tr>\n",
              "  </thead>\n",
              "  <tbody>\n",
              "    <tr>\n",
              "      <th>RS</th>\n",
              "      <td>484</td>\n",
              "    </tr>\n",
              "    <tr>\n",
              "      <th>SC</th>\n",
              "      <td>258</td>\n",
              "    </tr>\n",
              "    <tr>\n",
              "      <th>PR</th>\n",
              "      <td>257</td>\n",
              "    </tr>\n",
              "  </tbody>\n",
              "</table>\n",
              "</div><br><label><b>dtype:</b> int64</label>"
            ]
          },
          "metadata": {},
          "execution_count": 45
        }
      ]
    },
    {
      "cell_type": "markdown",
      "source": [
        "### - Verificando dados inconsistentes em **Genero**"
      ],
      "metadata": {
        "id": "gFmJXbpj4Gqt"
      }
    },
    {
      "cell_type": "code",
      "source": [
        "df['Genero'].value_counts()"
      ],
      "metadata": {
        "colab": {
          "base_uri": "https://localhost:8080/",
          "height": 272
        },
        "id": "KaT_L5ob5Ftf",
        "outputId": "2d5a6f3c-90ff-41a3-c745-0ced6ae7d39b"
      },
      "execution_count": 46,
      "outputs": [
        {
          "output_type": "execute_result",
          "data": {
            "text/plain": [
              "Genero\n",
              "Masculino    529\n",
              "Feminino     461\n",
              "M              6\n",
              "F              2\n",
              "Fem            1\n",
              "Name: count, dtype: int64"
            ],
            "text/html": [
              "<div>\n",
              "<style scoped>\n",
              "    .dataframe tbody tr th:only-of-type {\n",
              "        vertical-align: middle;\n",
              "    }\n",
              "\n",
              "    .dataframe tbody tr th {\n",
              "        vertical-align: top;\n",
              "    }\n",
              "\n",
              "    .dataframe thead th {\n",
              "        text-align: right;\n",
              "    }\n",
              "</style>\n",
              "<table border=\"1\" class=\"dataframe\">\n",
              "  <thead>\n",
              "    <tr style=\"text-align: right;\">\n",
              "      <th></th>\n",
              "      <th>count</th>\n",
              "    </tr>\n",
              "    <tr>\n",
              "      <th>Genero</th>\n",
              "      <th></th>\n",
              "    </tr>\n",
              "  </thead>\n",
              "  <tbody>\n",
              "    <tr>\n",
              "      <th>Masculino</th>\n",
              "      <td>529</td>\n",
              "    </tr>\n",
              "    <tr>\n",
              "      <th>Feminino</th>\n",
              "      <td>461</td>\n",
              "    </tr>\n",
              "    <tr>\n",
              "      <th>M</th>\n",
              "      <td>6</td>\n",
              "    </tr>\n",
              "    <tr>\n",
              "      <th>F</th>\n",
              "      <td>2</td>\n",
              "    </tr>\n",
              "    <tr>\n",
              "      <th>Fem</th>\n",
              "      <td>1</td>\n",
              "    </tr>\n",
              "  </tbody>\n",
              "</table>\n",
              "</div><br><label><b>dtype:</b> int64</label>"
            ]
          },
          "metadata": {},
          "execution_count": 46
        }
      ]
    },
    {
      "cell_type": "markdown",
      "source": [
        "- Padronizar **Genero** de acordo, onde ('M' por \"Masculino' e 'Fem' e 'F' por 'Feminino')"
      ],
      "metadata": {
        "id": "rMs9SSAP5ath"
      }
    },
    {
      "cell_type": "code",
      "source": [
        "df.loc[df['Genero'] == 'M', 'Genero'] = 'Masculino'\n",
        "df.loc[df['Genero'].isin(['Fem', 'F']), 'Genero'] = 'Feminino'\n",
        "df['Genero'].unique()"
      ],
      "metadata": {
        "colab": {
          "base_uri": "https://localhost:8080/"
        },
        "id": "hNkSgSuo5Qq1",
        "outputId": "7e1ce13b-fe89-4e29-8fb5-5294e3d14056"
      },
      "execution_count": 47,
      "outputs": [
        {
          "output_type": "execute_result",
          "data": {
            "text/plain": [
              "array(['Feminino', 'Masculino'], dtype=object)"
            ]
          },
          "metadata": {},
          "execution_count": 47
        }
      ]
    },
    {
      "cell_type": "markdown",
      "source": [
        "# 3.4 **Verificando dados inconsistentes (variáveis numéricas)**"
      ],
      "metadata": {
        "id": "CjXfcF3R6ps7"
      }
    },
    {
      "cell_type": "markdown",
      "source": [
        "## explicar melhor o conceito e pq verificar e tratar.."
      ],
      "metadata": {
        "id": "aQeJJ4WU5rvV"
      }
    },
    {
      "cell_type": "markdown",
      "source": [
        "### tratando os outliers.. (explicar melhor)"
      ],
      "metadata": {
        "id": "P3uUPk4950Xl"
      }
    },
    {
      "cell_type": "code",
      "source": [
        "df.describe()"
      ],
      "metadata": {
        "colab": {
          "base_uri": "https://localhost:8080/",
          "height": 320
        },
        "id": "UMoS4-tfDSdZ",
        "outputId": "320a5e02-d12d-4658-d51e-50a9c663c0a3"
      },
      "execution_count": 50,
      "outputs": [
        {
          "output_type": "execute_result",
          "data": {
            "text/plain": [
              "                Id       Score       Idade  Patrimonio         Saldo  \\\n",
              "count   999.000000  999.000000  999.000000  999.000000  9.990000e+02   \n",
              "mean    500.916917  648.621622   38.902903    5.069069  7.164928e+06   \n",
              "std     288.662884   98.264219   11.401912    2.927691  6.311840e+06   \n",
              "min       1.000000  376.000000  -20.000000    0.000000  0.000000e+00   \n",
              "25%     251.500000  580.000000   32.000000    2.000000  0.000000e+00   \n",
              "50%     501.000000  653.000000   37.000000    5.000000  8.958835e+06   \n",
              "75%     750.500000  721.000000   44.000000    8.000000  1.258684e+07   \n",
              "max    1000.000000  850.000000  140.000000   10.000000  2.117743e+07   \n",
              "\n",
              "         Produtos  TemCartCredito      Ativo       Salario        Saiu  \n",
              "count  999.000000      999.000000  999.00000  9.990000e+02  999.000000  \n",
              "mean     1.526527        0.702703    0.50951  3.510134e+07    0.203203  \n",
              "std      0.574201        0.457297    0.50016  5.287206e+08    0.402584  \n",
              "min      1.000000        0.000000    0.00000  9.677000e+03    0.000000  \n",
              "25%      1.000000        0.000000    0.00000  3.078473e+06    0.000000  \n",
              "50%      1.000000        1.000000    1.00000  8.703250e+06    0.000000  \n",
              "75%      2.000000        1.000000    1.00000  1.402954e+07    0.000000  \n",
              "max      4.000000        1.000000    1.00000  1.193469e+10    1.000000  "
            ],
            "text/html": [
              "\n",
              "  <div id=\"df-7401f6c2-3386-46bd-ae16-f40069b07c72\" class=\"colab-df-container\">\n",
              "    <div>\n",
              "<style scoped>\n",
              "    .dataframe tbody tr th:only-of-type {\n",
              "        vertical-align: middle;\n",
              "    }\n",
              "\n",
              "    .dataframe tbody tr th {\n",
              "        vertical-align: top;\n",
              "    }\n",
              "\n",
              "    .dataframe thead th {\n",
              "        text-align: right;\n",
              "    }\n",
              "</style>\n",
              "<table border=\"1\" class=\"dataframe\">\n",
              "  <thead>\n",
              "    <tr style=\"text-align: right;\">\n",
              "      <th></th>\n",
              "      <th>Id</th>\n",
              "      <th>Score</th>\n",
              "      <th>Idade</th>\n",
              "      <th>Patrimonio</th>\n",
              "      <th>Saldo</th>\n",
              "      <th>Produtos</th>\n",
              "      <th>TemCartCredito</th>\n",
              "      <th>Ativo</th>\n",
              "      <th>Salario</th>\n",
              "      <th>Saiu</th>\n",
              "    </tr>\n",
              "  </thead>\n",
              "  <tbody>\n",
              "    <tr>\n",
              "      <th>count</th>\n",
              "      <td>999.000000</td>\n",
              "      <td>999.000000</td>\n",
              "      <td>999.000000</td>\n",
              "      <td>999.000000</td>\n",
              "      <td>9.990000e+02</td>\n",
              "      <td>999.000000</td>\n",
              "      <td>999.000000</td>\n",
              "      <td>999.00000</td>\n",
              "      <td>9.990000e+02</td>\n",
              "      <td>999.000000</td>\n",
              "    </tr>\n",
              "    <tr>\n",
              "      <th>mean</th>\n",
              "      <td>500.916917</td>\n",
              "      <td>648.621622</td>\n",
              "      <td>38.902903</td>\n",
              "      <td>5.069069</td>\n",
              "      <td>7.164928e+06</td>\n",
              "      <td>1.526527</td>\n",
              "      <td>0.702703</td>\n",
              "      <td>0.50951</td>\n",
              "      <td>3.510134e+07</td>\n",
              "      <td>0.203203</td>\n",
              "    </tr>\n",
              "    <tr>\n",
              "      <th>std</th>\n",
              "      <td>288.662884</td>\n",
              "      <td>98.264219</td>\n",
              "      <td>11.401912</td>\n",
              "      <td>2.927691</td>\n",
              "      <td>6.311840e+06</td>\n",
              "      <td>0.574201</td>\n",
              "      <td>0.457297</td>\n",
              "      <td>0.50016</td>\n",
              "      <td>5.287206e+08</td>\n",
              "      <td>0.402584</td>\n",
              "    </tr>\n",
              "    <tr>\n",
              "      <th>min</th>\n",
              "      <td>1.000000</td>\n",
              "      <td>376.000000</td>\n",
              "      <td>-20.000000</td>\n",
              "      <td>0.000000</td>\n",
              "      <td>0.000000e+00</td>\n",
              "      <td>1.000000</td>\n",
              "      <td>0.000000</td>\n",
              "      <td>0.00000</td>\n",
              "      <td>9.677000e+03</td>\n",
              "      <td>0.000000</td>\n",
              "    </tr>\n",
              "    <tr>\n",
              "      <th>25%</th>\n",
              "      <td>251.500000</td>\n",
              "      <td>580.000000</td>\n",
              "      <td>32.000000</td>\n",
              "      <td>2.000000</td>\n",
              "      <td>0.000000e+00</td>\n",
              "      <td>1.000000</td>\n",
              "      <td>0.000000</td>\n",
              "      <td>0.00000</td>\n",
              "      <td>3.078473e+06</td>\n",
              "      <td>0.000000</td>\n",
              "    </tr>\n",
              "    <tr>\n",
              "      <th>50%</th>\n",
              "      <td>501.000000</td>\n",
              "      <td>653.000000</td>\n",
              "      <td>37.000000</td>\n",
              "      <td>5.000000</td>\n",
              "      <td>8.958835e+06</td>\n",
              "      <td>1.000000</td>\n",
              "      <td>1.000000</td>\n",
              "      <td>1.00000</td>\n",
              "      <td>8.703250e+06</td>\n",
              "      <td>0.000000</td>\n",
              "    </tr>\n",
              "    <tr>\n",
              "      <th>75%</th>\n",
              "      <td>750.500000</td>\n",
              "      <td>721.000000</td>\n",
              "      <td>44.000000</td>\n",
              "      <td>8.000000</td>\n",
              "      <td>1.258684e+07</td>\n",
              "      <td>2.000000</td>\n",
              "      <td>1.000000</td>\n",
              "      <td>1.00000</td>\n",
              "      <td>1.402954e+07</td>\n",
              "      <td>0.000000</td>\n",
              "    </tr>\n",
              "    <tr>\n",
              "      <th>max</th>\n",
              "      <td>1000.000000</td>\n",
              "      <td>850.000000</td>\n",
              "      <td>140.000000</td>\n",
              "      <td>10.000000</td>\n",
              "      <td>2.117743e+07</td>\n",
              "      <td>4.000000</td>\n",
              "      <td>1.000000</td>\n",
              "      <td>1.00000</td>\n",
              "      <td>1.193469e+10</td>\n",
              "      <td>1.000000</td>\n",
              "    </tr>\n",
              "  </tbody>\n",
              "</table>\n",
              "</div>\n",
              "    <div class=\"colab-df-buttons\">\n",
              "\n",
              "  <div class=\"colab-df-container\">\n",
              "    <button class=\"colab-df-convert\" onclick=\"convertToInteractive('df-7401f6c2-3386-46bd-ae16-f40069b07c72')\"\n",
              "            title=\"Convert this dataframe to an interactive table.\"\n",
              "            style=\"display:none;\">\n",
              "\n",
              "  <svg xmlns=\"http://www.w3.org/2000/svg\" height=\"24px\" viewBox=\"0 -960 960 960\">\n",
              "    <path d=\"M120-120v-720h720v720H120Zm60-500h600v-160H180v160Zm220 220h160v-160H400v160Zm0 220h160v-160H400v160ZM180-400h160v-160H180v160Zm440 0h160v-160H620v160ZM180-180h160v-160H180v160Zm440 0h160v-160H620v160Z\"/>\n",
              "  </svg>\n",
              "    </button>\n",
              "\n",
              "  <style>\n",
              "    .colab-df-container {\n",
              "      display:flex;\n",
              "      gap: 12px;\n",
              "    }\n",
              "\n",
              "    .colab-df-convert {\n",
              "      background-color: #E8F0FE;\n",
              "      border: none;\n",
              "      border-radius: 50%;\n",
              "      cursor: pointer;\n",
              "      display: none;\n",
              "      fill: #1967D2;\n",
              "      height: 32px;\n",
              "      padding: 0 0 0 0;\n",
              "      width: 32px;\n",
              "    }\n",
              "\n",
              "    .colab-df-convert:hover {\n",
              "      background-color: #E2EBFA;\n",
              "      box-shadow: 0px 1px 2px rgba(60, 64, 67, 0.3), 0px 1px 3px 1px rgba(60, 64, 67, 0.15);\n",
              "      fill: #174EA6;\n",
              "    }\n",
              "\n",
              "    .colab-df-buttons div {\n",
              "      margin-bottom: 4px;\n",
              "    }\n",
              "\n",
              "    [theme=dark] .colab-df-convert {\n",
              "      background-color: #3B4455;\n",
              "      fill: #D2E3FC;\n",
              "    }\n",
              "\n",
              "    [theme=dark] .colab-df-convert:hover {\n",
              "      background-color: #434B5C;\n",
              "      box-shadow: 0px 1px 3px 1px rgba(0, 0, 0, 0.15);\n",
              "      filter: drop-shadow(0px 1px 2px rgba(0, 0, 0, 0.3));\n",
              "      fill: #FFFFFF;\n",
              "    }\n",
              "  </style>\n",
              "\n",
              "    <script>\n",
              "      const buttonEl =\n",
              "        document.querySelector('#df-7401f6c2-3386-46bd-ae16-f40069b07c72 button.colab-df-convert');\n",
              "      buttonEl.style.display =\n",
              "        google.colab.kernel.accessAllowed ? 'block' : 'none';\n",
              "\n",
              "      async function convertToInteractive(key) {\n",
              "        const element = document.querySelector('#df-7401f6c2-3386-46bd-ae16-f40069b07c72');\n",
              "        const dataTable =\n",
              "          await google.colab.kernel.invokeFunction('convertToInteractive',\n",
              "                                                    [key], {});\n",
              "        if (!dataTable) return;\n",
              "\n",
              "        const docLinkHtml = 'Like what you see? Visit the ' +\n",
              "          '<a target=\"_blank\" href=https://colab.research.google.com/notebooks/data_table.ipynb>data table notebook</a>'\n",
              "          + ' to learn more about interactive tables.';\n",
              "        element.innerHTML = '';\n",
              "        dataTable['output_type'] = 'display_data';\n",
              "        await google.colab.output.renderOutput(dataTable, element);\n",
              "        const docLink = document.createElement('div');\n",
              "        docLink.innerHTML = docLinkHtml;\n",
              "        element.appendChild(docLink);\n",
              "      }\n",
              "    </script>\n",
              "  </div>\n",
              "\n",
              "\n",
              "<div id=\"df-316bfb78-dd9b-43b5-9e17-ef8111bdf32d\">\n",
              "  <button class=\"colab-df-quickchart\" onclick=\"quickchart('df-316bfb78-dd9b-43b5-9e17-ef8111bdf32d')\"\n",
              "            title=\"Suggest charts\"\n",
              "            style=\"display:none;\">\n",
              "\n",
              "<svg xmlns=\"http://www.w3.org/2000/svg\" height=\"24px\"viewBox=\"0 0 24 24\"\n",
              "     width=\"24px\">\n",
              "    <g>\n",
              "        <path d=\"M19 3H5c-1.1 0-2 .9-2 2v14c0 1.1.9 2 2 2h14c1.1 0 2-.9 2-2V5c0-1.1-.9-2-2-2zM9 17H7v-7h2v7zm4 0h-2V7h2v10zm4 0h-2v-4h2v4z\"/>\n",
              "    </g>\n",
              "</svg>\n",
              "  </button>\n",
              "\n",
              "<style>\n",
              "  .colab-df-quickchart {\n",
              "      --bg-color: #E8F0FE;\n",
              "      --fill-color: #1967D2;\n",
              "      --hover-bg-color: #E2EBFA;\n",
              "      --hover-fill-color: #174EA6;\n",
              "      --disabled-fill-color: #AAA;\n",
              "      --disabled-bg-color: #DDD;\n",
              "  }\n",
              "\n",
              "  [theme=dark] .colab-df-quickchart {\n",
              "      --bg-color: #3B4455;\n",
              "      --fill-color: #D2E3FC;\n",
              "      --hover-bg-color: #434B5C;\n",
              "      --hover-fill-color: #FFFFFF;\n",
              "      --disabled-bg-color: #3B4455;\n",
              "      --disabled-fill-color: #666;\n",
              "  }\n",
              "\n",
              "  .colab-df-quickchart {\n",
              "    background-color: var(--bg-color);\n",
              "    border: none;\n",
              "    border-radius: 50%;\n",
              "    cursor: pointer;\n",
              "    display: none;\n",
              "    fill: var(--fill-color);\n",
              "    height: 32px;\n",
              "    padding: 0;\n",
              "    width: 32px;\n",
              "  }\n",
              "\n",
              "  .colab-df-quickchart:hover {\n",
              "    background-color: var(--hover-bg-color);\n",
              "    box-shadow: 0 1px 2px rgba(60, 64, 67, 0.3), 0 1px 3px 1px rgba(60, 64, 67, 0.15);\n",
              "    fill: var(--button-hover-fill-color);\n",
              "  }\n",
              "\n",
              "  .colab-df-quickchart-complete:disabled,\n",
              "  .colab-df-quickchart-complete:disabled:hover {\n",
              "    background-color: var(--disabled-bg-color);\n",
              "    fill: var(--disabled-fill-color);\n",
              "    box-shadow: none;\n",
              "  }\n",
              "\n",
              "  .colab-df-spinner {\n",
              "    border: 2px solid var(--fill-color);\n",
              "    border-color: transparent;\n",
              "    border-bottom-color: var(--fill-color);\n",
              "    animation:\n",
              "      spin 1s steps(1) infinite;\n",
              "  }\n",
              "\n",
              "  @keyframes spin {\n",
              "    0% {\n",
              "      border-color: transparent;\n",
              "      border-bottom-color: var(--fill-color);\n",
              "      border-left-color: var(--fill-color);\n",
              "    }\n",
              "    20% {\n",
              "      border-color: transparent;\n",
              "      border-left-color: var(--fill-color);\n",
              "      border-top-color: var(--fill-color);\n",
              "    }\n",
              "    30% {\n",
              "      border-color: transparent;\n",
              "      border-left-color: var(--fill-color);\n",
              "      border-top-color: var(--fill-color);\n",
              "      border-right-color: var(--fill-color);\n",
              "    }\n",
              "    40% {\n",
              "      border-color: transparent;\n",
              "      border-right-color: var(--fill-color);\n",
              "      border-top-color: var(--fill-color);\n",
              "    }\n",
              "    60% {\n",
              "      border-color: transparent;\n",
              "      border-right-color: var(--fill-color);\n",
              "    }\n",
              "    80% {\n",
              "      border-color: transparent;\n",
              "      border-right-color: var(--fill-color);\n",
              "      border-bottom-color: var(--fill-color);\n",
              "    }\n",
              "    90% {\n",
              "      border-color: transparent;\n",
              "      border-bottom-color: var(--fill-color);\n",
              "    }\n",
              "  }\n",
              "</style>\n",
              "\n",
              "  <script>\n",
              "    async function quickchart(key) {\n",
              "      const quickchartButtonEl =\n",
              "        document.querySelector('#' + key + ' button');\n",
              "      quickchartButtonEl.disabled = true;  // To prevent multiple clicks.\n",
              "      quickchartButtonEl.classList.add('colab-df-spinner');\n",
              "      try {\n",
              "        const charts = await google.colab.kernel.invokeFunction(\n",
              "            'suggestCharts', [key], {});\n",
              "      } catch (error) {\n",
              "        console.error('Error during call to suggestCharts:', error);\n",
              "      }\n",
              "      quickchartButtonEl.classList.remove('colab-df-spinner');\n",
              "      quickchartButtonEl.classList.add('colab-df-quickchart-complete');\n",
              "    }\n",
              "    (() => {\n",
              "      let quickchartButtonEl =\n",
              "        document.querySelector('#df-316bfb78-dd9b-43b5-9e17-ef8111bdf32d button');\n",
              "      quickchartButtonEl.style.display =\n",
              "        google.colab.kernel.accessAllowed ? 'block' : 'none';\n",
              "    })();\n",
              "  </script>\n",
              "</div>\n",
              "\n",
              "    </div>\n",
              "  </div>\n"
            ],
            "application/vnd.google.colaboratory.intrinsic+json": {
              "type": "dataframe",
              "summary": "{\n  \"name\": \"df\",\n  \"rows\": 8,\n  \"fields\": [\n    {\n      \"column\": \"Id\",\n      \"properties\": {\n        \"dtype\": \"number\",\n        \"std\": 359.85500052606363,\n        \"min\": 1.0,\n        \"max\": 1000.0,\n        \"num_unique_values\": 8,\n        \"samples\": [\n          500.91691691691693,\n          501.0,\n          999.0\n        ],\n        \"semantic_type\": \"\",\n        \"description\": \"\"\n      }\n    },\n    {\n      \"column\": \"Score\",\n      \"properties\": {\n        \"dtype\": \"number\",\n        \"std\": 278.22112240753756,\n        \"min\": 98.26421874897119,\n        \"max\": 999.0,\n        \"num_unique_values\": 8,\n        \"samples\": [\n          648.6216216216217,\n          653.0,\n          999.0\n        ],\n        \"semantic_type\": \"\",\n        \"description\": \"\"\n      }\n    },\n    {\n      \"column\": \"Idade\",\n      \"properties\": {\n        \"dtype\": \"number\",\n        \"std\": 341.93467103111163,\n        \"min\": -20.0,\n        \"max\": 999.0,\n        \"num_unique_values\": 8,\n        \"samples\": [\n          38.9029029029029,\n          37.0,\n          999.0\n        ],\n        \"semantic_type\": \"\",\n        \"description\": \"\"\n      }\n    },\n    {\n      \"column\": \"Patrimonio\",\n      \"properties\": {\n        \"dtype\": \"number\",\n        \"std\": 351.5478229270986,\n        \"min\": 0.0,\n        \"max\": 999.0,\n        \"num_unique_values\": 8,\n        \"samples\": [\n          5.069069069069069,\n          5.0,\n          999.0\n        ],\n        \"semantic_type\": \"\",\n        \"description\": \"\"\n      }\n    },\n    {\n      \"column\": \"Saldo\",\n      \"properties\": {\n        \"dtype\": \"number\",\n        \"std\": 7402037.811872118,\n        \"min\": 0.0,\n        \"max\": 21177431.0,\n        \"num_unique_values\": 7,\n        \"samples\": [\n          999.0,\n          7164927.564564564,\n          12586844.0\n        ],\n        \"semantic_type\": \"\",\n        \"description\": \"\"\n      }\n    },\n    {\n      \"column\": \"Produtos\",\n      \"properties\": {\n        \"dtype\": \"number\",\n        \"std\": 352.64079763432574,\n        \"min\": 0.5742007140077248,\n        \"max\": 999.0,\n        \"num_unique_values\": 6,\n        \"samples\": [\n          999.0,\n          1.5265265265265264,\n          4.0\n        ],\n        \"semantic_type\": \"\",\n        \"description\": \"\"\n      }\n    },\n    {\n      \"column\": \"TemCartCredito\",\n      \"properties\": {\n        \"dtype\": \"number\",\n        \"std\": 352.98997449894324,\n        \"min\": 0.0,\n        \"max\": 999.0,\n        \"num_unique_values\": 5,\n        \"samples\": [\n          0.7027027027027027,\n          1.0,\n          0.457297435584201\n        ],\n        \"semantic_type\": \"\",\n        \"description\": \"\"\n      }\n    },\n    {\n      \"column\": \"Ativo\",\n      \"properties\": {\n        \"dtype\": \"number\",\n        \"std\": 352.9975637573254,\n        \"min\": 0.0,\n        \"max\": 999.0,\n        \"num_unique_values\": 5,\n        \"samples\": [\n          0.5095095095095095,\n          1.0,\n          0.5001599540336046\n        ],\n        \"semantic_type\": \"\",\n        \"description\": \"\"\n      }\n    },\n    {\n      \"column\": \"Salario\",\n      \"properties\": {\n        \"dtype\": \"number\",\n        \"std\": 4193710871.4646945,\n        \"min\": 999.0,\n        \"max\": 11934688000.0,\n        \"num_unique_values\": 8,\n        \"samples\": [\n          35101343.37887888,\n          8703249.5,\n          999.0\n        ],\n        \"semantic_type\": \"\",\n        \"description\": \"\"\n      }\n    },\n    {\n      \"column\": \"Saiu\",\n      \"properties\": {\n        \"dtype\": \"number\",\n        \"std\": 353.1189016031703,\n        \"min\": 0.0,\n        \"max\": 999.0,\n        \"num_unique_values\": 5,\n        \"samples\": [\n          0.2032032032032032,\n          1.0,\n          0.40258402544666305\n        ],\n        \"semantic_type\": \"\",\n        \"description\": \"\"\n      }\n    }\n  ]\n}"
            }
          },
          "metadata": {},
          "execution_count": 50
        }
      ]
    },
    {
      "cell_type": "code",
      "source": [
        "# histograma e boxplot de idade, saldo e salario com os graficos lado a lado\n",
        "\n",
        "# Cria subplots para Idade, Saldo e Salario\n",
        "fig, axes = plt.subplots(3, 2, figsize=(12, 15))\n",
        "\n",
        "# Histograma e Boxplot para Idade\n",
        "sns.histplot(df['Idade'], bins=20, kde=True, ax=axes[0, 0])\n",
        "axes[0, 0].set_title('Distribuição da Idade')\n",
        "axes[0, 0].set_xlabel('Idade')\n",
        "axes[0, 0].set_ylabel('Frequência')\n",
        "\n",
        "sns.boxplot(y=df['Idade'], ax=axes[0, 1])\n",
        "axes[0, 1].set_title('Boxplot da Idade')\n",
        "axes[0, 1].set_ylabel('Idade')\n",
        "\n",
        "# Histograma e Boxplot para Saldo\n",
        "sns.histplot(df['Saldo'], bins=20, kde=True, ax=axes[1, 0])\n",
        "axes[1, 0].set_title('Distribuição do Saldo')\n",
        "axes[1, 0].set_xlabel('Saldo')\n",
        "axes[1, 0].set_ylabel('Frequência')\n",
        "\n",
        "sns.boxplot(y=df['Saldo'], ax=axes[1, 1])\n",
        "axes[1, 1].set_title('Boxplot do Saldo')\n",
        "axes[1, 1].set_ylabel('Saldo')\n",
        "\n",
        "# Histograma e Boxplot para Salario\n",
        "sns.histplot(df['Salario'], bins=20, kde=True, ax=axes[2, 0])\n",
        "axes[2, 0].set_title('Distribuição do Salario')\n",
        "axes[2, 0].set_xlabel('Salario')\n",
        "axes[2, 0].set_ylabel('Frequência')\n",
        "\n",
        "sns.boxplot(y=df['Salario'], ax=axes[2, 1])\n",
        "axes[2, 1].set_title('Boxplot do Salario')\n",
        "axes[2, 1].set_ylabel('Salario')\n",
        "\n",
        "# Ajusta o layout e exibe os gráficos\n",
        "plt.tight_layout()\n",
        "plt.show()\n"
      ],
      "metadata": {
        "colab": {
          "base_uri": "https://localhost:8080/",
          "height": 0
        },
        "collapsed": true,
        "id": "GruN0qB3H924",
        "outputId": "da10f18f-91ba-4f7d-ebb8-b0deec42e2db"
      },
      "execution_count": 68,
      "outputs": [
        {
          "output_type": "display_data",
          "data": {
            "text/plain": [
              "<Figure size 1200x1500 with 6 Axes>"
            ],
            "image/png": "[encoded data removed]"
          },
          "metadata": {}
        }
      ]
    },
    {
      "cell_type": "markdown",
      "source": [
        "#### Tratando Idade"
      ],
      "metadata": {
        "id": "6mmuKTgGFimB"
      }
    },
    {
      "cell_type": "code",
      "source": [
        "df['Idade'].describe()"
      ],
      "metadata": {
        "colab": {
          "base_uri": "https://localhost:8080/",
          "height": 335
        },
        "id": "iIptVx4-DwIy",
        "outputId": "33d734fe-6976-41c3-a9be-384e05187ddf"
      },
      "execution_count": 51,
      "outputs": [
        {
          "output_type": "execute_result",
          "data": {
            "text/plain": [
              "count    999.000000\n",
              "mean      38.902903\n",
              "std       11.401912\n",
              "min      -20.000000\n",
              "25%       32.000000\n",
              "50%       37.000000\n",
              "75%       44.000000\n",
              "max      140.000000\n",
              "Name: Idade, dtype: float64"
            ],
            "text/html": [
              "<div>\n",
              "<style scoped>\n",
              "    .dataframe tbody tr th:only-of-type {\n",
              "        vertical-align: middle;\n",
              "    }\n",
              "\n",
              "    .dataframe tbody tr th {\n",
              "        vertical-align: top;\n",
              "    }\n",
              "\n",
              "    .dataframe thead th {\n",
              "        text-align: right;\n",
              "    }\n",
              "</style>\n",
              "<table border=\"1\" class=\"dataframe\">\n",
              "  <thead>\n",
              "    <tr style=\"text-align: right;\">\n",
              "      <th></th>\n",
              "      <th>Idade</th>\n",
              "    </tr>\n",
              "  </thead>\n",
              "  <tbody>\n",
              "    <tr>\n",
              "      <th>count</th>\n",
              "      <td>999.000000</td>\n",
              "    </tr>\n",
              "    <tr>\n",
              "      <th>mean</th>\n",
              "      <td>38.902903</td>\n",
              "    </tr>\n",
              "    <tr>\n",
              "      <th>std</th>\n",
              "      <td>11.401912</td>\n",
              "    </tr>\n",
              "    <tr>\n",
              "      <th>min</th>\n",
              "      <td>-20.000000</td>\n",
              "    </tr>\n",
              "    <tr>\n",
              "      <th>25%</th>\n",
              "      <td>32.000000</td>\n",
              "    </tr>\n",
              "    <tr>\n",
              "      <th>50%</th>\n",
              "      <td>37.000000</td>\n",
              "    </tr>\n",
              "    <tr>\n",
              "      <th>75%</th>\n",
              "      <td>44.000000</td>\n",
              "    </tr>\n",
              "    <tr>\n",
              "      <th>max</th>\n",
              "      <td>140.000000</td>\n",
              "    </tr>\n",
              "  </tbody>\n",
              "</table>\n",
              "</div><br><label><b>dtype:</b> float64</label>"
            ]
          },
          "metadata": {},
          "execution_count": 51
        }
      ]
    },
    {
      "cell_type": "code",
      "source": [
        "# total de vaalores com idade menor que 32\n",
        "\n",
        "df[df['Idade'] < 18]['Idade'].count()\n"
      ],
      "metadata": {
        "colab": {
          "base_uri": "https://localhost:8080/"
        },
        "id": "mrceVtzFGGGK",
        "outputId": "0f9dcb31-f29d-4c2f-b9a4-014a5d3cc060"
      },
      "execution_count": 57,
      "outputs": [
        {
          "output_type": "execute_result",
          "data": {
            "text/plain": [
              "7"
            ]
          },
          "metadata": {},
          "execution_count": 57
        }
      ]
    },
    {
      "cell_type": "code",
      "source": [
        "# total de vaalores com idade menor que 80\n",
        "\n",
        "df[df['Idade'] > 80]['Idade'].count()"
      ],
      "metadata": {
        "colab": {
          "base_uri": "https://localhost:8080/"
        },
        "id": "1FsEFjcVGtKq",
        "outputId": "92cc9389-50ff-4e4b-c975-4baf7ff3f8db"
      },
      "execution_count": 64,
      "outputs": [
        {
          "output_type": "execute_result",
          "data": {
            "text/plain": [
              "2"
            ]
          },
          "metadata": {},
          "execution_count": 64
        }
      ]
    },
    {
      "cell_type": "code",
      "source": [
        "# verificando o balanceamento da variavel dependente (target)\n",
        "df['Saiu'].value_counts()"
      ],
      "metadata": {
        "id": "pn6ReaqwM9lg"
      },
      "execution_count": null,
      "outputs": []
    },
    {
      "cell_type": "code",
      "source": [
        "# visualizando em porcentagem\n",
        "\n",
        "df['Saiu'].value_counts(normalize=True) * 100\n"
      ],
      "metadata": {
        "id": "HVJoYDjRNWwh"
      },
      "execution_count": null,
      "outputs": []
    },
    {
      "cell_type": "code",
      "source": [
        "# Verificando os tipos de variaveis\n",
        "\n",
        "df.dtypes\n"
      ],
      "metadata": {
        "id": "bu4kw-i_Kk4X"
      },
      "execution_count": null,
      "outputs": []
    },
    {
      "cell_type": "code",
      "source": [
        "# Explorando dados categóricos\n",
        "# Estado\n",
        "df['Estado'].unique()"
      ],
      "metadata": {
        "id": "Tjv0Xl-TAnH0"
      },
      "execution_count": null,
      "outputs": []
    },
    {
      "cell_type": "code",
      "source": [
        "df['Estado'].value_counts()"
      ],
      "metadata": {
        "id": "wPl3Vqa7A1s-"
      },
      "execution_count": null,
      "outputs": []
    },
    {
      "cell_type": "code",
      "source": [
        "# Explorando dados categóricos\n",
        "#Genero\n",
        "df['Genero'].unique()"
      ],
      "metadata": {
        "id": "BkMInclnKPpi"
      },
      "execution_count": null,
      "outputs": []
    },
    {
      "cell_type": "code",
      "source": [
        "df['Genero'].value_counts()"
      ],
      "metadata": {
        "id": "bLRZRnLhA8zt"
      },
      "execution_count": null,
      "outputs": []
    },
    {
      "cell_type": "code",
      "source": [
        "# visualizar graficos das variaveis categoricas Estado e Genero\n",
        "\n",
        "import matplotlib.pyplot as plt\n",
        "%matplotlib inline\n",
        "\n",
        "fig, axes = plt.subplots(ncols=2, figsize=(6,3))\n",
        "\n",
        "df['Estado'].value_counts().plot(kind='bar', ax=axes[0])\n",
        "axes[0].set_title('Estado')\n",
        "\n",
        "df['Genero'].value_counts().plot(kind='bar', ax=axes[1])\n",
        "axes[1].set_title('Genero')\n"
      ],
      "metadata": {
        "id": "MAnuXW78B-M_"
      },
      "execution_count": null,
      "outputs": []
    },
    {
      "cell_type": "code",
      "source": [
        "# Explorando dados numericos\n",
        "df.describe()"
      ],
      "metadata": {
        "id": "a7jHd_zxG5DY"
      },
      "execution_count": null,
      "outputs": []
    },
    {
      "cell_type": "code",
      "source": [
        "# visualizar graficamente as variaveis numericas\n",
        "\n",
        "%matplotlib inline\n",
        "\n",
        "num_attributes = df.select_dtypes(include=['int64', 'float64'])\n",
        "\n",
        "fig, axes = plt.subplots(ncols=3, nrows=3, figsize=(10,10))\n",
        "\n",
        "count = 0\n",
        "for i in range(3):\n",
        "  for j in range(3):\n",
        "    count += 1\n",
        "    if count < len(num_attributes.columns):\n",
        "      num_attributes.iloc[:, count-1].hist(ax=axes[i][j], bins=10)\n",
        "      axes[i][j].set_title(num_attributes.columns[count-1])\n"
      ],
      "metadata": {
        "collapsed": true,
        "id": "1okYZKa_G89G"
      },
      "execution_count": null,
      "outputs": []
    },
    {
      "cell_type": "code",
      "source": [
        "# visualizar graficamente com graficos os outliers das variaveis numericas\n",
        "\n",
        "%matplotlib inline\n",
        "\n",
        "num_attributes = df.select_dtypes(include=['int64', 'float64'])\n",
        "\n",
        "fig, axes = plt.subplots(ncols=3, nrows=3, figsize=(15,15))\n",
        "\n",
        "count = 0\n",
        "for i in range(3):\n",
        "  for j in range(3):\n",
        "    count += 1\n",
        "    if count < len(num_attributes.columns):\n",
        "      num_attributes.iloc[:, count-1].plot(kind='box', ax=axes[i][j])\n"
      ],
      "metadata": {
        "id": "g1Feszs5ITXB"
      },
      "execution_count": null,
      "outputs": []
    },
    {
      "cell_type": "code",
      "source": [
        "# Visualizar dados faltantes\n",
        "df.isnull().sum()"
      ],
      "metadata": {
        "id": "WU1lZoRdBQbA"
      },
      "execution_count": null,
      "outputs": []
    },
    {
      "cell_type": "code",
      "source": [
        "df['Salario'].describe()"
      ],
      "metadata": {
        "id": "X1sFjSqVK2cB"
      },
      "execution_count": null,
      "outputs": []
    },
    {
      "cell_type": "code",
      "source": [
        "df['Salario'].median()"
      ],
      "metadata": {
        "id": "GO5xz8m8LVJF"
      },
      "execution_count": null,
      "outputs": []
    },
    {
      "cell_type": "code",
      "source": [
        "# Tratamento de dados faltantes\n",
        "# Genero e Salário\n",
        "# Salário - Substituir pela mediana\n",
        "df['Salario'].fillna(df['Salario'].median(), inplace = True)\n",
        "df['Salario'].isnull().sum()"
      ],
      "metadata": {
        "id": "jCzkeGbHJn6H"
      },
      "execution_count": null,
      "outputs": []
    },
    {
      "cell_type": "code",
      "source": [
        "df['Genero'].describe()"
      ],
      "metadata": {
        "id": "Myvqz-15Lp0c"
      },
      "execution_count": null,
      "outputs": []
    },
    {
      "cell_type": "code",
      "source": [
        "# Genero - Substituir pela moda (Masculino)\n",
        "df['Genero'].fillna(df['Genero'].mode()[0], inplace = True)\n",
        "df['Genero'].isnull().sum()"
      ],
      "metadata": {
        "id": "Zc3I2TpYKPCv"
      },
      "execution_count": null,
      "outputs": []
    },
    {
      "cell_type": "code",
      "source": [
        "# validando se ainda existem valores faltantes\n",
        "df.isnull().sum()"
      ],
      "metadata": {
        "id": "VAeyequwL3Tk"
      },
      "execution_count": null,
      "outputs": []
    },
    {
      "cell_type": "code",
      "source": [
        "# Verificando dados inconsistentes\n",
        "# Estado\n",
        "df['Estado'].value_counts()"
      ],
      "metadata": {
        "id": "SRCH70KoME5X"
      },
      "execution_count": null,
      "outputs": []
    },
    {
      "cell_type": "code",
      "source": [
        "df['Estado'].describe()"
      ],
      "metadata": {
        "id": "IVVo3Zg2MLSo"
      },
      "execution_count": null,
      "outputs": []
    },
    {
      "cell_type": "code",
      "source": [
        "# Padronizar de acordo com o dominio os valores SP, RP e TD pela moda (RS)\n",
        "df.loc[df['Estado'].isin(['SP', 'RP', 'TD']), 'Estado'] = df['Estado'].mode()[0]\n",
        "df['Estado'].value_counts()\n"
      ],
      "metadata": {
        "id": "6sJZn0NwOAPs"
      },
      "execution_count": null,
      "outputs": []
    },
    {
      "cell_type": "code",
      "source": [
        "# Genero\n",
        "df['Genero'].value_counts()"
      ],
      "metadata": {
        "id": "dXf7NWMQPFic"
      },
      "execution_count": null,
      "outputs": []
    },
    {
      "cell_type": "code",
      "source": [
        "# Padronizar Genero de acordo, onde ('M' por \"Masculino' e 'Fem' e 'F' por 'Feminino')\n",
        "df.loc[df['Genero'] == 'M', 'Genero'] = 'Masculino'\n",
        "df.loc[df['Genero'].isin(['Fem', 'F']), 'Genero'] = 'Feminino'\n",
        "df['Genero'].unique()"
      ],
      "metadata": {
        "id": "xoNZcEMdP04D"
      },
      "execution_count": null,
      "outputs": []
    },
    {
      "cell_type": "code",
      "source": [
        "df['Genero'].value_counts()"
      ],
      "metadata": {
        "id": "10RVjJSeM01w"
      },
      "execution_count": null,
      "outputs": []
    },
    {
      "cell_type": "code",
      "source": [
        "# Outliers em Salário\n",
        "\n",
        "%matplotlib inline\n",
        "\n",
        "fig, axes = plt.subplots(ncols=2, figsize=(10,3))\n",
        "\n",
        "df['Salario'].hist(ax=axes[0], bins=20)\n",
        "axes[0].set_title('Histograma de Salário')\n",
        "\n",
        "df['Salario'].plot(kind='box', ax=axes[1])\n",
        "axes[1].set_title('Boxplot de Salário')\n"
      ],
      "metadata": {
        "id": "-AZ-kT0_Rs24"
      },
      "execution_count": null,
      "outputs": []
    },
    {
      "cell_type": "code",
      "source": [
        "# Calcula o desvio padrão\n",
        "import statistics as sts\n",
        "desv = sts.stdev(df['Salario'])\n",
        "desv"
      ],
      "metadata": {
        "id": "Vg5usg-gSphK"
      },
      "execution_count": null,
      "outputs": []
    },
    {
      "cell_type": "code",
      "source": [
        "# Define a faixa aceitável - visualizando a quantidade de salarios maiores que 2 desvios padroes\n",
        "df.loc[df['Salario'] >= 2 * desv, 'Salario']"
      ],
      "metadata": {
        "id": "oxwSWWwoOfSY"
      },
      "execution_count": null,
      "outputs": []
    },
    {
      "cell_type": "code",
      "source": [
        "# Define a faixa aceitável\n",
        "df.loc[df['Salario'] >= 2 * desv, 'Salario'] = 2 * desv"
      ],
      "metadata": {
        "id": "HcQ_dqotRe7E"
      },
      "execution_count": null,
      "outputs": []
    },
    {
      "cell_type": "code",
      "source": [
        "# Verifica o resultado\n",
        "%matplotlib inline\n",
        "\n",
        "fig, axes = plt.subplots(ncols=2, figsize=(10,3))\n",
        "\n",
        "df['Salario'].hist(ax=axes[0], bins=20)\n",
        "axes[0].set_title('Histograma de Salário')\n",
        "\n",
        "df['Salario'].plot(kind='box', ax=axes[1])\n",
        "axes[1].set_title('Boxplot de Salário')"
      ],
      "metadata": {
        "id": "j1-TTATNZCFJ"
      },
      "execution_count": null,
      "outputs": []
    },
    {
      "cell_type": "code",
      "source": [
        "df.loc[df['Salario'] >= 2 * desv, 'Salario']"
      ],
      "metadata": {
        "id": "6kyVabaCPJ0h"
      },
      "execution_count": null,
      "outputs": []
    },
    {
      "cell_type": "code",
      "source": [
        "df['Score'].min()"
      ],
      "metadata": {
        "id": "Di-t7VT9Zk_5"
      },
      "execution_count": null,
      "outputs": []
    },
    {
      "cell_type": "code",
      "source": [
        "df['Score'].max()"
      ],
      "metadata": {
        "id": "kHykbEiqZq0-"
      },
      "execution_count": null,
      "outputs": []
    },
    {
      "cell_type": "code",
      "source": [
        "# Padronização dos dados\n",
        "# Score - MinMax\n",
        "df['Score'] = (df['Score'] - df['Score'].min()) / (df['Score'].max() - df['Score'].min())\n",
        "# Idade - MinMax\n",
        "df['Idade'] = (df['Idade'] - df['Idade'].min()) / (df['Idade'].max() - df['Idade'].min())\n",
        "# Saldo - MinMax\n",
        "df['Saldo'] = (df['Saldo'] - df['Saldo'].min()) / (df['Saldo'].max() - df['Saldo'].min())\n",
        "# Salário - MinMax\n",
        "df['Salario'] = (df['Salario'] - df['Salario'].min()) / (df['Salario'].max() - df['Salario'].min())"
      ],
      "metadata": {
        "id": "BWLW4aDLZIhW"
      },
      "execution_count": null,
      "outputs": []
    },
    {
      "cell_type": "code",
      "source": [
        "# Transformação de variáveis categóricas em numéricas\n",
        "from sklearn.preprocessing import LabelEncoder\n",
        "# Estado\n",
        "label_encoder = LabelEncoder()\n",
        "df['Estado'] = label_encoder.fit_transform(df['Estado'])\n",
        "# Gênero\n",
        "label_encoder = LabelEncoder()\n",
        "df['Genero'] = label_encoder.fit_transform(df['Genero'])\n",
        "# Visualiza o resultado\n",
        "df.head()"
      ],
      "metadata": {
        "id": "cdc8PW1Gbs1m"
      },
      "execution_count": null,
      "outputs": []
    },
    {
      "cell_type": "code",
      "source": [
        "# Escalonamento de atributos numéricos\n",
        "from sklearn.preprocessing import StandardScaler\n",
        "scaler = StandardScaler()\n",
        "df[['Score', 'Idade', 'Saldo', 'Salario']] = scaler.fit_transform(df[['Score', 'Idade', 'Saldo', 'Salario']])\n",
        "# Visualiza o resultado\n",
        "df.head()"
      ],
      "metadata": {
        "id": "iMUQAfHLb8Fv"
      },
      "execution_count": null,
      "outputs": []
    },
    {
      "cell_type": "code",
      "source": [
        "# prompt: visualizacoes e insights\n",
        "\n",
        "# Correlação entre as variáveis\n",
        "correlation = df.corr()\n",
        "\n",
        "# Visualização da correlação\n",
        "import seaborn as sns\n",
        "sns.heatmap(correlation, annot=True, fmt=\".2f\")"
      ],
      "metadata": {
        "id": "jL_BLmRkcg4k"
      },
      "execution_count": null,
      "outputs": []
    },
    {
      "cell_type": "code",
      "source": [
        "# calcular a correlação entre Saldo e Salário\n",
        "correlation = df['Saldo'].corr(df['Salario'])\n",
        "\n",
        "# exibir a correlação\n",
        "print(f'Correlação entre Saldo e Salário: {correlation:.2f}')\n",
        "\n",
        "# criar um gráfico de dispersão para visualizar a correlação\n",
        "plt.figure(figsize=(3, 3))\n",
        "plt.scatter(df['Saldo'], df['Salario'])\n",
        "plt.xlabel('Saldo')\n",
        "plt.ylabel('Salario')\n",
        "plt.title('Correlação entre Saldo e Salário')\n",
        "plt.show()\n",
        "\n",
        "# exibir um insight sobre a correlação\n",
        "print('Insight:')\n",
        "if correlation > 0.5:\n",
        "  print('A afirmação é verdadeira. Saldo e Salário têm uma correlação positiva moderada.')\n",
        "elif correlation > 0:\n",
        "  print('Saldo e Salário têm uma correlação positiva fraca.')\n",
        "elif correlation < 0:\n",
        "  print('Saldo e Salário têm uma correlação negativa.')\n",
        "else:\n",
        "  print('Saldo e Salário não têm correlação.')\n"
      ],
      "metadata": {
        "id": "sUo1-5k5rEgW"
      },
      "execution_count": null,
      "outputs": []
    },
    {
      "cell_type": "markdown",
      "source": [
        "`A correlação de -0.01 entre \"Saldo\" e \"Salário\" sugere que há uma relação linear muito fraca e negativa entre essas duas variáveis. Na prática, isso significa que mudanças no \"Saldo\" não estão fortemente associadas a mudanças no \"Salário\", e a relação entre elas é praticamente insignificante.`"
      ],
      "metadata": {
        "id": "XH0rA2wUts_c"
      }
    },
    {
      "cell_type": "code",
      "source": [
        "# calcular a correlação entre Idade e Saldo\n",
        "correlation = df['Idade'].corr(df['Saldo'])\n",
        "\n",
        "# exibir a correlação\n",
        "print(f'Correlação entre Idade e Saldo: {correlation:.2f}')\n",
        "\n",
        "# criar um gráfico de dispersão para visualizar a correlação\n",
        "plt.figure(figsize=(3, 3))\n",
        "plt.scatter(df['Idade'], df['Saldo'])\n",
        "plt.xlabel('Idade')\n",
        "plt.ylabel('Saldo')\n",
        "plt.title('Correlação entre Idade e Saldo')\n",
        "plt.show()\n",
        "\n",
        "# exibir um insight sobre a correlação\n",
        "print('Insight:')\n",
        "if correlation > 0.5:\n",
        "  print('Idade e Saldo têm uma correlação positiva moderada.')\n",
        "elif correlation > 0:\n",
        "  print('Idade e Saldo têm uma correlação positiva fraca.')\n",
        "elif correlation < -0.5:\n",
        "  print('Idade e Saldo têm uma correlação negativa moderada.')\n",
        "elif correlation < 0:\n",
        "  print('Idade e Saldo têm uma correlação negativa fraca.')\n",
        "else:\n",
        "  print('Idade e Saldo não têm correlação.')"
      ],
      "metadata": {
        "id": "RB-Ixa4Ht_Gb"
      },
      "execution_count": null,
      "outputs": []
    },
    {
      "cell_type": "markdown",
      "source": [
        "`A correlação de -0.03 entre \"Idade\" e \"Saldo\" sugere que há uma relação linear muito fraca e negativa entre essas duas variáveis. Na prática, isso significa que, em geral, clientes mais jovens tendem a ter um saldo ligeiramente maior do que clientes mais velhos, mas essa relação é muito fraca e pode ser influenciada por outros fatores.`"
      ],
      "metadata": {
        "id": "oZeSD_r9uoPU"
      }
    },
    {
      "cell_type": "code",
      "source": [
        "# calcular a correlação entre Score e Saída\n",
        "correlation = df['Score'].corr(df['Saiu'])\n",
        "\n",
        "# exibir a correlação\n",
        "print(f'Correlação entre Score e Saída: {correlation:.2f}')\n",
        "\n",
        "# criar um gráfico de dispersão para visualizar a correlação\n",
        "plt.figure(figsize=(3, 3))\n",
        "plt.scatter(df['Score'], df['Saiu'])\n",
        "plt.xlabel('Score')\n",
        "plt.ylabel('Saída')\n",
        "plt.title('Correlação entre Score e Saída')\n",
        "plt.show()\n",
        "\n",
        "# exibir um insight sobre a correlação\n",
        "print('Insight:')\n",
        "if correlation > 0.5:\n",
        "  print('Score e Saída têm uma correlação positiva moderada.')\n",
        "elif correlation > 0:\n",
        "  print('Score e Saída têm uma correlação positiva fraca.')\n",
        "elif correlation < -0.5:\n",
        "  print('Score e Saída têm uma correlação negativa moderada.')\n",
        "elif correlation < 0:\n",
        "  print('Score e Saída têm uma correlação negativa fraca.')\n",
        "else:\n",
        "  print('Score e Saída não têm correlação.')"
      ],
      "metadata": {
        "id": "K2BiK5g0vR4p"
      },
      "execution_count": null,
      "outputs": []
    },
    {
      "cell_type": "markdown",
      "source": [
        "`A correlação de -0.07 entre \"Score\" e \"Saída\" sugere que há uma relação linear muito fraca e negativa entre essas duas variáveis. Na prática, isso significa que, em geral, clientes com scores mais altos tendem a ter uma probabilidade ligeiramente menor de sair, mas essa relação é muito fraca e pode ser influenciada por outros fatores.`"
      ],
      "metadata": {
        "id": "7Rzu6AJRvqye"
      }
    },
    {
      "cell_type": "code",
      "source": [
        "# calcular a correlação entre Produtos e Saída\n",
        "correlation = df['Produtos'].corr(df['Saiu'])\n",
        "\n",
        "# exibir a correlação\n",
        "print(f'Correlação entre Produtos e Saída: {correlation:.2f}')\n",
        "\n",
        "# criar um gráfico de dispersão para visualizar a correlação\n",
        "plt.figure(figsize=(3, 3))\n",
        "plt.scatter(df['Produtos'], df['Saiu'])\n",
        "plt.xlabel('Produtos')\n",
        "plt.ylabel('Saída')\n",
        "plt.title('Correlação entre Produtos e Saída')\n",
        "plt.show()\n",
        "\n",
        "# exibir um insight sobre a correlação\n",
        "print('Insight:')\n",
        "if correlation > 0.5:\n",
        "  print('Produtos e Saída têm uma correlação positiva moderada.')\n",
        "elif correlation > 0:\n",
        "  print('Produtos e Saída têm uma correlação positiva fraca.')\n",
        "elif correlation < -0.5:\n",
        "  print('Produtos e Saída têm uma correlação negativa moderada.')\n",
        "elif correlation < 0:\n",
        "  print('Produtos e Saída têm uma correlação negativa fraca.')\n",
        "else:\n",
        "  print('Produtos e Saída não têm correlação.')"
      ],
      "metadata": {
        "id": "Q8Y7v2kZv_Em"
      },
      "execution_count": null,
      "outputs": []
    },
    {
      "cell_type": "markdown",
      "source": [
        "`A correlação é negativa fraca, sugerindo que clientes com mais produtos tendem a ter uma probabilidade ligeiramente menor de sair.`"
      ],
      "metadata": {
        "id": "wSFjTxO5xwh7"
      }
    },
    {
      "cell_type": "code",
      "source": [
        "# Insights\n",
        "# Clientes com maior score, maior saldo e mais produtos tendem a sair menos\n",
        "\n",
        "# Cria um novo DataFrame com os clientes que saíram (Saiu == 1)\n",
        "clientes_sairam = df[df['Saiu'] == 1]\n",
        "\n",
        "# Calcula a média do Score, Saldo e Produtos para os clientes que saíram\n",
        "media_score_sairam = clientes_sairam['Score'].mean()\n",
        "media_saldo_sairam = clientes_sairam['Saldo'].mean()\n",
        "media_produtos_sairam = clientes_sairam['Produtos'].mean()\n",
        "\n",
        "# Cria um novo DataFrame com os clientes que não saíram (Saiu == 0)\n",
        "clientes_nao_sairam = df[df['Saiu'] == 0]\n",
        "\n",
        "# Calcula a média do Score, Saldo e Produtos para os clientes que não saíram\n",
        "media_score_nao_sairam = clientes_nao_sairam['Score'].mean()\n",
        "media_saldo_nao_sairam = clientes_nao_sairam['Saldo'].mean()\n",
        "media_produtos_nao_sairam = clientes_nao_sairam['Produtos'].mean()"
      ],
      "metadata": {
        "id": "ZNMLexYPgN0h"
      },
      "execution_count": null,
      "outputs": []
    },
    {
      "cell_type": "code",
      "source": [
        "# Cria um gráfico de barras para comparar as médias\n",
        "\n",
        "import numpy as np\n",
        "\n",
        "labels = ['Score', 'Saldo', 'Produtos']\n",
        "media_sairam = [media_score_sairam, media_saldo_sairam, media_produtos_sairam]\n",
        "media_nao_sairam = [media_score_nao_sairam, media_saldo_nao_sairam, media_produtos_nao_sairam]\n",
        "\n",
        "plt.figure(figsize=(3, 3))\n",
        "\n",
        "x = np.arange(len(labels))  # the label locations\n",
        "width = 0.35  # the width of the bars\n",
        "\n",
        "fig, ax = plt.subplots()\n",
        "rects1 = ax.bar(x - width/2, media_sairam, width, label='Clientes que saíram')\n",
        "rects2 = ax.bar(x + width/2, media_nao_sairam, width, label='Clientes que não saíram')\n",
        "\n",
        "# Add some text for labels, title and custom x-axis tick labels, etc.\n",
        "ax.set_ylabel('Média')\n",
        "ax.set_title('Comparação de médias entre clientes que saíram e não saíram')\n",
        "ax.set_xticks(x)\n",
        "ax.set_xticklabels(labels)\n",
        "ax.legend()\n",
        "\n",
        "fig.tight_layout()\n",
        "\n",
        "plt.show()"
      ],
      "metadata": {
        "id": "zZr5RqBEg4aN"
      },
      "execution_count": null,
      "outputs": []
    },
    {
      "cell_type": "code",
      "source": [
        "print('# 1. Padrões de Churn:')\n",
        "# Calcula a média do Score para os clientes que saíram (churn)\n",
        "media_score_churn = df[df['Saiu'] == 1]['Score'].mean()\n",
        "\n",
        "# Calcula a média do Score para os clientes que não saíram (não churn)\n",
        "media_score_nao_churn = df[df['Saiu'] == 0]['Score'].mean()\n",
        "\n",
        "print(f'Média do Score para clientes que fizeram churn: {media_score_churn:.2f}')\n",
        "print(f'Média do Score para clientes que não fizeram churn: {media_score_nao_churn:.2f}')\n",
        "\n",
        "# Insight:\n",
        "if media_score_churn < media_score_nao_churn:\n",
        "  print('Clientes com scores mais baixos tendem a ter uma probabilidade ligeiramente maior de churn.')\n",
        "else:\n",
        "  print('Clientes com scores mais baixos NÃO tendem a ter uma probabilidade maior de churn.')\n",
        "\n",
        "print('===============================================================================')\n",
        "# Calcula a média do Saldo para os clientes que saíram (churn)\n",
        "media_saldo_churn = df[df['Saiu'] == 1]['Saldo'].mean()\n",
        "\n",
        "# Calcula a média do Saldo para os clientes que não saíram (não churn)\n",
        "media_saldo_nao_churn = df[df['Saiu'] == 0]['Saldo'].mean()\n",
        "\n",
        "print(f'Média do Saldo para clientes que fizeram churn: {media_saldo_churn:.2f}')\n",
        "print(f'Média do Saldo para clientes que não fizeram churn: {media_saldo_nao_churn:.2f}')\n",
        "\n",
        "# Insight:\n",
        "if media_saldo_churn > media_saldo_nao_churn:\n",
        "  print('Clientes com saldos mais altos tendem a ter uma probabilidade ligeiramente maior de churn.')\n",
        "else:\n",
        "  print('Clientes com saldos mais altos NÃO tendem a ter uma probabilidade maior de churn.')\n",
        "\n",
        "print('===============================================================================')\n",
        "\n",
        "# Calcula a média de Produtos para os clientes que saíram (churn)\n",
        "media_produtos_churn = df[df['Saiu'] == 1]['Produtos'].mean()\n",
        "\n",
        "# Calcula a média de Produtos para os clientes que não saíram (não churn)\n",
        "media_produtos_nao_churn = df[df['Saiu'] == 0]['Produtos'].mean()\n",
        "\n",
        "print(f'Média de Produtos para clientes que fizeram churn: {media_produtos_churn:.2f}')\n",
        "print(f'Média de Produtos para clientes que não fizeram churn: {media_produtos_nao_churn:.2f}')\n",
        "\n",
        "# Insight:\n",
        "if media_produtos_churn < media_produtos_nao_churn:\n",
        "  print('Clientes com menos produtos tendem a ter uma probabilidade ligeiramente maior de churn.')\n",
        "else:\n",
        "  print('Clientes com menos produtos NÃO tendem a ter uma probabilidade maior de churn.')\n"
      ],
      "metadata": {
        "id": "IuXQAHIrzgJl"
      },
      "execution_count": null,
      "outputs": []
    },
    {
      "cell_type": "markdown",
      "source": [
        "\n",
        "`2. Importância do Score, Saldo e Produtos: Essas três variáveis, apesar de apresentarem correlações fracas com o churn, podem ser indicadores importantes a serem considerados em estratégias de retenção.`\n",
        "\n",
        "\n"
      ],
      "metadata": {
        "id": "EiHvF7NL2wKm"
      }
    },
    {
      "cell_type": "code",
      "source": [
        "\n",
        "\n",
        "\n",
        "\n",
        "# 3. Necessidade de Análise Multivariada:\n",
        "# - As correlações fracas sugerem que o churn é influenciado por uma combinação de fatores,\n",
        "#   e não apenas por uma única variável. Uma análise multivariada, como regressão logística,\n",
        "#   poderia ajudar a identificar a importância relativa de cada variável e como elas interagem\n",
        "#   para influenciar o churn.\n",
        "\n",
        "# 4. Segmentação de Clientes:\n",
        "# - Os insights sobre os padrões de churn podem ser usados para segmentar clientes com base\n",
        "#   em seu risco de churn. Isso permite que a empresa direcione esforços de retenção de forma\n",
        "#   mais eficaz, concentrando-se nos clientes com maior probabilidade de sair.\n",
        "\n",
        "# 5. Oportunidades de Melhoria:\n",
        "# - A análise dos dados pode revelar oportunidades para melhorar a experiência do cliente e\n",
        "#   reduzir o churn. Por exemplo, a empresa pode considerar oferecer incentivos para clientes\n",
        "#   com scores baixos aumentarem seus scores, ou oferecer produtos adicionais para clientes\n",
        "#   com poucos produtos.\n",
        "\n",
        "# 6. Monitoramento Contínuo:\n",
        "# - É importante monitorar continuamente os padrões de churn e ajustar as estratégias de\n",
        "#   retenção conforme necessário. O churn é um processo dinâmico e as variáveis que o\n",
        "#   influenciam podem mudar ao longo do tempo.\n"
      ],
      "metadata": {
        "id": "v1slawugyRoF"
      },
      "execution_count": null,
      "outputs": []
    },
    {
      "cell_type": "code",
      "source": [
        " # Clientes com maior salário, mais idade e com cartão de crédito tendem a sair menos\n",
        "\n",
        "# Cria um novo DataFrame com os clientes que saíram (Saiu == 1)\n",
        "clientes_sairam = df[df['Saiu'] == 1]\n",
        "\n",
        "# Calcula a média do Salário, Idade e TemCartCredito para os clientes que saíram\n",
        "media_salario_sairam = clientes_sairam['Salario'].mean()\n",
        "media_idade_sairam = clientes_sairam['Idade'].mean()\n",
        "media_cartao_sairam = clientes_sairam['TemCartCredito'].mean()\n",
        "\n",
        "# Cria um novo DataFrame com os clientes que não saíram (Saiu == 0)\n",
        "clientes_nao_sairam = df[df['Saiu'] == 0]\n",
        "\n",
        "# Calcula a média do Salário, Idade e TemCartCredito para os clientes que não saíram\n",
        "media_salario_nao_sairam = clientes_nao_sairam['Salario'].mean()\n",
        "media_idade_nao_sairam = clientes_nao_sairam['Idade'].mean()\n",
        "media_cartao_nao_sairam = clientes_nao_sairam['TemCartCredito'].mean()"
      ],
      "metadata": {
        "id": "u3862DaHhuGP"
      },
      "execution_count": null,
      "outputs": []
    },
    {
      "cell_type": "code",
      "source": [
        "# Cria um gráfico de barras para comparar as médias\n",
        "labels = ['Salário', 'Idade', 'Cartão de Crédito']\n",
        "media_sairam = [media_salario_sairam, media_idade_sairam, media_cartao_sairam]\n",
        "media_nao_sairam = [media_salario_nao_sairam, media_idade_nao_sairam, media_cartao_nao_sairam]\n",
        "\n",
        "x = np.arange(len(labels))  # the label locations\n",
        "width = 0.35  # the width of the bars\n",
        "\n",
        "fig, ax = plt.subplots()\n",
        "rects1 = ax.bar(x - width/2, media_sairam, width, label='Clientes que saíram')\n",
        "rects2 = ax.bar(x + width/2, media_nao_sairam, width, label='Clientes que não saíram')\n",
        "\n",
        "# Add some text for labels, title and custom x-axis tick labels, etc.\n",
        "ax.set_ylabel('Média')\n",
        "ax.set_title('Comparação de médias entre clientes que saíram e não saíram')\n",
        "ax.set_xticks(x)\n",
        "ax.set_xticklabels(labels)\n",
        "ax.legend()\n",
        "\n",
        "fig.tight_layout()\n",
        "\n",
        "plt.show()"
      ],
      "metadata": {
        "id": "-atOnVFWiONP"
      },
      "execution_count": null,
      "outputs": []
    },
    {
      "cell_type": "code",
      "source": [
        "print('# 1. Padrões de Churn:')\n",
        "# Calcula a média do Salário para os clientes que saíram (churn)\n",
        "media_salario_churn = df[df['Saiu'] == 1]['Salario'].mean()\n",
        "\n",
        "# Calcula a média do Salário para os clientes que não saíram (não churn)\n",
        "media_salario_nao_churn = df[df['Saiu'] == 0]['Salario'].mean()\n",
        "\n",
        "print(f'Média do Salário para clientes que fizeram churn: {media_salario_churn:.2f}')\n",
        "print(f'Média do Salário para clientes que não fizeram churn: {media_salario_nao_churn:.2f}')\n",
        "\n",
        "# Insight:\n",
        "if media_salario_churn < media_salario_nao_churn:\n",
        "  print('Clientes com salários mais baixos tendem a ter uma probabilidade ligeiramente maior de churn.')\n",
        "else:\n",
        "  print('Clientes com salários mais baixos NÃO tendem a ter uma probabilidade maior de churn.')\n",
        "\n",
        "print('===============================================================================')\n",
        "# Calcula a média da Idade para os clientes que saíram (churn)\n",
        "media_idade_churn = df[df['Saiu'] == 1]['Idade'].mean()\n",
        "\n",
        "# Calcula a média da Idade para os clientes que não saíram (não churn)\n",
        "media_idade_nao_churn = df[df['Saiu'] == 0]['Idade'].mean()\n",
        "\n",
        "print(f'Média da Idade para clientes que fizeram churn: {media_idade_churn:.2f}')\n",
        "print(f'Média da Idade para clientes que não fizeram churn: {media_idade_nao_churn:.2f}')\n",
        "\n",
        "# Insight:\n",
        "if media_idade_churn < media_idade_nao_churn:\n",
        "  print('Clientes mais jovens tendem a ter uma probabilidade ligeiramente maior de churn.')\n",
        "else:\n",
        "  print('Clientes mais jovens NÃO tendem a ter uma probabilidade maior de churn.')\n",
        "\n",
        "print('===============================================================================')\n",
        "\n",
        "# Calcula a média de TemCartCredito para os clientes que saíram (churn)\n",
        "media_cartao_churn = df[df['Saiu'] == 1]['TemCartCredito'].mean()\n",
        "\n",
        "# Calcula a média de TemCartCredito para os clientes que não saíram (não churn)\n",
        "media_cartao_nao_churn = df[df['Saiu'] == 0]['TemCartCredito'].mean()\n",
        "\n",
        "print(f'Média de TemCartCredito para clientes que fizeram churn: {media_cartao_churn:.2f}')\n",
        "print(f'Média de TemCartCredito para clientes que não fizeram churn: {media_cartao_nao_churn:.2f}')\n",
        "\n",
        "# Insight:\n",
        "if media_cartao_churn < media_cartao_nao_churn:\n",
        "  print('Clientes sem cartão de crédito tendem a ter uma probabilidade ligeiramente maior de churn.')\n",
        "else:\n",
        "  print('Clientes sem cartão de crédito NÃO tendem a ter uma probabilidade maior de churn.')\n",
        "\n",
        "# Insights adicionais:\n",
        "print('\\n# 2. Insights Adicionais:')\n",
        "print('- Clientes com salários mais baixos, mais jovens e sem cartão de crédito podem representar um grupo de maior risco de churn.')\n",
        "print('- Estratégias de retenção podem ser direcionadas para esses clientes, oferecendo incentivos para aumentar seus salários (se aplicável), benefícios exclusivos para clientes mais jovens e facilidades para obtenção de cartão de crédito.')\n",
        "print('- É importante considerar outros fatores e realizar análises multivariadas para entender melhor as causas do churn e desenvolver estratégias de retenção mais eficazes.')\n"
      ],
      "metadata": {
        "id": "gf_mjn6d_ua1"
      },
      "execution_count": null,
      "outputs": []
    },
    {
      "cell_type": "code",
      "source": [
        "# prompt: mostrar graficamente e por meio de insight se os seguintes insights sao verdadeiro?\n",
        "# # Clientes do sexo feminino tendem a sair mais\n",
        "# # Clientes com menos produtos tendem a sair mais\n",
        "# # Clientes menos ativos tendem a sair mais\n",
        "\n",
        "# Clientes do sexo feminino tendem a sair mais?\n",
        "\n",
        "# Cria um novo DataFrame com os clientes do sexo feminino\n",
        "clientes_feminino = df[df['Genero'] == 1]\n",
        "\n",
        "# Calcula a taxa de saída para clientes do sexo feminino\n",
        "taxa_saida_feminino = clientes_feminino['Saiu'].mean()\n",
        "\n",
        "# Cria um novo DataFrame com os clientes do sexo masculino\n",
        "clientes_masculino = df[df['Genero'] == 0]\n",
        "\n",
        "# Calcula a taxa de saída para clientes do sexo masculino\n",
        "taxa_saida_masculino = clientes_masculino['Saiu'].mean()\n",
        "\n",
        "# Cria um gráfico de barras para comparar as taxas de saída\n",
        "labels = ['Feminino', 'Masculino']\n",
        "taxas_saida = [taxa_saida_feminino, taxa_saida_masculino]\n",
        "\n",
        "x = np.arange(len(labels))  # the label locations\n",
        "width = 0.35  # the width of the bars\n",
        "\n",
        "fig, ax = plt.subplots()\n",
        "rects1 = ax.bar(x, taxas_saida, width, label='Taxa de Saída')\n",
        "\n",
        "# Add some text for labels, title and custom x-axis tick labels, etc.\n",
        "ax.set_ylabel('Taxa de Saída')\n",
        "ax.set_title('Comparação da taxa de saída entre clientes do sexo feminino e masculino')\n",
        "ax.set_xticks(x)\n",
        "ax.set_xticklabels(labels)\n",
        "ax.legend()\n",
        "\n",
        "fig.tight_layout()\n",
        "\n",
        "plt.show()\n",
        "\n",
        "# Insight: A taxa de saída de clientes do sexo feminino é ligeiramente maior que a de clientes do sexo masculino.\n",
        "\n",
        "\n",
        "# Clientes com menos produtos tendem a sair mais?\n",
        "\n",
        "# Agrupa os dados pelo número de produtos e calcula a média da coluna 'Saiu'\n",
        "produtos_saida = df.groupby('Produtos')['Saiu'].mean()\n",
        "\n",
        "# Cria um gráfico de barras para visualizar a relação entre número de produtos e taxa de saída\n",
        "plt.figure(figsize=(8, 4))\n",
        "\n",
        "plt.bar(produtos_saida.index, produtos_saida.values)\n",
        "plt.xlabel('Número de Produtos')\n",
        "plt.ylabel('Taxa de Saída')\n",
        "plt.title('Relação entre número de produtos e taxa de saída')\n",
        "plt.show()\n",
        "\n",
        "# Insight: Clientes com menos produtos tendem a ter uma taxa de saída maior,\n",
        "#          com exceção de clientes com 5 ou 6 produtos, que apresentam uma taxa de saída menor.\n",
        "\n",
        "\n",
        "# Clientes menos ativos tendem a sair mais?\n",
        "\n",
        "# Cria um novo DataFrame com os clientes ativos\n",
        "clientes_ativos = df[df['Ativo'] == 1]\n",
        "\n",
        "# Calcula a taxa de saída para clientes ativos\n",
        "taxa_saida_ativos = clientes_ativos['Saiu'].mean()\n",
        "\n",
        "# Cria um novo DataFrame com os clientes inativos\n",
        "clientes_inativos = df[df['Ativo'] == 0]\n",
        "\n",
        "# Calcula a taxa de saída para clientes inativos\n",
        "taxa_saida_inativos = clientes_inativos['Saiu'].mean()\n",
        "\n",
        "# Cria um gráfico de barras para comparar as taxas de saída\n",
        "labels = ['Ativos', 'Inativos']\n",
        "taxas_saida = [taxa_saida_ativos, taxa_saida_inativos]\n",
        "\n",
        "x = np.arange(len(labels))  # the label locations\n",
        "width = 0.35  # the width of the bars\n",
        "\n",
        "fig, ax = plt.subplots()\n",
        "rects1 = ax.bar(x, taxas_saida, width, label='Taxa de Saída')\n",
        "\n",
        "# Add some text for labels, title and custom x-axis tick labels, etc.\n",
        "ax.set_ylabel('Taxa de Saída')\n",
        "ax.set_title('Comparação da taxa de saída entre clientes ativos e inativos')\n",
        "ax.set_xticks(x)\n",
        "ax.set_xticklabels(labels)\n",
        "ax.legend()\n",
        "\n",
        "fig.tight_layout()\n",
        "\n",
        "plt.show()\n",
        "\n",
        "# Insight: Clientes inativos tendem a ter uma taxa de saída significativamente maior que clientes ativos.\n"
      ],
      "metadata": {
        "id": "KKYCj78PjG2C"
      },
      "execution_count": null,
      "outputs": []
    },
    {
      "cell_type": "code",
      "source": [
        "# prompt: mostrar outros insights\n",
        "\n",
        "# Insights Adicionais\n",
        "\n",
        "# 1. Relação entre Estado e Saída\n",
        "\n",
        "# Agrupa os dados por estado e calcula a média da coluna 'Saiu'\n",
        "estado_saida = df.groupby('Estado')['Saiu'].mean()\n",
        "\n",
        "# Cria um gráfico de barras para visualizar a relação entre estado e taxa de saída\n",
        "plt.figure(figsize=(10, 4))\n",
        "\n",
        "plt.bar(estado_saida.index, estado_saida.values)\n",
        "plt.xlabel('Estado')\n",
        "plt.ylabel('Taxa de Saída')\n",
        "plt.title('Relação entre estado e taxa de saída')\n",
        "plt.xticks(rotation=45)\n",
        "plt.show()\n",
        "\n",
        "# Insight: A taxa de saída varia entre os estados, com alguns estados apresentando taxas\n",
        "#          significativamente maiores que outros.\n",
        "\n",
        "\n",
        "# 2. Relação entre Patrimônio e Saída\n",
        "\n",
        "plt.figure(figsize=(3, 3))\n",
        "\n",
        "plt.scatter(df['Patrimonio'], df['Saiu'])\n",
        "plt.xlabel('Patrimônio')\n",
        "plt.ylabel('Saiu')\n",
        "plt.title('Relação entre Patrimônio e Saída')\n",
        "\n",
        "# Insight: Aparentemente não há uma relação clara entre patrimônio e saída,\n",
        "#          uma vez que os pontos estão dispersos no gráfico.\n",
        "\n",
        "\n",
        "# 3. Distribuição de Idade dos Clientes que Saíram\n",
        "\n",
        "# Filtra os dados para incluir apenas clientes que saíram\n",
        "clientes_sairam = df[df['Saiu'] == 1]\n",
        "\n",
        "# Cria um histograma da idade dos clientes que saíram\n",
        "plt.figure(figsize=(6, 4))\n",
        "\n",
        "plt.hist(clientes_sairam['Idade'], bins=10)\n",
        "plt.xlabel('Idade')\n",
        "plt.ylabel('Frequência')\n",
        "plt.title('Distribuição de idade dos clientes que saíram')\n",
        "plt.show()\n",
        "\n",
        "# Insight: A distribuição de idade dos clientes que saíram parece ser bimodal,\n",
        "#          com picos em torno de 0.3 e 0.7 (após a padronização).\n",
        "\n",
        "\n",
        "# 4. Análise de Clusters\n",
        "\n",
        "from sklearn.cluster import KMeans\n",
        "\n",
        "# Seleciona as features para clustering\n",
        "features = ['Score', 'Saldo', 'Salario']\n",
        "X = df[features]\n",
        "\n",
        "# Encontra o número ideal de clusters usando o método Elbow\n",
        "inertia = []\n",
        "for i in range(1, 11):\n",
        "  kmeans = KMeans(n_clusters=i, random_state=42)\n",
        "  kmeans.fit(X)\n",
        "  inertia.append(kmeans.inertia_)\n",
        "\n",
        "plt.figure(figsize=(6, 4))\n",
        "\n",
        "plt.plot(range(1, 11), inertia, marker='o')\n",
        "plt.xlabel('Número de Clusters')\n",
        "plt.ylabel('Inertia')\n",
        "plt.title('Método Elbow para encontrar o número ideal de clusters')\n",
        "plt.show()\n",
        "\n",
        "# Aplica o K-Means com o número ideal de clusters\n",
        "kmeans = KMeans(n_clusters=3, random_state=42)\n",
        "df['Cluster'] = kmeans.fit_predict(X)\n",
        "\n",
        "# Visualiza os clusters\n",
        "plt.figure(figsize=(6, 4))\n",
        "\n",
        "plt.scatter(df['Saldo'], df['Salario'], c=df['Cluster'])\n",
        "plt.xlabel('Saldo')\n",
        "plt.ylabel('Salario')\n",
        "plt.title('Clusters de Clientes')\n",
        "plt.show()\n",
        "\n",
        "# Insight: Os clusters formados podem representar diferentes grupos de clientes com\n",
        "#          características distintas em relação a Score, Saldo e Salário.\n",
        "\n",
        "# 5. Impacto do Gênero na Relação entre Saldo e Salário\n",
        "\n",
        "plt.figure(figsize=(6, 4))\n",
        "\n",
        "sns.scatterplot(x='Saldo', y='Salario', hue='Genero', data=df)\n",
        "plt.xlabel('Saldo')\n",
        "plt.ylabel('Salario')\n",
        "plt.title('Relação entre Saldo e Salário por Gênero')\n",
        "plt.show()\n",
        "\n",
        "# Insight: Podemos analisar se o gênero tem algum impacto na relação entre saldo e salário.\n",
        "#          Neste caso, parece haver uma ligeira diferença na distribuição dos pontos\n",
        "#          entre os gêneros.\n"
      ],
      "metadata": {
        "id": "LwDoyTF6mXhi"
      },
      "execution_count": null,
      "outputs": []
    },
    {
      "cell_type": "code",
      "source": [
        "# Insights\n",
        "# Clientes com maior score, maior saldo e mais produtos tendem a sair menos\n",
        "# Clientes com maior salário, mais idade e com cartão de crédito tendem a sair menos\n",
        "# Clientes do sexo feminino tendem a sair mais\n",
        "# Clientes com menos produtos tendem a sair mais\n",
        "# Clientes menos ativos tendem a sair mais"
      ],
      "metadata": {
        "id": "bG0TPCBlcJ74"
      },
      "execution_count": null,
      "outputs": []
    }
  ]
}