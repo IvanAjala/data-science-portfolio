{
  "nbformat": 4,
  "nbformat_minor": 0,
  "metadata": {
    "colab": {
      "provenance": [],
      "include_colab_link": true
    },
    "kernelspec": {
      "name": "python3",
      "display_name": "Python 3"
    },
    "language_info": {
      "name": "python"
    }
  },
  "cells": [
    {
      "cell_type": "markdown",
      "metadata": {
        "id": "view-in-github",
        "colab_type": "text"
      },
      "source": [
        "<a href=\"https://colab.research.google.com/github/IvanAjala/data-science-portfolio/blob/main/An%C3%A1lise%20Explorat%C3%B3ria%20de%20Dados%20(EDA)/churn_analysis/notebooks/churn_analysis.ipynb\" target=\"_parent\"><img src=\"https://colab.research.google.com/assets/colab-badge.svg\" alt=\"Open In Colab\"/></a>"
      ]
    },
    {
      "cell_type": "code",
      "execution_count": 10,
      "metadata": {
        "id": "Aaako-Du7Dnf"
      },
      "outputs": [],
      "source": [
        "import pandas as pd"
      ]
    },
    {
      "cell_type": "code",
      "source": [
        "# URL do arquivo CSV no GitHub\n",
        "url = 'https://raw.githubusercontent.com/IvanAjala/data-science-portfolio/main/An%C3%A1lise%20Explorat%C3%B3ria%20de%20Dados%20(EDA)/churn_analysis/data/Churn.csv'\n",
        "\n",
        "# Importa a base de dados\n",
        "dataset = pd.read_csv(url, sep=';')\n",
        "\n",
        "# Visualiza\n",
        "dataset.head()\n"
      ],
      "metadata": {
        "id": "K577sgZ7_k_r",
        "outputId": "e0172572-99c3-4192-caac-782261a72279",
        "colab": {
          "base_uri": "https://localhost:8080/",
          "height": 206
        }
      },
      "execution_count": 11,
      "outputs": [
        {
          "output_type": "execute_result",
          "data": {
            "text/plain": [
              "   X0   X1  X2        X3  X4  X4.1        X6  X7  X8  X9         X10  X11\n",
              "0   1  619  RS  Feminino  42     2         0   1   1   1  10134888.0    1\n",
              "1   2  608  SC  Feminino  41     1   8380786   1   0   1  11254258.0    0\n",
              "2   3  502  RS  Feminino  42     8   1596608   3   1   0  11393157.0    1\n",
              "3   4  699  RS  Feminino  39     1         0   2   0   0   9382663.0    0\n",
              "4   5  850  SC  Feminino  43     2  12551082   1   1   1    790841.0    0"
            ],
            "text/html": [
              "\n",
              "  <div id=\"df-b8aaadbf-ce58-4f46-8cb0-442234e189fc\" class=\"colab-df-container\">\n",
              "    <div>\n",
              "<style scoped>\n",
              "    .dataframe tbody tr th:only-of-type {\n",
              "        vertical-align: middle;\n",
              "    }\n",
              "\n",
              "    .dataframe tbody tr th {\n",
              "        vertical-align: top;\n",
              "    }\n",
              "\n",
              "    .dataframe thead th {\n",
              "        text-align: right;\n",
              "    }\n",
              "</style>\n",
              "<table border=\"1\" class=\"dataframe\">\n",
              "  <thead>\n",
              "    <tr style=\"text-align: right;\">\n",
              "      <th></th>\n",
              "      <th>X0</th>\n",
              "      <th>X1</th>\n",
              "      <th>X2</th>\n",
              "      <th>X3</th>\n",
              "      <th>X4</th>\n",
              "      <th>X4.1</th>\n",
              "      <th>X6</th>\n",
              "      <th>X7</th>\n",
              "      <th>X8</th>\n",
              "      <th>X9</th>\n",
              "      <th>X10</th>\n",
              "      <th>X11</th>\n",
              "    </tr>\n",
              "  </thead>\n",
              "  <tbody>\n",
              "    <tr>\n",
              "      <th>0</th>\n",
              "      <td>1</td>\n",
              "      <td>619</td>\n",
              "      <td>RS</td>\n",
              "      <td>Feminino</td>\n",
              "      <td>42</td>\n",
              "      <td>2</td>\n",
              "      <td>0</td>\n",
              "      <td>1</td>\n",
              "      <td>1</td>\n",
              "      <td>1</td>\n",
              "      <td>10134888.0</td>\n",
              "      <td>1</td>\n",
              "    </tr>\n",
              "    <tr>\n",
              "      <th>1</th>\n",
              "      <td>2</td>\n",
              "      <td>608</td>\n",
              "      <td>SC</td>\n",
              "      <td>Feminino</td>\n",
              "      <td>41</td>\n",
              "      <td>1</td>\n",
              "      <td>8380786</td>\n",
              "      <td>1</td>\n",
              "      <td>0</td>\n",
              "      <td>1</td>\n",
              "      <td>11254258.0</td>\n",
              "      <td>0</td>\n",
              "    </tr>\n",
              "    <tr>\n",
              "      <th>2</th>\n",
              "      <td>3</td>\n",
              "      <td>502</td>\n",
              "      <td>RS</td>\n",
              "      <td>Feminino</td>\n",
              "      <td>42</td>\n",
              "      <td>8</td>\n",
              "      <td>1596608</td>\n",
              "      <td>3</td>\n",
              "      <td>1</td>\n",
              "      <td>0</td>\n",
              "      <td>11393157.0</td>\n",
              "      <td>1</td>\n",
              "    </tr>\n",
              "    <tr>\n",
              "      <th>3</th>\n",
              "      <td>4</td>\n",
              "      <td>699</td>\n",
              "      <td>RS</td>\n",
              "      <td>Feminino</td>\n",
              "      <td>39</td>\n",
              "      <td>1</td>\n",
              "      <td>0</td>\n",
              "      <td>2</td>\n",
              "      <td>0</td>\n",
              "      <td>0</td>\n",
              "      <td>9382663.0</td>\n",
              "      <td>0</td>\n",
              "    </tr>\n",
              "    <tr>\n",
              "      <th>4</th>\n",
              "      <td>5</td>\n",
              "      <td>850</td>\n",
              "      <td>SC</td>\n",
              "      <td>Feminino</td>\n",
              "      <td>43</td>\n",
              "      <td>2</td>\n",
              "      <td>12551082</td>\n",
              "      <td>1</td>\n",
              "      <td>1</td>\n",
              "      <td>1</td>\n",
              "      <td>790841.0</td>\n",
              "      <td>0</td>\n",
              "    </tr>\n",
              "  </tbody>\n",
              "</table>\n",
              "</div>\n",
              "    <div class=\"colab-df-buttons\">\n",
              "\n",
              "  <div class=\"colab-df-container\">\n",
              "    <button class=\"colab-df-convert\" onclick=\"convertToInteractive('df-b8aaadbf-ce58-4f46-8cb0-442234e189fc')\"\n",
              "            title=\"Convert this dataframe to an interactive table.\"\n",
              "            style=\"display:none;\">\n",
              "\n",
              "  <svg xmlns=\"http://www.w3.org/2000/svg\" height=\"24px\" viewBox=\"0 -960 960 960\">\n",
              "    <path d=\"M120-120v-720h720v720H120Zm60-500h600v-160H180v160Zm220 220h160v-160H400v160Zm0 220h160v-160H400v160ZM180-400h160v-160H180v160Zm440 0h160v-160H620v160ZM180-180h160v-160H180v160Zm440 0h160v-160H620v160Z\"/>\n",
              "  </svg>\n",
              "    </button>\n",
              "\n",
              "  <style>\n",
              "    .colab-df-container {\n",
              "      display:flex;\n",
              "      gap: 12px;\n",
              "    }\n",
              "\n",
              "    .colab-df-convert {\n",
              "      background-color: #E8F0FE;\n",
              "      border: none;\n",
              "      border-radius: 50%;\n",
              "      cursor: pointer;\n",
              "      display: none;\n",
              "      fill: #1967D2;\n",
              "      height: 32px;\n",
              "      padding: 0 0 0 0;\n",
              "      width: 32px;\n",
              "    }\n",
              "\n",
              "    .colab-df-convert:hover {\n",
              "      background-color: #E2EBFA;\n",
              "      box-shadow: 0px 1px 2px rgba(60, 64, 67, 0.3), 0px 1px 3px 1px rgba(60, 64, 67, 0.15);\n",
              "      fill: #174EA6;\n",
              "    }\n",
              "\n",
              "    .colab-df-buttons div {\n",
              "      margin-bottom: 4px;\n",
              "    }\n",
              "\n",
              "    [theme=dark] .colab-df-convert {\n",
              "      background-color: #3B4455;\n",
              "      fill: #D2E3FC;\n",
              "    }\n",
              "\n",
              "    [theme=dark] .colab-df-convert:hover {\n",
              "      background-color: #434B5C;\n",
              "      box-shadow: 0px 1px 3px 1px rgba(0, 0, 0, 0.15);\n",
              "      filter: drop-shadow(0px 1px 2px rgba(0, 0, 0, 0.3));\n",
              "      fill: #FFFFFF;\n",
              "    }\n",
              "  </style>\n",
              "\n",
              "    <script>\n",
              "      const buttonEl =\n",
              "        document.querySelector('#df-b8aaadbf-ce58-4f46-8cb0-442234e189fc button.colab-df-convert');\n",
              "      buttonEl.style.display =\n",
              "        google.colab.kernel.accessAllowed ? 'block' : 'none';\n",
              "\n",
              "      async function convertToInteractive(key) {\n",
              "        const element = document.querySelector('#df-b8aaadbf-ce58-4f46-8cb0-442234e189fc');\n",
              "        const dataTable =\n",
              "          await google.colab.kernel.invokeFunction('convertToInteractive',\n",
              "                                                    [key], {});\n",
              "        if (!dataTable) return;\n",
              "\n",
              "        const docLinkHtml = 'Like what you see? Visit the ' +\n",
              "          '<a target=\"_blank\" href=https://colab.research.google.com/notebooks/data_table.ipynb>data table notebook</a>'\n",
              "          + ' to learn more about interactive tables.';\n",
              "        element.innerHTML = '';\n",
              "        dataTable['output_type'] = 'display_data';\n",
              "        await google.colab.output.renderOutput(dataTable, element);\n",
              "        const docLink = document.createElement('div');\n",
              "        docLink.innerHTML = docLinkHtml;\n",
              "        element.appendChild(docLink);\n",
              "      }\n",
              "    </script>\n",
              "  </div>\n",
              "\n",
              "\n",
              "<div id=\"df-c5aeaca5-477c-4f5f-b103-68f05d1fac13\">\n",
              "  <button class=\"colab-df-quickchart\" onclick=\"quickchart('df-c5aeaca5-477c-4f5f-b103-68f05d1fac13')\"\n",
              "            title=\"Suggest charts\"\n",
              "            style=\"display:none;\">\n",
              "\n",
              "<svg xmlns=\"http://www.w3.org/2000/svg\" height=\"24px\"viewBox=\"0 0 24 24\"\n",
              "     width=\"24px\">\n",
              "    <g>\n",
              "        <path d=\"M19 3H5c-1.1 0-2 .9-2 2v14c0 1.1.9 2 2 2h14c1.1 0 2-.9 2-2V5c0-1.1-.9-2-2-2zM9 17H7v-7h2v7zm4 0h-2V7h2v10zm4 0h-2v-4h2v4z\"/>\n",
              "    </g>\n",
              "</svg>\n",
              "  </button>\n",
              "\n",
              "<style>\n",
              "  .colab-df-quickchart {\n",
              "      --bg-color: #E8F0FE;\n",
              "      --fill-color: #1967D2;\n",
              "      --hover-bg-color: #E2EBFA;\n",
              "      --hover-fill-color: #174EA6;\n",
              "      --disabled-fill-color: #AAA;\n",
              "      --disabled-bg-color: #DDD;\n",
              "  }\n",
              "\n",
              "  [theme=dark] .colab-df-quickchart {\n",
              "      --bg-color: #3B4455;\n",
              "      --fill-color: #D2E3FC;\n",
              "      --hover-bg-color: #434B5C;\n",
              "      --hover-fill-color: #FFFFFF;\n",
              "      --disabled-bg-color: #3B4455;\n",
              "      --disabled-fill-color: #666;\n",
              "  }\n",
              "\n",
              "  .colab-df-quickchart {\n",
              "    background-color: var(--bg-color);\n",
              "    border: none;\n",
              "    border-radius: 50%;\n",
              "    cursor: pointer;\n",
              "    display: none;\n",
              "    fill: var(--fill-color);\n",
              "    height: 32px;\n",
              "    padding: 0;\n",
              "    width: 32px;\n",
              "  }\n",
              "\n",
              "  .colab-df-quickchart:hover {\n",
              "    background-color: var(--hover-bg-color);\n",
              "    box-shadow: 0 1px 2px rgba(60, 64, 67, 0.3), 0 1px 3px 1px rgba(60, 64, 67, 0.15);\n",
              "    fill: var(--button-hover-fill-color);\n",
              "  }\n",
              "\n",
              "  .colab-df-quickchart-complete:disabled,\n",
              "  .colab-df-quickchart-complete:disabled:hover {\n",
              "    background-color: var(--disabled-bg-color);\n",
              "    fill: var(--disabled-fill-color);\n",
              "    box-shadow: none;\n",
              "  }\n",
              "\n",
              "  .colab-df-spinner {\n",
              "    border: 2px solid var(--fill-color);\n",
              "    border-color: transparent;\n",
              "    border-bottom-color: var(--fill-color);\n",
              "    animation:\n",
              "      spin 1s steps(1) infinite;\n",
              "  }\n",
              "\n",
              "  @keyframes spin {\n",
              "    0% {\n",
              "      border-color: transparent;\n",
              "      border-bottom-color: var(--fill-color);\n",
              "      border-left-color: var(--fill-color);\n",
              "    }\n",
              "    20% {\n",
              "      border-color: transparent;\n",
              "      border-left-color: var(--fill-color);\n",
              "      border-top-color: var(--fill-color);\n",
              "    }\n",
              "    30% {\n",
              "      border-color: transparent;\n",
              "      border-left-color: var(--fill-color);\n",
              "      border-top-color: var(--fill-color);\n",
              "      border-right-color: var(--fill-color);\n",
              "    }\n",
              "    40% {\n",
              "      border-color: transparent;\n",
              "      border-right-color: var(--fill-color);\n",
              "      border-top-color: var(--fill-color);\n",
              "    }\n",
              "    60% {\n",
              "      border-color: transparent;\n",
              "      border-right-color: var(--fill-color);\n",
              "    }\n",
              "    80% {\n",
              "      border-color: transparent;\n",
              "      border-right-color: var(--fill-color);\n",
              "      border-bottom-color: var(--fill-color);\n",
              "    }\n",
              "    90% {\n",
              "      border-color: transparent;\n",
              "      border-bottom-color: var(--fill-color);\n",
              "    }\n",
              "  }\n",
              "</style>\n",
              "\n",
              "  <script>\n",
              "    async function quickchart(key) {\n",
              "      const quickchartButtonEl =\n",
              "        document.querySelector('#' + key + ' button');\n",
              "      quickchartButtonEl.disabled = true;  // To prevent multiple clicks.\n",
              "      quickchartButtonEl.classList.add('colab-df-spinner');\n",
              "      try {\n",
              "        const charts = await google.colab.kernel.invokeFunction(\n",
              "            'suggestCharts', [key], {});\n",
              "      } catch (error) {\n",
              "        console.error('Error during call to suggestCharts:', error);\n",
              "      }\n",
              "      quickchartButtonEl.classList.remove('colab-df-spinner');\n",
              "      quickchartButtonEl.classList.add('colab-df-quickchart-complete');\n",
              "    }\n",
              "    (() => {\n",
              "      let quickchartButtonEl =\n",
              "        document.querySelector('#df-c5aeaca5-477c-4f5f-b103-68f05d1fac13 button');\n",
              "      quickchartButtonEl.style.display =\n",
              "        google.colab.kernel.accessAllowed ? 'block' : 'none';\n",
              "    })();\n",
              "  </script>\n",
              "</div>\n",
              "\n",
              "    </div>\n",
              "  </div>\n"
            ],
            "application/vnd.google.colaboratory.intrinsic+json": {
              "type": "dataframe",
              "variable_name": "dataset",
              "summary": "{\n  \"name\": \"dataset\",\n  \"rows\": 999,\n  \"fields\": [\n    {\n      \"column\": \"X0\",\n      \"properties\": {\n        \"dtype\": \"number\",\n        \"std\": 288,\n        \"min\": 1,\n        \"max\": 1000,\n        \"num_unique_values\": 998,\n        \"samples\": [\n          456,\n          795,\n          212\n        ],\n        \"semantic_type\": \"\",\n        \"description\": \"\"\n      }\n    },\n    {\n      \"column\": \"X1\",\n      \"properties\": {\n        \"dtype\": \"number\",\n        \"std\": 98,\n        \"min\": 376,\n        \"max\": 850,\n        \"num_unique_values\": 354,\n        \"samples\": [\n          840,\n          660,\n          417\n        ],\n        \"semantic_type\": \"\",\n        \"description\": \"\"\n      }\n    },\n    {\n      \"column\": \"X2\",\n      \"properties\": {\n        \"dtype\": \"category\",\n        \"num_unique_values\": 6,\n        \"samples\": [\n          \"RS\",\n          \"SC\",\n          \"TD\"\n        ],\n        \"semantic_type\": \"\",\n        \"description\": \"\"\n      }\n    },\n    {\n      \"column\": \"X3\",\n      \"properties\": {\n        \"dtype\": \"category\",\n        \"num_unique_values\": 5,\n        \"samples\": [\n          \"Masculino\",\n          \"Fem\",\n          \"M\"\n        ],\n        \"semantic_type\": \"\",\n        \"description\": \"\"\n      }\n    },\n    {\n      \"column\": \"X4\",\n      \"properties\": {\n        \"dtype\": \"number\",\n        \"std\": 11,\n        \"min\": -20,\n        \"max\": 140,\n        \"num_unique_values\": 64,\n        \"samples\": [\n          60,\n          69,\n          42\n        ],\n        \"semantic_type\": \"\",\n        \"description\": \"\"\n      }\n    },\n    {\n      \"column\": \"X4.1\",\n      \"properties\": {\n        \"dtype\": \"number\",\n        \"std\": 2,\n        \"min\": 0,\n        \"max\": 10,\n        \"num_unique_values\": 11,\n        \"samples\": [\n          6,\n          2,\n          9\n        ],\n        \"semantic_type\": \"\",\n        \"description\": \"\"\n      }\n    },\n    {\n      \"column\": \"X6\",\n      \"properties\": {\n        \"dtype\": \"number\",\n        \"std\": 6311840,\n        \"min\": 0,\n        \"max\": 21177431,\n        \"num_unique_values\": 649,\n        \"samples\": [\n          12453278,\n          18784199,\n          13380229\n        ],\n        \"semantic_type\": \"\",\n        \"description\": \"\"\n      }\n    },\n    {\n      \"column\": \"X7\",\n      \"properties\": {\n        \"dtype\": \"number\",\n        \"std\": 0,\n        \"min\": 1,\n        \"max\": 4,\n        \"num_unique_values\": 4,\n        \"samples\": [\n          3,\n          4,\n          1\n        ],\n        \"semantic_type\": \"\",\n        \"description\": \"\"\n      }\n    },\n    {\n      \"column\": \"X8\",\n      \"properties\": {\n        \"dtype\": \"number\",\n        \"std\": 0,\n        \"min\": 0,\n        \"max\": 1,\n        \"num_unique_values\": 2,\n        \"samples\": [\n          0,\n          1\n        ],\n        \"semantic_type\": \"\",\n        \"description\": \"\"\n      }\n    },\n    {\n      \"column\": \"X9\",\n      \"properties\": {\n        \"dtype\": \"number\",\n        \"std\": 0,\n        \"min\": 0,\n        \"max\": 1,\n        \"num_unique_values\": 2,\n        \"samples\": [\n          0,\n          1\n        ],\n        \"semantic_type\": \"\",\n        \"description\": \"\"\n      }\n    },\n    {\n      \"column\": \"X10\",\n      \"properties\": {\n        \"dtype\": \"number\",\n        \"std\": 530579988.3011111,\n        \"min\": 9677.0,\n        \"max\": 11934688000.0,\n        \"num_unique_values\": 987,\n        \"samples\": [\n          12054083.0,\n          19331833.0\n        ],\n        \"semantic_type\": \"\",\n        \"description\": \"\"\n      }\n    },\n    {\n      \"column\": \"X11\",\n      \"properties\": {\n        \"dtype\": \"number\",\n        \"std\": 0,\n        \"min\": 0,\n        \"max\": 1,\n        \"num_unique_values\": 2,\n        \"samples\": [\n          0,\n          1\n        ],\n        \"semantic_type\": \"\",\n        \"description\": \"\"\n      }\n    }\n  ]\n}"
            }
          },
          "metadata": {},
          "execution_count": 11
        }
      ]
    },
    {
      "cell_type": "code",
      "source": [
        "dataset.shape"
      ],
      "metadata": {
        "id": "WpxgaBnrACjo",
        "outputId": "d85c654b-87f4-434b-fd58-7cecda459f52",
        "colab": {
          "base_uri": "https://localhost:8080/"
        }
      },
      "execution_count": 12,
      "outputs": [
        {
          "output_type": "execute_result",
          "data": {
            "text/plain": [
              "(999, 12)"
            ]
          },
          "metadata": {},
          "execution_count": 12
        }
      ]
    },
    {
      "cell_type": "code",
      "source": [
        "# Renomeia as colunas\n",
        "dataset.columns = [\"Id\",\"Score\",\"Estado\",\"Genero\",\"Idade\",\"Patrimonio\",\"Saldo\",\"Produtos\",\"TemCartCredito\",\n",
        "                  \"Ativo\",\"Salario\",\"Saiu\"]"
      ],
      "metadata": {
        "id": "UPHblqrZAFsz"
      },
      "execution_count": 13,
      "outputs": []
    },
    {
      "cell_type": "code",
      "source": [
        "dataset.head(2)"
      ],
      "metadata": {
        "id": "QItO7igwAYSQ",
        "outputId": "7e625c01-024f-4016-87c5-45afba1c43ce",
        "colab": {
          "base_uri": "https://localhost:8080/",
          "height": 112
        }
      },
      "execution_count": 14,
      "outputs": [
        {
          "output_type": "execute_result",
          "data": {
            "text/plain": [
              "   Id  Score Estado    Genero  Idade  Patrimonio    Saldo  Produtos  \\\n",
              "0   1    619     RS  Feminino     42           2        0         1   \n",
              "1   2    608     SC  Feminino     41           1  8380786         1   \n",
              "\n",
              "   TemCartCredito  Ativo     Salario  Saiu  \n",
              "0               1      1  10134888.0     1  \n",
              "1               0      1  11254258.0     0  "
            ],
            "text/html": [
              "\n",
              "  <div id=\"df-852caab7-68c0-4561-bb86-ae888dcfbac2\" class=\"colab-df-container\">\n",
              "    <div>\n",
              "<style scoped>\n",
              "    .dataframe tbody tr th:only-of-type {\n",
              "        vertical-align: middle;\n",
              "    }\n",
              "\n",
              "    .dataframe tbody tr th {\n",
              "        vertical-align: top;\n",
              "    }\n",
              "\n",
              "    .dataframe thead th {\n",
              "        text-align: right;\n",
              "    }\n",
              "</style>\n",
              "<table border=\"1\" class=\"dataframe\">\n",
              "  <thead>\n",
              "    <tr style=\"text-align: right;\">\n",
              "      <th></th>\n",
              "      <th>Id</th>\n",
              "      <th>Score</th>\n",
              "      <th>Estado</th>\n",
              "      <th>Genero</th>\n",
              "      <th>Idade</th>\n",
              "      <th>Patrimonio</th>\n",
              "      <th>Saldo</th>\n",
              "      <th>Produtos</th>\n",
              "      <th>TemCartCredito</th>\n",
              "      <th>Ativo</th>\n",
              "      <th>Salario</th>\n",
              "      <th>Saiu</th>\n",
              "    </tr>\n",
              "  </thead>\n",
              "  <tbody>\n",
              "    <tr>\n",
              "      <th>0</th>\n",
              "      <td>1</td>\n",
              "      <td>619</td>\n",
              "      <td>RS</td>\n",
              "      <td>Feminino</td>\n",
              "      <td>42</td>\n",
              "      <td>2</td>\n",
              "      <td>0</td>\n",
              "      <td>1</td>\n",
              "      <td>1</td>\n",
              "      <td>1</td>\n",
              "      <td>10134888.0</td>\n",
              "      <td>1</td>\n",
              "    </tr>\n",
              "    <tr>\n",
              "      <th>1</th>\n",
              "      <td>2</td>\n",
              "      <td>608</td>\n",
              "      <td>SC</td>\n",
              "      <td>Feminino</td>\n",
              "      <td>41</td>\n",
              "      <td>1</td>\n",
              "      <td>8380786</td>\n",
              "      <td>1</td>\n",
              "      <td>0</td>\n",
              "      <td>1</td>\n",
              "      <td>11254258.0</td>\n",
              "      <td>0</td>\n",
              "    </tr>\n",
              "  </tbody>\n",
              "</table>\n",
              "</div>\n",
              "    <div class=\"colab-df-buttons\">\n",
              "\n",
              "  <div class=\"colab-df-container\">\n",
              "    <button class=\"colab-df-convert\" onclick=\"convertToInteractive('df-852caab7-68c0-4561-bb86-ae888dcfbac2')\"\n",
              "            title=\"Convert this dataframe to an interactive table.\"\n",
              "            style=\"display:none;\">\n",
              "\n",
              "  <svg xmlns=\"http://www.w3.org/2000/svg\" height=\"24px\" viewBox=\"0 -960 960 960\">\n",
              "    <path d=\"M120-120v-720h720v720H120Zm60-500h600v-160H180v160Zm220 220h160v-160H400v160Zm0 220h160v-160H400v160ZM180-400h160v-160H180v160Zm440 0h160v-160H620v160ZM180-180h160v-160H180v160Zm440 0h160v-160H620v160Z\"/>\n",
              "  </svg>\n",
              "    </button>\n",
              "\n",
              "  <style>\n",
              "    .colab-df-container {\n",
              "      display:flex;\n",
              "      gap: 12px;\n",
              "    }\n",
              "\n",
              "    .colab-df-convert {\n",
              "      background-color: #E8F0FE;\n",
              "      border: none;\n",
              "      border-radius: 50%;\n",
              "      cursor: pointer;\n",
              "      display: none;\n",
              "      fill: #1967D2;\n",
              "      height: 32px;\n",
              "      padding: 0 0 0 0;\n",
              "      width: 32px;\n",
              "    }\n",
              "\n",
              "    .colab-df-convert:hover {\n",
              "      background-color: #E2EBFA;\n",
              "      box-shadow: 0px 1px 2px rgba(60, 64, 67, 0.3), 0px 1px 3px 1px rgba(60, 64, 67, 0.15);\n",
              "      fill: #174EA6;\n",
              "    }\n",
              "\n",
              "    .colab-df-buttons div {\n",
              "      margin-bottom: 4px;\n",
              "    }\n",
              "\n",
              "    [theme=dark] .colab-df-convert {\n",
              "      background-color: #3B4455;\n",
              "      fill: #D2E3FC;\n",
              "    }\n",
              "\n",
              "    [theme=dark] .colab-df-convert:hover {\n",
              "      background-color: #434B5C;\n",
              "      box-shadow: 0px 1px 3px 1px rgba(0, 0, 0, 0.15);\n",
              "      filter: drop-shadow(0px 1px 2px rgba(0, 0, 0, 0.3));\n",
              "      fill: #FFFFFF;\n",
              "    }\n",
              "  </style>\n",
              "\n",
              "    <script>\n",
              "      const buttonEl =\n",
              "        document.querySelector('#df-852caab7-68c0-4561-bb86-ae888dcfbac2 button.colab-df-convert');\n",
              "      buttonEl.style.display =\n",
              "        google.colab.kernel.accessAllowed ? 'block' : 'none';\n",
              "\n",
              "      async function convertToInteractive(key) {\n",
              "        const element = document.querySelector('#df-852caab7-68c0-4561-bb86-ae888dcfbac2');\n",
              "        const dataTable =\n",
              "          await google.colab.kernel.invokeFunction('convertToInteractive',\n",
              "                                                    [key], {});\n",
              "        if (!dataTable) return;\n",
              "\n",
              "        const docLinkHtml = 'Like what you see? Visit the ' +\n",
              "          '<a target=\"_blank\" href=https://colab.research.google.com/notebooks/data_table.ipynb>data table notebook</a>'\n",
              "          + ' to learn more about interactive tables.';\n",
              "        element.innerHTML = '';\n",
              "        dataTable['output_type'] = 'display_data';\n",
              "        await google.colab.output.renderOutput(dataTable, element);\n",
              "        const docLink = document.createElement('div');\n",
              "        docLink.innerHTML = docLinkHtml;\n",
              "        element.appendChild(docLink);\n",
              "      }\n",
              "    </script>\n",
              "  </div>\n",
              "\n",
              "\n",
              "<div id=\"df-63c494dc-07db-4549-a50c-821802f26bba\">\n",
              "  <button class=\"colab-df-quickchart\" onclick=\"quickchart('df-63c494dc-07db-4549-a50c-821802f26bba')\"\n",
              "            title=\"Suggest charts\"\n",
              "            style=\"display:none;\">\n",
              "\n",
              "<svg xmlns=\"http://www.w3.org/2000/svg\" height=\"24px\"viewBox=\"0 0 24 24\"\n",
              "     width=\"24px\">\n",
              "    <g>\n",
              "        <path d=\"M19 3H5c-1.1 0-2 .9-2 2v14c0 1.1.9 2 2 2h14c1.1 0 2-.9 2-2V5c0-1.1-.9-2-2-2zM9 17H7v-7h2v7zm4 0h-2V7h2v10zm4 0h-2v-4h2v4z\"/>\n",
              "    </g>\n",
              "</svg>\n",
              "  </button>\n",
              "\n",
              "<style>\n",
              "  .colab-df-quickchart {\n",
              "      --bg-color: #E8F0FE;\n",
              "      --fill-color: #1967D2;\n",
              "      --hover-bg-color: #E2EBFA;\n",
              "      --hover-fill-color: #174EA6;\n",
              "      --disabled-fill-color: #AAA;\n",
              "      --disabled-bg-color: #DDD;\n",
              "  }\n",
              "\n",
              "  [theme=dark] .colab-df-quickchart {\n",
              "      --bg-color: #3B4455;\n",
              "      --fill-color: #D2E3FC;\n",
              "      --hover-bg-color: #434B5C;\n",
              "      --hover-fill-color: #FFFFFF;\n",
              "      --disabled-bg-color: #3B4455;\n",
              "      --disabled-fill-color: #666;\n",
              "  }\n",
              "\n",
              "  .colab-df-quickchart {\n",
              "    background-color: var(--bg-color);\n",
              "    border: none;\n",
              "    border-radius: 50%;\n",
              "    cursor: pointer;\n",
              "    display: none;\n",
              "    fill: var(--fill-color);\n",
              "    height: 32px;\n",
              "    padding: 0;\n",
              "    width: 32px;\n",
              "  }\n",
              "\n",
              "  .colab-df-quickchart:hover {\n",
              "    background-color: var(--hover-bg-color);\n",
              "    box-shadow: 0 1px 2px rgba(60, 64, 67, 0.3), 0 1px 3px 1px rgba(60, 64, 67, 0.15);\n",
              "    fill: var(--button-hover-fill-color);\n",
              "  }\n",
              "\n",
              "  .colab-df-quickchart-complete:disabled,\n",
              "  .colab-df-quickchart-complete:disabled:hover {\n",
              "    background-color: var(--disabled-bg-color);\n",
              "    fill: var(--disabled-fill-color);\n",
              "    box-shadow: none;\n",
              "  }\n",
              "\n",
              "  .colab-df-spinner {\n",
              "    border: 2px solid var(--fill-color);\n",
              "    border-color: transparent;\n",
              "    border-bottom-color: var(--fill-color);\n",
              "    animation:\n",
              "      spin 1s steps(1) infinite;\n",
              "  }\n",
              "\n",
              "  @keyframes spin {\n",
              "    0% {\n",
              "      border-color: transparent;\n",
              "      border-bottom-color: var(--fill-color);\n",
              "      border-left-color: var(--fill-color);\n",
              "    }\n",
              "    20% {\n",
              "      border-color: transparent;\n",
              "      border-left-color: var(--fill-color);\n",
              "      border-top-color: var(--fill-color);\n",
              "    }\n",
              "    30% {\n",
              "      border-color: transparent;\n",
              "      border-left-color: var(--fill-color);\n",
              "      border-top-color: var(--fill-color);\n",
              "      border-right-color: var(--fill-color);\n",
              "    }\n",
              "    40% {\n",
              "      border-color: transparent;\n",
              "      border-right-color: var(--fill-color);\n",
              "      border-top-color: var(--fill-color);\n",
              "    }\n",
              "    60% {\n",
              "      border-color: transparent;\n",
              "      border-right-color: var(--fill-color);\n",
              "    }\n",
              "    80% {\n",
              "      border-color: transparent;\n",
              "      border-right-color: var(--fill-color);\n",
              "      border-bottom-color: var(--fill-color);\n",
              "    }\n",
              "    90% {\n",
              "      border-color: transparent;\n",
              "      border-bottom-color: var(--fill-color);\n",
              "    }\n",
              "  }\n",
              "</style>\n",
              "\n",
              "  <script>\n",
              "    async function quickchart(key) {\n",
              "      const quickchartButtonEl =\n",
              "        document.querySelector('#' + key + ' button');\n",
              "      quickchartButtonEl.disabled = true;  // To prevent multiple clicks.\n",
              "      quickchartButtonEl.classList.add('colab-df-spinner');\n",
              "      try {\n",
              "        const charts = await google.colab.kernel.invokeFunction(\n",
              "            'suggestCharts', [key], {});\n",
              "      } catch (error) {\n",
              "        console.error('Error during call to suggestCharts:', error);\n",
              "      }\n",
              "      quickchartButtonEl.classList.remove('colab-df-spinner');\n",
              "      quickchartButtonEl.classList.add('colab-df-quickchart-complete');\n",
              "    }\n",
              "    (() => {\n",
              "      let quickchartButtonEl =\n",
              "        document.querySelector('#df-63c494dc-07db-4549-a50c-821802f26bba button');\n",
              "      quickchartButtonEl.style.display =\n",
              "        google.colab.kernel.accessAllowed ? 'block' : 'none';\n",
              "    })();\n",
              "  </script>\n",
              "</div>\n",
              "\n",
              "    </div>\n",
              "  </div>\n"
            ],
            "application/vnd.google.colaboratory.intrinsic+json": {
              "type": "dataframe",
              "variable_name": "dataset",
              "summary": "{\n  \"name\": \"dataset\",\n  \"rows\": 999,\n  \"fields\": [\n    {\n      \"column\": \"Id\",\n      \"properties\": {\n        \"dtype\": \"number\",\n        \"std\": 288,\n        \"min\": 1,\n        \"max\": 1000,\n        \"num_unique_values\": 998,\n        \"samples\": [\n          456,\n          795,\n          212\n        ],\n        \"semantic_type\": \"\",\n        \"description\": \"\"\n      }\n    },\n    {\n      \"column\": \"Score\",\n      \"properties\": {\n        \"dtype\": \"number\",\n        \"std\": 98,\n        \"min\": 376,\n        \"max\": 850,\n        \"num_unique_values\": 354,\n        \"samples\": [\n          840,\n          660,\n          417\n        ],\n        \"semantic_type\": \"\",\n        \"description\": \"\"\n      }\n    },\n    {\n      \"column\": \"Estado\",\n      \"properties\": {\n        \"dtype\": \"category\",\n        \"num_unique_values\": 6,\n        \"samples\": [\n          \"RS\",\n          \"SC\",\n          \"TD\"\n        ],\n        \"semantic_type\": \"\",\n        \"description\": \"\"\n      }\n    },\n    {\n      \"column\": \"Genero\",\n      \"properties\": {\n        \"dtype\": \"category\",\n        \"num_unique_values\": 5,\n        \"samples\": [\n          \"Masculino\",\n          \"Fem\",\n          \"M\"\n        ],\n        \"semantic_type\": \"\",\n        \"description\": \"\"\n      }\n    },\n    {\n      \"column\": \"Idade\",\n      \"properties\": {\n        \"dtype\": \"number\",\n        \"std\": 11,\n        \"min\": -20,\n        \"max\": 140,\n        \"num_unique_values\": 64,\n        \"samples\": [\n          60,\n          69,\n          42\n        ],\n        \"semantic_type\": \"\",\n        \"description\": \"\"\n      }\n    },\n    {\n      \"column\": \"Patrimonio\",\n      \"properties\": {\n        \"dtype\": \"number\",\n        \"std\": 2,\n        \"min\": 0,\n        \"max\": 10,\n        \"num_unique_values\": 11,\n        \"samples\": [\n          6,\n          2,\n          9\n        ],\n        \"semantic_type\": \"\",\n        \"description\": \"\"\n      }\n    },\n    {\n      \"column\": \"Saldo\",\n      \"properties\": {\n        \"dtype\": \"number\",\n        \"std\": 6311840,\n        \"min\": 0,\n        \"max\": 21177431,\n        \"num_unique_values\": 649,\n        \"samples\": [\n          12453278,\n          18784199,\n          13380229\n        ],\n        \"semantic_type\": \"\",\n        \"description\": \"\"\n      }\n    },\n    {\n      \"column\": \"Produtos\",\n      \"properties\": {\n        \"dtype\": \"number\",\n        \"std\": 0,\n        \"min\": 1,\n        \"max\": 4,\n        \"num_unique_values\": 4,\n        \"samples\": [\n          3,\n          4,\n          1\n        ],\n        \"semantic_type\": \"\",\n        \"description\": \"\"\n      }\n    },\n    {\n      \"column\": \"TemCartCredito\",\n      \"properties\": {\n        \"dtype\": \"number\",\n        \"std\": 0,\n        \"min\": 0,\n        \"max\": 1,\n        \"num_unique_values\": 2,\n        \"samples\": [\n          0,\n          1\n        ],\n        \"semantic_type\": \"\",\n        \"description\": \"\"\n      }\n    },\n    {\n      \"column\": \"Ativo\",\n      \"properties\": {\n        \"dtype\": \"number\",\n        \"std\": 0,\n        \"min\": 0,\n        \"max\": 1,\n        \"num_unique_values\": 2,\n        \"samples\": [\n          0,\n          1\n        ],\n        \"semantic_type\": \"\",\n        \"description\": \"\"\n      }\n    },\n    {\n      \"column\": \"Salario\",\n      \"properties\": {\n        \"dtype\": \"number\",\n        \"std\": 530579988.3011111,\n        \"min\": 9677.0,\n        \"max\": 11934688000.0,\n        \"num_unique_values\": 987,\n        \"samples\": [\n          12054083.0,\n          19331833.0\n        ],\n        \"semantic_type\": \"\",\n        \"description\": \"\"\n      }\n    },\n    {\n      \"column\": \"Saiu\",\n      \"properties\": {\n        \"dtype\": \"number\",\n        \"std\": 0,\n        \"min\": 0,\n        \"max\": 1,\n        \"num_unique_values\": 2,\n        \"samples\": [\n          0,\n          1\n        ],\n        \"semantic_type\": \"\",\n        \"description\": \"\"\n      }\n    }\n  ]\n}"
            }
          },
          "metadata": {},
          "execution_count": 14
        }
      ]
    },
    {
      "cell_type": "code",
      "source": [
        "# verificando o balanceamento da variavel dependente (target)\n",
        "dataset['Saiu'].value_counts()"
      ],
      "metadata": {
        "id": "pn6ReaqwM9lg",
        "outputId": "31852175-3aac-4030-8134-775778c60efa",
        "colab": {
          "base_uri": "https://localhost:8080/",
          "height": 178
        }
      },
      "execution_count": 39,
      "outputs": [
        {
          "output_type": "execute_result",
          "data": {
            "text/plain": [
              "Saiu\n",
              "0    796\n",
              "1    203\n",
              "Name: count, dtype: int64"
            ],
            "text/html": [
              "<div>\n",
              "<style scoped>\n",
              "    .dataframe tbody tr th:only-of-type {\n",
              "        vertical-align: middle;\n",
              "    }\n",
              "\n",
              "    .dataframe tbody tr th {\n",
              "        vertical-align: top;\n",
              "    }\n",
              "\n",
              "    .dataframe thead th {\n",
              "        text-align: right;\n",
              "    }\n",
              "</style>\n",
              "<table border=\"1\" class=\"dataframe\">\n",
              "  <thead>\n",
              "    <tr style=\"text-align: right;\">\n",
              "      <th></th>\n",
              "      <th>count</th>\n",
              "    </tr>\n",
              "    <tr>\n",
              "      <th>Saiu</th>\n",
              "      <th></th>\n",
              "    </tr>\n",
              "  </thead>\n",
              "  <tbody>\n",
              "    <tr>\n",
              "      <th>0</th>\n",
              "      <td>796</td>\n",
              "    </tr>\n",
              "    <tr>\n",
              "      <th>1</th>\n",
              "      <td>203</td>\n",
              "    </tr>\n",
              "  </tbody>\n",
              "</table>\n",
              "</div><br><label><b>dtype:</b> int64</label>"
            ]
          },
          "metadata": {},
          "execution_count": 39
        }
      ]
    },
    {
      "cell_type": "code",
      "source": [
        "# visualizando em porcentagem\n",
        "\n",
        "dataset['Saiu'].value_counts(normalize=True) * 100\n"
      ],
      "metadata": {
        "id": "HVJoYDjRNWwh",
        "outputId": "e91844ff-460a-4b88-8551-6aba14a79f77",
        "colab": {
          "base_uri": "https://localhost:8080/",
          "height": 178
        }
      },
      "execution_count": 40,
      "outputs": [
        {
          "output_type": "execute_result",
          "data": {
            "text/plain": [
              "Saiu\n",
              "0    79.67968\n",
              "1    20.32032\n",
              "Name: proportion, dtype: float64"
            ],
            "text/html": [
              "<div>\n",
              "<style scoped>\n",
              "    .dataframe tbody tr th:only-of-type {\n",
              "        vertical-align: middle;\n",
              "    }\n",
              "\n",
              "    .dataframe tbody tr th {\n",
              "        vertical-align: top;\n",
              "    }\n",
              "\n",
              "    .dataframe thead th {\n",
              "        text-align: right;\n",
              "    }\n",
              "</style>\n",
              "<table border=\"1\" class=\"dataframe\">\n",
              "  <thead>\n",
              "    <tr style=\"text-align: right;\">\n",
              "      <th></th>\n",
              "      <th>proportion</th>\n",
              "    </tr>\n",
              "    <tr>\n",
              "      <th>Saiu</th>\n",
              "      <th></th>\n",
              "    </tr>\n",
              "  </thead>\n",
              "  <tbody>\n",
              "    <tr>\n",
              "      <th>0</th>\n",
              "      <td>79.67968</td>\n",
              "    </tr>\n",
              "    <tr>\n",
              "      <th>1</th>\n",
              "      <td>20.32032</td>\n",
              "    </tr>\n",
              "  </tbody>\n",
              "</table>\n",
              "</div><br><label><b>dtype:</b> float64</label>"
            ]
          },
          "metadata": {},
          "execution_count": 40
        }
      ]
    },
    {
      "cell_type": "code",
      "source": [
        "# Verificando os tipos de variaveis\n",
        "\n",
        "dataset.dtypes\n"
      ],
      "metadata": {
        "id": "bu4kw-i_Kk4X",
        "outputId": "7fce8004-40a7-43d9-9ad8-bdf54e745c2d",
        "colab": {
          "base_uri": "https://localhost:8080/",
          "height": 460
        }
      },
      "execution_count": 21,
      "outputs": [
        {
          "output_type": "execute_result",
          "data": {
            "text/plain": [
              "Id                  int64\n",
              "Score               int64\n",
              "Estado             object\n",
              "Genero             object\n",
              "Idade               int64\n",
              "Patrimonio          int64\n",
              "Saldo               int64\n",
              "Produtos            int64\n",
              "TemCartCredito      int64\n",
              "Ativo               int64\n",
              "Salario           float64\n",
              "Saiu                int64\n",
              "dtype: object"
            ],
            "text/html": [
              "<div>\n",
              "<style scoped>\n",
              "    .dataframe tbody tr th:only-of-type {\n",
              "        vertical-align: middle;\n",
              "    }\n",
              "\n",
              "    .dataframe tbody tr th {\n",
              "        vertical-align: top;\n",
              "    }\n",
              "\n",
              "    .dataframe thead th {\n",
              "        text-align: right;\n",
              "    }\n",
              "</style>\n",
              "<table border=\"1\" class=\"dataframe\">\n",
              "  <thead>\n",
              "    <tr style=\"text-align: right;\">\n",
              "      <th></th>\n",
              "      <th>0</th>\n",
              "    </tr>\n",
              "  </thead>\n",
              "  <tbody>\n",
              "    <tr>\n",
              "      <th>Id</th>\n",
              "      <td>int64</td>\n",
              "    </tr>\n",
              "    <tr>\n",
              "      <th>Score</th>\n",
              "      <td>int64</td>\n",
              "    </tr>\n",
              "    <tr>\n",
              "      <th>Estado</th>\n",
              "      <td>object</td>\n",
              "    </tr>\n",
              "    <tr>\n",
              "      <th>Genero</th>\n",
              "      <td>object</td>\n",
              "    </tr>\n",
              "    <tr>\n",
              "      <th>Idade</th>\n",
              "      <td>int64</td>\n",
              "    </tr>\n",
              "    <tr>\n",
              "      <th>Patrimonio</th>\n",
              "      <td>int64</td>\n",
              "    </tr>\n",
              "    <tr>\n",
              "      <th>Saldo</th>\n",
              "      <td>int64</td>\n",
              "    </tr>\n",
              "    <tr>\n",
              "      <th>Produtos</th>\n",
              "      <td>int64</td>\n",
              "    </tr>\n",
              "    <tr>\n",
              "      <th>TemCartCredito</th>\n",
              "      <td>int64</td>\n",
              "    </tr>\n",
              "    <tr>\n",
              "      <th>Ativo</th>\n",
              "      <td>int64</td>\n",
              "    </tr>\n",
              "    <tr>\n",
              "      <th>Salario</th>\n",
              "      <td>float64</td>\n",
              "    </tr>\n",
              "    <tr>\n",
              "      <th>Saiu</th>\n",
              "      <td>int64</td>\n",
              "    </tr>\n",
              "  </tbody>\n",
              "</table>\n",
              "</div><br><label><b>dtype:</b> object</label>"
            ]
          },
          "metadata": {},
          "execution_count": 21
        }
      ]
    },
    {
      "cell_type": "code",
      "source": [
        "# Explorando dados categóricos\n",
        "# Estado\n",
        "dataset['Estado'].unique()"
      ],
      "metadata": {
        "id": "Tjv0Xl-TAnH0",
        "outputId": "373cdaf5-0d20-463a-95dd-c2845e6b1111",
        "colab": {
          "base_uri": "https://localhost:8080/"
        }
      },
      "execution_count": 15,
      "outputs": [
        {
          "output_type": "execute_result",
          "data": {
            "text/plain": [
              "array(['RS', 'SC', 'PR', 'RP', 'SP', 'TD'], dtype=object)"
            ]
          },
          "metadata": {},
          "execution_count": 15
        }
      ]
    },
    {
      "cell_type": "code",
      "source": [
        "dataset['Estado'].value_counts()"
      ],
      "metadata": {
        "id": "wPl3Vqa7A1s-",
        "outputId": "3792877e-3e8e-44cf-d52d-8ec6a8ce47a5",
        "colab": {
          "base_uri": "https://localhost:8080/",
          "height": 303
        }
      },
      "execution_count": 16,
      "outputs": [
        {
          "output_type": "execute_result",
          "data": {
            "text/plain": [
              "Estado\n",
              "RS    478\n",
              "SC    258\n",
              "PR    257\n",
              "SP      4\n",
              "RP      1\n",
              "TD      1\n",
              "Name: count, dtype: int64"
            ],
            "text/html": [
              "<div>\n",
              "<style scoped>\n",
              "    .dataframe tbody tr th:only-of-type {\n",
              "        vertical-align: middle;\n",
              "    }\n",
              "\n",
              "    .dataframe tbody tr th {\n",
              "        vertical-align: top;\n",
              "    }\n",
              "\n",
              "    .dataframe thead th {\n",
              "        text-align: right;\n",
              "    }\n",
              "</style>\n",
              "<table border=\"1\" class=\"dataframe\">\n",
              "  <thead>\n",
              "    <tr style=\"text-align: right;\">\n",
              "      <th></th>\n",
              "      <th>count</th>\n",
              "    </tr>\n",
              "    <tr>\n",
              "      <th>Estado</th>\n",
              "      <th></th>\n",
              "    </tr>\n",
              "  </thead>\n",
              "  <tbody>\n",
              "    <tr>\n",
              "      <th>RS</th>\n",
              "      <td>478</td>\n",
              "    </tr>\n",
              "    <tr>\n",
              "      <th>SC</th>\n",
              "      <td>258</td>\n",
              "    </tr>\n",
              "    <tr>\n",
              "      <th>PR</th>\n",
              "      <td>257</td>\n",
              "    </tr>\n",
              "    <tr>\n",
              "      <th>SP</th>\n",
              "      <td>4</td>\n",
              "    </tr>\n",
              "    <tr>\n",
              "      <th>RP</th>\n",
              "      <td>1</td>\n",
              "    </tr>\n",
              "    <tr>\n",
              "      <th>TD</th>\n",
              "      <td>1</td>\n",
              "    </tr>\n",
              "  </tbody>\n",
              "</table>\n",
              "</div><br><label><b>dtype:</b> int64</label>"
            ]
          },
          "metadata": {},
          "execution_count": 16
        }
      ]
    },
    {
      "cell_type": "code",
      "source": [
        "# Explorando dados categóricos\n",
        "#Genero\n",
        "dataset['Genero'].unique()"
      ],
      "metadata": {
        "id": "BkMInclnKPpi",
        "outputId": "36de7fc2-6766-47bd-ed81-a5f0b1912ce0",
        "colab": {
          "base_uri": "https://localhost:8080/"
        }
      },
      "execution_count": 18,
      "outputs": [
        {
          "output_type": "execute_result",
          "data": {
            "text/plain": [
              "array(['Feminino', 'Masculino', 'M', nan, 'F', 'Fem'], dtype=object)"
            ]
          },
          "metadata": {},
          "execution_count": 18
        }
      ]
    },
    {
      "cell_type": "code",
      "source": [
        "dataset['Genero'].value_counts()"
      ],
      "metadata": {
        "id": "bLRZRnLhA8zt",
        "outputId": "621759ad-e249-4657-ce55-1c817b9e7c71",
        "colab": {
          "base_uri": "https://localhost:8080/",
          "height": 272
        }
      },
      "execution_count": 17,
      "outputs": [
        {
          "output_type": "execute_result",
          "data": {
            "text/plain": [
              "Genero\n",
              "Masculino    521\n",
              "Feminino     461\n",
              "M              6\n",
              "F              2\n",
              "Fem            1\n",
              "Name: count, dtype: int64"
            ],
            "text/html": [
              "<div>\n",
              "<style scoped>\n",
              "    .dataframe tbody tr th:only-of-type {\n",
              "        vertical-align: middle;\n",
              "    }\n",
              "\n",
              "    .dataframe tbody tr th {\n",
              "        vertical-align: top;\n",
              "    }\n",
              "\n",
              "    .dataframe thead th {\n",
              "        text-align: right;\n",
              "    }\n",
              "</style>\n",
              "<table border=\"1\" class=\"dataframe\">\n",
              "  <thead>\n",
              "    <tr style=\"text-align: right;\">\n",
              "      <th></th>\n",
              "      <th>count</th>\n",
              "    </tr>\n",
              "    <tr>\n",
              "      <th>Genero</th>\n",
              "      <th></th>\n",
              "    </tr>\n",
              "  </thead>\n",
              "  <tbody>\n",
              "    <tr>\n",
              "      <th>Masculino</th>\n",
              "      <td>521</td>\n",
              "    </tr>\n",
              "    <tr>\n",
              "      <th>Feminino</th>\n",
              "      <td>461</td>\n",
              "    </tr>\n",
              "    <tr>\n",
              "      <th>M</th>\n",
              "      <td>6</td>\n",
              "    </tr>\n",
              "    <tr>\n",
              "      <th>F</th>\n",
              "      <td>2</td>\n",
              "    </tr>\n",
              "    <tr>\n",
              "      <th>Fem</th>\n",
              "      <td>1</td>\n",
              "    </tr>\n",
              "  </tbody>\n",
              "</table>\n",
              "</div><br><label><b>dtype:</b> int64</label>"
            ]
          },
          "metadata": {},
          "execution_count": 17
        }
      ]
    },
    {
      "cell_type": "code",
      "source": [
        "# visualizar graficos das variaveis categoricas Estado e Genero\n",
        "\n",
        "import matplotlib.pyplot as plt\n",
        "%matplotlib inline\n",
        "\n",
        "fig, axes = plt.subplots(ncols=2, figsize=(6,3))\n",
        "\n",
        "dataset['Estado'].value_counts().plot(kind='bar', ax=axes[0])\n",
        "axes[0].set_title('Estado')\n",
        "\n",
        "dataset['Genero'].value_counts().plot(kind='bar', ax=axes[1])\n",
        "axes[1].set_title('Genero')\n"
      ],
      "metadata": {
        "id": "MAnuXW78B-M_",
        "outputId": "8de62381-b075-494a-a8eb-ed6b083f8ace",
        "colab": {
          "base_uri": "https://localhost:8080/",
          "height": 405
        }
      },
      "execution_count": 22,
      "outputs": [
        {
          "output_type": "execute_result",
          "data": {
            "text/plain": [
              "Text(0.5, 1.0, 'Genero')"
            ]
          },
          "metadata": {},
          "execution_count": 22
        },
        {
          "output_type": "display_data",
          "data": {
            "text/plain": [
              "<Figure size 600x300 with 2 Axes>"
            ],
            "image/png": "[encoded data removed]"
          },
          "metadata": {}
        }
      ]
    },
    {
      "cell_type": "code",
      "source": [
        "# Explorando dados numericos\n",
        "dataset.describe()"
      ],
      "metadata": {
        "id": "a7jHd_zxG5DY",
        "outputId": "c790f282-0298-4c21-a8ec-50b2278ac7a3",
        "colab": {
          "base_uri": "https://localhost:8080/",
          "height": 300
        }
      },
      "execution_count": 23,
      "outputs": [
        {
          "output_type": "execute_result",
          "data": {
            "text/plain": [
              "                Id       Score       Idade  Patrimonio         Saldo  \\\n",
              "count   999.000000  999.000000  999.000000  999.000000  9.990000e+02   \n",
              "mean    500.916917  648.621622   38.902903    5.069069  7.164928e+06   \n",
              "std     288.662884   98.264219   11.401912    2.927691  6.311840e+06   \n",
              "min       1.000000  376.000000  -20.000000    0.000000  0.000000e+00   \n",
              "25%     251.500000  580.000000   32.000000    2.000000  0.000000e+00   \n",
              "50%     501.000000  653.000000   37.000000    5.000000  8.958835e+06   \n",
              "75%     750.500000  721.000000   44.000000    8.000000  1.258684e+07   \n",
              "max    1000.000000  850.000000  140.000000   10.000000  2.117743e+07   \n",
              "\n",
              "         Produtos  TemCartCredito      Ativo       Salario        Saiu  \n",
              "count  999.000000      999.000000  999.00000  9.920000e+02  999.000000  \n",
              "mean     1.526527        0.702703    0.50951  3.528762e+07    0.203203  \n",
              "std      0.574201        0.457297    0.50016  5.305800e+08    0.402584  \n",
              "min      1.000000        0.000000    0.00000  9.677000e+03    0.000000  \n",
              "25%      1.000000        0.000000    0.00000  3.029011e+06    0.000000  \n",
              "50%      1.000000        1.000000    1.00000  8.703250e+06    0.000000  \n",
              "75%      2.000000        1.000000    1.00000  1.405213e+07    0.000000  \n",
              "max      4.000000        1.000000    1.00000  1.193469e+10    1.000000  "
            ],
            "text/html": [
              "\n",
              "  <div id=\"df-79f7e549-ec22-470c-bc52-aee8685fea57\" class=\"colab-df-container\">\n",
              "    <div>\n",
              "<style scoped>\n",
              "    .dataframe tbody tr th:only-of-type {\n",
              "        vertical-align: middle;\n",
              "    }\n",
              "\n",
              "    .dataframe tbody tr th {\n",
              "        vertical-align: top;\n",
              "    }\n",
              "\n",
              "    .dataframe thead th {\n",
              "        text-align: right;\n",
              "    }\n",
              "</style>\n",
              "<table border=\"1\" class=\"dataframe\">\n",
              "  <thead>\n",
              "    <tr style=\"text-align: right;\">\n",
              "      <th></th>\n",
              "      <th>Id</th>\n",
              "      <th>Score</th>\n",
              "      <th>Idade</th>\n",
              "      <th>Patrimonio</th>\n",
              "      <th>Saldo</th>\n",
              "      <th>Produtos</th>\n",
              "      <th>TemCartCredito</th>\n",
              "      <th>Ativo</th>\n",
              "      <th>Salario</th>\n",
              "      <th>Saiu</th>\n",
              "    </tr>\n",
              "  </thead>\n",
              "  <tbody>\n",
              "    <tr>\n",
              "      <th>count</th>\n",
              "      <td>999.000000</td>\n",
              "      <td>999.000000</td>\n",
              "      <td>999.000000</td>\n",
              "      <td>999.000000</td>\n",
              "      <td>9.990000e+02</td>\n",
              "      <td>999.000000</td>\n",
              "      <td>999.000000</td>\n",
              "      <td>999.00000</td>\n",
              "      <td>9.920000e+02</td>\n",
              "      <td>999.000000</td>\n",
              "    </tr>\n",
              "    <tr>\n",
              "      <th>mean</th>\n",
              "      <td>500.916917</td>\n",
              "      <td>648.621622</td>\n",
              "      <td>38.902903</td>\n",
              "      <td>5.069069</td>\n",
              "      <td>7.164928e+06</td>\n",
              "      <td>1.526527</td>\n",
              "      <td>0.702703</td>\n",
              "      <td>0.50951</td>\n",
              "      <td>3.528762e+07</td>\n",
              "      <td>0.203203</td>\n",
              "    </tr>\n",
              "    <tr>\n",
              "      <th>std</th>\n",
              "      <td>288.662884</td>\n",
              "      <td>98.264219</td>\n",
              "      <td>11.401912</td>\n",
              "      <td>2.927691</td>\n",
              "      <td>6.311840e+06</td>\n",
              "      <td>0.574201</td>\n",
              "      <td>0.457297</td>\n",
              "      <td>0.50016</td>\n",
              "      <td>5.305800e+08</td>\n",
              "      <td>0.402584</td>\n",
              "    </tr>\n",
              "    <tr>\n",
              "      <th>min</th>\n",
              "      <td>1.000000</td>\n",
              "      <td>376.000000</td>\n",
              "      <td>-20.000000</td>\n",
              "      <td>0.000000</td>\n",
              "      <td>0.000000e+00</td>\n",
              "      <td>1.000000</td>\n",
              "      <td>0.000000</td>\n",
              "      <td>0.00000</td>\n",
              "      <td>9.677000e+03</td>\n",
              "      <td>0.000000</td>\n",
              "    </tr>\n",
              "    <tr>\n",
              "      <th>25%</th>\n",
              "      <td>251.500000</td>\n",
              "      <td>580.000000</td>\n",
              "      <td>32.000000</td>\n",
              "      <td>2.000000</td>\n",
              "      <td>0.000000e+00</td>\n",
              "      <td>1.000000</td>\n",
              "      <td>0.000000</td>\n",
              "      <td>0.00000</td>\n",
              "      <td>3.029011e+06</td>\n",
              "      <td>0.000000</td>\n",
              "    </tr>\n",
              "    <tr>\n",
              "      <th>50%</th>\n",
              "      <td>501.000000</td>\n",
              "      <td>653.000000</td>\n",
              "      <td>37.000000</td>\n",
              "      <td>5.000000</td>\n",
              "      <td>8.958835e+06</td>\n",
              "      <td>1.000000</td>\n",
              "      <td>1.000000</td>\n",
              "      <td>1.00000</td>\n",
              "      <td>8.703250e+06</td>\n",
              "      <td>0.000000</td>\n",
              "    </tr>\n",
              "    <tr>\n",
              "      <th>75%</th>\n",
              "      <td>750.500000</td>\n",
              "      <td>721.000000</td>\n",
              "      <td>44.000000</td>\n",
              "      <td>8.000000</td>\n",
              "      <td>1.258684e+07</td>\n",
              "      <td>2.000000</td>\n",
              "      <td>1.000000</td>\n",
              "      <td>1.00000</td>\n",
              "      <td>1.405213e+07</td>\n",
              "      <td>0.000000</td>\n",
              "    </tr>\n",
              "    <tr>\n",
              "      <th>max</th>\n",
              "      <td>1000.000000</td>\n",
              "      <td>850.000000</td>\n",
              "      <td>140.000000</td>\n",
              "      <td>10.000000</td>\n",
              "      <td>2.117743e+07</td>\n",
              "      <td>4.000000</td>\n",
              "      <td>1.000000</td>\n",
              "      <td>1.00000</td>\n",
              "      <td>1.193469e+10</td>\n",
              "      <td>1.000000</td>\n",
              "    </tr>\n",
              "  </tbody>\n",
              "</table>\n",
              "</div>\n",
              "    <div class=\"colab-df-buttons\">\n",
              "\n",
              "  <div class=\"colab-df-container\">\n",
              "    <button class=\"colab-df-convert\" onclick=\"convertToInteractive('df-79f7e549-ec22-470c-bc52-aee8685fea57')\"\n",
              "            title=\"Convert this dataframe to an interactive table.\"\n",
              "            style=\"display:none;\">\n",
              "\n",
              "  <svg xmlns=\"http://www.w3.org/2000/svg\" height=\"24px\" viewBox=\"0 -960 960 960\">\n",
              "    <path d=\"M120-120v-720h720v720H120Zm60-500h600v-160H180v160Zm220 220h160v-160H400v160Zm0 220h160v-160H400v160ZM180-400h160v-160H180v160Zm440 0h160v-160H620v160ZM180-180h160v-160H180v160Zm440 0h160v-160H620v160Z\"/>\n",
              "  </svg>\n",
              "    </button>\n",
              "\n",
              "  <style>\n",
              "    .colab-df-container {\n",
              "      display:flex;\n",
              "      gap: 12px;\n",
              "    }\n",
              "\n",
              "    .colab-df-convert {\n",
              "      background-color: #E8F0FE;\n",
              "      border: none;\n",
              "      border-radius: 50%;\n",
              "      cursor: pointer;\n",
              "      display: none;\n",
              "      fill: #1967D2;\n",
              "      height: 32px;\n",
              "      padding: 0 0 0 0;\n",
              "      width: 32px;\n",
              "    }\n",
              "\n",
              "    .colab-df-convert:hover {\n",
              "      background-color: #E2EBFA;\n",
              "      box-shadow: 0px 1px 2px rgba(60, 64, 67, 0.3), 0px 1px 3px 1px rgba(60, 64, 67, 0.15);\n",
              "      fill: #174EA6;\n",
              "    }\n",
              "\n",
              "    .colab-df-buttons div {\n",
              "      margin-bottom: 4px;\n",
              "    }\n",
              "\n",
              "    [theme=dark] .colab-df-convert {\n",
              "      background-color: #3B4455;\n",
              "      fill: #D2E3FC;\n",
              "    }\n",
              "\n",
              "    [theme=dark] .colab-df-convert:hover {\n",
              "      background-color: #434B5C;\n",
              "      box-shadow: 0px 1px 3px 1px rgba(0, 0, 0, 0.15);\n",
              "      filter: drop-shadow(0px 1px 2px rgba(0, 0, 0, 0.3));\n",
              "      fill: #FFFFFF;\n",
              "    }\n",
              "  </style>\n",
              "\n",
              "    <script>\n",
              "      const buttonEl =\n",
              "        document.querySelector('#df-79f7e549-ec22-470c-bc52-aee8685fea57 button.colab-df-convert');\n",
              "      buttonEl.style.display =\n",
              "        google.colab.kernel.accessAllowed ? 'block' : 'none';\n",
              "\n",
              "      async function convertToInteractive(key) {\n",
              "        const element = document.querySelector('#df-79f7e549-ec22-470c-bc52-aee8685fea57');\n",
              "        const dataTable =\n",
              "          await google.colab.kernel.invokeFunction('convertToInteractive',\n",
              "                                                    [key], {});\n",
              "        if (!dataTable) return;\n",
              "\n",
              "        const docLinkHtml = 'Like what you see? Visit the ' +\n",
              "          '<a target=\"_blank\" href=https://colab.research.google.com/notebooks/data_table.ipynb>data table notebook</a>'\n",
              "          + ' to learn more about interactive tables.';\n",
              "        element.innerHTML = '';\n",
              "        dataTable['output_type'] = 'display_data';\n",
              "        await google.colab.output.renderOutput(dataTable, element);\n",
              "        const docLink = document.createElement('div');\n",
              "        docLink.innerHTML = docLinkHtml;\n",
              "        element.appendChild(docLink);\n",
              "      }\n",
              "    </script>\n",
              "  </div>\n",
              "\n",
              "\n",
              "<div id=\"df-0ba10795-2a52-46f1-a66b-3c7cbaa60ad0\">\n",
              "  <button class=\"colab-df-quickchart\" onclick=\"quickchart('df-0ba10795-2a52-46f1-a66b-3c7cbaa60ad0')\"\n",
              "            title=\"Suggest charts\"\n",
              "            style=\"display:none;\">\n",
              "\n",
              "<svg xmlns=\"http://www.w3.org/2000/svg\" height=\"24px\"viewBox=\"0 0 24 24\"\n",
              "     width=\"24px\">\n",
              "    <g>\n",
              "        <path d=\"M19 3H5c-1.1 0-2 .9-2 2v14c0 1.1.9 2 2 2h14c1.1 0 2-.9 2-2V5c0-1.1-.9-2-2-2zM9 17H7v-7h2v7zm4 0h-2V7h2v10zm4 0h-2v-4h2v4z\"/>\n",
              "    </g>\n",
              "</svg>\n",
              "  </button>\n",
              "\n",
              "<style>\n",
              "  .colab-df-quickchart {\n",
              "      --bg-color: #E8F0FE;\n",
              "      --fill-color: #1967D2;\n",
              "      --hover-bg-color: #E2EBFA;\n",
              "      --hover-fill-color: #174EA6;\n",
              "      --disabled-fill-color: #AAA;\n",
              "      --disabled-bg-color: #DDD;\n",
              "  }\n",
              "\n",
              "  [theme=dark] .colab-df-quickchart {\n",
              "      --bg-color: #3B4455;\n",
              "      --fill-color: #D2E3FC;\n",
              "      --hover-bg-color: #434B5C;\n",
              "      --hover-fill-color: #FFFFFF;\n",
              "      --disabled-bg-color: #3B4455;\n",
              "      --disabled-fill-color: #666;\n",
              "  }\n",
              "\n",
              "  .colab-df-quickchart {\n",
              "    background-color: var(--bg-color);\n",
              "    border: none;\n",
              "    border-radius: 50%;\n",
              "    cursor: pointer;\n",
              "    display: none;\n",
              "    fill: var(--fill-color);\n",
              "    height: 32px;\n",
              "    padding: 0;\n",
              "    width: 32px;\n",
              "  }\n",
              "\n",
              "  .colab-df-quickchart:hover {\n",
              "    background-color: var(--hover-bg-color);\n",
              "    box-shadow: 0 1px 2px rgba(60, 64, 67, 0.3), 0 1px 3px 1px rgba(60, 64, 67, 0.15);\n",
              "    fill: var(--button-hover-fill-color);\n",
              "  }\n",
              "\n",
              "  .colab-df-quickchart-complete:disabled,\n",
              "  .colab-df-quickchart-complete:disabled:hover {\n",
              "    background-color: var(--disabled-bg-color);\n",
              "    fill: var(--disabled-fill-color);\n",
              "    box-shadow: none;\n",
              "  }\n",
              "\n",
              "  .colab-df-spinner {\n",
              "    border: 2px solid var(--fill-color);\n",
              "    border-color: transparent;\n",
              "    border-bottom-color: var(--fill-color);\n",
              "    animation:\n",
              "      spin 1s steps(1) infinite;\n",
              "  }\n",
              "\n",
              "  @keyframes spin {\n",
              "    0% {\n",
              "      border-color: transparent;\n",
              "      border-bottom-color: var(--fill-color);\n",
              "      border-left-color: var(--fill-color);\n",
              "    }\n",
              "    20% {\n",
              "      border-color: transparent;\n",
              "      border-left-color: var(--fill-color);\n",
              "      border-top-color: var(--fill-color);\n",
              "    }\n",
              "    30% {\n",
              "      border-color: transparent;\n",
              "      border-left-color: var(--fill-color);\n",
              "      border-top-color: var(--fill-color);\n",
              "      border-right-color: var(--fill-color);\n",
              "    }\n",
              "    40% {\n",
              "      border-color: transparent;\n",
              "      border-right-color: var(--fill-color);\n",
              "      border-top-color: var(--fill-color);\n",
              "    }\n",
              "    60% {\n",
              "      border-color: transparent;\n",
              "      border-right-color: var(--fill-color);\n",
              "    }\n",
              "    80% {\n",
              "      border-color: transparent;\n",
              "      border-right-color: var(--fill-color);\n",
              "      border-bottom-color: var(--fill-color);\n",
              "    }\n",
              "    90% {\n",
              "      border-color: transparent;\n",
              "      border-bottom-color: var(--fill-color);\n",
              "    }\n",
              "  }\n",
              "</style>\n",
              "\n",
              "  <script>\n",
              "    async function quickchart(key) {\n",
              "      const quickchartButtonEl =\n",
              "        document.querySelector('#' + key + ' button');\n",
              "      quickchartButtonEl.disabled = true;  // To prevent multiple clicks.\n",
              "      quickchartButtonEl.classList.add('colab-df-spinner');\n",
              "      try {\n",
              "        const charts = await google.colab.kernel.invokeFunction(\n",
              "            'suggestCharts', [key], {});\n",
              "      } catch (error) {\n",
              "        console.error('Error during call to suggestCharts:', error);\n",
              "      }\n",
              "      quickchartButtonEl.classList.remove('colab-df-spinner');\n",
              "      quickchartButtonEl.classList.add('colab-df-quickchart-complete');\n",
              "    }\n",
              "    (() => {\n",
              "      let quickchartButtonEl =\n",
              "        document.querySelector('#df-0ba10795-2a52-46f1-a66b-3c7cbaa60ad0 button');\n",
              "      quickchartButtonEl.style.display =\n",
              "        google.colab.kernel.accessAllowed ? 'block' : 'none';\n",
              "    })();\n",
              "  </script>\n",
              "</div>\n",
              "\n",
              "    </div>\n",
              "  </div>\n"
            ],
            "application/vnd.google.colaboratory.intrinsic+json": {
              "type": "dataframe",
              "summary": "{\n  \"name\": \"dataset\",\n  \"rows\": 8,\n  \"fields\": [\n    {\n      \"column\": \"Id\",\n      \"properties\": {\n        \"dtype\": \"number\",\n        \"std\": 359.85500052606363,\n        \"min\": 1.0,\n        \"max\": 1000.0,\n        \"num_unique_values\": 8,\n        \"samples\": [\n          500.91691691691693,\n          501.0,\n          999.0\n        ],\n        \"semantic_type\": \"\",\n        \"description\": \"\"\n      }\n    },\n    {\n      \"column\": \"Score\",\n      \"properties\": {\n        \"dtype\": \"number\",\n        \"std\": 278.22112240753756,\n        \"min\": 98.26421874897119,\n        \"max\": 999.0,\n        \"num_unique_values\": 8,\n        \"samples\": [\n          648.6216216216217,\n          653.0,\n          999.0\n        ],\n        \"semantic_type\": \"\",\n        \"description\": \"\"\n      }\n    },\n    {\n      \"column\": \"Idade\",\n      \"properties\": {\n        \"dtype\": \"number\",\n        \"std\": 341.93467103111163,\n        \"min\": -20.0,\n        \"max\": 999.0,\n        \"num_unique_values\": 8,\n        \"samples\": [\n          38.9029029029029,\n          37.0,\n          999.0\n        ],\n        \"semantic_type\": \"\",\n        \"description\": \"\"\n      }\n    },\n    {\n      \"column\": \"Patrimonio\",\n      \"properties\": {\n        \"dtype\": \"number\",\n        \"std\": 351.5478229270986,\n        \"min\": 0.0,\n        \"max\": 999.0,\n        \"num_unique_values\": 8,\n        \"samples\": [\n          5.069069069069069,\n          5.0,\n          999.0\n        ],\n        \"semantic_type\": \"\",\n        \"description\": \"\"\n      }\n    },\n    {\n      \"column\": \"Saldo\",\n      \"properties\": {\n        \"dtype\": \"number\",\n        \"std\": 7402037.811872118,\n        \"min\": 0.0,\n        \"max\": 21177431.0,\n        \"num_unique_values\": 7,\n        \"samples\": [\n          999.0,\n          7164927.564564564,\n          12586844.0\n        ],\n        \"semantic_type\": \"\",\n        \"description\": \"\"\n      }\n    },\n    {\n      \"column\": \"Produtos\",\n      \"properties\": {\n        \"dtype\": \"number\",\n        \"std\": 352.64079763432574,\n        \"min\": 0.5742007140077248,\n        \"max\": 999.0,\n        \"num_unique_values\": 6,\n        \"samples\": [\n          999.0,\n          1.5265265265265264,\n          4.0\n        ],\n        \"semantic_type\": \"\",\n        \"description\": \"\"\n      }\n    },\n    {\n      \"column\": \"TemCartCredito\",\n      \"properties\": {\n        \"dtype\": \"number\",\n        \"std\": 352.98997449894324,\n        \"min\": 0.0,\n        \"max\": 999.0,\n        \"num_unique_values\": 5,\n        \"samples\": [\n          0.7027027027027027,\n          1.0,\n          0.457297435584201\n        ],\n        \"semantic_type\": \"\",\n        \"description\": \"\"\n      }\n    },\n    {\n      \"column\": \"Ativo\",\n      \"properties\": {\n        \"dtype\": \"number\",\n        \"std\": 352.9975637573254,\n        \"min\": 0.0,\n        \"max\": 999.0,\n        \"num_unique_values\": 5,\n        \"samples\": [\n          0.5095095095095095,\n          1.0,\n          0.5001599540336046\n        ],\n        \"semantic_type\": \"\",\n        \"description\": \"\"\n      }\n    },\n    {\n      \"column\": \"Salario\",\n      \"properties\": {\n        \"dtype\": \"number\",\n        \"std\": 4193636978.539777,\n        \"min\": 992.0,\n        \"max\": 11934688000.0,\n        \"num_unique_values\": 8,\n        \"samples\": [\n          35287620.25100806,\n          8703249.5,\n          992.0\n        ],\n        \"semantic_type\": \"\",\n        \"description\": \"\"\n      }\n    },\n    {\n      \"column\": \"Saiu\",\n      \"properties\": {\n        \"dtype\": \"number\",\n        \"std\": 353.1189016031703,\n        \"min\": 0.0,\n        \"max\": 999.0,\n        \"num_unique_values\": 5,\n        \"samples\": [\n          0.2032032032032032,\n          1.0,\n          0.40258402544666305\n        ],\n        \"semantic_type\": \"\",\n        \"description\": \"\"\n      }\n    }\n  ]\n}"
            }
          },
          "metadata": {},
          "execution_count": 23
        }
      ]
    },
    {
      "cell_type": "code",
      "source": [
        "# visualizar graficamente as variaveis numericas\n",
        "\n",
        "%matplotlib inline\n",
        "\n",
        "num_attributes = dataset.select_dtypes(include=['int64', 'float64'])\n",
        "\n",
        "fig, axes = plt.subplots(ncols=3, nrows=3, figsize=(10,10))\n",
        "\n",
        "count = 0\n",
        "for i in range(3):\n",
        "  for j in range(3):\n",
        "    count += 1\n",
        "    if count < len(num_attributes.columns):\n",
        "      num_attributes.iloc[:, count-1].hist(ax=axes[i][j], bins=10)\n",
        "      axes[i][j].set_title(num_attributes.columns[count-1])\n"
      ],
      "metadata": {
        "collapsed": true,
        "id": "1okYZKa_G89G",
        "outputId": "521a483a-cc17-46ab-a790-726527e66040",
        "colab": {
          "base_uri": "https://localhost:8080/",
          "height": 871
        }
      },
      "execution_count": 24,
      "outputs": [
        {
          "output_type": "display_data",
          "data": {
            "text/plain": [
              "<Figure size 1000x1000 with 9 Axes>"
            ],
            "image/png": "[encoded data removed]"
          },
          "metadata": {}
        }
      ]
    },
    {
      "cell_type": "code",
      "source": [
        "# visualizar graficamente com graficos os outliers das variaveis numericas\n",
        "\n",
        "%matplotlib inline\n",
        "\n",
        "num_attributes = dataset.select_dtypes(include=['int64', 'float64'])\n",
        "\n",
        "fig, axes = plt.subplots(ncols=3, nrows=3, figsize=(15,15))\n",
        "\n",
        "count = 0\n",
        "for i in range(3):\n",
        "  for j in range(3):\n",
        "    count += 1\n",
        "    if count < len(num_attributes.columns):\n",
        "      num_attributes.iloc[:, count-1].plot(kind='box', ax=axes[i][j])\n"
      ],
      "metadata": {
        "id": "g1Feszs5ITXB",
        "outputId": "626f7730-3262-4890-d3f0-15ccec69cfbb",
        "colab": {
          "base_uri": "https://localhost:8080/",
          "height": 1000
        }
      },
      "execution_count": 25,
      "outputs": [
        {
          "output_type": "display_data",
          "data": {
            "text/plain": [
              "<Figure size 1500x1500 with 9 Axes>"
            ],
            "image/png": "[encoded data removed]"
          },
          "metadata": {}
        }
      ]
    },
    {
      "cell_type": "code",
      "source": [
        "# Visualizar dados faltantes\n",
        "dataset.isnull().sum()"
      ],
      "metadata": {
        "id": "WU1lZoRdBQbA",
        "outputId": "9feec646-d70a-4562-8d0a-4bfbb1b0b749",
        "colab": {
          "base_uri": "https://localhost:8080/",
          "height": 460
        }
      },
      "execution_count": 26,
      "outputs": [
        {
          "output_type": "execute_result",
          "data": {
            "text/plain": [
              "Id                0\n",
              "Score             0\n",
              "Estado            0\n",
              "Genero            8\n",
              "Idade             0\n",
              "Patrimonio        0\n",
              "Saldo             0\n",
              "Produtos          0\n",
              "TemCartCredito    0\n",
              "Ativo             0\n",
              "Salario           7\n",
              "Saiu              0\n",
              "dtype: int64"
            ],
            "text/html": [
              "<div>\n",
              "<style scoped>\n",
              "    .dataframe tbody tr th:only-of-type {\n",
              "        vertical-align: middle;\n",
              "    }\n",
              "\n",
              "    .dataframe tbody tr th {\n",
              "        vertical-align: top;\n",
              "    }\n",
              "\n",
              "    .dataframe thead th {\n",
              "        text-align: right;\n",
              "    }\n",
              "</style>\n",
              "<table border=\"1\" class=\"dataframe\">\n",
              "  <thead>\n",
              "    <tr style=\"text-align: right;\">\n",
              "      <th></th>\n",
              "      <th>0</th>\n",
              "    </tr>\n",
              "  </thead>\n",
              "  <tbody>\n",
              "    <tr>\n",
              "      <th>Id</th>\n",
              "      <td>0</td>\n",
              "    </tr>\n",
              "    <tr>\n",
              "      <th>Score</th>\n",
              "      <td>0</td>\n",
              "    </tr>\n",
              "    <tr>\n",
              "      <th>Estado</th>\n",
              "      <td>0</td>\n",
              "    </tr>\n",
              "    <tr>\n",
              "      <th>Genero</th>\n",
              "      <td>8</td>\n",
              "    </tr>\n",
              "    <tr>\n",
              "      <th>Idade</th>\n",
              "      <td>0</td>\n",
              "    </tr>\n",
              "    <tr>\n",
              "      <th>Patrimonio</th>\n",
              "      <td>0</td>\n",
              "    </tr>\n",
              "    <tr>\n",
              "      <th>Saldo</th>\n",
              "      <td>0</td>\n",
              "    </tr>\n",
              "    <tr>\n",
              "      <th>Produtos</th>\n",
              "      <td>0</td>\n",
              "    </tr>\n",
              "    <tr>\n",
              "      <th>TemCartCredito</th>\n",
              "      <td>0</td>\n",
              "    </tr>\n",
              "    <tr>\n",
              "      <th>Ativo</th>\n",
              "      <td>0</td>\n",
              "    </tr>\n",
              "    <tr>\n",
              "      <th>Salario</th>\n",
              "      <td>7</td>\n",
              "    </tr>\n",
              "    <tr>\n",
              "      <th>Saiu</th>\n",
              "      <td>0</td>\n",
              "    </tr>\n",
              "  </tbody>\n",
              "</table>\n",
              "</div><br><label><b>dtype:</b> int64</label>"
            ]
          },
          "metadata": {},
          "execution_count": 26
        }
      ]
    },
    {
      "cell_type": "code",
      "source": [
        "dataset['Salario'].describe()"
      ],
      "metadata": {
        "id": "X1sFjSqVK2cB",
        "outputId": "4370b58b-00c0-40bf-d6c1-d7026221097f",
        "colab": {
          "base_uri": "https://localhost:8080/",
          "height": 334
        }
      },
      "execution_count": 27,
      "outputs": [
        {
          "output_type": "execute_result",
          "data": {
            "text/plain": [
              "count    9.920000e+02\n",
              "mean     3.528762e+07\n",
              "std      5.305800e+08\n",
              "min      9.677000e+03\n",
              "25%      3.029011e+06\n",
              "50%      8.703250e+06\n",
              "75%      1.405213e+07\n",
              "max      1.193469e+10\n",
              "Name: Salario, dtype: float64"
            ],
            "text/html": [
              "<div>\n",
              "<style scoped>\n",
              "    .dataframe tbody tr th:only-of-type {\n",
              "        vertical-align: middle;\n",
              "    }\n",
              "\n",
              "    .dataframe tbody tr th {\n",
              "        vertical-align: top;\n",
              "    }\n",
              "\n",
              "    .dataframe thead th {\n",
              "        text-align: right;\n",
              "    }\n",
              "</style>\n",
              "<table border=\"1\" class=\"dataframe\">\n",
              "  <thead>\n",
              "    <tr style=\"text-align: right;\">\n",
              "      <th></th>\n",
              "      <th>Salario</th>\n",
              "    </tr>\n",
              "  </thead>\n",
              "  <tbody>\n",
              "    <tr>\n",
              "      <th>count</th>\n",
              "      <td>9.920000e+02</td>\n",
              "    </tr>\n",
              "    <tr>\n",
              "      <th>mean</th>\n",
              "      <td>3.528762e+07</td>\n",
              "    </tr>\n",
              "    <tr>\n",
              "      <th>std</th>\n",
              "      <td>5.305800e+08</td>\n",
              "    </tr>\n",
              "    <tr>\n",
              "      <th>min</th>\n",
              "      <td>9.677000e+03</td>\n",
              "    </tr>\n",
              "    <tr>\n",
              "      <th>25%</th>\n",
              "      <td>3.029011e+06</td>\n",
              "    </tr>\n",
              "    <tr>\n",
              "      <th>50%</th>\n",
              "      <td>8.703250e+06</td>\n",
              "    </tr>\n",
              "    <tr>\n",
              "      <th>75%</th>\n",
              "      <td>1.405213e+07</td>\n",
              "    </tr>\n",
              "    <tr>\n",
              "      <th>max</th>\n",
              "      <td>1.193469e+10</td>\n",
              "    </tr>\n",
              "  </tbody>\n",
              "</table>\n",
              "</div><br><label><b>dtype:</b> float64</label>"
            ]
          },
          "metadata": {},
          "execution_count": 27
        }
      ]
    },
    {
      "cell_type": "code",
      "source": [
        "dataset['Salario'].median()"
      ],
      "metadata": {
        "id": "GO5xz8m8LVJF",
        "outputId": "36680143-3e3f-4bd1-9720-3dffa32cfb30",
        "colab": {
          "base_uri": "https://localhost:8080/"
        }
      },
      "execution_count": 28,
      "outputs": [
        {
          "output_type": "execute_result",
          "data": {
            "text/plain": [
              "8703249.5"
            ]
          },
          "metadata": {},
          "execution_count": 28
        }
      ]
    },
    {
      "cell_type": "code",
      "source": [
        "# Tratamento de dados faltantes\n",
        "# Genero e Salário\n",
        "# Salário - Substituir pela mediana\n",
        "dataset['Salario'].fillna(dataset['Salario'].median(), inplace = True)\n",
        "dataset['Salario'].isnull().sum()"
      ],
      "metadata": {
        "id": "jCzkeGbHJn6H",
        "outputId": "6020115c-2908-4243-8f1f-725931e61ef8",
        "colab": {
          "base_uri": "https://localhost:8080/"
        }
      },
      "execution_count": 29,
      "outputs": [
        {
          "output_type": "execute_result",
          "data": {
            "text/plain": [
              "0"
            ]
          },
          "metadata": {},
          "execution_count": 29
        }
      ]
    },
    {
      "cell_type": "code",
      "source": [
        "dataset['Genero'].describe()"
      ],
      "metadata": {
        "id": "Myvqz-15Lp0c",
        "outputId": "0f8083ca-1982-4bb5-aede-752b206beb3a",
        "colab": {
          "base_uri": "https://localhost:8080/",
          "height": 209
        }
      },
      "execution_count": 30,
      "outputs": [
        {
          "output_type": "execute_result",
          "data": {
            "text/plain": [
              "count           991\n",
              "unique            5\n",
              "top       Masculino\n",
              "freq            521\n",
              "Name: Genero, dtype: object"
            ],
            "text/html": [
              "<div>\n",
              "<style scoped>\n",
              "    .dataframe tbody tr th:only-of-type {\n",
              "        vertical-align: middle;\n",
              "    }\n",
              "\n",
              "    .dataframe tbody tr th {\n",
              "        vertical-align: top;\n",
              "    }\n",
              "\n",
              "    .dataframe thead th {\n",
              "        text-align: right;\n",
              "    }\n",
              "</style>\n",
              "<table border=\"1\" class=\"dataframe\">\n",
              "  <thead>\n",
              "    <tr style=\"text-align: right;\">\n",
              "      <th></th>\n",
              "      <th>Genero</th>\n",
              "    </tr>\n",
              "  </thead>\n",
              "  <tbody>\n",
              "    <tr>\n",
              "      <th>count</th>\n",
              "      <td>991</td>\n",
              "    </tr>\n",
              "    <tr>\n",
              "      <th>unique</th>\n",
              "      <td>5</td>\n",
              "    </tr>\n",
              "    <tr>\n",
              "      <th>top</th>\n",
              "      <td>Masculino</td>\n",
              "    </tr>\n",
              "    <tr>\n",
              "      <th>freq</th>\n",
              "      <td>521</td>\n",
              "    </tr>\n",
              "  </tbody>\n",
              "</table>\n",
              "</div><br><label><b>dtype:</b> object</label>"
            ]
          },
          "metadata": {},
          "execution_count": 30
        }
      ]
    },
    {
      "cell_type": "code",
      "source": [
        "# Genero - Substituir pela moda (Masculino)\n",
        "dataset['Genero'].fillna(dataset['Genero'].mode()[0], inplace = True)\n",
        "dataset['Genero'].isnull().sum()"
      ],
      "metadata": {
        "id": "Zc3I2TpYKPCv",
        "outputId": "d13600b9-d121-4639-f775-a2bcc76f9c49",
        "colab": {
          "base_uri": "https://localhost:8080/"
        }
      },
      "execution_count": 31,
      "outputs": [
        {
          "output_type": "execute_result",
          "data": {
            "text/plain": [
              "0"
            ]
          },
          "metadata": {},
          "execution_count": 31
        }
      ]
    },
    {
      "cell_type": "code",
      "source": [
        "# validando se ainda existem valores faltantes\n",
        "dataset.isnull().sum()"
      ],
      "metadata": {
        "id": "VAeyequwL3Tk",
        "outputId": "7c1c08d7-50ff-475f-90be-f600af72502e",
        "colab": {
          "base_uri": "https://localhost:8080/",
          "height": 460
        }
      },
      "execution_count": 32,
      "outputs": [
        {
          "output_type": "execute_result",
          "data": {
            "text/plain": [
              "Id                0\n",
              "Score             0\n",
              "Estado            0\n",
              "Genero            0\n",
              "Idade             0\n",
              "Patrimonio        0\n",
              "Saldo             0\n",
              "Produtos          0\n",
              "TemCartCredito    0\n",
              "Ativo             0\n",
              "Salario           0\n",
              "Saiu              0\n",
              "dtype: int64"
            ],
            "text/html": [
              "<div>\n",
              "<style scoped>\n",
              "    .dataframe tbody tr th:only-of-type {\n",
              "        vertical-align: middle;\n",
              "    }\n",
              "\n",
              "    .dataframe tbody tr th {\n",
              "        vertical-align: top;\n",
              "    }\n",
              "\n",
              "    .dataframe thead th {\n",
              "        text-align: right;\n",
              "    }\n",
              "</style>\n",
              "<table border=\"1\" class=\"dataframe\">\n",
              "  <thead>\n",
              "    <tr style=\"text-align: right;\">\n",
              "      <th></th>\n",
              "      <th>0</th>\n",
              "    </tr>\n",
              "  </thead>\n",
              "  <tbody>\n",
              "    <tr>\n",
              "      <th>Id</th>\n",
              "      <td>0</td>\n",
              "    </tr>\n",
              "    <tr>\n",
              "      <th>Score</th>\n",
              "      <td>0</td>\n",
              "    </tr>\n",
              "    <tr>\n",
              "      <th>Estado</th>\n",
              "      <td>0</td>\n",
              "    </tr>\n",
              "    <tr>\n",
              "      <th>Genero</th>\n",
              "      <td>0</td>\n",
              "    </tr>\n",
              "    <tr>\n",
              "      <th>Idade</th>\n",
              "      <td>0</td>\n",
              "    </tr>\n",
              "    <tr>\n",
              "      <th>Patrimonio</th>\n",
              "      <td>0</td>\n",
              "    </tr>\n",
              "    <tr>\n",
              "      <th>Saldo</th>\n",
              "      <td>0</td>\n",
              "    </tr>\n",
              "    <tr>\n",
              "      <th>Produtos</th>\n",
              "      <td>0</td>\n",
              "    </tr>\n",
              "    <tr>\n",
              "      <th>TemCartCredito</th>\n",
              "      <td>0</td>\n",
              "    </tr>\n",
              "    <tr>\n",
              "      <th>Ativo</th>\n",
              "      <td>0</td>\n",
              "    </tr>\n",
              "    <tr>\n",
              "      <th>Salario</th>\n",
              "      <td>0</td>\n",
              "    </tr>\n",
              "    <tr>\n",
              "      <th>Saiu</th>\n",
              "      <td>0</td>\n",
              "    </tr>\n",
              "  </tbody>\n",
              "</table>\n",
              "</div><br><label><b>dtype:</b> int64</label>"
            ]
          },
          "metadata": {},
          "execution_count": 32
        }
      ]
    },
    {
      "cell_type": "code",
      "source": [
        "# Verificando dados inconsistentes\n",
        "# Estado\n",
        "dataset['Estado'].value_counts()"
      ],
      "metadata": {
        "id": "SRCH70KoME5X",
        "outputId": "fc01b6e2-d2fe-48f9-991c-c40366b36b35",
        "colab": {
          "base_uri": "https://localhost:8080/",
          "height": 303
        }
      },
      "execution_count": 33,
      "outputs": [
        {
          "output_type": "execute_result",
          "data": {
            "text/plain": [
              "Estado\n",
              "RS    478\n",
              "SC    258\n",
              "PR    257\n",
              "SP      4\n",
              "RP      1\n",
              "TD      1\n",
              "Name: count, dtype: int64"
            ],
            "text/html": [
              "<div>\n",
              "<style scoped>\n",
              "    .dataframe tbody tr th:only-of-type {\n",
              "        vertical-align: middle;\n",
              "    }\n",
              "\n",
              "    .dataframe tbody tr th {\n",
              "        vertical-align: top;\n",
              "    }\n",
              "\n",
              "    .dataframe thead th {\n",
              "        text-align: right;\n",
              "    }\n",
              "</style>\n",
              "<table border=\"1\" class=\"dataframe\">\n",
              "  <thead>\n",
              "    <tr style=\"text-align: right;\">\n",
              "      <th></th>\n",
              "      <th>count</th>\n",
              "    </tr>\n",
              "    <tr>\n",
              "      <th>Estado</th>\n",
              "      <th></th>\n",
              "    </tr>\n",
              "  </thead>\n",
              "  <tbody>\n",
              "    <tr>\n",
              "      <th>RS</th>\n",
              "      <td>478</td>\n",
              "    </tr>\n",
              "    <tr>\n",
              "      <th>SC</th>\n",
              "      <td>258</td>\n",
              "    </tr>\n",
              "    <tr>\n",
              "      <th>PR</th>\n",
              "      <td>257</td>\n",
              "    </tr>\n",
              "    <tr>\n",
              "      <th>SP</th>\n",
              "      <td>4</td>\n",
              "    </tr>\n",
              "    <tr>\n",
              "      <th>RP</th>\n",
              "      <td>1</td>\n",
              "    </tr>\n",
              "    <tr>\n",
              "      <th>TD</th>\n",
              "      <td>1</td>\n",
              "    </tr>\n",
              "  </tbody>\n",
              "</table>\n",
              "</div><br><label><b>dtype:</b> int64</label>"
            ]
          },
          "metadata": {},
          "execution_count": 33
        }
      ]
    },
    {
      "cell_type": "code",
      "source": [
        "dataset['Estado'].describe()"
      ],
      "metadata": {
        "id": "IVVo3Zg2MLSo",
        "outputId": "dbbc49c7-955f-48c2-cbb6-d8df55c85eb3",
        "colab": {
          "base_uri": "https://localhost:8080/",
          "height": 209
        }
      },
      "execution_count": 35,
      "outputs": [
        {
          "output_type": "execute_result",
          "data": {
            "text/plain": [
              "count     999\n",
              "unique      3\n",
              "top        RS\n",
              "freq      484\n",
              "Name: Estado, dtype: object"
            ],
            "text/html": [
              "<div>\n",
              "<style scoped>\n",
              "    .dataframe tbody tr th:only-of-type {\n",
              "        vertical-align: middle;\n",
              "    }\n",
              "\n",
              "    .dataframe tbody tr th {\n",
              "        vertical-align: top;\n",
              "    }\n",
              "\n",
              "    .dataframe thead th {\n",
              "        text-align: right;\n",
              "    }\n",
              "</style>\n",
              "<table border=\"1\" class=\"dataframe\">\n",
              "  <thead>\n",
              "    <tr style=\"text-align: right;\">\n",
              "      <th></th>\n",
              "      <th>Estado</th>\n",
              "    </tr>\n",
              "  </thead>\n",
              "  <tbody>\n",
              "    <tr>\n",
              "      <th>count</th>\n",
              "      <td>999</td>\n",
              "    </tr>\n",
              "    <tr>\n",
              "      <th>unique</th>\n",
              "      <td>3</td>\n",
              "    </tr>\n",
              "    <tr>\n",
              "      <th>top</th>\n",
              "      <td>RS</td>\n",
              "    </tr>\n",
              "    <tr>\n",
              "      <th>freq</th>\n",
              "      <td>484</td>\n",
              "    </tr>\n",
              "  </tbody>\n",
              "</table>\n",
              "</div><br><label><b>dtype:</b> object</label>"
            ]
          },
          "metadata": {},
          "execution_count": 35
        }
      ]
    },
    {
      "cell_type": "code",
      "source": [
        "# Padronizar de acordo com o dominio os valores SP, RP e TD pela moda (RS)\n",
        "dataset.loc[dataset['Estado'].isin(['SP', 'RP', 'TD']), 'Estado'] = dataset['Estado'].mode()[0]\n",
        "dataset['Estado'].value_counts()\n"
      ],
      "metadata": {
        "id": "6sJZn0NwOAPs",
        "outputId": "12d63db3-427a-432b-d579-b1bf3b0089c7",
        "colab": {
          "base_uri": "https://localhost:8080/",
          "height": 209
        }
      },
      "execution_count": 34,
      "outputs": [
        {
          "output_type": "execute_result",
          "data": {
            "text/plain": [
              "Estado\n",
              "RS    484\n",
              "SC    258\n",
              "PR    257\n",
              "Name: count, dtype: int64"
            ],
            "text/html": [
              "<div>\n",
              "<style scoped>\n",
              "    .dataframe tbody tr th:only-of-type {\n",
              "        vertical-align: middle;\n",
              "    }\n",
              "\n",
              "    .dataframe tbody tr th {\n",
              "        vertical-align: top;\n",
              "    }\n",
              "\n",
              "    .dataframe thead th {\n",
              "        text-align: right;\n",
              "    }\n",
              "</style>\n",
              "<table border=\"1\" class=\"dataframe\">\n",
              "  <thead>\n",
              "    <tr style=\"text-align: right;\">\n",
              "      <th></th>\n",
              "      <th>count</th>\n",
              "    </tr>\n",
              "    <tr>\n",
              "      <th>Estado</th>\n",
              "      <th></th>\n",
              "    </tr>\n",
              "  </thead>\n",
              "  <tbody>\n",
              "    <tr>\n",
              "      <th>RS</th>\n",
              "      <td>484</td>\n",
              "    </tr>\n",
              "    <tr>\n",
              "      <th>SC</th>\n",
              "      <td>258</td>\n",
              "    </tr>\n",
              "    <tr>\n",
              "      <th>PR</th>\n",
              "      <td>257</td>\n",
              "    </tr>\n",
              "  </tbody>\n",
              "</table>\n",
              "</div><br><label><b>dtype:</b> int64</label>"
            ]
          },
          "metadata": {},
          "execution_count": 34
        }
      ]
    },
    {
      "cell_type": "code",
      "source": [
        "# Genero\n",
        "dataset['Genero'].value_counts()"
      ],
      "metadata": {
        "id": "dXf7NWMQPFic",
        "outputId": "808711f1-1746-487c-bdf9-ce1c43e673ef",
        "colab": {
          "base_uri": "https://localhost:8080/",
          "height": 272
        }
      },
      "execution_count": 36,
      "outputs": [
        {
          "output_type": "execute_result",
          "data": {
            "text/plain": [
              "Genero\n",
              "Masculino    529\n",
              "Feminino     461\n",
              "M              6\n",
              "F              2\n",
              "Fem            1\n",
              "Name: count, dtype: int64"
            ],
            "text/html": [
              "<div>\n",
              "<style scoped>\n",
              "    .dataframe tbody tr th:only-of-type {\n",
              "        vertical-align: middle;\n",
              "    }\n",
              "\n",
              "    .dataframe tbody tr th {\n",
              "        vertical-align: top;\n",
              "    }\n",
              "\n",
              "    .dataframe thead th {\n",
              "        text-align: right;\n",
              "    }\n",
              "</style>\n",
              "<table border=\"1\" class=\"dataframe\">\n",
              "  <thead>\n",
              "    <tr style=\"text-align: right;\">\n",
              "      <th></th>\n",
              "      <th>count</th>\n",
              "    </tr>\n",
              "    <tr>\n",
              "      <th>Genero</th>\n",
              "      <th></th>\n",
              "    </tr>\n",
              "  </thead>\n",
              "  <tbody>\n",
              "    <tr>\n",
              "      <th>Masculino</th>\n",
              "      <td>529</td>\n",
              "    </tr>\n",
              "    <tr>\n",
              "      <th>Feminino</th>\n",
              "      <td>461</td>\n",
              "    </tr>\n",
              "    <tr>\n",
              "      <th>M</th>\n",
              "      <td>6</td>\n",
              "    </tr>\n",
              "    <tr>\n",
              "      <th>F</th>\n",
              "      <td>2</td>\n",
              "    </tr>\n",
              "    <tr>\n",
              "      <th>Fem</th>\n",
              "      <td>1</td>\n",
              "    </tr>\n",
              "  </tbody>\n",
              "</table>\n",
              "</div><br><label><b>dtype:</b> int64</label>"
            ]
          },
          "metadata": {},
          "execution_count": 36
        }
      ]
    },
    {
      "cell_type": "code",
      "source": [
        "# Padronizar Genero de acordo, onde ('M' por \"Masculino' e 'Fem' e 'F' por 'Feminino')\n",
        "dataset.loc[dataset['Genero'] == 'M', 'Genero'] = 'Masculino'\n",
        "dataset.loc[dataset['Genero'].isin(['Fem', 'F']), 'Genero'] = 'Feminino'\n",
        "dataset['Genero'].unique()"
      ],
      "metadata": {
        "id": "xoNZcEMdP04D",
        "outputId": "7fc37868-724f-4d49-b3af-21fa0322b19d",
        "colab": {
          "base_uri": "https://localhost:8080/"
        }
      },
      "execution_count": 37,
      "outputs": [
        {
          "output_type": "execute_result",
          "data": {
            "text/plain": [
              "array(['Feminino', 'Masculino'], dtype=object)"
            ]
          },
          "metadata": {},
          "execution_count": 37
        }
      ]
    },
    {
      "cell_type": "code",
      "source": [
        "dataset['Genero'].value_counts()"
      ],
      "metadata": {
        "id": "10RVjJSeM01w",
        "outputId": "76475c1a-c968-43db-f521-e3cd5274c6dd",
        "colab": {
          "base_uri": "https://localhost:8080/",
          "height": 178
        }
      },
      "execution_count": 38,
      "outputs": [
        {
          "output_type": "execute_result",
          "data": {
            "text/plain": [
              "Genero\n",
              "Masculino    535\n",
              "Feminino     464\n",
              "Name: count, dtype: int64"
            ],
            "text/html": [
              "<div>\n",
              "<style scoped>\n",
              "    .dataframe tbody tr th:only-of-type {\n",
              "        vertical-align: middle;\n",
              "    }\n",
              "\n",
              "    .dataframe tbody tr th {\n",
              "        vertical-align: top;\n",
              "    }\n",
              "\n",
              "    .dataframe thead th {\n",
              "        text-align: right;\n",
              "    }\n",
              "</style>\n",
              "<table border=\"1\" class=\"dataframe\">\n",
              "  <thead>\n",
              "    <tr style=\"text-align: right;\">\n",
              "      <th></th>\n",
              "      <th>count</th>\n",
              "    </tr>\n",
              "    <tr>\n",
              "      <th>Genero</th>\n",
              "      <th></th>\n",
              "    </tr>\n",
              "  </thead>\n",
              "  <tbody>\n",
              "    <tr>\n",
              "      <th>Masculino</th>\n",
              "      <td>535</td>\n",
              "    </tr>\n",
              "    <tr>\n",
              "      <th>Feminino</th>\n",
              "      <td>464</td>\n",
              "    </tr>\n",
              "  </tbody>\n",
              "</table>\n",
              "</div><br><label><b>dtype:</b> int64</label>"
            ]
          },
          "metadata": {},
          "execution_count": 38
        }
      ]
    },
    {
      "cell_type": "code",
      "source": [
        "# Outliers em Salário\n",
        "\n",
        "%matplotlib inline\n",
        "\n",
        "fig, axes = plt.subplots(ncols=2, figsize=(10,3))\n",
        "\n",
        "dataset['Salario'].hist(ax=axes[0], bins=20)\n",
        "axes[0].set_title('Histograma de Salário')\n",
        "\n",
        "dataset['Salario'].plot(kind='box', ax=axes[1])\n",
        "axes[1].set_title('Boxplot de Salário')\n"
      ],
      "metadata": {
        "id": "-AZ-kT0_Rs24",
        "outputId": "26532d99-ca7b-4988-c261-c1e51511ba07",
        "colab": {
          "base_uri": "https://localhost:8080/",
          "height": 349
        }
      },
      "execution_count": 41,
      "outputs": [
        {
          "output_type": "execute_result",
          "data": {
            "text/plain": [
              "Text(0.5, 1.0, 'Boxplot de Salário')"
            ]
          },
          "metadata": {},
          "execution_count": 41
        },
        {
          "output_type": "display_data",
          "data": {
            "text/plain": [
              "<Figure size 1000x300 with 2 Axes>"
            ],
            "image/png": "[encoded data removed]"
          },
          "metadata": {}
        }
      ]
    },
    {
      "cell_type": "code",
      "source": [
        "# Calcula o desvio padrão\n",
        "import statistics as sts\n",
        "desv = sts.stdev(dataset['Salario'])\n",
        "desv"
      ],
      "metadata": {
        "id": "Vg5usg-gSphK",
        "outputId": "f6fada75-ea70-49f5-cb6a-d22db4aa27f3",
        "colab": {
          "base_uri": "https://localhost:8080/"
        }
      },
      "execution_count": 42,
      "outputs": [
        {
          "output_type": "execute_result",
          "data": {
            "text/plain": [
              "528720617.4240976"
            ]
          },
          "metadata": {},
          "execution_count": 42
        }
      ]
    },
    {
      "cell_type": "code",
      "source": [
        "# Define a faixa aceitável - visualizando a quantidade de salarios maiores que 2 desvios padroes\n",
        "dataset.loc[dataset['Salario'] >= 2 * desv, 'Salario']"
      ],
      "metadata": {
        "id": "oxwSWWwoOfSY",
        "outputId": "d06d8f21-e4fe-4b15-9275-1b508f12f5ba",
        "colab": {
          "base_uri": "https://localhost:8080/",
          "height": 209
        }
      },
      "execution_count": 44,
      "outputs": [
        {
          "output_type": "execute_result",
          "data": {
            "text/plain": [
              "7      1.193469e+10\n",
              "116    1.156383e+10\n",
              "170    1.640179e+09\n",
              "230    1.119812e+09\n",
              "Name: Salario, dtype: float64"
            ],
            "text/html": [
              "<div>\n",
              "<style scoped>\n",
              "    .dataframe tbody tr th:only-of-type {\n",
              "        vertical-align: middle;\n",
              "    }\n",
              "\n",
              "    .dataframe tbody tr th {\n",
              "        vertical-align: top;\n",
              "    }\n",
              "\n",
              "    .dataframe thead th {\n",
              "        text-align: right;\n",
              "    }\n",
              "</style>\n",
              "<table border=\"1\" class=\"dataframe\">\n",
              "  <thead>\n",
              "    <tr style=\"text-align: right;\">\n",
              "      <th></th>\n",
              "      <th>Salario</th>\n",
              "    </tr>\n",
              "  </thead>\n",
              "  <tbody>\n",
              "    <tr>\n",
              "      <th>7</th>\n",
              "      <td>1.193469e+10</td>\n",
              "    </tr>\n",
              "    <tr>\n",
              "      <th>116</th>\n",
              "      <td>1.156383e+10</td>\n",
              "    </tr>\n",
              "    <tr>\n",
              "      <th>170</th>\n",
              "      <td>1.640179e+09</td>\n",
              "    </tr>\n",
              "    <tr>\n",
              "      <th>230</th>\n",
              "      <td>1.119812e+09</td>\n",
              "    </tr>\n",
              "  </tbody>\n",
              "</table>\n",
              "</div><br><label><b>dtype:</b> float64</label>"
            ]
          },
          "metadata": {},
          "execution_count": 44
        }
      ]
    },
    {
      "cell_type": "code",
      "source": [
        "# Define a faixa aceitável\n",
        "dataset.loc[dataset['Salario'] >= 2 * desv, 'Salario'] = 2 * desv"
      ],
      "metadata": {
        "id": "HcQ_dqotRe7E"
      },
      "execution_count": 45,
      "outputs": []
    },
    {
      "cell_type": "code",
      "source": [
        "# Verifica o resultado\n",
        "%matplotlib inline\n",
        "\n",
        "fig, axes = plt.subplots(ncols=2, figsize=(10,3))\n",
        "\n",
        "dataset['Salario'].hist(ax=axes[0], bins=20)\n",
        "axes[0].set_title('Histograma de Salário')\n",
        "\n",
        "dataset['Salario'].plot(kind='box', ax=axes[1])\n",
        "axes[1].set_title('Boxplot de Salário')"
      ],
      "metadata": {
        "id": "j1-TTATNZCFJ",
        "outputId": "478a6b0e-e613-42f7-d628-370446d1d097",
        "colab": {
          "base_uri": "https://localhost:8080/",
          "height": 349
        }
      },
      "execution_count": 46,
      "outputs": [
        {
          "output_type": "execute_result",
          "data": {
            "text/plain": [
              "Text(0.5, 1.0, 'Boxplot de Salário')"
            ]
          },
          "metadata": {},
          "execution_count": 46
        },
        {
          "output_type": "display_data",
          "data": {
            "text/plain": [
              "<Figure size 1000x300 with 2 Axes>"
            ],
            "image/png": "[encoded data removed]"
          },
          "metadata": {}
        }
      ]
    },
    {
      "cell_type": "code",
      "source": [
        "dataset.loc[dataset['Salario'] >= 2 * desv, 'Salario']"
      ],
      "metadata": {
        "id": "6kyVabaCPJ0h",
        "outputId": "ef9bad3f-cd24-4eee-a92c-82216f1b039d",
        "colab": {
          "base_uri": "https://localhost:8080/",
          "height": 209
        }
      },
      "execution_count": 47,
      "outputs": [
        {
          "output_type": "execute_result",
          "data": {
            "text/plain": [
              "7      1.057441e+09\n",
              "116    1.057441e+09\n",
              "170    1.057441e+09\n",
              "230    1.057441e+09\n",
              "Name: Salario, dtype: float64"
            ],
            "text/html": [
              "<div>\n",
              "<style scoped>\n",
              "    .dataframe tbody tr th:only-of-type {\n",
              "        vertical-align: middle;\n",
              "    }\n",
              "\n",
              "    .dataframe tbody tr th {\n",
              "        vertical-align: top;\n",
              "    }\n",
              "\n",
              "    .dataframe thead th {\n",
              "        text-align: right;\n",
              "    }\n",
              "</style>\n",
              "<table border=\"1\" class=\"dataframe\">\n",
              "  <thead>\n",
              "    <tr style=\"text-align: right;\">\n",
              "      <th></th>\n",
              "      <th>Salario</th>\n",
              "    </tr>\n",
              "  </thead>\n",
              "  <tbody>\n",
              "    <tr>\n",
              "      <th>7</th>\n",
              "      <td>1.057441e+09</td>\n",
              "    </tr>\n",
              "    <tr>\n",
              "      <th>116</th>\n",
              "      <td>1.057441e+09</td>\n",
              "    </tr>\n",
              "    <tr>\n",
              "      <th>170</th>\n",
              "      <td>1.057441e+09</td>\n",
              "    </tr>\n",
              "    <tr>\n",
              "      <th>230</th>\n",
              "      <td>1.057441e+09</td>\n",
              "    </tr>\n",
              "  </tbody>\n",
              "</table>\n",
              "</div><br><label><b>dtype:</b> float64</label>"
            ]
          },
          "metadata": {},
          "execution_count": 47
        }
      ]
    },
    {
      "cell_type": "code",
      "source": [
        "dataset['Score'].min()"
      ],
      "metadata": {
        "id": "Di-t7VT9Zk_5",
        "outputId": "1540dff8-e268-4f3b-a024-4423666a899d",
        "colab": {
          "base_uri": "https://localhost:8080/"
        }
      },
      "execution_count": 48,
      "outputs": [
        {
          "output_type": "execute_result",
          "data": {
            "text/plain": [
              "376"
            ]
          },
          "metadata": {},
          "execution_count": 48
        }
      ]
    },
    {
      "cell_type": "code",
      "source": [
        "dataset['Score'].max()"
      ],
      "metadata": {
        "id": "kHykbEiqZq0-",
        "outputId": "9183110b-7c46-48d7-9f38-f3b50f7f7bb2",
        "colab": {
          "base_uri": "https://localhost:8080/"
        }
      },
      "execution_count": 49,
      "outputs": [
        {
          "output_type": "execute_result",
          "data": {
            "text/plain": [
              "850"
            ]
          },
          "metadata": {},
          "execution_count": 49
        }
      ]
    },
    {
      "cell_type": "code",
      "source": [
        "# Padronização dos dados\n",
        "# Score - MinMax\n",
        "dataset['Score'] = (dataset['Score'] - dataset['Score'].min()) / (dataset['Score'].max() - dataset['Score'].min())\n",
        "# Idade - MinMax\n",
        "dataset['Idade'] = (dataset['Idade'] - dataset['Idade'].min()) / (dataset['Idade'].max() - dataset['Idade'].min())\n",
        "# Saldo - MinMax\n",
        "dataset['Saldo'] = (dataset['Saldo'] - dataset['Saldo'].min()) / (dataset['Saldo'].max() - dataset['Saldo'].min())\n",
        "# Salário - MinMax\n",
        "dataset['Salario'] = (dataset['Salario'] - dataset['Salario'].min()) / (dataset['Salario'].max() - dataset['Salario'].min())"
      ],
      "metadata": {
        "id": "BWLW4aDLZIhW"
      },
      "execution_count": null,
      "outputs": []
    },
    {
      "cell_type": "code",
      "source": [
        "# Transformação de variáveis categóricas em numéricas\n",
        "from sklearn.preprocessing import LabelEncoder\n",
        "# Estado\n",
        "label_encoder = LabelEncoder()\n",
        "dataset['Estado'] = label_encoder.fit_transform(dataset['Estado'])\n",
        "# Gênero\n",
        "label_encoder = LabelEncoder()\n",
        "dataset['Genero'] = label_encoder.fit_transform(dataset['Genero'])\n",
        "# Visualiza o resultado\n",
        "dataset.head()"
      ],
      "metadata": {
        "id": "cdc8PW1Gbs1m",
        "outputId": "2d8e62f8-00cc-41f3-b11f-dfda00343734",
        "colab": {
          "base_uri": "https://localhost:8080/",
          "height": 206
        }
      },
      "execution_count": 50,
      "outputs": [
        {
          "output_type": "execute_result",
          "data": {
            "text/plain": [
              "   Id  Score  Estado  Genero  Idade  Patrimonio     Saldo  Produtos  \\\n",
              "0   1    619       1       0     42           2         0         1   \n",
              "1   2    608       2       0     41           1   8380786         1   \n",
              "2   3    502       1       0     42           8   1596608         3   \n",
              "3   4    699       1       0     39           1         0         2   \n",
              "4   5    850       2       0     43           2  12551082         1   \n",
              "\n",
              "   TemCartCredito  Ativo     Salario  Saiu  \n",
              "0               1      1  10134888.0     1  \n",
              "1               0      1  11254258.0     0  \n",
              "2               1      0  11393157.0     1  \n",
              "3               0      0   9382663.0     0  \n",
              "4               1      1    790841.0     0  "
            ],
            "text/html": [
              "\n",
              "  <div id=\"df-ad407139-5be5-4794-a3cd-b9302d63a5c2\" class=\"colab-df-container\">\n",
              "    <div>\n",
              "<style scoped>\n",
              "    .dataframe tbody tr th:only-of-type {\n",
              "        vertical-align: middle;\n",
              "    }\n",
              "\n",
              "    .dataframe tbody tr th {\n",
              "        vertical-align: top;\n",
              "    }\n",
              "\n",
              "    .dataframe thead th {\n",
              "        text-align: right;\n",
              "    }\n",
              "</style>\n",
              "<table border=\"1\" class=\"dataframe\">\n",
              "  <thead>\n",
              "    <tr style=\"text-align: right;\">\n",
              "      <th></th>\n",
              "      <th>Id</th>\n",
              "      <th>Score</th>\n",
              "      <th>Estado</th>\n",
              "      <th>Genero</th>\n",
              "      <th>Idade</th>\n",
              "      <th>Patrimonio</th>\n",
              "      <th>Saldo</th>\n",
              "      <th>Produtos</th>\n",
              "      <th>TemCartCredito</th>\n",
              "      <th>Ativo</th>\n",
              "      <th>Salario</th>\n",
              "      <th>Saiu</th>\n",
              "    </tr>\n",
              "  </thead>\n",
              "  <tbody>\n",
              "    <tr>\n",
              "      <th>0</th>\n",
              "      <td>1</td>\n",
              "      <td>619</td>\n",
              "      <td>1</td>\n",
              "      <td>0</td>\n",
              "      <td>42</td>\n",
              "      <td>2</td>\n",
              "      <td>0</td>\n",
              "      <td>1</td>\n",
              "      <td>1</td>\n",
              "      <td>1</td>\n",
              "      <td>10134888.0</td>\n",
              "      <td>1</td>\n",
              "    </tr>\n",
              "    <tr>\n",
              "      <th>1</th>\n",
              "      <td>2</td>\n",
              "      <td>608</td>\n",
              "      <td>2</td>\n",
              "      <td>0</td>\n",
              "      <td>41</td>\n",
              "      <td>1</td>\n",
              "      <td>8380786</td>\n",
              "      <td>1</td>\n",
              "      <td>0</td>\n",
              "      <td>1</td>\n",
              "      <td>11254258.0</td>\n",
              "      <td>0</td>\n",
              "    </tr>\n",
              "    <tr>\n",
              "      <th>2</th>\n",
              "      <td>3</td>\n",
              "      <td>502</td>\n",
              "      <td>1</td>\n",
              "      <td>0</td>\n",
              "      <td>42</td>\n",
              "      <td>8</td>\n",
              "      <td>1596608</td>\n",
              "      <td>3</td>\n",
              "      <td>1</td>\n",
              "      <td>0</td>\n",
              "      <td>11393157.0</td>\n",
              "      <td>1</td>\n",
              "    </tr>\n",
              "    <tr>\n",
              "      <th>3</th>\n",
              "      <td>4</td>\n",
              "      <td>699</td>\n",
              "      <td>1</td>\n",
              "      <td>0</td>\n",
              "      <td>39</td>\n",
              "      <td>1</td>\n",
              "      <td>0</td>\n",
              "      <td>2</td>\n",
              "      <td>0</td>\n",
              "      <td>0</td>\n",
              "      <td>9382663.0</td>\n",
              "      <td>0</td>\n",
              "    </tr>\n",
              "    <tr>\n",
              "      <th>4</th>\n",
              "      <td>5</td>\n",
              "      <td>850</td>\n",
              "      <td>2</td>\n",
              "      <td>0</td>\n",
              "      <td>43</td>\n",
              "      <td>2</td>\n",
              "      <td>12551082</td>\n",
              "      <td>1</td>\n",
              "      <td>1</td>\n",
              "      <td>1</td>\n",
              "      <td>790841.0</td>\n",
              "      <td>0</td>\n",
              "    </tr>\n",
              "  </tbody>\n",
              "</table>\n",
              "</div>\n",
              "    <div class=\"colab-df-buttons\">\n",
              "\n",
              "  <div class=\"colab-df-container\">\n",
              "    <button class=\"colab-df-convert\" onclick=\"convertToInteractive('df-ad407139-5be5-4794-a3cd-b9302d63a5c2')\"\n",
              "            title=\"Convert this dataframe to an interactive table.\"\n",
              "            style=\"display:none;\">\n",
              "\n",
              "  <svg xmlns=\"http://www.w3.org/2000/svg\" height=\"24px\" viewBox=\"0 -960 960 960\">\n",
              "    <path d=\"M120-120v-720h720v720H120Zm60-500h600v-160H180v160Zm220 220h160v-160H400v160Zm0 220h160v-160H400v160ZM180-400h160v-160H180v160Zm440 0h160v-160H620v160ZM180-180h160v-160H180v160Zm440 0h160v-160H620v160Z\"/>\n",
              "  </svg>\n",
              "    </button>\n",
              "\n",
              "  <style>\n",
              "    .colab-df-container {\n",
              "      display:flex;\n",
              "      gap: 12px;\n",
              "    }\n",
              "\n",
              "    .colab-df-convert {\n",
              "      background-color: #E8F0FE;\n",
              "      border: none;\n",
              "      border-radius: 50%;\n",
              "      cursor: pointer;\n",
              "      display: none;\n",
              "      fill: #1967D2;\n",
              "      height: 32px;\n",
              "      padding: 0 0 0 0;\n",
              "      width: 32px;\n",
              "    }\n",
              "\n",
              "    .colab-df-convert:hover {\n",
              "      background-color: #E2EBFA;\n",
              "      box-shadow: 0px 1px 2px rgba(60, 64, 67, 0.3), 0px 1px 3px 1px rgba(60, 64, 67, 0.15);\n",
              "      fill: #174EA6;\n",
              "    }\n",
              "\n",
              "    .colab-df-buttons div {\n",
              "      margin-bottom: 4px;\n",
              "    }\n",
              "\n",
              "    [theme=dark] .colab-df-convert {\n",
              "      background-color: #3B4455;\n",
              "      fill: #D2E3FC;\n",
              "    }\n",
              "\n",
              "    [theme=dark] .colab-df-convert:hover {\n",
              "      background-color: #434B5C;\n",
              "      box-shadow: 0px 1px 3px 1px rgba(0, 0, 0, 0.15);\n",
              "      filter: drop-shadow(0px 1px 2px rgba(0, 0, 0, 0.3));\n",
              "      fill: #FFFFFF;\n",
              "    }\n",
              "  </style>\n",
              "\n",
              "    <script>\n",
              "      const buttonEl =\n",
              "        document.querySelector('#df-ad407139-5be5-4794-a3cd-b9302d63a5c2 button.colab-df-convert');\n",
              "      buttonEl.style.display =\n",
              "        google.colab.kernel.accessAllowed ? 'block' : 'none';\n",
              "\n",
              "      async function convertToInteractive(key) {\n",
              "        const element = document.querySelector('#df-ad407139-5be5-4794-a3cd-b9302d63a5c2');\n",
              "        const dataTable =\n",
              "          await google.colab.kernel.invokeFunction('convertToInteractive',\n",
              "                                                    [key], {});\n",
              "        if (!dataTable) return;\n",
              "\n",
              "        const docLinkHtml = 'Like what you see? Visit the ' +\n",
              "          '<a target=\"_blank\" href=https://colab.research.google.com/notebooks/data_table.ipynb>data table notebook</a>'\n",
              "          + ' to learn more about interactive tables.';\n",
              "        element.innerHTML = '';\n",
              "        dataTable['output_type'] = 'display_data';\n",
              "        await google.colab.output.renderOutput(dataTable, element);\n",
              "        const docLink = document.createElement('div');\n",
              "        docLink.innerHTML = docLinkHtml;\n",
              "        element.appendChild(docLink);\n",
              "      }\n",
              "    </script>\n",
              "  </div>\n",
              "\n",
              "\n",
              "<div id=\"df-f3809963-9e86-4492-bc98-9752e5045272\">\n",
              "  <button class=\"colab-df-quickchart\" onclick=\"quickchart('df-f3809963-9e86-4492-bc98-9752e5045272')\"\n",
              "            title=\"Suggest charts\"\n",
              "            style=\"display:none;\">\n",
              "\n",
              "<svg xmlns=\"http://www.w3.org/2000/svg\" height=\"24px\"viewBox=\"0 0 24 24\"\n",
              "     width=\"24px\">\n",
              "    <g>\n",
              "        <path d=\"M19 3H5c-1.1 0-2 .9-2 2v14c0 1.1.9 2 2 2h14c1.1 0 2-.9 2-2V5c0-1.1-.9-2-2-2zM9 17H7v-7h2v7zm4 0h-2V7h2v10zm4 0h-2v-4h2v4z\"/>\n",
              "    </g>\n",
              "</svg>\n",
              "  </button>\n",
              "\n",
              "<style>\n",
              "  .colab-df-quickchart {\n",
              "      --bg-color: #E8F0FE;\n",
              "      --fill-color: #1967D2;\n",
              "      --hover-bg-color: #E2EBFA;\n",
              "      --hover-fill-color: #174EA6;\n",
              "      --disabled-fill-color: #AAA;\n",
              "      --disabled-bg-color: #DDD;\n",
              "  }\n",
              "\n",
              "  [theme=dark] .colab-df-quickchart {\n",
              "      --bg-color: #3B4455;\n",
              "      --fill-color: #D2E3FC;\n",
              "      --hover-bg-color: #434B5C;\n",
              "      --hover-fill-color: #FFFFFF;\n",
              "      --disabled-bg-color: #3B4455;\n",
              "      --disabled-fill-color: #666;\n",
              "  }\n",
              "\n",
              "  .colab-df-quickchart {\n",
              "    background-color: var(--bg-color);\n",
              "    border: none;\n",
              "    border-radius: 50%;\n",
              "    cursor: pointer;\n",
              "    display: none;\n",
              "    fill: var(--fill-color);\n",
              "    height: 32px;\n",
              "    padding: 0;\n",
              "    width: 32px;\n",
              "  }\n",
              "\n",
              "  .colab-df-quickchart:hover {\n",
              "    background-color: var(--hover-bg-color);\n",
              "    box-shadow: 0 1px 2px rgba(60, 64, 67, 0.3), 0 1px 3px 1px rgba(60, 64, 67, 0.15);\n",
              "    fill: var(--button-hover-fill-color);\n",
              "  }\n",
              "\n",
              "  .colab-df-quickchart-complete:disabled,\n",
              "  .colab-df-quickchart-complete:disabled:hover {\n",
              "    background-color: var(--disabled-bg-color);\n",
              "    fill: var(--disabled-fill-color);\n",
              "    box-shadow: none;\n",
              "  }\n",
              "\n",
              "  .colab-df-spinner {\n",
              "    border: 2px solid var(--fill-color);\n",
              "    border-color: transparent;\n",
              "    border-bottom-color: var(--fill-color);\n",
              "    animation:\n",
              "      spin 1s steps(1) infinite;\n",
              "  }\n",
              "\n",
              "  @keyframes spin {\n",
              "    0% {\n",
              "      border-color: transparent;\n",
              "      border-bottom-color: var(--fill-color);\n",
              "      border-left-color: var(--fill-color);\n",
              "    }\n",
              "    20% {\n",
              "      border-color: transparent;\n",
              "      border-left-color: var(--fill-color);\n",
              "      border-top-color: var(--fill-color);\n",
              "    }\n",
              "    30% {\n",
              "      border-color: transparent;\n",
              "      border-left-color: var(--fill-color);\n",
              "      border-top-color: var(--fill-color);\n",
              "      border-right-color: var(--fill-color);\n",
              "    }\n",
              "    40% {\n",
              "      border-color: transparent;\n",
              "      border-right-color: var(--fill-color);\n",
              "      border-top-color: var(--fill-color);\n",
              "    }\n",
              "    60% {\n",
              "      border-color: transparent;\n",
              "      border-right-color: var(--fill-color);\n",
              "    }\n",
              "    80% {\n",
              "      border-color: transparent;\n",
              "      border-right-color: var(--fill-color);\n",
              "      border-bottom-color: var(--fill-color);\n",
              "    }\n",
              "    90% {\n",
              "      border-color: transparent;\n",
              "      border-bottom-color: var(--fill-color);\n",
              "    }\n",
              "  }\n",
              "</style>\n",
              "\n",
              "  <script>\n",
              "    async function quickchart(key) {\n",
              "      const quickchartButtonEl =\n",
              "        document.querySelector('#' + key + ' button');\n",
              "      quickchartButtonEl.disabled = true;  // To prevent multiple clicks.\n",
              "      quickchartButtonEl.classList.add('colab-df-spinner');\n",
              "      try {\n",
              "        const charts = await google.colab.kernel.invokeFunction(\n",
              "            'suggestCharts', [key], {});\n",
              "      } catch (error) {\n",
              "        console.error('Error during call to suggestCharts:', error);\n",
              "      }\n",
              "      quickchartButtonEl.classList.remove('colab-df-spinner');\n",
              "      quickchartButtonEl.classList.add('colab-df-quickchart-complete');\n",
              "    }\n",
              "    (() => {\n",
              "      let quickchartButtonEl =\n",
              "        document.querySelector('#df-f3809963-9e86-4492-bc98-9752e5045272 button');\n",
              "      quickchartButtonEl.style.display =\n",
              "        google.colab.kernel.accessAllowed ? 'block' : 'none';\n",
              "    })();\n",
              "  </script>\n",
              "</div>\n",
              "\n",
              "    </div>\n",
              "  </div>\n"
            ],
            "application/vnd.google.colaboratory.intrinsic+json": {
              "type": "dataframe",
              "variable_name": "dataset",
              "summary": "{\n  \"name\": \"dataset\",\n  \"rows\": 999,\n  \"fields\": [\n    {\n      \"column\": \"Id\",\n      \"properties\": {\n        \"dtype\": \"number\",\n        \"std\": 288,\n        \"min\": 1,\n        \"max\": 1000,\n        \"num_unique_values\": 998,\n        \"samples\": [\n          456,\n          795,\n          212\n        ],\n        \"semantic_type\": \"\",\n        \"description\": \"\"\n      }\n    },\n    {\n      \"column\": \"Score\",\n      \"properties\": {\n        \"dtype\": \"number\",\n        \"std\": 98,\n        \"min\": 376,\n        \"max\": 850,\n        \"num_unique_values\": 354,\n        \"samples\": [\n          840,\n          660,\n          417\n        ],\n        \"semantic_type\": \"\",\n        \"description\": \"\"\n      }\n    },\n    {\n      \"column\": \"Estado\",\n      \"properties\": {\n        \"dtype\": \"number\",\n        \"std\": 0,\n        \"min\": 0,\n        \"max\": 2,\n        \"num_unique_values\": 3,\n        \"samples\": [\n          1,\n          2,\n          0\n        ],\n        \"semantic_type\": \"\",\n        \"description\": \"\"\n      }\n    },\n    {\n      \"column\": \"Genero\",\n      \"properties\": {\n        \"dtype\": \"number\",\n        \"std\": 0,\n        \"min\": 0,\n        \"max\": 1,\n        \"num_unique_values\": 2,\n        \"samples\": [\n          1,\n          0\n        ],\n        \"semantic_type\": \"\",\n        \"description\": \"\"\n      }\n    },\n    {\n      \"column\": \"Idade\",\n      \"properties\": {\n        \"dtype\": \"number\",\n        \"std\": 11,\n        \"min\": -20,\n        \"max\": 140,\n        \"num_unique_values\": 64,\n        \"samples\": [\n          60,\n          69\n        ],\n        \"semantic_type\": \"\",\n        \"description\": \"\"\n      }\n    },\n    {\n      \"column\": \"Patrimonio\",\n      \"properties\": {\n        \"dtype\": \"number\",\n        \"std\": 2,\n        \"min\": 0,\n        \"max\": 10,\n        \"num_unique_values\": 11,\n        \"samples\": [\n          6,\n          2\n        ],\n        \"semantic_type\": \"\",\n        \"description\": \"\"\n      }\n    },\n    {\n      \"column\": \"Saldo\",\n      \"properties\": {\n        \"dtype\": \"number\",\n        \"std\": 6311840,\n        \"min\": 0,\n        \"max\": 21177431,\n        \"num_unique_values\": 649,\n        \"samples\": [\n          12453278,\n          18784199\n        ],\n        \"semantic_type\": \"\",\n        \"description\": \"\"\n      }\n    },\n    {\n      \"column\": \"Produtos\",\n      \"properties\": {\n        \"dtype\": \"number\",\n        \"std\": 0,\n        \"min\": 1,\n        \"max\": 4,\n        \"num_unique_values\": 4,\n        \"samples\": [\n          3,\n          4\n        ],\n        \"semantic_type\": \"\",\n        \"description\": \"\"\n      }\n    },\n    {\n      \"column\": \"TemCartCredito\",\n      \"properties\": {\n        \"dtype\": \"number\",\n        \"std\": 0,\n        \"min\": 0,\n        \"max\": 1,\n        \"num_unique_values\": 2,\n        \"samples\": [\n          0,\n          1\n        ],\n        \"semantic_type\": \"\",\n        \"description\": \"\"\n      }\n    },\n    {\n      \"column\": \"Ativo\",\n      \"properties\": {\n        \"dtype\": \"number\",\n        \"std\": 0,\n        \"min\": 0,\n        \"max\": 1,\n        \"num_unique_values\": 2,\n        \"samples\": [\n          0,\n          1\n        ],\n        \"semantic_type\": \"\",\n        \"description\": \"\"\n      }\n    },\n    {\n      \"column\": \"Salario\",\n      \"properties\": {\n        \"dtype\": \"number\",\n        \"std\": 66525339.28029758,\n        \"min\": 9677.0,\n        \"max\": 1057441234.8481952,\n        \"num_unique_values\": 985,\n        \"samples\": [\n          938393.0,\n          10692057.0\n        ],\n        \"semantic_type\": \"\",\n        \"description\": \"\"\n      }\n    },\n    {\n      \"column\": \"Saiu\",\n      \"properties\": {\n        \"dtype\": \"number\",\n        \"std\": 0,\n        \"min\": 0,\n        \"max\": 1,\n        \"num_unique_values\": 2,\n        \"samples\": [\n          0,\n          1\n        ],\n        \"semantic_type\": \"\",\n        \"description\": \"\"\n      }\n    }\n  ]\n}"
            }
          },
          "metadata": {},
          "execution_count": 50
        }
      ]
    },
    {
      "cell_type": "code",
      "source": [
        "# Escalonamento de atributos numéricos\n",
        "from sklearn.preprocessing import StandardScaler\n",
        "scaler = StandardScaler()\n",
        "dataset[['Score', 'Idade', 'Saldo', 'Salario']] = scaler.fit_transform(dataset[['Score', 'Idade', 'Saldo', 'Salario']])\n",
        "# Visualiza o resultado\n",
        "dataset.head()"
      ],
      "metadata": {
        "id": "iMUQAfHLb8Fv"
      },
      "execution_count": null,
      "outputs": []
    },
    {
      "cell_type": "code",
      "source": [
        "# prompt: visualizacoes e insights\n",
        "\n",
        "# Correlação entre as variáveis\n",
        "correlation = dataset.corr()\n",
        "\n",
        "# Visualização da correlação\n",
        "import seaborn as sns\n",
        "sns.heatmap(correlation, annot=True, fmt=\".2f\")"
      ],
      "metadata": {
        "id": "jL_BLmRkcg4k",
        "outputId": "75d0d955-093c-42ca-ce23-64bde0f2c9cc",
        "colab": {
          "base_uri": "https://localhost:8080/",
          "height": 547
        }
      },
      "execution_count": 51,
      "outputs": [
        {
          "output_type": "execute_result",
          "data": {
            "text/plain": [
              "<Axes: >"
            ]
          },
          "metadata": {},
          "execution_count": 51
        },
        {
          "output_type": "display_data",
          "data": {
            "text/plain": [
              "<Figure size 640x480 with 2 Axes>"
            ],
            "image/png": "[encoded data removed]"
          },
          "metadata": {}
        }
      ]
    },
    {
      "cell_type": "code",
      "source": [
        "# calcular a correlação entre Saldo e Salário\n",
        "correlation = dataset['Saldo'].corr(dataset['Salario'])\n",
        "\n",
        "# exibir a correlação\n",
        "print(f'Correlação entre Saldo e Salário: {correlation:.2f}')\n",
        "\n",
        "# criar um gráfico de dispersão para visualizar a correlação\n",
        "plt.figure(figsize=(3, 3))\n",
        "plt.scatter(dataset['Saldo'], dataset['Salario'])\n",
        "plt.xlabel('Saldo')\n",
        "plt.ylabel('Salario')\n",
        "plt.title('Correlação entre Saldo e Salário')\n",
        "plt.show()\n",
        "\n",
        "# exibir um insight sobre a correlação\n",
        "print('Insight:')\n",
        "if correlation > 0.5:\n",
        "  print('A afirmação é verdadeira. Saldo e Salário têm uma correlação positiva moderada.')\n",
        "elif correlation > 0:\n",
        "  print('Saldo e Salário têm uma correlação positiva fraca.')\n",
        "elif correlation < 0:\n",
        "  print('Saldo e Salário têm uma correlação negativa.')\n",
        "else:\n",
        "  print('Saldo e Salário não têm correlação.')\n"
      ],
      "metadata": {
        "id": "sUo1-5k5rEgW",
        "outputId": "1edf5efd-e206-49e6-b670-c451ba9664e2",
        "colab": {
          "base_uri": "https://localhost:8080/",
          "height": 401
        }
      },
      "execution_count": 52,
      "outputs": [
        {
          "output_type": "stream",
          "name": "stdout",
          "text": [
            "Correlação entre Saldo e Salário: -0.01\n"
          ]
        },
        {
          "output_type": "display_data",
          "data": {
            "text/plain": [
              "<Figure size 300x300 with 1 Axes>"
            ],
            "image/png": "[encoded data removed]"
          },
          "metadata": {}
        },
        {
          "output_type": "stream",
          "name": "stdout",
          "text": [
            "Insight:\n",
            "Saldo e Salário têm uma correlação negativa.\n"
          ]
        }
      ]
    },
    {
      "cell_type": "markdown",
      "source": [
        "`A correlação de -0.01 entre \"Saldo\" e \"Salário\" sugere que há uma relação linear muito fraca e negativa entre essas duas variáveis. Na prática, isso significa que mudanças no \"Saldo\" não estão fortemente associadas a mudanças no \"Salário\", e a relação entre elas é praticamente insignificante.`"
      ],
      "metadata": {
        "id": "XH0rA2wUts_c"
      }
    },
    {
      "cell_type": "code",
      "source": [
        "# calcular a correlação entre Idade e Saldo\n",
        "correlation = dataset['Idade'].corr(dataset['Saldo'])\n",
        "\n",
        "# exibir a correlação\n",
        "print(f'Correlação entre Idade e Saldo: {correlation:.2f}')\n",
        "\n",
        "# criar um gráfico de dispersão para visualizar a correlação\n",
        "plt.figure(figsize=(3, 3))\n",
        "plt.scatter(dataset['Idade'], dataset['Saldo'])\n",
        "plt.xlabel('Idade')\n",
        "plt.ylabel('Saldo')\n",
        "plt.title('Correlação entre Idade e Saldo')\n",
        "plt.show()\n",
        "\n",
        "# exibir um insight sobre a correlação\n",
        "print('Insight:')\n",
        "if correlation > 0.5:\n",
        "  print('Idade e Saldo têm uma correlação positiva moderada.')\n",
        "elif correlation > 0:\n",
        "  print('Idade e Saldo têm uma correlação positiva fraca.')\n",
        "elif correlation < -0.5:\n",
        "  print('Idade e Saldo têm uma correlação negativa moderada.')\n",
        "elif correlation < 0:\n",
        "  print('Idade e Saldo têm uma correlação negativa fraca.')\n",
        "else:\n",
        "  print('Idade e Saldo não têm correlação.')"
      ],
      "metadata": {
        "id": "RB-Ixa4Ht_Gb",
        "outputId": "970bf953-1fe9-4cc9-bde6-f300aaa3b2ed",
        "colab": {
          "base_uri": "https://localhost:8080/",
          "height": 400
        }
      },
      "execution_count": 53,
      "outputs": [
        {
          "output_type": "stream",
          "name": "stdout",
          "text": [
            "Correlação entre Idade e Saldo: -0.03\n"
          ]
        },
        {
          "output_type": "display_data",
          "data": {
            "text/plain": [
              "<Figure size 300x300 with 1 Axes>"
            ],
            "image/png": "[encoded data removed]"
          },
          "metadata": {}
        },
        {
          "output_type": "stream",
          "name": "stdout",
          "text": [
            "Insight:\n",
            "Idade e Saldo têm uma correlação negativa fraca.\n"
          ]
        }
      ]
    },
    {
      "cell_type": "markdown",
      "source": [
        "`A correlação de -0.03 entre \"Idade\" e \"Saldo\" sugere que há uma relação linear muito fraca e negativa entre essas duas variáveis. Na prática, isso significa que, em geral, clientes mais jovens tendem a ter um saldo ligeiramente maior do que clientes mais velhos, mas essa relação é muito fraca e pode ser influenciada por outros fatores.`"
      ],
      "metadata": {
        "id": "oZeSD_r9uoPU"
      }
    },
    {
      "cell_type": "code",
      "source": [
        "# calcular a correlação entre Score e Saída\n",
        "correlation = dataset['Score'].corr(dataset['Saiu'])\n",
        "\n",
        "# exibir a correlação\n",
        "print(f'Correlação entre Score e Saída: {correlation:.2f}')\n",
        "\n",
        "# criar um gráfico de dispersão para visualizar a correlação\n",
        "plt.figure(figsize=(3, 3))\n",
        "plt.scatter(dataset['Score'], dataset['Saiu'])\n",
        "plt.xlabel('Score')\n",
        "plt.ylabel('Saída')\n",
        "plt.title('Correlação entre Score e Saída')\n",
        "plt.show()\n",
        "\n",
        "# exibir um insight sobre a correlação\n",
        "print('Insight:')\n",
        "if correlation > 0.5:\n",
        "  print('Score e Saída têm uma correlação positiva moderada.')\n",
        "elif correlation > 0:\n",
        "  print('Score e Saída têm uma correlação positiva fraca.')\n",
        "elif correlation < -0.5:\n",
        "  print('Score e Saída têm uma correlação negativa moderada.')\n",
        "elif correlation < 0:\n",
        "  print('Score e Saída têm uma correlação negativa fraca.')\n",
        "else:\n",
        "  print('Score e Saída não têm correlação.')"
      ],
      "metadata": {
        "id": "K2BiK5g0vR4p",
        "outputId": "5fe1d46b-707d-459e-b653-63f99cbf601d",
        "colab": {
          "base_uri": "https://localhost:8080/",
          "height": 386
        }
      },
      "execution_count": 54,
      "outputs": [
        {
          "output_type": "stream",
          "name": "stdout",
          "text": [
            "Correlação entre Score e Saída: -0.07\n"
          ]
        },
        {
          "output_type": "display_data",
          "data": {
            "text/plain": [
              "<Figure size 300x300 with 1 Axes>"
            ],
            "image/png": "[encoded data removed]"
          },
          "metadata": {}
        },
        {
          "output_type": "stream",
          "name": "stdout",
          "text": [
            "Insight:\n",
            "Score e Saída têm uma correlação negativa fraca.\n"
          ]
        }
      ]
    },
    {
      "cell_type": "markdown",
      "source": [
        "`A correlação de -0.07 entre \"Score\" e \"Saída\" sugere que há uma relação linear muito fraca e negativa entre essas duas variáveis. Na prática, isso significa que, em geral, clientes com scores mais altos tendem a ter uma probabilidade ligeiramente menor de sair, mas essa relação é muito fraca e pode ser influenciada por outros fatores.`"
      ],
      "metadata": {
        "id": "7Rzu6AJRvqye"
      }
    },
    {
      "cell_type": "code",
      "source": [
        "# calcular a correlação entre Produtos e Saída\n",
        "correlation = dataset['Produtos'].corr(dataset['Saiu'])\n",
        "\n",
        "# exibir a correlação\n",
        "print(f'Correlação entre Produtos e Saída: {correlation:.2f}')\n",
        "\n",
        "# criar um gráfico de dispersão para visualizar a correlação\n",
        "plt.figure(figsize=(3, 3))\n",
        "plt.scatter(dataset['Produtos'], dataset['Saiu'])\n",
        "plt.xlabel('Produtos')\n",
        "plt.ylabel('Saída')\n",
        "plt.title('Correlação entre Produtos e Saída')\n",
        "plt.show()\n",
        "\n",
        "# exibir um insight sobre a correlação\n",
        "print('Insight:')\n",
        "if correlation > 0.5:\n",
        "  print('Produtos e Saída têm uma correlação positiva moderada.')\n",
        "elif correlation > 0:\n",
        "  print('Produtos e Saída têm uma correlação positiva fraca.')\n",
        "elif correlation < -0.5:\n",
        "  print('Produtos e Saída têm uma correlação negativa moderada.')\n",
        "elif correlation < 0:\n",
        "  print('Produtos e Saída têm uma correlação negativa fraca.')\n",
        "else:\n",
        "  print('Produtos e Saída não têm correlação.')"
      ],
      "metadata": {
        "id": "Q8Y7v2kZv_Em",
        "outputId": "804c8657-efee-41d8-d2f3-1adacb62d5cc",
        "colab": {
          "base_uri": "https://localhost:8080/",
          "height": 386
        }
      },
      "execution_count": 55,
      "outputs": [
        {
          "output_type": "stream",
          "name": "stdout",
          "text": [
            "Correlação entre Produtos e Saída: -0.06\n"
          ]
        },
        {
          "output_type": "display_data",
          "data": {
            "text/plain": [
              "<Figure size 300x300 with 1 Axes>"
            ],
            "image/png": "[encoded data removed]"
          },
          "metadata": {}
        },
        {
          "output_type": "stream",
          "name": "stdout",
          "text": [
            "Insight:\n",
            "Produtos e Saída têm uma correlação negativa fraca.\n"
          ]
        }
      ]
    },
    {
      "cell_type": "markdown",
      "source": [
        "`A correlação é negativa fraca, sugerindo que clientes com mais produtos tendem a ter uma probabilidade ligeiramente menor de sair.`"
      ],
      "metadata": {
        "id": "wSFjTxO5xwh7"
      }
    },
    {
      "cell_type": "code",
      "source": [
        "# Insights\n",
        "# Clientes com maior score, maior saldo e mais produtos tendem a sair menos\n",
        "\n",
        "# Cria um novo DataFrame com os clientes que saíram (Saiu == 1)\n",
        "clientes_sairam = dataset[dataset['Saiu'] == 1]\n",
        "\n",
        "# Calcula a média do Score, Saldo e Produtos para os clientes que saíram\n",
        "media_score_sairam = clientes_sairam['Score'].mean()\n",
        "media_saldo_sairam = clientes_sairam['Saldo'].mean()\n",
        "media_produtos_sairam = clientes_sairam['Produtos'].mean()\n",
        "\n",
        "# Cria um novo DataFrame com os clientes que não saíram (Saiu == 0)\n",
        "clientes_nao_sairam = dataset[dataset['Saiu'] == 0]\n",
        "\n",
        "# Calcula a média do Score, Saldo e Produtos para os clientes que não saíram\n",
        "media_score_nao_sairam = clientes_nao_sairam['Score'].mean()\n",
        "media_saldo_nao_sairam = clientes_nao_sairam['Saldo'].mean()\n",
        "media_produtos_nao_sairam = clientes_nao_sairam['Produtos'].mean()"
      ],
      "metadata": {
        "id": "ZNMLexYPgN0h"
      },
      "execution_count": 57,
      "outputs": []
    },
    {
      "cell_type": "code",
      "source": [
        "# Cria um gráfico de barras para comparar as médias\n",
        "\n",
        "import numpy as np\n",
        "\n",
        "labels = ['Score', 'Saldo', 'Produtos']\n",
        "media_sairam = [media_score_sairam, media_saldo_sairam, media_produtos_sairam]\n",
        "media_nao_sairam = [media_score_nao_sairam, media_saldo_nao_sairam, media_produtos_nao_sairam]\n",
        "\n",
        "plt.figure(figsize=(3, 3))\n",
        "\n",
        "x = np.arange(len(labels))  # the label locations\n",
        "width = 0.35  # the width of the bars\n",
        "\n",
        "fig, ax = plt.subplots()\n",
        "rects1 = ax.bar(x - width/2, media_sairam, width, label='Clientes que saíram')\n",
        "rects2 = ax.bar(x + width/2, media_nao_sairam, width, label='Clientes que não saíram')\n",
        "\n",
        "# Add some text for labels, title and custom x-axis tick labels, etc.\n",
        "ax.set_ylabel('Média')\n",
        "ax.set_title('Comparação de médias entre clientes que saíram e não saíram')\n",
        "ax.set_xticks(x)\n",
        "ax.set_xticklabels(labels)\n",
        "ax.legend()\n",
        "\n",
        "fig.tight_layout()\n",
        "\n",
        "plt.show()"
      ],
      "metadata": {
        "id": "zZr5RqBEg4aN",
        "outputId": "f31c7209-776f-4fb7-d496-1ec6b9d6117d",
        "colab": {
          "base_uri": "https://localhost:8080/",
          "height": 504
        }
      },
      "execution_count": 58,
      "outputs": [
        {
          "output_type": "display_data",
          "data": {
            "text/plain": [
              "<Figure size 300x300 with 0 Axes>"
            ]
          },
          "metadata": {}
        },
        {
          "output_type": "display_data",
          "data": {
            "text/plain": [
              "<Figure size 640x480 with 1 Axes>"
            ],
            "image/png": "[encoded data removed]"
          },
          "metadata": {}
        }
      ]
    },
    {
      "cell_type": "code",
      "source": [
        "print('# 1. Padrões de Churn:')\n",
        "# Calcula a média do Score para os clientes que saíram (churn)\n",
        "media_score_churn = dataset[dataset['Saiu'] == 1]['Score'].mean()\n",
        "\n",
        "# Calcula a média do Score para os clientes que não saíram (não churn)\n",
        "media_score_nao_churn = dataset[dataset['Saiu'] == 0]['Score'].mean()\n",
        "\n",
        "print(f'Média do Score para clientes que fizeram churn: {media_score_churn:.2f}')\n",
        "print(f'Média do Score para clientes que não fizeram churn: {media_score_nao_churn:.2f}')\n",
        "\n",
        "# Insight:\n",
        "if media_score_churn < media_score_nao_churn:\n",
        "  print('Clientes com scores mais baixos tendem a ter uma probabilidade ligeiramente maior de churn.')\n",
        "else:\n",
        "  print('Clientes com scores mais baixos NÃO tendem a ter uma probabilidade maior de churn.')\n",
        "\n",
        "print('===============================================================================')\n",
        "# Calcula a média do Saldo para os clientes que saíram (churn)\n",
        "media_saldo_churn = dataset[dataset['Saiu'] == 1]['Saldo'].mean()\n",
        "\n",
        "# Calcula a média do Saldo para os clientes que não saíram (não churn)\n",
        "media_saldo_nao_churn = dataset[dataset['Saiu'] == 0]['Saldo'].mean()\n",
        "\n",
        "print(f'Média do Saldo para clientes que fizeram churn: {media_saldo_churn:.2f}')\n",
        "print(f'Média do Saldo para clientes que não fizeram churn: {media_saldo_nao_churn:.2f}')\n",
        "\n",
        "# Insight:\n",
        "if media_saldo_churn > media_saldo_nao_churn:\n",
        "  print('Clientes com saldos mais altos tendem a ter uma probabilidade ligeiramente maior de churn.')\n",
        "else:\n",
        "  print('Clientes com saldos mais altos NÃO tendem a ter uma probabilidade maior de churn.')\n",
        "\n",
        "print('===============================================================================')\n",
        "\n",
        "# Calcula a média de Produtos para os clientes que saíram (churn)\n",
        "media_produtos_churn = dataset[dataset['Saiu'] == 1]['Produtos'].mean()\n",
        "\n",
        "# Calcula a média de Produtos para os clientes que não saíram (não churn)\n",
        "media_produtos_nao_churn = dataset[dataset['Saiu'] == 0]['Produtos'].mean()\n",
        "\n",
        "print(f'Média de Produtos para clientes que fizeram churn: {media_produtos_churn:.2f}')\n",
        "print(f'Média de Produtos para clientes que não fizeram churn: {media_produtos_nao_churn:.2f}')\n",
        "\n",
        "# Insight:\n",
        "if media_produtos_churn < media_produtos_nao_churn:\n",
        "  print('Clientes com menos produtos tendem a ter uma probabilidade ligeiramente maior de churn.')\n",
        "else:\n",
        "  print('Clientes com menos produtos NÃO tendem a ter uma probabilidade maior de churn.')\n"
      ],
      "metadata": {
        "id": "IuXQAHIrzgJl",
        "outputId": "8b067def-0738-4af7-aa2f-3ce6371bf2c1",
        "colab": {
          "base_uri": "https://localhost:8080/"
        }
      },
      "execution_count": 59,
      "outputs": [
        {
          "output_type": "stream",
          "name": "stdout",
          "text": [
            "# 1. Padrões de Churn:\n",
            "Média do Score para clientes que fizeram churn: 635.57\n",
            "Média do Score para clientes que não fizeram churn: 651.95\n",
            "Clientes com scores mais baixos tendem a ter uma probabilidade ligeiramente maior de churn.\n",
            "===============================================================================\n",
            "Média do Saldo para clientes que fizeram churn: 8523988.16\n",
            "Média do Saldo para clientes que não fizeram churn: 6818332.97\n",
            "Clientes com saldos mais altos tendem a ter uma probabilidade ligeiramente maior de churn.\n",
            "===============================================================================\n",
            "Média de Produtos para clientes que fizeram churn: 1.46\n",
            "Média de Produtos para clientes que não fizeram churn: 1.54\n",
            "Clientes com menos produtos tendem a ter uma probabilidade ligeiramente maior de churn.\n"
          ]
        }
      ]
    },
    {
      "cell_type": "markdown",
      "source": [
        "\n",
        "`2. Importância do Score, Saldo e Produtos: Essas três variáveis, apesar de apresentarem correlações fracas com o churn, podem ser indicadores importantes a serem considerados em estratégias de retenção.`\n",
        "\n",
        "\n"
      ],
      "metadata": {
        "id": "EiHvF7NL2wKm"
      }
    },
    {
      "cell_type": "code",
      "source": [
        "\n",
        "\n",
        "\n",
        "\n",
        "# 3. Necessidade de Análise Multivariada:\n",
        "# - As correlações fracas sugerem que o churn é influenciado por uma combinação de fatores,\n",
        "#   e não apenas por uma única variável. Uma análise multivariada, como regressão logística,\n",
        "#   poderia ajudar a identificar a importância relativa de cada variável e como elas interagem\n",
        "#   para influenciar o churn.\n",
        "\n",
        "# 4. Segmentação de Clientes:\n",
        "# - Os insights sobre os padrões de churn podem ser usados para segmentar clientes com base\n",
        "#   em seu risco de churn. Isso permite que a empresa direcione esforços de retenção de forma\n",
        "#   mais eficaz, concentrando-se nos clientes com maior probabilidade de sair.\n",
        "\n",
        "# 5. Oportunidades de Melhoria:\n",
        "# - A análise dos dados pode revelar oportunidades para melhorar a experiência do cliente e\n",
        "#   reduzir o churn. Por exemplo, a empresa pode considerar oferecer incentivos para clientes\n",
        "#   com scores baixos aumentarem seus scores, ou oferecer produtos adicionais para clientes\n",
        "#   com poucos produtos.\n",
        "\n",
        "# 6. Monitoramento Contínuo:\n",
        "# - É importante monitorar continuamente os padrões de churn e ajustar as estratégias de\n",
        "#   retenção conforme necessário. O churn é um processo dinâmico e as variáveis que o\n",
        "#   influenciam podem mudar ao longo do tempo.\n"
      ],
      "metadata": {
        "id": "v1slawugyRoF"
      },
      "execution_count": null,
      "outputs": []
    },
    {
      "cell_type": "code",
      "source": [
        " # Clientes com maior salário, mais idade e com cartão de crédito tendem a sair menos\n",
        "\n",
        "# Cria um novo DataFrame com os clientes que saíram (Saiu == 1)\n",
        "clientes_sairam = dataset[dataset['Saiu'] == 1]\n",
        "\n",
        "# Calcula a média do Salário, Idade e TemCartCredito para os clientes que saíram\n",
        "media_salario_sairam = clientes_sairam['Salario'].mean()\n",
        "media_idade_sairam = clientes_sairam['Idade'].mean()\n",
        "media_cartao_sairam = clientes_sairam['TemCartCredito'].mean()\n",
        "\n",
        "# Cria um novo DataFrame com os clientes que não saíram (Saiu == 0)\n",
        "clientes_nao_sairam = dataset[dataset['Saiu'] == 0]\n",
        "\n",
        "# Calcula a média do Salário, Idade e TemCartCredito para os clientes que não saíram\n",
        "media_salario_nao_sairam = clientes_nao_sairam['Salario'].mean()\n",
        "media_idade_nao_sairam = clientes_nao_sairam['Idade'].mean()\n",
        "media_cartao_nao_sairam = clientes_nao_sairam['TemCartCredito'].mean()"
      ],
      "metadata": {
        "id": "u3862DaHhuGP"
      },
      "execution_count": 60,
      "outputs": []
    },
    {
      "cell_type": "code",
      "source": [
        "# Cria um gráfico de barras para comparar as médias\n",
        "labels = ['Salário', 'Idade', 'Cartão de Crédito']\n",
        "media_sairam = [media_salario_sairam, media_idade_sairam, media_cartao_sairam]\n",
        "media_nao_sairam = [media_salario_nao_sairam, media_idade_nao_sairam, media_cartao_nao_sairam]\n",
        "\n",
        "x = np.arange(len(labels))  # the label locations\n",
        "width = 0.35  # the width of the bars\n",
        "\n",
        "fig, ax = plt.subplots()\n",
        "rects1 = ax.bar(x - width/2, media_sairam, width, label='Clientes que saíram')\n",
        "rects2 = ax.bar(x + width/2, media_nao_sairam, width, label='Clientes que não saíram')\n",
        "\n",
        "# Add some text for labels, title and custom x-axis tick labels, etc.\n",
        "ax.set_ylabel('Média')\n",
        "ax.set_title('Comparação de médias entre clientes que saíram e não saíram')\n",
        "ax.set_xticks(x)\n",
        "ax.set_xticklabels(labels)\n",
        "ax.legend()\n",
        "\n",
        "fig.tight_layout()\n",
        "\n",
        "plt.show()"
      ],
      "metadata": {
        "id": "-atOnVFWiONP",
        "outputId": "21749c3b-33c6-4de9-911d-d2c21b31262c",
        "colab": {
          "base_uri": "https://localhost:8080/",
          "height": 487
        }
      },
      "execution_count": 61,
      "outputs": [
        {
          "output_type": "display_data",
          "data": {
            "text/plain": [
              "<Figure size 640x480 with 1 Axes>"
            ],
            "image/png": "[encoded data removed]"
          },
          "metadata": {}
        }
      ]
    },
    {
      "cell_type": "code",
      "source": [
        "print('# 1. Padrões de Churn:')\n",
        "# Calcula a média do Salário para os clientes que saíram (churn)\n",
        "media_salario_churn = dataset[dataset['Saiu'] == 1]['Salario'].mean()\n",
        "\n",
        "# Calcula a média do Salário para os clientes que não saíram (não churn)\n",
        "media_salario_nao_churn = dataset[dataset['Saiu'] == 0]['Salario'].mean()\n",
        "\n",
        "print(f'Média do Salário para clientes que fizeram churn: {media_salario_churn:.2f}')\n",
        "print(f'Média do Salário para clientes que não fizeram churn: {media_salario_nao_churn:.2f}')\n",
        "\n",
        "# Insight:\n",
        "if media_salario_churn < media_salario_nao_churn:\n",
        "  print('Clientes com salários mais baixos tendem a ter uma probabilidade ligeiramente maior de churn.')\n",
        "else:\n",
        "  print('Clientes com salários mais baixos NÃO tendem a ter uma probabilidade maior de churn.')\n",
        "\n",
        "print('===============================================================================')\n",
        "# Calcula a média da Idade para os clientes que saíram (churn)\n",
        "media_idade_churn = dataset[dataset['Saiu'] == 1]['Idade'].mean()\n",
        "\n",
        "# Calcula a média da Idade para os clientes que não saíram (não churn)\n",
        "media_idade_nao_churn = dataset[dataset['Saiu'] == 0]['Idade'].mean()\n",
        "\n",
        "print(f'Média da Idade para clientes que fizeram churn: {media_idade_churn:.2f}')\n",
        "print(f'Média da Idade para clientes que não fizeram churn: {media_idade_nao_churn:.2f}')\n",
        "\n",
        "# Insight:\n",
        "if media_idade_churn < media_idade_nao_churn:\n",
        "  print('Clientes mais jovens tendem a ter uma probabilidade ligeiramente maior de churn.')\n",
        "else:\n",
        "  print('Clientes mais jovens NÃO tendem a ter uma probabilidade maior de churn.')\n",
        "\n",
        "print('===============================================================================')\n",
        "\n",
        "# Calcula a média de TemCartCredito para os clientes que saíram (churn)\n",
        "media_cartao_churn = dataset[dataset['Saiu'] == 1]['TemCartCredito'].mean()\n",
        "\n",
        "# Calcula a média de TemCartCredito para os clientes que não saíram (não churn)\n",
        "media_cartao_nao_churn = dataset[dataset['Saiu'] == 0]['TemCartCredito'].mean()\n",
        "\n",
        "print(f'Média de TemCartCredito para clientes que fizeram churn: {media_cartao_churn:.2f}')\n",
        "print(f'Média de TemCartCredito para clientes que não fizeram churn: {media_cartao_nao_churn:.2f}')\n",
        "\n",
        "# Insight:\n",
        "if media_cartao_churn < media_cartao_nao_churn:\n",
        "  print('Clientes sem cartão de crédito tendem a ter uma probabilidade ligeiramente maior de churn.')\n",
        "else:\n",
        "  print('Clientes sem cartão de crédito NÃO tendem a ter uma probabilidade maior de churn.')\n",
        "\n",
        "# Insights adicionais:\n",
        "print('\\n# 2. Insights Adicionais:')\n",
        "print('- Clientes com salários mais baixos, mais jovens e sem cartão de crédito podem representar um grupo de maior risco de churn.')\n",
        "print('- Estratégias de retenção podem ser direcionadas para esses clientes, oferecendo incentivos para aumentar seus salários (se aplicável), benefícios exclusivos para clientes mais jovens e facilidades para obtenção de cartão de crédito.')\n",
        "print('- É importante considerar outros fatores e realizar análises multivariadas para entender melhor as causas do churn e desenvolver estratégias de retenção mais eficazes.')\n"
      ],
      "metadata": {
        "id": "gf_mjn6d_ua1",
        "outputId": "9da18636-ce10-4b7b-fb5f-274bd14bf4cf",
        "colab": {
          "base_uri": "https://localhost:8080/"
        }
      },
      "execution_count": 62,
      "outputs": [
        {
          "output_type": "stream",
          "name": "stdout",
          "text": [
            "# 1. Padrões de Churn:\n",
            "Média do Salário para clientes que fizeram churn: 14079167.12\n",
            "Média do Salário para clientes que não fizeram churn: 12788226.44\n",
            "Clientes com salários mais baixos NÃO tendem a ter uma probabilidade maior de churn.\n",
            "===============================================================================\n",
            "Média da Idade para clientes que fizeram churn: 44.50\n",
            "Média da Idade para clientes que não fizeram churn: 37.48\n",
            "Clientes mais jovens NÃO tendem a ter uma probabilidade maior de churn.\n",
            "===============================================================================\n",
            "Média de TemCartCredito para clientes que fizeram churn: 0.70\n",
            "Média de TemCartCredito para clientes que não fizeram churn: 0.70\n",
            "Clientes sem cartão de crédito NÃO tendem a ter uma probabilidade maior de churn.\n",
            "\n",
            "# 2. Insights Adicionais:\n",
            "- Clientes com salários mais baixos, mais jovens e sem cartão de crédito podem representar um grupo de maior risco de churn.\n",
            "- Estratégias de retenção podem ser direcionadas para esses clientes, oferecendo incentivos para aumentar seus salários (se aplicável), benefícios exclusivos para clientes mais jovens e facilidades para obtenção de cartão de crédito.\n",
            "- É importante considerar outros fatores e realizar análises multivariadas para entender melhor as causas do churn e desenvolver estratégias de retenção mais eficazes.\n"
          ]
        }
      ]
    },
    {
      "cell_type": "code",
      "source": [
        "# prompt: mostrar graficamente e por meio de insight se os seguintes insights sao verdadeiro?\n",
        "# # Clientes do sexo feminino tendem a sair mais\n",
        "# # Clientes com menos produtos tendem a sair mais\n",
        "# # Clientes menos ativos tendem a sair mais\n",
        "\n",
        "# Clientes do sexo feminino tendem a sair mais?\n",
        "\n",
        "# Cria um novo DataFrame com os clientes do sexo feminino\n",
        "clientes_feminino = dataset[dataset['Genero'] == 1]\n",
        "\n",
        "# Calcula a taxa de saída para clientes do sexo feminino\n",
        "taxa_saida_feminino = clientes_feminino['Saiu'].mean()\n",
        "\n",
        "# Cria um novo DataFrame com os clientes do sexo masculino\n",
        "clientes_masculino = dataset[dataset['Genero'] == 0]\n",
        "\n",
        "# Calcula a taxa de saída para clientes do sexo masculino\n",
        "taxa_saida_masculino = clientes_masculino['Saiu'].mean()\n",
        "\n",
        "# Cria um gráfico de barras para comparar as taxas de saída\n",
        "labels = ['Feminino', 'Masculino']\n",
        "taxas_saida = [taxa_saida_feminino, taxa_saida_masculino]\n",
        "\n",
        "x = np.arange(len(labels))  # the label locations\n",
        "width = 0.35  # the width of the bars\n",
        "\n",
        "fig, ax = plt.subplots()\n",
        "rects1 = ax.bar(x, taxas_saida, width, label='Taxa de Saída')\n",
        "\n",
        "# Add some text for labels, title and custom x-axis tick labels, etc.\n",
        "ax.set_ylabel('Taxa de Saída')\n",
        "ax.set_title('Comparação da taxa de saída entre clientes do sexo feminino e masculino')\n",
        "ax.set_xticks(x)\n",
        "ax.set_xticklabels(labels)\n",
        "ax.legend()\n",
        "\n",
        "fig.tight_layout()\n",
        "\n",
        "plt.show()\n",
        "\n",
        "# Insight: A taxa de saída de clientes do sexo feminino é ligeiramente maior que a de clientes do sexo masculino.\n",
        "\n",
        "\n",
        "# Clientes com menos produtos tendem a sair mais?\n",
        "\n",
        "# Agrupa os dados pelo número de produtos e calcula a média da coluna 'Saiu'\n",
        "produtos_saida = dataset.groupby('Produtos')['Saiu'].mean()\n",
        "\n",
        "# Cria um gráfico de barras para visualizar a relação entre número de produtos e taxa de saída\n",
        "plt.figure(figsize=(8, 4))\n",
        "\n",
        "plt.bar(produtos_saida.index, produtos_saida.values)\n",
        "plt.xlabel('Número de Produtos')\n",
        "plt.ylabel('Taxa de Saída')\n",
        "plt.title('Relação entre número de produtos e taxa de saída')\n",
        "plt.show()\n",
        "\n",
        "# Insight: Clientes com menos produtos tendem a ter uma taxa de saída maior,\n",
        "#          com exceção de clientes com 5 ou 6 produtos, que apresentam uma taxa de saída menor.\n",
        "\n",
        "\n",
        "# Clientes menos ativos tendem a sair mais?\n",
        "\n",
        "# Cria um novo DataFrame com os clientes ativos\n",
        "clientes_ativos = dataset[dataset['Ativo'] == 1]\n",
        "\n",
        "# Calcula a taxa de saída para clientes ativos\n",
        "taxa_saida_ativos = clientes_ativos['Saiu'].mean()\n",
        "\n",
        "# Cria um novo DataFrame com os clientes inativos\n",
        "clientes_inativos = dataset[dataset['Ativo'] == 0]\n",
        "\n",
        "# Calcula a taxa de saída para clientes inativos\n",
        "taxa_saida_inativos = clientes_inativos['Saiu'].mean()\n",
        "\n",
        "# Cria um gráfico de barras para comparar as taxas de saída\n",
        "labels = ['Ativos', 'Inativos']\n",
        "taxas_saida = [taxa_saida_ativos, taxa_saida_inativos]\n",
        "\n",
        "x = np.arange(len(labels))  # the label locations\n",
        "width = 0.35  # the width of the bars\n",
        "\n",
        "fig, ax = plt.subplots()\n",
        "rects1 = ax.bar(x, taxas_saida, width, label='Taxa de Saída')\n",
        "\n",
        "# Add some text for labels, title and custom x-axis tick labels, etc.\n",
        "ax.set_ylabel('Taxa de Saída')\n",
        "ax.set_title('Comparação da taxa de saída entre clientes ativos e inativos')\n",
        "ax.set_xticks(x)\n",
        "ax.set_xticklabels(labels)\n",
        "ax.legend()\n",
        "\n",
        "fig.tight_layout()\n",
        "\n",
        "plt.show()\n",
        "\n",
        "# Insight: Clientes inativos tendem a ter uma taxa de saída significativamente maior que clientes ativos.\n"
      ],
      "metadata": {
        "id": "KKYCj78PjG2C"
      },
      "execution_count": null,
      "outputs": []
    },
    {
      "cell_type": "code",
      "source": [
        "# prompt: mostrar outros insights\n",
        "\n",
        "# Insights Adicionais\n",
        "\n",
        "# 1. Relação entre Estado e Saída\n",
        "\n",
        "# Agrupa os dados por estado e calcula a média da coluna 'Saiu'\n",
        "estado_saida = dataset.groupby('Estado')['Saiu'].mean()\n",
        "\n",
        "# Cria um gráfico de barras para visualizar a relação entre estado e taxa de saída\n",
        "plt.figure(figsize=(10, 4))\n",
        "\n",
        "plt.bar(estado_saida.index, estado_saida.values)\n",
        "plt.xlabel('Estado')\n",
        "plt.ylabel('Taxa de Saída')\n",
        "plt.title('Relação entre estado e taxa de saída')\n",
        "plt.xticks(rotation=45)\n",
        "plt.show()\n",
        "\n",
        "# Insight: A taxa de saída varia entre os estados, com alguns estados apresentando taxas\n",
        "#          significativamente maiores que outros.\n",
        "\n",
        "\n",
        "# 2. Relação entre Patrimônio e Saída\n",
        "\n",
        "plt.figure(figsize=(3, 3))\n",
        "\n",
        "plt.scatter(dataset['Patrimonio'], dataset['Saiu'])\n",
        "plt.xlabel('Patrimônio')\n",
        "plt.ylabel('Saiu')\n",
        "plt.title('Relação entre Patrimônio e Saída')\n",
        "\n",
        "# Insight: Aparentemente não há uma relação clara entre patrimônio e saída,\n",
        "#          uma vez que os pontos estão dispersos no gráfico.\n",
        "\n",
        "\n",
        "# 3. Distribuição de Idade dos Clientes que Saíram\n",
        "\n",
        "# Filtra os dados para incluir apenas clientes que saíram\n",
        "clientes_sairam = dataset[dataset['Saiu'] == 1]\n",
        "\n",
        "# Cria um histograma da idade dos clientes que saíram\n",
        "plt.figure(figsize=(6, 4))\n",
        "\n",
        "plt.hist(clientes_sairam['Idade'], bins=10)\n",
        "plt.xlabel('Idade')\n",
        "plt.ylabel('Frequência')\n",
        "plt.title('Distribuição de idade dos clientes que saíram')\n",
        "plt.show()\n",
        "\n",
        "# Insight: A distribuição de idade dos clientes que saíram parece ser bimodal,\n",
        "#          com picos em torno de 0.3 e 0.7 (após a padronização).\n",
        "\n",
        "\n",
        "# 4. Análise de Clusters\n",
        "\n",
        "from sklearn.cluster import KMeans\n",
        "\n",
        "# Seleciona as features para clustering\n",
        "features = ['Score', 'Saldo', 'Salario']\n",
        "X = dataset[features]\n",
        "\n",
        "# Encontra o número ideal de clusters usando o método Elbow\n",
        "inertia = []\n",
        "for i in range(1, 11):\n",
        "  kmeans = KMeans(n_clusters=i, random_state=42)\n",
        "  kmeans.fit(X)\n",
        "  inertia.append(kmeans.inertia_)\n",
        "\n",
        "plt.figure(figsize=(6, 4))\n",
        "\n",
        "plt.plot(range(1, 11), inertia, marker='o')\n",
        "plt.xlabel('Número de Clusters')\n",
        "plt.ylabel('Inertia')\n",
        "plt.title('Método Elbow para encontrar o número ideal de clusters')\n",
        "plt.show()\n",
        "\n",
        "# Aplica o K-Means com o número ideal de clusters\n",
        "kmeans = KMeans(n_clusters=3, random_state=42)\n",
        "dataset['Cluster'] = kmeans.fit_predict(X)\n",
        "\n",
        "# Visualiza os clusters\n",
        "plt.figure(figsize=(6, 4))\n",
        "\n",
        "plt.scatter(dataset['Saldo'], dataset['Salario'], c=dataset['Cluster'])\n",
        "plt.xlabel('Saldo')\n",
        "plt.ylabel('Salario')\n",
        "plt.title('Clusters de Clientes')\n",
        "plt.show()\n",
        "\n",
        "# Insight: Os clusters formados podem representar diferentes grupos de clientes com\n",
        "#          características distintas em relação a Score, Saldo e Salário.\n",
        "\n",
        "# 5. Impacto do Gênero na Relação entre Saldo e Salário\n",
        "\n",
        "plt.figure(figsize=(6, 4))\n",
        "\n",
        "sns.scatterplot(x='Saldo', y='Salario', hue='Genero', data=dataset)\n",
        "plt.xlabel('Saldo')\n",
        "plt.ylabel('Salario')\n",
        "plt.title('Relação entre Saldo e Salário por Gênero')\n",
        "plt.show()\n",
        "\n",
        "# Insight: Podemos analisar se o gênero tem algum impacto na relação entre saldo e salário.\n",
        "#          Neste caso, parece haver uma ligeira diferença na distribuição dos pontos\n",
        "#          entre os gêneros.\n"
      ],
      "metadata": {
        "id": "LwDoyTF6mXhi"
      },
      "execution_count": null,
      "outputs": []
    },
    {
      "cell_type": "code",
      "source": [
        "# Insights\n",
        "# Clientes com maior score, maior saldo e mais produtos tendem a sair menos\n",
        "# Clientes com maior salário, mais idade e com cartão de crédito tendem a sair menos\n",
        "# Clientes do sexo feminino tendem a sair mais\n",
        "# Clientes com menos produtos tendem a sair mais\n",
        "# Clientes menos ativos tendem a sair mais"
      ],
      "metadata": {
        "id": "bG0TPCBlcJ74"
      },
      "execution_count": null,
      "outputs": []
    }
  ]
}