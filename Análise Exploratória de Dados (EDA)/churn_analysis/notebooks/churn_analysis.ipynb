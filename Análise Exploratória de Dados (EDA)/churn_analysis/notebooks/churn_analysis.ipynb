{
  "nbformat": 4,
  "nbformat_minor": 0,
  "metadata": {
    "colab": {
      "provenance": [],
      "include_colab_link": true
    },
    "kernelspec": {
      "name": "python3",
      "display_name": "Python 3"
    },
    "language_info": {
      "name": "python"
    }
  },
  "cells": [
    {
      "cell_type": "markdown",
      "metadata": {
        "id": "view-in-github",
        "colab_type": "text"
      },
      "source": [
        "<a href=\"https://colab.research.google.com/github/IvanAjala/data-science-portfolio/blob/main/An%C3%A1lise%20Explorat%C3%B3ria%20de%20Dados%20(EDA)/churn_analysis/notebooks/churn_analysis.ipynb\" target=\"_parent\"><img src=\"https://colab.research.google.com/assets/colab-badge.svg\" alt=\"Open In Colab\"/></a>"
      ]
    },
    {
      "cell_type": "code",
      "execution_count": null,
      "metadata": {
        "id": "Aaako-Du7Dnf"
      },
      "outputs": [],
      "source": [
        "import pandas as pd"
      ]
    },
    {
      "cell_type": "markdown",
      "source": [
        "## teste salvando noo github"
      ],
      "metadata": {
        "id": "un4B8YbrEfrd"
      }
    },
    {
      "cell_type": "code",
      "source": [],
      "metadata": {
        "id": "I8cCb7e0_uYa"
      },
      "execution_count": null,
      "outputs": []
    },
    {
      "cell_type": "code",
      "source": [
        "# URL do arquivo CSV no GitHub\n",
        "url = 'https://raw.githubusercontent.com/IvanAjala/data-science-portfolio/main/An%C3%A1lise%20Explorat%C3%B3ria%20de%20Dados%20(EDA)/churn_analysis/data/Churn.csv'\n",
        "\n",
        "# Importa a base de dados\n",
        "dataset = pd.read_csv(url, sep=';')\n",
        "\n",
        "# Visualiza\n",
        "dataset.head()\n"
      ],
      "metadata": {
        "id": "K577sgZ7_k_r",
        "collapsed": true,
        "colab": {
          "base_uri": "https://localhost:8080/",
          "height": 206
        },
        "outputId": "46cea3f4-1420-4924-e429-57d4f100afe0"
      },
      "execution_count": null,
      "outputs": [
        {
          "output_type": "execute_result",
          "data": {
            "text/plain": [
              "   X0   X1  X2        X3  X4  X4.1        X6  X7  X8  X9         X10  X11\n",
              "0   1  619  RS  Feminino  42     2         0   1   1   1  10134888.0    1\n",
              "1   2  608  SC  Feminino  41     1   8380786   1   0   1  11254258.0    0\n",
              "2   3  502  RS  Feminino  42     8   1596608   3   1   0  11393157.0    1\n",
              "3   4  699  RS  Feminino  39     1         0   2   0   0   9382663.0    0\n",
              "4   5  850  SC  Feminino  43     2  12551082   1   1   1    790841.0    0"
            ],
            "text/html": [
              "\n",
              "  <div id=\"df-d62901ae-a9f5-41ef-8e89-485196ffc80f\" class=\"colab-df-container\">\n",
              "    <div>\n",
              "<style scoped>\n",
              "    .dataframe tbody tr th:only-of-type {\n",
              "        vertical-align: middle;\n",
              "    }\n",
              "\n",
              "    .dataframe tbody tr th {\n",
              "        vertical-align: top;\n",
              "    }\n",
              "\n",
              "    .dataframe thead th {\n",
              "        text-align: right;\n",
              "    }\n",
              "</style>\n",
              "<table border=\"1\" class=\"dataframe\">\n",
              "  <thead>\n",
              "    <tr style=\"text-align: right;\">\n",
              "      <th></th>\n",
              "      <th>X0</th>\n",
              "      <th>X1</th>\n",
              "      <th>X2</th>\n",
              "      <th>X3</th>\n",
              "      <th>X4</th>\n",
              "      <th>X4.1</th>\n",
              "      <th>X6</th>\n",
              "      <th>X7</th>\n",
              "      <th>X8</th>\n",
              "      <th>X9</th>\n",
              "      <th>X10</th>\n",
              "      <th>X11</th>\n",
              "    </tr>\n",
              "  </thead>\n",
              "  <tbody>\n",
              "    <tr>\n",
              "      <th>0</th>\n",
              "      <td>1</td>\n",
              "      <td>619</td>\n",
              "      <td>RS</td>\n",
              "      <td>Feminino</td>\n",
              "      <td>42</td>\n",
              "      <td>2</td>\n",
              "      <td>0</td>\n",
              "      <td>1</td>\n",
              "      <td>1</td>\n",
              "      <td>1</td>\n",
              "      <td>10134888.0</td>\n",
              "      <td>1</td>\n",
              "    </tr>\n",
              "    <tr>\n",
              "      <th>1</th>\n",
              "      <td>2</td>\n",
              "      <td>608</td>\n",
              "      <td>SC</td>\n",
              "      <td>Feminino</td>\n",
              "      <td>41</td>\n",
              "      <td>1</td>\n",
              "      <td>8380786</td>\n",
              "      <td>1</td>\n",
              "      <td>0</td>\n",
              "      <td>1</td>\n",
              "      <td>11254258.0</td>\n",
              "      <td>0</td>\n",
              "    </tr>\n",
              "    <tr>\n",
              "      <th>2</th>\n",
              "      <td>3</td>\n",
              "      <td>502</td>\n",
              "      <td>RS</td>\n",
              "      <td>Feminino</td>\n",
              "      <td>42</td>\n",
              "      <td>8</td>\n",
              "      <td>1596608</td>\n",
              "      <td>3</td>\n",
              "      <td>1</td>\n",
              "      <td>0</td>\n",
              "      <td>11393157.0</td>\n",
              "      <td>1</td>\n",
              "    </tr>\n",
              "    <tr>\n",
              "      <th>3</th>\n",
              "      <td>4</td>\n",
              "      <td>699</td>\n",
              "      <td>RS</td>\n",
              "      <td>Feminino</td>\n",
              "      <td>39</td>\n",
              "      <td>1</td>\n",
              "      <td>0</td>\n",
              "      <td>2</td>\n",
              "      <td>0</td>\n",
              "      <td>0</td>\n",
              "      <td>9382663.0</td>\n",
              "      <td>0</td>\n",
              "    </tr>\n",
              "    <tr>\n",
              "      <th>4</th>\n",
              "      <td>5</td>\n",
              "      <td>850</td>\n",
              "      <td>SC</td>\n",
              "      <td>Feminino</td>\n",
              "      <td>43</td>\n",
              "      <td>2</td>\n",
              "      <td>12551082</td>\n",
              "      <td>1</td>\n",
              "      <td>1</td>\n",
              "      <td>1</td>\n",
              "      <td>790841.0</td>\n",
              "      <td>0</td>\n",
              "    </tr>\n",
              "  </tbody>\n",
              "</table>\n",
              "</div>\n",
              "    <div class=\"colab-df-buttons\">\n",
              "\n",
              "  <div class=\"colab-df-container\">\n",
              "    <button class=\"colab-df-convert\" onclick=\"convertToInteractive('df-d62901ae-a9f5-41ef-8e89-485196ffc80f')\"\n",
              "            title=\"Convert this dataframe to an interactive table.\"\n",
              "            style=\"display:none;\">\n",
              "\n",
              "  <svg xmlns=\"http://www.w3.org/2000/svg\" height=\"24px\" viewBox=\"0 -960 960 960\">\n",
              "    <path d=\"M120-120v-720h720v720H120Zm60-500h600v-160H180v160Zm220 220h160v-160H400v160Zm0 220h160v-160H400v160ZM180-400h160v-160H180v160Zm440 0h160v-160H620v160ZM180-180h160v-160H180v160Zm440 0h160v-160H620v160Z\"/>\n",
              "  </svg>\n",
              "    </button>\n",
              "\n",
              "  <style>\n",
              "    .colab-df-container {\n",
              "      display:flex;\n",
              "      gap: 12px;\n",
              "    }\n",
              "\n",
              "    .colab-df-convert {\n",
              "      background-color: #E8F0FE;\n",
              "      border: none;\n",
              "      border-radius: 50%;\n",
              "      cursor: pointer;\n",
              "      display: none;\n",
              "      fill: #1967D2;\n",
              "      height: 32px;\n",
              "      padding: 0 0 0 0;\n",
              "      width: 32px;\n",
              "    }\n",
              "\n",
              "    .colab-df-convert:hover {\n",
              "      background-color: #E2EBFA;\n",
              "      box-shadow: 0px 1px 2px rgba(60, 64, 67, 0.3), 0px 1px 3px 1px rgba(60, 64, 67, 0.15);\n",
              "      fill: #174EA6;\n",
              "    }\n",
              "\n",
              "    .colab-df-buttons div {\n",
              "      margin-bottom: 4px;\n",
              "    }\n",
              "\n",
              "    [theme=dark] .colab-df-convert {\n",
              "      background-color: #3B4455;\n",
              "      fill: #D2E3FC;\n",
              "    }\n",
              "\n",
              "    [theme=dark] .colab-df-convert:hover {\n",
              "      background-color: #434B5C;\n",
              "      box-shadow: 0px 1px 3px 1px rgba(0, 0, 0, 0.15);\n",
              "      filter: drop-shadow(0px 1px 2px rgba(0, 0, 0, 0.3));\n",
              "      fill: #FFFFFF;\n",
              "    }\n",
              "  </style>\n",
              "\n",
              "    <script>\n",
              "      const buttonEl =\n",
              "        document.querySelector('#df-d62901ae-a9f5-41ef-8e89-485196ffc80f button.colab-df-convert');\n",
              "      buttonEl.style.display =\n",
              "        google.colab.kernel.accessAllowed ? 'block' : 'none';\n",
              "\n",
              "      async function convertToInteractive(key) {\n",
              "        const element = document.querySelector('#df-d62901ae-a9f5-41ef-8e89-485196ffc80f');\n",
              "        const dataTable =\n",
              "          await google.colab.kernel.invokeFunction('convertToInteractive',\n",
              "                                                    [key], {});\n",
              "        if (!dataTable) return;\n",
              "\n",
              "        const docLinkHtml = 'Like what you see? Visit the ' +\n",
              "          '<a target=\"_blank\" href=https://colab.research.google.com/notebooks/data_table.ipynb>data table notebook</a>'\n",
              "          + ' to learn more about interactive tables.';\n",
              "        element.innerHTML = '';\n",
              "        dataTable['output_type'] = 'display_data';\n",
              "        await google.colab.output.renderOutput(dataTable, element);\n",
              "        const docLink = document.createElement('div');\n",
              "        docLink.innerHTML = docLinkHtml;\n",
              "        element.appendChild(docLink);\n",
              "      }\n",
              "    </script>\n",
              "  </div>\n",
              "\n",
              "\n",
              "<div id=\"df-a18d5ede-2e42-4bff-8378-5209ec636391\">\n",
              "  <button class=\"colab-df-quickchart\" onclick=\"quickchart('df-a18d5ede-2e42-4bff-8378-5209ec636391')\"\n",
              "            title=\"Suggest charts\"\n",
              "            style=\"display:none;\">\n",
              "\n",
              "<svg xmlns=\"http://www.w3.org/2000/svg\" height=\"24px\"viewBox=\"0 0 24 24\"\n",
              "     width=\"24px\">\n",
              "    <g>\n",
              "        <path d=\"M19 3H5c-1.1 0-2 .9-2 2v14c0 1.1.9 2 2 2h14c1.1 0 2-.9 2-2V5c0-1.1-.9-2-2-2zM9 17H7v-7h2v7zm4 0h-2V7h2v10zm4 0h-2v-4h2v4z\"/>\n",
              "    </g>\n",
              "</svg>\n",
              "  </button>\n",
              "\n",
              "<style>\n",
              "  .colab-df-quickchart {\n",
              "      --bg-color: #E8F0FE;\n",
              "      --fill-color: #1967D2;\n",
              "      --hover-bg-color: #E2EBFA;\n",
              "      --hover-fill-color: #174EA6;\n",
              "      --disabled-fill-color: #AAA;\n",
              "      --disabled-bg-color: #DDD;\n",
              "  }\n",
              "\n",
              "  [theme=dark] .colab-df-quickchart {\n",
              "      --bg-color: #3B4455;\n",
              "      --fill-color: #D2E3FC;\n",
              "      --hover-bg-color: #434B5C;\n",
              "      --hover-fill-color: #FFFFFF;\n",
              "      --disabled-bg-color: #3B4455;\n",
              "      --disabled-fill-color: #666;\n",
              "  }\n",
              "\n",
              "  .colab-df-quickchart {\n",
              "    background-color: var(--bg-color);\n",
              "    border: none;\n",
              "    border-radius: 50%;\n",
              "    cursor: pointer;\n",
              "    display: none;\n",
              "    fill: var(--fill-color);\n",
              "    height: 32px;\n",
              "    padding: 0;\n",
              "    width: 32px;\n",
              "  }\n",
              "\n",
              "  .colab-df-quickchart:hover {\n",
              "    background-color: var(--hover-bg-color);\n",
              "    box-shadow: 0 1px 2px rgba(60, 64, 67, 0.3), 0 1px 3px 1px rgba(60, 64, 67, 0.15);\n",
              "    fill: var(--button-hover-fill-color);\n",
              "  }\n",
              "\n",
              "  .colab-df-quickchart-complete:disabled,\n",
              "  .colab-df-quickchart-complete:disabled:hover {\n",
              "    background-color: var(--disabled-bg-color);\n",
              "    fill: var(--disabled-fill-color);\n",
              "    box-shadow: none;\n",
              "  }\n",
              "\n",
              "  .colab-df-spinner {\n",
              "    border: 2px solid var(--fill-color);\n",
              "    border-color: transparent;\n",
              "    border-bottom-color: var(--fill-color);\n",
              "    animation:\n",
              "      spin 1s steps(1) infinite;\n",
              "  }\n",
              "\n",
              "  @keyframes spin {\n",
              "    0% {\n",
              "      border-color: transparent;\n",
              "      border-bottom-color: var(--fill-color);\n",
              "      border-left-color: var(--fill-color);\n",
              "    }\n",
              "    20% {\n",
              "      border-color: transparent;\n",
              "      border-left-color: var(--fill-color);\n",
              "      border-top-color: var(--fill-color);\n",
              "    }\n",
              "    30% {\n",
              "      border-color: transparent;\n",
              "      border-left-color: var(--fill-color);\n",
              "      border-top-color: var(--fill-color);\n",
              "      border-right-color: var(--fill-color);\n",
              "    }\n",
              "    40% {\n",
              "      border-color: transparent;\n",
              "      border-right-color: var(--fill-color);\n",
              "      border-top-color: var(--fill-color);\n",
              "    }\n",
              "    60% {\n",
              "      border-color: transparent;\n",
              "      border-right-color: var(--fill-color);\n",
              "    }\n",
              "    80% {\n",
              "      border-color: transparent;\n",
              "      border-right-color: var(--fill-color);\n",
              "      border-bottom-color: var(--fill-color);\n",
              "    }\n",
              "    90% {\n",
              "      border-color: transparent;\n",
              "      border-bottom-color: var(--fill-color);\n",
              "    }\n",
              "  }\n",
              "</style>\n",
              "\n",
              "  <script>\n",
              "    async function quickchart(key) {\n",
              "      const quickchartButtonEl =\n",
              "        document.querySelector('#' + key + ' button');\n",
              "      quickchartButtonEl.disabled = true;  // To prevent multiple clicks.\n",
              "      quickchartButtonEl.classList.add('colab-df-spinner');\n",
              "      try {\n",
              "        const charts = await google.colab.kernel.invokeFunction(\n",
              "            'suggestCharts', [key], {});\n",
              "      } catch (error) {\n",
              "        console.error('Error during call to suggestCharts:', error);\n",
              "      }\n",
              "      quickchartButtonEl.classList.remove('colab-df-spinner');\n",
              "      quickchartButtonEl.classList.add('colab-df-quickchart-complete');\n",
              "    }\n",
              "    (() => {\n",
              "      let quickchartButtonEl =\n",
              "        document.querySelector('#df-a18d5ede-2e42-4bff-8378-5209ec636391 button');\n",
              "      quickchartButtonEl.style.display =\n",
              "        google.colab.kernel.accessAllowed ? 'block' : 'none';\n",
              "    })();\n",
              "  </script>\n",
              "</div>\n",
              "\n",
              "    </div>\n",
              "  </div>\n"
            ],
            "application/vnd.google.colaboratory.intrinsic+json": {
              "type": "dataframe",
              "variable_name": "dataset",
              "summary": "{\n  \"name\": \"dataset\",\n  \"rows\": 999,\n  \"fields\": [\n    {\n      \"column\": \"X0\",\n      \"properties\": {\n        \"dtype\": \"number\",\n        \"std\": 288,\n        \"min\": 1,\n        \"max\": 1000,\n        \"num_unique_values\": 998,\n        \"samples\": [\n          456,\n          795,\n          212\n        ],\n        \"semantic_type\": \"\",\n        \"description\": \"\"\n      }\n    },\n    {\n      \"column\": \"X1\",\n      \"properties\": {\n        \"dtype\": \"number\",\n        \"std\": 98,\n        \"min\": 376,\n        \"max\": 850,\n        \"num_unique_values\": 354,\n        \"samples\": [\n          840,\n          660,\n          417\n        ],\n        \"semantic_type\": \"\",\n        \"description\": \"\"\n      }\n    },\n    {\n      \"column\": \"X2\",\n      \"properties\": {\n        \"dtype\": \"category\",\n        \"num_unique_values\": 6,\n        \"samples\": [\n          \"RS\",\n          \"SC\",\n          \"TD\"\n        ],\n        \"semantic_type\": \"\",\n        \"description\": \"\"\n      }\n    },\n    {\n      \"column\": \"X3\",\n      \"properties\": {\n        \"dtype\": \"category\",\n        \"num_unique_values\": 5,\n        \"samples\": [\n          \"Masculino\",\n          \"Fem\",\n          \"M\"\n        ],\n        \"semantic_type\": \"\",\n        \"description\": \"\"\n      }\n    },\n    {\n      \"column\": \"X4\",\n      \"properties\": {\n        \"dtype\": \"number\",\n        \"std\": 11,\n        \"min\": -20,\n        \"max\": 140,\n        \"num_unique_values\": 64,\n        \"samples\": [\n          60,\n          69,\n          42\n        ],\n        \"semantic_type\": \"\",\n        \"description\": \"\"\n      }\n    },\n    {\n      \"column\": \"X4.1\",\n      \"properties\": {\n        \"dtype\": \"number\",\n        \"std\": 2,\n        \"min\": 0,\n        \"max\": 10,\n        \"num_unique_values\": 11,\n        \"samples\": [\n          6,\n          2,\n          9\n        ],\n        \"semantic_type\": \"\",\n        \"description\": \"\"\n      }\n    },\n    {\n      \"column\": \"X6\",\n      \"properties\": {\n        \"dtype\": \"number\",\n        \"std\": 6311840,\n        \"min\": 0,\n        \"max\": 21177431,\n        \"num_unique_values\": 649,\n        \"samples\": [\n          12453278,\n          18784199,\n          13380229\n        ],\n        \"semantic_type\": \"\",\n        \"description\": \"\"\n      }\n    },\n    {\n      \"column\": \"X7\",\n      \"properties\": {\n        \"dtype\": \"number\",\n        \"std\": 0,\n        \"min\": 1,\n        \"max\": 4,\n        \"num_unique_values\": 4,\n        \"samples\": [\n          3,\n          4,\n          1\n        ],\n        \"semantic_type\": \"\",\n        \"description\": \"\"\n      }\n    },\n    {\n      \"column\": \"X8\",\n      \"properties\": {\n        \"dtype\": \"number\",\n        \"std\": 0,\n        \"min\": 0,\n        \"max\": 1,\n        \"num_unique_values\": 2,\n        \"samples\": [\n          0,\n          1\n        ],\n        \"semantic_type\": \"\",\n        \"description\": \"\"\n      }\n    },\n    {\n      \"column\": \"X9\",\n      \"properties\": {\n        \"dtype\": \"number\",\n        \"std\": 0,\n        \"min\": 0,\n        \"max\": 1,\n        \"num_unique_values\": 2,\n        \"samples\": [\n          0,\n          1\n        ],\n        \"semantic_type\": \"\",\n        \"description\": \"\"\n      }\n    },\n    {\n      \"column\": \"X10\",\n      \"properties\": {\n        \"dtype\": \"number\",\n        \"std\": 530579988.3011111,\n        \"min\": 9677.0,\n        \"max\": 11934688000.0,\n        \"num_unique_values\": 987,\n        \"samples\": [\n          12054083.0,\n          19331833.0\n        ],\n        \"semantic_type\": \"\",\n        \"description\": \"\"\n      }\n    },\n    {\n      \"column\": \"X11\",\n      \"properties\": {\n        \"dtype\": \"number\",\n        \"std\": 0,\n        \"min\": 0,\n        \"max\": 1,\n        \"num_unique_values\": 2,\n        \"samples\": [\n          0,\n          1\n        ],\n        \"semantic_type\": \"\",\n        \"description\": \"\"\n      }\n    }\n  ]\n}"
            }
          },
          "metadata": {},
          "execution_count": 4
        }
      ]
    },
    {
      "cell_type": "code",
      "source": [
        "dataset.shape"
      ],
      "metadata": {
        "colab": {
          "base_uri": "https://localhost:8080/"
        },
        "id": "WpxgaBnrACjo",
        "outputId": "a08768a5-c8bf-45a3-9916-469cdb326be5"
      },
      "execution_count": null,
      "outputs": [
        {
          "output_type": "execute_result",
          "data": {
            "text/plain": [
              "(999, 12)"
            ]
          },
          "metadata": {},
          "execution_count": 5
        }
      ]
    },
    {
      "cell_type": "code",
      "source": [
        "# Renomeia as colunas\n",
        "dataset.columns = [\"Id\",\"Score\",\"Estado\",\"Genero\",\"Idade\",\"Patrimonio\",\"Saldo\",\"Produtos\",\"TemCartCredito\",\n",
        "                  \"Ativo\",\"Salario\",\"Saiu\"]"
      ],
      "metadata": {
        "id": "UPHblqrZAFsz"
      },
      "execution_count": null,
      "outputs": []
    },
    {
      "cell_type": "code",
      "source": [
        "dataset.head(2)"
      ],
      "metadata": {
        "colab": {
          "base_uri": "https://localhost:8080/",
          "height": 112
        },
        "id": "QItO7igwAYSQ",
        "outputId": "e7d96605-0c24-4ed6-ea43-a828031834ff"
      },
      "execution_count": null,
      "outputs": [
        {
          "output_type": "execute_result",
          "data": {
            "text/plain": [
              "   Id  Score Estado    Genero  Idade  Patrimonio    Saldo  Produtos  \\\n",
              "0   1    619     RS  Feminino     42           2        0         1   \n",
              "1   2    608     SC  Feminino     41           1  8380786         1   \n",
              "\n",
              "   TemCartCredito  Ativo     Salario  Saiu  \n",
              "0               1      1  10134888.0     1  \n",
              "1               0      1  11254258.0     0  "
            ],
            "text/html": [
              "\n",
              "  <div id=\"df-887d2826-77e2-4ed9-a7d0-42a8f8624f86\" class=\"colab-df-container\">\n",
              "    <div>\n",
              "<style scoped>\n",
              "    .dataframe tbody tr th:only-of-type {\n",
              "        vertical-align: middle;\n",
              "    }\n",
              "\n",
              "    .dataframe tbody tr th {\n",
              "        vertical-align: top;\n",
              "    }\n",
              "\n",
              "    .dataframe thead th {\n",
              "        text-align: right;\n",
              "    }\n",
              "</style>\n",
              "<table border=\"1\" class=\"dataframe\">\n",
              "  <thead>\n",
              "    <tr style=\"text-align: right;\">\n",
              "      <th></th>\n",
              "      <th>Id</th>\n",
              "      <th>Score</th>\n",
              "      <th>Estado</th>\n",
              "      <th>Genero</th>\n",
              "      <th>Idade</th>\n",
              "      <th>Patrimonio</th>\n",
              "      <th>Saldo</th>\n",
              "      <th>Produtos</th>\n",
              "      <th>TemCartCredito</th>\n",
              "      <th>Ativo</th>\n",
              "      <th>Salario</th>\n",
              "      <th>Saiu</th>\n",
              "    </tr>\n",
              "  </thead>\n",
              "  <tbody>\n",
              "    <tr>\n",
              "      <th>0</th>\n",
              "      <td>1</td>\n",
              "      <td>619</td>\n",
              "      <td>RS</td>\n",
              "      <td>Feminino</td>\n",
              "      <td>42</td>\n",
              "      <td>2</td>\n",
              "      <td>0</td>\n",
              "      <td>1</td>\n",
              "      <td>1</td>\n",
              "      <td>1</td>\n",
              "      <td>10134888.0</td>\n",
              "      <td>1</td>\n",
              "    </tr>\n",
              "    <tr>\n",
              "      <th>1</th>\n",
              "      <td>2</td>\n",
              "      <td>608</td>\n",
              "      <td>SC</td>\n",
              "      <td>Feminino</td>\n",
              "      <td>41</td>\n",
              "      <td>1</td>\n",
              "      <td>8380786</td>\n",
              "      <td>1</td>\n",
              "      <td>0</td>\n",
              "      <td>1</td>\n",
              "      <td>11254258.0</td>\n",
              "      <td>0</td>\n",
              "    </tr>\n",
              "  </tbody>\n",
              "</table>\n",
              "</div>\n",
              "    <div class=\"colab-df-buttons\">\n",
              "\n",
              "  <div class=\"colab-df-container\">\n",
              "    <button class=\"colab-df-convert\" onclick=\"convertToInteractive('df-887d2826-77e2-4ed9-a7d0-42a8f8624f86')\"\n",
              "            title=\"Convert this dataframe to an interactive table.\"\n",
              "            style=\"display:none;\">\n",
              "\n",
              "  <svg xmlns=\"http://www.w3.org/2000/svg\" height=\"24px\" viewBox=\"0 -960 960 960\">\n",
              "    <path d=\"M120-120v-720h720v720H120Zm60-500h600v-160H180v160Zm220 220h160v-160H400v160Zm0 220h160v-160H400v160ZM180-400h160v-160H180v160Zm440 0h160v-160H620v160ZM180-180h160v-160H180v160Zm440 0h160v-160H620v160Z\"/>\n",
              "  </svg>\n",
              "    </button>\n",
              "\n",
              "  <style>\n",
              "    .colab-df-container {\n",
              "      display:flex;\n",
              "      gap: 12px;\n",
              "    }\n",
              "\n",
              "    .colab-df-convert {\n",
              "      background-color: #E8F0FE;\n",
              "      border: none;\n",
              "      border-radius: 50%;\n",
              "      cursor: pointer;\n",
              "      display: none;\n",
              "      fill: #1967D2;\n",
              "      height: 32px;\n",
              "      padding: 0 0 0 0;\n",
              "      width: 32px;\n",
              "    }\n",
              "\n",
              "    .colab-df-convert:hover {\n",
              "      background-color: #E2EBFA;\n",
              "      box-shadow: 0px 1px 2px rgba(60, 64, 67, 0.3), 0px 1px 3px 1px rgba(60, 64, 67, 0.15);\n",
              "      fill: #174EA6;\n",
              "    }\n",
              "\n",
              "    .colab-df-buttons div {\n",
              "      margin-bottom: 4px;\n",
              "    }\n",
              "\n",
              "    [theme=dark] .colab-df-convert {\n",
              "      background-color: #3B4455;\n",
              "      fill: #D2E3FC;\n",
              "    }\n",
              "\n",
              "    [theme=dark] .colab-df-convert:hover {\n",
              "      background-color: #434B5C;\n",
              "      box-shadow: 0px 1px 3px 1px rgba(0, 0, 0, 0.15);\n",
              "      filter: drop-shadow(0px 1px 2px rgba(0, 0, 0, 0.3));\n",
              "      fill: #FFFFFF;\n",
              "    }\n",
              "  </style>\n",
              "\n",
              "    <script>\n",
              "      const buttonEl =\n",
              "        document.querySelector('#df-887d2826-77e2-4ed9-a7d0-42a8f8624f86 button.colab-df-convert');\n",
              "      buttonEl.style.display =\n",
              "        google.colab.kernel.accessAllowed ? 'block' : 'none';\n",
              "\n",
              "      async function convertToInteractive(key) {\n",
              "        const element = document.querySelector('#df-887d2826-77e2-4ed9-a7d0-42a8f8624f86');\n",
              "        const dataTable =\n",
              "          await google.colab.kernel.invokeFunction('convertToInteractive',\n",
              "                                                    [key], {});\n",
              "        if (!dataTable) return;\n",
              "\n",
              "        const docLinkHtml = 'Like what you see? Visit the ' +\n",
              "          '<a target=\"_blank\" href=https://colab.research.google.com/notebooks/data_table.ipynb>data table notebook</a>'\n",
              "          + ' to learn more about interactive tables.';\n",
              "        element.innerHTML = '';\n",
              "        dataTable['output_type'] = 'display_data';\n",
              "        await google.colab.output.renderOutput(dataTable, element);\n",
              "        const docLink = document.createElement('div');\n",
              "        docLink.innerHTML = docLinkHtml;\n",
              "        element.appendChild(docLink);\n",
              "      }\n",
              "    </script>\n",
              "  </div>\n",
              "\n",
              "\n",
              "<div id=\"df-be87bae6-596b-4adc-ac7a-ac1adf68797d\">\n",
              "  <button class=\"colab-df-quickchart\" onclick=\"quickchart('df-be87bae6-596b-4adc-ac7a-ac1adf68797d')\"\n",
              "            title=\"Suggest charts\"\n",
              "            style=\"display:none;\">\n",
              "\n",
              "<svg xmlns=\"http://www.w3.org/2000/svg\" height=\"24px\"viewBox=\"0 0 24 24\"\n",
              "     width=\"24px\">\n",
              "    <g>\n",
              "        <path d=\"M19 3H5c-1.1 0-2 .9-2 2v14c0 1.1.9 2 2 2h14c1.1 0 2-.9 2-2V5c0-1.1-.9-2-2-2zM9 17H7v-7h2v7zm4 0h-2V7h2v10zm4 0h-2v-4h2v4z\"/>\n",
              "    </g>\n",
              "</svg>\n",
              "  </button>\n",
              "\n",
              "<style>\n",
              "  .colab-df-quickchart {\n",
              "      --bg-color: #E8F0FE;\n",
              "      --fill-color: #1967D2;\n",
              "      --hover-bg-color: #E2EBFA;\n",
              "      --hover-fill-color: #174EA6;\n",
              "      --disabled-fill-color: #AAA;\n",
              "      --disabled-bg-color: #DDD;\n",
              "  }\n",
              "\n",
              "  [theme=dark] .colab-df-quickchart {\n",
              "      --bg-color: #3B4455;\n",
              "      --fill-color: #D2E3FC;\n",
              "      --hover-bg-color: #434B5C;\n",
              "      --hover-fill-color: #FFFFFF;\n",
              "      --disabled-bg-color: #3B4455;\n",
              "      --disabled-fill-color: #666;\n",
              "  }\n",
              "\n",
              "  .colab-df-quickchart {\n",
              "    background-color: var(--bg-color);\n",
              "    border: none;\n",
              "    border-radius: 50%;\n",
              "    cursor: pointer;\n",
              "    display: none;\n",
              "    fill: var(--fill-color);\n",
              "    height: 32px;\n",
              "    padding: 0;\n",
              "    width: 32px;\n",
              "  }\n",
              "\n",
              "  .colab-df-quickchart:hover {\n",
              "    background-color: var(--hover-bg-color);\n",
              "    box-shadow: 0 1px 2px rgba(60, 64, 67, 0.3), 0 1px 3px 1px rgba(60, 64, 67, 0.15);\n",
              "    fill: var(--button-hover-fill-color);\n",
              "  }\n",
              "\n",
              "  .colab-df-quickchart-complete:disabled,\n",
              "  .colab-df-quickchart-complete:disabled:hover {\n",
              "    background-color: var(--disabled-bg-color);\n",
              "    fill: var(--disabled-fill-color);\n",
              "    box-shadow: none;\n",
              "  }\n",
              "\n",
              "  .colab-df-spinner {\n",
              "    border: 2px solid var(--fill-color);\n",
              "    border-color: transparent;\n",
              "    border-bottom-color: var(--fill-color);\n",
              "    animation:\n",
              "      spin 1s steps(1) infinite;\n",
              "  }\n",
              "\n",
              "  @keyframes spin {\n",
              "    0% {\n",
              "      border-color: transparent;\n",
              "      border-bottom-color: var(--fill-color);\n",
              "      border-left-color: var(--fill-color);\n",
              "    }\n",
              "    20% {\n",
              "      border-color: transparent;\n",
              "      border-left-color: var(--fill-color);\n",
              "      border-top-color: var(--fill-color);\n",
              "    }\n",
              "    30% {\n",
              "      border-color: transparent;\n",
              "      border-left-color: var(--fill-color);\n",
              "      border-top-color: var(--fill-color);\n",
              "      border-right-color: var(--fill-color);\n",
              "    }\n",
              "    40% {\n",
              "      border-color: transparent;\n",
              "      border-right-color: var(--fill-color);\n",
              "      border-top-color: var(--fill-color);\n",
              "    }\n",
              "    60% {\n",
              "      border-color: transparent;\n",
              "      border-right-color: var(--fill-color);\n",
              "    }\n",
              "    80% {\n",
              "      border-color: transparent;\n",
              "      border-right-color: var(--fill-color);\n",
              "      border-bottom-color: var(--fill-color);\n",
              "    }\n",
              "    90% {\n",
              "      border-color: transparent;\n",
              "      border-bottom-color: var(--fill-color);\n",
              "    }\n",
              "  }\n",
              "</style>\n",
              "\n",
              "  <script>\n",
              "    async function quickchart(key) {\n",
              "      const quickchartButtonEl =\n",
              "        document.querySelector('#' + key + ' button');\n",
              "      quickchartButtonEl.disabled = true;  // To prevent multiple clicks.\n",
              "      quickchartButtonEl.classList.add('colab-df-spinner');\n",
              "      try {\n",
              "        const charts = await google.colab.kernel.invokeFunction(\n",
              "            'suggestCharts', [key], {});\n",
              "      } catch (error) {\n",
              "        console.error('Error during call to suggestCharts:', error);\n",
              "      }\n",
              "      quickchartButtonEl.classList.remove('colab-df-spinner');\n",
              "      quickchartButtonEl.classList.add('colab-df-quickchart-complete');\n",
              "    }\n",
              "    (() => {\n",
              "      let quickchartButtonEl =\n",
              "        document.querySelector('#df-be87bae6-596b-4adc-ac7a-ac1adf68797d button');\n",
              "      quickchartButtonEl.style.display =\n",
              "        google.colab.kernel.accessAllowed ? 'block' : 'none';\n",
              "    })();\n",
              "  </script>\n",
              "</div>\n",
              "\n",
              "    </div>\n",
              "  </div>\n"
            ],
            "application/vnd.google.colaboratory.intrinsic+json": {
              "type": "dataframe",
              "variable_name": "dataset",
              "summary": "{\n  \"name\": \"dataset\",\n  \"rows\": 999,\n  \"fields\": [\n    {\n      \"column\": \"Id\",\n      \"properties\": {\n        \"dtype\": \"number\",\n        \"std\": 288,\n        \"min\": 1,\n        \"max\": 1000,\n        \"num_unique_values\": 998,\n        \"samples\": [\n          456,\n          795,\n          212\n        ],\n        \"semantic_type\": \"\",\n        \"description\": \"\"\n      }\n    },\n    {\n      \"column\": \"Score\",\n      \"properties\": {\n        \"dtype\": \"number\",\n        \"std\": 98,\n        \"min\": 376,\n        \"max\": 850,\n        \"num_unique_values\": 354,\n        \"samples\": [\n          840,\n          660,\n          417\n        ],\n        \"semantic_type\": \"\",\n        \"description\": \"\"\n      }\n    },\n    {\n      \"column\": \"Estado\",\n      \"properties\": {\n        \"dtype\": \"category\",\n        \"num_unique_values\": 6,\n        \"samples\": [\n          \"RS\",\n          \"SC\",\n          \"TD\"\n        ],\n        \"semantic_type\": \"\",\n        \"description\": \"\"\n      }\n    },\n    {\n      \"column\": \"Genero\",\n      \"properties\": {\n        \"dtype\": \"category\",\n        \"num_unique_values\": 5,\n        \"samples\": [\n          \"Masculino\",\n          \"Fem\",\n          \"M\"\n        ],\n        \"semantic_type\": \"\",\n        \"description\": \"\"\n      }\n    },\n    {\n      \"column\": \"Idade\",\n      \"properties\": {\n        \"dtype\": \"number\",\n        \"std\": 11,\n        \"min\": -20,\n        \"max\": 140,\n        \"num_unique_values\": 64,\n        \"samples\": [\n          60,\n          69,\n          42\n        ],\n        \"semantic_type\": \"\",\n        \"description\": \"\"\n      }\n    },\n    {\n      \"column\": \"Patrimonio\",\n      \"properties\": {\n        \"dtype\": \"number\",\n        \"std\": 2,\n        \"min\": 0,\n        \"max\": 10,\n        \"num_unique_values\": 11,\n        \"samples\": [\n          6,\n          2,\n          9\n        ],\n        \"semantic_type\": \"\",\n        \"description\": \"\"\n      }\n    },\n    {\n      \"column\": \"Saldo\",\n      \"properties\": {\n        \"dtype\": \"number\",\n        \"std\": 6311840,\n        \"min\": 0,\n        \"max\": 21177431,\n        \"num_unique_values\": 649,\n        \"samples\": [\n          12453278,\n          18784199,\n          13380229\n        ],\n        \"semantic_type\": \"\",\n        \"description\": \"\"\n      }\n    },\n    {\n      \"column\": \"Produtos\",\n      \"properties\": {\n        \"dtype\": \"number\",\n        \"std\": 0,\n        \"min\": 1,\n        \"max\": 4,\n        \"num_unique_values\": 4,\n        \"samples\": [\n          3,\n          4,\n          1\n        ],\n        \"semantic_type\": \"\",\n        \"description\": \"\"\n      }\n    },\n    {\n      \"column\": \"TemCartCredito\",\n      \"properties\": {\n        \"dtype\": \"number\",\n        \"std\": 0,\n        \"min\": 0,\n        \"max\": 1,\n        \"num_unique_values\": 2,\n        \"samples\": [\n          0,\n          1\n        ],\n        \"semantic_type\": \"\",\n        \"description\": \"\"\n      }\n    },\n    {\n      \"column\": \"Ativo\",\n      \"properties\": {\n        \"dtype\": \"number\",\n        \"std\": 0,\n        \"min\": 0,\n        \"max\": 1,\n        \"num_unique_values\": 2,\n        \"samples\": [\n          0,\n          1\n        ],\n        \"semantic_type\": \"\",\n        \"description\": \"\"\n      }\n    },\n    {\n      \"column\": \"Salario\",\n      \"properties\": {\n        \"dtype\": \"number\",\n        \"std\": 530579988.3011111,\n        \"min\": 9677.0,\n        \"max\": 11934688000.0,\n        \"num_unique_values\": 987,\n        \"samples\": [\n          12054083.0,\n          19331833.0\n        ],\n        \"semantic_type\": \"\",\n        \"description\": \"\"\n      }\n    },\n    {\n      \"column\": \"Saiu\",\n      \"properties\": {\n        \"dtype\": \"number\",\n        \"std\": 0,\n        \"min\": 0,\n        \"max\": 1,\n        \"num_unique_values\": 2,\n        \"samples\": [\n          0,\n          1\n        ],\n        \"semantic_type\": \"\",\n        \"description\": \"\"\n      }\n    }\n  ]\n}"
            }
          },
          "metadata": {},
          "execution_count": 12
        }
      ]
    },
    {
      "cell_type": "code",
      "source": [
        "# Explorando dados categóricos\n",
        "# Estado\n",
        "dataset['Estado'].unique()"
      ],
      "metadata": {
        "colab": {
          "base_uri": "https://localhost:8080/"
        },
        "id": "Tjv0Xl-TAnH0",
        "outputId": "e41b5047-2d3f-4e99-f0b3-cd3d76ac86b7"
      },
      "execution_count": null,
      "outputs": [
        {
          "output_type": "execute_result",
          "data": {
            "text/plain": [
              "array(['RS', 'SC', 'PR', 'RP', 'SP', 'TD'], dtype=object)"
            ]
          },
          "metadata": {},
          "execution_count": 13
        }
      ]
    },
    {
      "cell_type": "code",
      "source": [
        "dataset['Estado'].value_counts()"
      ],
      "metadata": {
        "colab": {
          "base_uri": "https://localhost:8080/"
        },
        "id": "wPl3Vqa7A1s-",
        "outputId": "9513dab8-4eee-46bd-ca23-83ec1814d105"
      },
      "execution_count": null,
      "outputs": [
        {
          "output_type": "execute_result",
          "data": {
            "text/plain": [
              "Estado\n",
              "RS    478\n",
              "SC    258\n",
              "PR    257\n",
              "SP      4\n",
              "RP      1\n",
              "TD      1\n",
              "Name: count, dtype: int64"
            ]
          },
          "metadata": {},
          "execution_count": 15
        }
      ]
    },
    {
      "cell_type": "code",
      "source": [
        "#Genero\n",
        "dataset['Genero'].value_counts()"
      ],
      "metadata": {
        "colab": {
          "base_uri": "https://localhost:8080/"
        },
        "id": "bLRZRnLhA8zt",
        "outputId": "6ca9d58a-f6f2-4da3-ca5b-b24749dd53c0"
      },
      "execution_count": null,
      "outputs": [
        {
          "output_type": "execute_result",
          "data": {
            "text/plain": [
              "Genero\n",
              "Masculino    521\n",
              "Feminino     461\n",
              "M              6\n",
              "F              2\n",
              "Fem            1\n",
              "Name: count, dtype: int64"
            ]
          },
          "metadata": {},
          "execution_count": 16
        }
      ]
    },
    {
      "cell_type": "code",
      "source": [
        "#visualizar graficos das variaveis categoricas Estado e Genero\n",
        "\n",
        "import matplotlib.pyplot as plt\n",
        "%matplotlib inline\n",
        "\n",
        "fig, axes = plt.subplots(ncols=2, figsize=(6,3))\n",
        "\n",
        "dataset['Estado'].value_counts().plot(kind='bar', ax=axes[0])\n",
        "axes[0].set_title('Estado')\n",
        "\n",
        "dataset['Genero'].value_counts().plot(kind='bar', ax=axes[1])\n",
        "axes[1].set_title('Genero')\n"
      ],
      "metadata": {
        "colab": {
          "base_uri": "https://localhost:8080/",
          "height": 405
        },
        "id": "MAnuXW78B-M_",
        "outputId": "87458325-2445-4eda-defe-9bf5c583a089"
      },
      "execution_count": null,
      "outputs": [
        {
          "output_type": "execute_result",
          "data": {
            "text/plain": [
              "Text(0.5, 1.0, 'Genero')"
            ]
          },
          "metadata": {},
          "execution_count": 20
        },
        {
          "output_type": "display_data",
          "data": {
            "text/plain": [
              "<Figure size 600x300 with 2 Axes>"
            ],
            "image/png": "[encoded data removed]"
          },
          "metadata": {}
        }
      ]
    },
    {
      "cell_type": "code",
      "source": [
        "# Explorando dados numericos\n",
        "dataset.describe()"
      ],
      "metadata": {
        "colab": {
          "base_uri": "https://localhost:8080/",
          "height": 320
        },
        "id": "a7jHd_zxG5DY",
        "outputId": "30fd9034-2f27-42a2-f790-da6826df1af5"
      },
      "execution_count": null,
      "outputs": [
        {
          "output_type": "execute_result",
          "data": {
            "text/plain": [
              "                Id       Score       Idade  Patrimonio         Saldo  \\\n",
              "count   999.000000  999.000000  999.000000  999.000000  9.990000e+02   \n",
              "mean    500.916917  648.621622   38.902903    5.069069  7.164928e+06   \n",
              "std     288.662884   98.264219   11.401912    2.927691  6.311840e+06   \n",
              "min       1.000000  376.000000  -20.000000    0.000000  0.000000e+00   \n",
              "25%     251.500000  580.000000   32.000000    2.000000  0.000000e+00   \n",
              "50%     501.000000  653.000000   37.000000    5.000000  8.958835e+06   \n",
              "75%     750.500000  721.000000   44.000000    8.000000  1.258684e+07   \n",
              "max    1000.000000  850.000000  140.000000   10.000000  2.117743e+07   \n",
              "\n",
              "         Produtos  TemCartCredito      Ativo       Salario        Saiu  \n",
              "count  999.000000      999.000000  999.00000  9.920000e+02  999.000000  \n",
              "mean     1.526527        0.702703    0.50951  3.528762e+07    0.203203  \n",
              "std      0.574201        0.457297    0.50016  5.305800e+08    0.402584  \n",
              "min      1.000000        0.000000    0.00000  9.677000e+03    0.000000  \n",
              "25%      1.000000        0.000000    0.00000  3.029011e+06    0.000000  \n",
              "50%      1.000000        1.000000    1.00000  8.703250e+06    0.000000  \n",
              "75%      2.000000        1.000000    1.00000  1.405213e+07    0.000000  \n",
              "max      4.000000        1.000000    1.00000  1.193469e+10    1.000000  "
            ],
            "text/html": [
              "\n",
              "  <div id=\"df-c296aa00-9c11-4579-958d-8981c8f88167\" class=\"colab-df-container\">\n",
              "    <div>\n",
              "<style scoped>\n",
              "    .dataframe tbody tr th:only-of-type {\n",
              "        vertical-align: middle;\n",
              "    }\n",
              "\n",
              "    .dataframe tbody tr th {\n",
              "        vertical-align: top;\n",
              "    }\n",
              "\n",
              "    .dataframe thead th {\n",
              "        text-align: right;\n",
              "    }\n",
              "</style>\n",
              "<table border=\"1\" class=\"dataframe\">\n",
              "  <thead>\n",
              "    <tr style=\"text-align: right;\">\n",
              "      <th></th>\n",
              "      <th>Id</th>\n",
              "      <th>Score</th>\n",
              "      <th>Idade</th>\n",
              "      <th>Patrimonio</th>\n",
              "      <th>Saldo</th>\n",
              "      <th>Produtos</th>\n",
              "      <th>TemCartCredito</th>\n",
              "      <th>Ativo</th>\n",
              "      <th>Salario</th>\n",
              "      <th>Saiu</th>\n",
              "    </tr>\n",
              "  </thead>\n",
              "  <tbody>\n",
              "    <tr>\n",
              "      <th>count</th>\n",
              "      <td>999.000000</td>\n",
              "      <td>999.000000</td>\n",
              "      <td>999.000000</td>\n",
              "      <td>999.000000</td>\n",
              "      <td>9.990000e+02</td>\n",
              "      <td>999.000000</td>\n",
              "      <td>999.000000</td>\n",
              "      <td>999.00000</td>\n",
              "      <td>9.920000e+02</td>\n",
              "      <td>999.000000</td>\n",
              "    </tr>\n",
              "    <tr>\n",
              "      <th>mean</th>\n",
              "      <td>500.916917</td>\n",
              "      <td>648.621622</td>\n",
              "      <td>38.902903</td>\n",
              "      <td>5.069069</td>\n",
              "      <td>7.164928e+06</td>\n",
              "      <td>1.526527</td>\n",
              "      <td>0.702703</td>\n",
              "      <td>0.50951</td>\n",
              "      <td>3.528762e+07</td>\n",
              "      <td>0.203203</td>\n",
              "    </tr>\n",
              "    <tr>\n",
              "      <th>std</th>\n",
              "      <td>288.662884</td>\n",
              "      <td>98.264219</td>\n",
              "      <td>11.401912</td>\n",
              "      <td>2.927691</td>\n",
              "      <td>6.311840e+06</td>\n",
              "      <td>0.574201</td>\n",
              "      <td>0.457297</td>\n",
              "      <td>0.50016</td>\n",
              "      <td>5.305800e+08</td>\n",
              "      <td>0.402584</td>\n",
              "    </tr>\n",
              "    <tr>\n",
              "      <th>min</th>\n",
              "      <td>1.000000</td>\n",
              "      <td>376.000000</td>\n",
              "      <td>-20.000000</td>\n",
              "      <td>0.000000</td>\n",
              "      <td>0.000000e+00</td>\n",
              "      <td>1.000000</td>\n",
              "      <td>0.000000</td>\n",
              "      <td>0.00000</td>\n",
              "      <td>9.677000e+03</td>\n",
              "      <td>0.000000</td>\n",
              "    </tr>\n",
              "    <tr>\n",
              "      <th>25%</th>\n",
              "      <td>251.500000</td>\n",
              "      <td>580.000000</td>\n",
              "      <td>32.000000</td>\n",
              "      <td>2.000000</td>\n",
              "      <td>0.000000e+00</td>\n",
              "      <td>1.000000</td>\n",
              "      <td>0.000000</td>\n",
              "      <td>0.00000</td>\n",
              "      <td>3.029011e+06</td>\n",
              "      <td>0.000000</td>\n",
              "    </tr>\n",
              "    <tr>\n",
              "      <th>50%</th>\n",
              "      <td>501.000000</td>\n",
              "      <td>653.000000</td>\n",
              "      <td>37.000000</td>\n",
              "      <td>5.000000</td>\n",
              "      <td>8.958835e+06</td>\n",
              "      <td>1.000000</td>\n",
              "      <td>1.000000</td>\n",
              "      <td>1.00000</td>\n",
              "      <td>8.703250e+06</td>\n",
              "      <td>0.000000</td>\n",
              "    </tr>\n",
              "    <tr>\n",
              "      <th>75%</th>\n",
              "      <td>750.500000</td>\n",
              "      <td>721.000000</td>\n",
              "      <td>44.000000</td>\n",
              "      <td>8.000000</td>\n",
              "      <td>1.258684e+07</td>\n",
              "      <td>2.000000</td>\n",
              "      <td>1.000000</td>\n",
              "      <td>1.00000</td>\n",
              "      <td>1.405213e+07</td>\n",
              "      <td>0.000000</td>\n",
              "    </tr>\n",
              "    <tr>\n",
              "      <th>max</th>\n",
              "      <td>1000.000000</td>\n",
              "      <td>850.000000</td>\n",
              "      <td>140.000000</td>\n",
              "      <td>10.000000</td>\n",
              "      <td>2.117743e+07</td>\n",
              "      <td>4.000000</td>\n",
              "      <td>1.000000</td>\n",
              "      <td>1.00000</td>\n",
              "      <td>1.193469e+10</td>\n",
              "      <td>1.000000</td>\n",
              "    </tr>\n",
              "  </tbody>\n",
              "</table>\n",
              "</div>\n",
              "    <div class=\"colab-df-buttons\">\n",
              "\n",
              "  <div class=\"colab-df-container\">\n",
              "    <button class=\"colab-df-convert\" onclick=\"convertToInteractive('df-c296aa00-9c11-4579-958d-8981c8f88167')\"\n",
              "            title=\"Convert this dataframe to an interactive table.\"\n",
              "            style=\"display:none;\">\n",
              "\n",
              "  <svg xmlns=\"http://www.w3.org/2000/svg\" height=\"24px\" viewBox=\"0 -960 960 960\">\n",
              "    <path d=\"M120-120v-720h720v720H120Zm60-500h600v-160H180v160Zm220 220h160v-160H400v160Zm0 220h160v-160H400v160ZM180-400h160v-160H180v160Zm440 0h160v-160H620v160ZM180-180h160v-160H180v160Zm440 0h160v-160H620v160Z\"/>\n",
              "  </svg>\n",
              "    </button>\n",
              "\n",
              "  <style>\n",
              "    .colab-df-container {\n",
              "      display:flex;\n",
              "      gap: 12px;\n",
              "    }\n",
              "\n",
              "    .colab-df-convert {\n",
              "      background-color: #E8F0FE;\n",
              "      border: none;\n",
              "      border-radius: 50%;\n",
              "      cursor: pointer;\n",
              "      display: none;\n",
              "      fill: #1967D2;\n",
              "      height: 32px;\n",
              "      padding: 0 0 0 0;\n",
              "      width: 32px;\n",
              "    }\n",
              "\n",
              "    .colab-df-convert:hover {\n",
              "      background-color: #E2EBFA;\n",
              "      box-shadow: 0px 1px 2px rgba(60, 64, 67, 0.3), 0px 1px 3px 1px rgba(60, 64, 67, 0.15);\n",
              "      fill: #174EA6;\n",
              "    }\n",
              "\n",
              "    .colab-df-buttons div {\n",
              "      margin-bottom: 4px;\n",
              "    }\n",
              "\n",
              "    [theme=dark] .colab-df-convert {\n",
              "      background-color: #3B4455;\n",
              "      fill: #D2E3FC;\n",
              "    }\n",
              "\n",
              "    [theme=dark] .colab-df-convert:hover {\n",
              "      background-color: #434B5C;\n",
              "      box-shadow: 0px 1px 3px 1px rgba(0, 0, 0, 0.15);\n",
              "      filter: drop-shadow(0px 1px 2px rgba(0, 0, 0, 0.3));\n",
              "      fill: #FFFFFF;\n",
              "    }\n",
              "  </style>\n",
              "\n",
              "    <script>\n",
              "      const buttonEl =\n",
              "        document.querySelector('#df-c296aa00-9c11-4579-958d-8981c8f88167 button.colab-df-convert');\n",
              "      buttonEl.style.display =\n",
              "        google.colab.kernel.accessAllowed ? 'block' : 'none';\n",
              "\n",
              "      async function convertToInteractive(key) {\n",
              "        const element = document.querySelector('#df-c296aa00-9c11-4579-958d-8981c8f88167');\n",
              "        const dataTable =\n",
              "          await google.colab.kernel.invokeFunction('convertToInteractive',\n",
              "                                                    [key], {});\n",
              "        if (!dataTable) return;\n",
              "\n",
              "        const docLinkHtml = 'Like what you see? Visit the ' +\n",
              "          '<a target=\"_blank\" href=https://colab.research.google.com/notebooks/data_table.ipynb>data table notebook</a>'\n",
              "          + ' to learn more about interactive tables.';\n",
              "        element.innerHTML = '';\n",
              "        dataTable['output_type'] = 'display_data';\n",
              "        await google.colab.output.renderOutput(dataTable, element);\n",
              "        const docLink = document.createElement('div');\n",
              "        docLink.innerHTML = docLinkHtml;\n",
              "        element.appendChild(docLink);\n",
              "      }\n",
              "    </script>\n",
              "  </div>\n",
              "\n",
              "\n",
              "<div id=\"df-24666744-b93e-4bc0-8b54-e05c800566a9\">\n",
              "  <button class=\"colab-df-quickchart\" onclick=\"quickchart('df-24666744-b93e-4bc0-8b54-e05c800566a9')\"\n",
              "            title=\"Suggest charts\"\n",
              "            style=\"display:none;\">\n",
              "\n",
              "<svg xmlns=\"http://www.w3.org/2000/svg\" height=\"24px\"viewBox=\"0 0 24 24\"\n",
              "     width=\"24px\">\n",
              "    <g>\n",
              "        <path d=\"M19 3H5c-1.1 0-2 .9-2 2v14c0 1.1.9 2 2 2h14c1.1 0 2-.9 2-2V5c0-1.1-.9-2-2-2zM9 17H7v-7h2v7zm4 0h-2V7h2v10zm4 0h-2v-4h2v4z\"/>\n",
              "    </g>\n",
              "</svg>\n",
              "  </button>\n",
              "\n",
              "<style>\n",
              "  .colab-df-quickchart {\n",
              "      --bg-color: #E8F0FE;\n",
              "      --fill-color: #1967D2;\n",
              "      --hover-bg-color: #E2EBFA;\n",
              "      --hover-fill-color: #174EA6;\n",
              "      --disabled-fill-color: #AAA;\n",
              "      --disabled-bg-color: #DDD;\n",
              "  }\n",
              "\n",
              "  [theme=dark] .colab-df-quickchart {\n",
              "      --bg-color: #3B4455;\n",
              "      --fill-color: #D2E3FC;\n",
              "      --hover-bg-color: #434B5C;\n",
              "      --hover-fill-color: #FFFFFF;\n",
              "      --disabled-bg-color: #3B4455;\n",
              "      --disabled-fill-color: #666;\n",
              "  }\n",
              "\n",
              "  .colab-df-quickchart {\n",
              "    background-color: var(--bg-color);\n",
              "    border: none;\n",
              "    border-radius: 50%;\n",
              "    cursor: pointer;\n",
              "    display: none;\n",
              "    fill: var(--fill-color);\n",
              "    height: 32px;\n",
              "    padding: 0;\n",
              "    width: 32px;\n",
              "  }\n",
              "\n",
              "  .colab-df-quickchart:hover {\n",
              "    background-color: var(--hover-bg-color);\n",
              "    box-shadow: 0 1px 2px rgba(60, 64, 67, 0.3), 0 1px 3px 1px rgba(60, 64, 67, 0.15);\n",
              "    fill: var(--button-hover-fill-color);\n",
              "  }\n",
              "\n",
              "  .colab-df-quickchart-complete:disabled,\n",
              "  .colab-df-quickchart-complete:disabled:hover {\n",
              "    background-color: var(--disabled-bg-color);\n",
              "    fill: var(--disabled-fill-color);\n",
              "    box-shadow: none;\n",
              "  }\n",
              "\n",
              "  .colab-df-spinner {\n",
              "    border: 2px solid var(--fill-color);\n",
              "    border-color: transparent;\n",
              "    border-bottom-color: var(--fill-color);\n",
              "    animation:\n",
              "      spin 1s steps(1) infinite;\n",
              "  }\n",
              "\n",
              "  @keyframes spin {\n",
              "    0% {\n",
              "      border-color: transparent;\n",
              "      border-bottom-color: var(--fill-color);\n",
              "      border-left-color: var(--fill-color);\n",
              "    }\n",
              "    20% {\n",
              "      border-color: transparent;\n",
              "      border-left-color: var(--fill-color);\n",
              "      border-top-color: var(--fill-color);\n",
              "    }\n",
              "    30% {\n",
              "      border-color: transparent;\n",
              "      border-left-color: var(--fill-color);\n",
              "      border-top-color: var(--fill-color);\n",
              "      border-right-color: var(--fill-color);\n",
              "    }\n",
              "    40% {\n",
              "      border-color: transparent;\n",
              "      border-right-color: var(--fill-color);\n",
              "      border-top-color: var(--fill-color);\n",
              "    }\n",
              "    60% {\n",
              "      border-color: transparent;\n",
              "      border-right-color: var(--fill-color);\n",
              "    }\n",
              "    80% {\n",
              "      border-color: transparent;\n",
              "      border-right-color: var(--fill-color);\n",
              "      border-bottom-color: var(--fill-color);\n",
              "    }\n",
              "    90% {\n",
              "      border-color: transparent;\n",
              "      border-bottom-color: var(--fill-color);\n",
              "    }\n",
              "  }\n",
              "</style>\n",
              "\n",
              "  <script>\n",
              "    async function quickchart(key) {\n",
              "      const quickchartButtonEl =\n",
              "        document.querySelector('#' + key + ' button');\n",
              "      quickchartButtonEl.disabled = true;  // To prevent multiple clicks.\n",
              "      quickchartButtonEl.classList.add('colab-df-spinner');\n",
              "      try {\n",
              "        const charts = await google.colab.kernel.invokeFunction(\n",
              "            'suggestCharts', [key], {});\n",
              "      } catch (error) {\n",
              "        console.error('Error during call to suggestCharts:', error);\n",
              "      }\n",
              "      quickchartButtonEl.classList.remove('colab-df-spinner');\n",
              "      quickchartButtonEl.classList.add('colab-df-quickchart-complete');\n",
              "    }\n",
              "    (() => {\n",
              "      let quickchartButtonEl =\n",
              "        document.querySelector('#df-24666744-b93e-4bc0-8b54-e05c800566a9 button');\n",
              "      quickchartButtonEl.style.display =\n",
              "        google.colab.kernel.accessAllowed ? 'block' : 'none';\n",
              "    })();\n",
              "  </script>\n",
              "</div>\n",
              "\n",
              "    </div>\n",
              "  </div>\n"
            ],
            "application/vnd.google.colaboratory.intrinsic+json": {
              "type": "dataframe",
              "summary": "{\n  \"name\": \"dataset\",\n  \"rows\": 8,\n  \"fields\": [\n    {\n      \"column\": \"Id\",\n      \"properties\": {\n        \"dtype\": \"number\",\n        \"std\": 359.85500052606363,\n        \"min\": 1.0,\n        \"max\": 1000.0,\n        \"num_unique_values\": 8,\n        \"samples\": [\n          500.91691691691693,\n          501.0,\n          999.0\n        ],\n        \"semantic_type\": \"\",\n        \"description\": \"\"\n      }\n    },\n    {\n      \"column\": \"Score\",\n      \"properties\": {\n        \"dtype\": \"number\",\n        \"std\": 278.22112240753756,\n        \"min\": 98.26421874897119,\n        \"max\": 999.0,\n        \"num_unique_values\": 8,\n        \"samples\": [\n          648.6216216216217,\n          653.0,\n          999.0\n        ],\n        \"semantic_type\": \"\",\n        \"description\": \"\"\n      }\n    },\n    {\n      \"column\": \"Idade\",\n      \"properties\": {\n        \"dtype\": \"number\",\n        \"std\": 341.93467103111163,\n        \"min\": -20.0,\n        \"max\": 999.0,\n        \"num_unique_values\": 8,\n        \"samples\": [\n          38.9029029029029,\n          37.0,\n          999.0\n        ],\n        \"semantic_type\": \"\",\n        \"description\": \"\"\n      }\n    },\n    {\n      \"column\": \"Patrimonio\",\n      \"properties\": {\n        \"dtype\": \"number\",\n        \"std\": 351.5478229270986,\n        \"min\": 0.0,\n        \"max\": 999.0,\n        \"num_unique_values\": 8,\n        \"samples\": [\n          5.069069069069069,\n          5.0,\n          999.0\n        ],\n        \"semantic_type\": \"\",\n        \"description\": \"\"\n      }\n    },\n    {\n      \"column\": \"Saldo\",\n      \"properties\": {\n        \"dtype\": \"number\",\n        \"std\": 7402037.811872118,\n        \"min\": 0.0,\n        \"max\": 21177431.0,\n        \"num_unique_values\": 7,\n        \"samples\": [\n          999.0,\n          7164927.564564564,\n          12586844.0\n        ],\n        \"semantic_type\": \"\",\n        \"description\": \"\"\n      }\n    },\n    {\n      \"column\": \"Produtos\",\n      \"properties\": {\n        \"dtype\": \"number\",\n        \"std\": 352.64079763432574,\n        \"min\": 0.5742007140077248,\n        \"max\": 999.0,\n        \"num_unique_values\": 6,\n        \"samples\": [\n          999.0,\n          1.5265265265265264,\n          4.0\n        ],\n        \"semantic_type\": \"\",\n        \"description\": \"\"\n      }\n    },\n    {\n      \"column\": \"TemCartCredito\",\n      \"properties\": {\n        \"dtype\": \"number\",\n        \"std\": 352.98997449894324,\n        \"min\": 0.0,\n        \"max\": 999.0,\n        \"num_unique_values\": 5,\n        \"samples\": [\n          0.7027027027027027,\n          1.0,\n          0.457297435584201\n        ],\n        \"semantic_type\": \"\",\n        \"description\": \"\"\n      }\n    },\n    {\n      \"column\": \"Ativo\",\n      \"properties\": {\n        \"dtype\": \"number\",\n        \"std\": 352.9975637573254,\n        \"min\": 0.0,\n        \"max\": 999.0,\n        \"num_unique_values\": 5,\n        \"samples\": [\n          0.5095095095095095,\n          1.0,\n          0.5001599540336046\n        ],\n        \"semantic_type\": \"\",\n        \"description\": \"\"\n      }\n    },\n    {\n      \"column\": \"Salario\",\n      \"properties\": {\n        \"dtype\": \"number\",\n        \"std\": 4193636978.539777,\n        \"min\": 992.0,\n        \"max\": 11934688000.0,\n        \"num_unique_values\": 8,\n        \"samples\": [\n          35287620.25100806,\n          8703249.5,\n          992.0\n        ],\n        \"semantic_type\": \"\",\n        \"description\": \"\"\n      }\n    },\n    {\n      \"column\": \"Saiu\",\n      \"properties\": {\n        \"dtype\": \"number\",\n        \"std\": 353.1189016031703,\n        \"min\": 0.0,\n        \"max\": 999.0,\n        \"num_unique_values\": 5,\n        \"samples\": [\n          0.2032032032032032,\n          1.0,\n          0.40258402544666305\n        ],\n        \"semantic_type\": \"\",\n        \"description\": \"\"\n      }\n    }\n  ]\n}"
            }
          },
          "metadata": {},
          "execution_count": 23
        }
      ]
    },
    {
      "cell_type": "code",
      "source": [
        "# visualizar graficamente as variaveis numericas\n",
        "\n",
        "%matplotlib inline\n",
        "\n",
        "num_attributes = dataset.select_dtypes(include=['int64', 'float64'])\n",
        "\n",
        "fig, axes = plt.subplots(ncols=3, nrows=3, figsize=(10,10))\n",
        "\n",
        "count = 0\n",
        "for i in range(3):\n",
        "  for j in range(3):\n",
        "    count += 1\n",
        "    if count < len(num_attributes.columns):\n",
        "      num_attributes.iloc[:, count-1].hist(ax=axes[i][j], bins=10)\n",
        "      axes[i][j].set_title(num_attributes.columns[count-1])\n"
      ],
      "metadata": {
        "colab": {
          "base_uri": "https://localhost:8080/",
          "height": 871
        },
        "collapsed": true,
        "id": "1okYZKa_G89G",
        "outputId": "5dd98664-fdf0-4085-bfad-4d60ddf56034"
      },
      "execution_count": null,
      "outputs": [
        {
          "output_type": "display_data",
          "data": {
            "text/plain": [
              "<Figure size 1000x1000 with 9 Axes>"
            ],
            "image/png": "[encoded data removed]"
          },
          "metadata": {}
        }
      ]
    },
    {
      "cell_type": "code",
      "source": [
        "# visualizar graficamente com graficos os outliers das variaveis numericas\n",
        "\n",
        "%matplotlib inline\n",
        "\n",
        "num_attributes = dataset.select_dtypes(include=['int64', 'float64'])\n",
        "\n",
        "fig, axes = plt.subplots(ncols=3, nrows=3, figsize=(15,15))\n",
        "\n",
        "count = 0\n",
        "for i in range(3):\n",
        "  for j in range(3):\n",
        "    count += 1\n",
        "    if count < len(num_attributes.columns):\n",
        "      num_attributes.iloc[:, count-1].plot(kind='box', ax=axes[i][j])\n"
      ],
      "metadata": {
        "colab": {
          "base_uri": "https://localhost:8080/",
          "height": 992
        },
        "id": "g1Feszs5ITXB",
        "outputId": "ccf321ff-a0e9-4be8-b1a6-7429f93e56aa"
      },
      "execution_count": null,
      "outputs": [
        {
          "output_type": "display_data",
          "data": {
            "text/plain": [
              "<Figure size 1500x1500 with 9 Axes>"
            ],
            "image/png": "[encoded data removed]"
          },
          "metadata": {}
        }
      ]
    },
    {
      "cell_type": "code",
      "source": [
        "# Visualizar dados faltantes\n",
        "dataset.isnull().sum()"
      ],
      "metadata": {
        "colab": {
          "base_uri": "https://localhost:8080/"
        },
        "id": "WU1lZoRdBQbA",
        "outputId": "08436ab7-165a-4ed9-888c-ea9b14942782"
      },
      "execution_count": null,
      "outputs": [
        {
          "output_type": "execute_result",
          "data": {
            "text/plain": [
              "Id                0\n",
              "Score             0\n",
              "Estado            0\n",
              "Genero            8\n",
              "Idade             0\n",
              "Patrimonio        0\n",
              "Saldo             0\n",
              "Produtos          0\n",
              "TemCartCredito    0\n",
              "Ativo             0\n",
              "Salario           7\n",
              "Saiu              0\n",
              "dtype: int64"
            ]
          },
          "metadata": {},
          "execution_count": 30
        }
      ]
    },
    {
      "cell_type": "code",
      "source": [
        "dataset['Salario'].describe()"
      ],
      "metadata": {
        "colab": {
          "base_uri": "https://localhost:8080/"
        },
        "id": "X1sFjSqVK2cB",
        "outputId": "908af5c9-355a-459e-e2f2-60940709a36f"
      },
      "execution_count": null,
      "outputs": [
        {
          "output_type": "execute_result",
          "data": {
            "text/plain": [
              "count    9.990000e+02\n",
              "mean     3.510134e+07\n",
              "std      5.287206e+08\n",
              "min      9.677000e+03\n",
              "25%      3.078473e+06\n",
              "50%      8.703250e+06\n",
              "75%      1.402954e+07\n",
              "max      1.193469e+10\n",
              "Name: Salario, dtype: float64"
            ]
          },
          "metadata": {},
          "execution_count": 42
        }
      ]
    },
    {
      "cell_type": "code",
      "source": [
        "dataset['Salario'].median()"
      ],
      "metadata": {
        "colab": {
          "base_uri": "https://localhost:8080/"
        },
        "id": "GO5xz8m8LVJF",
        "outputId": "d4e3a57f-1ffe-4a5b-b3c5-a2ff49c8a2f2"
      },
      "execution_count": null,
      "outputs": [
        {
          "output_type": "execute_result",
          "data": {
            "text/plain": [
              "8703249.5"
            ]
          },
          "metadata": {},
          "execution_count": 44
        }
      ]
    },
    {
      "cell_type": "code",
      "source": [
        "# Tratamento de dados faltantes\n",
        "# Genero e Salário\n",
        "# Salário - Substituir pela mediana\n",
        "dataset['Salario'].fillna(dataset['Salario'].median(), inplace = True)\n",
        "dataset['Salario'].isnull().sum()"
      ],
      "metadata": {
        "colab": {
          "base_uri": "https://localhost:8080/"
        },
        "id": "jCzkeGbHJn6H",
        "outputId": "14ab55e6-923c-42af-9f8f-479dd53ee77a"
      },
      "execution_count": null,
      "outputs": [
        {
          "output_type": "execute_result",
          "data": {
            "text/plain": [
              "0"
            ]
          },
          "metadata": {},
          "execution_count": 33
        }
      ]
    },
    {
      "cell_type": "code",
      "source": [
        "dataset['Genero'].describe()"
      ],
      "metadata": {
        "colab": {
          "base_uri": "https://localhost:8080/"
        },
        "id": "Myvqz-15Lp0c",
        "outputId": "5d72a4f1-d31c-4014-c107-9e119c1c6373"
      },
      "execution_count": null,
      "outputs": [
        {
          "output_type": "execute_result",
          "data": {
            "text/plain": [
              "count           991\n",
              "unique            5\n",
              "top       Masculino\n",
              "freq            521\n",
              "Name: Genero, dtype: object"
            ]
          },
          "metadata": {},
          "execution_count": 46
        }
      ]
    },
    {
      "cell_type": "code",
      "source": [
        "dataset['Genero'].mode()"
      ],
      "metadata": {
        "colab": {
          "base_uri": "https://localhost:8080/"
        },
        "id": "Jzsd5w0vKggs",
        "outputId": "e4f50d39-a567-4d7f-cc8b-d1fc87dfb781"
      },
      "execution_count": null,
      "outputs": [
        {
          "output_type": "execute_result",
          "data": {
            "text/plain": [
              "0    Masculino\n",
              "Name: Genero, dtype: object"
            ]
          },
          "metadata": {},
          "execution_count": 35
        }
      ]
    },
    {
      "cell_type": "code",
      "source": [
        "# Genero - Substituir pela moda\n",
        "dataset['Genero'].fillna(dataset['Genero'].mode()[0], inplace = True)\n",
        "dataset['Genero'].isnull().sum()"
      ],
      "metadata": {
        "colab": {
          "base_uri": "https://localhost:8080/"
        },
        "id": "Zc3I2TpYKPCv",
        "outputId": "eda609d8-b002-4beb-95a4-3aa7d0b8dbbf"
      },
      "execution_count": null,
      "outputs": [
        {
          "output_type": "execute_result",
          "data": {
            "text/plain": [
              "0"
            ]
          },
          "metadata": {},
          "execution_count": 47
        }
      ]
    },
    {
      "cell_type": "code",
      "source": [
        "# validando se ainda existem valores faltantes\n",
        "dataset.isnull().sum()"
      ],
      "metadata": {
        "colab": {
          "base_uri": "https://localhost:8080/"
        },
        "id": "VAeyequwL3Tk",
        "outputId": "efb9fb6b-ff87-491c-f6e7-133ad77870d4"
      },
      "execution_count": null,
      "outputs": [
        {
          "output_type": "execute_result",
          "data": {
            "text/plain": [
              "Id                0\n",
              "Score             0\n",
              "Estado            0\n",
              "Genero            0\n",
              "Idade             0\n",
              "Patrimonio        0\n",
              "Saldo             0\n",
              "Produtos          0\n",
              "TemCartCredito    0\n",
              "Ativo             0\n",
              "Salario           0\n",
              "Saiu              0\n",
              "dtype: int64"
            ]
          },
          "metadata": {},
          "execution_count": 48
        }
      ]
    },
    {
      "cell_type": "code",
      "source": [
        "# Verificando dados inconsistentes\n",
        "# Estado\n",
        "dataset['Estado'].value_counts()"
      ],
      "metadata": {
        "colab": {
          "base_uri": "https://localhost:8080/"
        },
        "id": "SRCH70KoME5X",
        "outputId": "195cbef2-3b91-45d1-c925-8fc21fd090ca"
      },
      "execution_count": null,
      "outputs": [
        {
          "output_type": "execute_result",
          "data": {
            "text/plain": [
              "Estado\n",
              "RS    478\n",
              "SC    258\n",
              "PR    257\n",
              "SP      4\n",
              "RP      1\n",
              "TD      1\n",
              "Name: count, dtype: int64"
            ]
          },
          "metadata": {},
          "execution_count": 60
        }
      ]
    },
    {
      "cell_type": "code",
      "source": [
        "# Padronizar de acordo com o dominio os valores SP, RP e TD pela moda\n",
        "dataset.loc[dataset['Estado'].isin(['SP', 'RP', 'TD']), 'Estado'] = dataset['Estado'].mode()[0]\n",
        "dataset['Estado'].value_counts()\n"
      ],
      "metadata": {
        "colab": {
          "base_uri": "https://localhost:8080/"
        },
        "id": "6sJZn0NwOAPs",
        "outputId": "236cbe82-1f88-4b0b-be03-9c6a577a1dc7"
      },
      "execution_count": null,
      "outputs": [
        {
          "output_type": "execute_result",
          "data": {
            "text/plain": [
              "Estado\n",
              "RS    484\n",
              "SC    258\n",
              "PR    257\n",
              "Name: count, dtype: int64"
            ]
          },
          "metadata": {},
          "execution_count": 61
        }
      ]
    },
    {
      "cell_type": "code",
      "source": [
        "# Genero\n",
        "dataset['Genero'].value_counts()"
      ],
      "metadata": {
        "colab": {
          "base_uri": "https://localhost:8080/"
        },
        "id": "dXf7NWMQPFic",
        "outputId": "04d535fa-8622-4b8a-8809-1ae43b04143e"
      },
      "execution_count": null,
      "outputs": [
        {
          "output_type": "execute_result",
          "data": {
            "text/plain": [
              "Genero\n",
              "Masculino    529\n",
              "Feminino     461\n",
              "M              6\n",
              "F              2\n",
              "Fem            1\n",
              "Name: count, dtype: int64"
            ]
          },
          "metadata": {},
          "execution_count": 62
        }
      ]
    },
    {
      "cell_type": "code",
      "source": [
        "# Padronizar Genero de acordo com o domínio ('M' por \"Masculino' e 'Fem' e 'F' por 'Feminino')\n",
        "dataset.loc[dataset['Genero'] == 'M', 'Genero'] = 'Masculino'\n",
        "dataset.loc[dataset['Genero'].isin(['Fem', 'F']), 'Genero'] = 'Feminino'\n",
        "dataset['Genero'].unique()"
      ],
      "metadata": {
        "colab": {
          "base_uri": "https://localhost:8080/"
        },
        "id": "xoNZcEMdP04D",
        "outputId": "53af26ed-07a3-4a6e-9897-eb9accbd574e"
      },
      "execution_count": null,
      "outputs": [
        {
          "output_type": "execute_result",
          "data": {
            "text/plain": [
              "array(['Feminino', 'Masculino'], dtype=object)"
            ]
          },
          "metadata": {},
          "execution_count": 63
        }
      ]
    },
    {
      "cell_type": "code",
      "source": [
        "# Outliers em Salário\n",
        "\n",
        "%matplotlib inline\n",
        "\n",
        "fig, axes = plt.subplots(ncols=2, figsize=(10,3))\n",
        "\n",
        "dataset['Salario'].hist(ax=axes[0], bins=20)\n",
        "axes[0].set_title('Histograma de Salário')\n",
        "\n",
        "dataset['Salario'].plot(kind='box', ax=axes[1])\n",
        "axes[1].set_title('Boxplot de Salário')\n"
      ],
      "metadata": {
        "colab": {
          "base_uri": "https://localhost:8080/",
          "height": 349
        },
        "id": "-AZ-kT0_Rs24",
        "outputId": "953e328e-6433-46b0-87c4-877daa2549dc"
      },
      "execution_count": null,
      "outputs": [
        {
          "output_type": "execute_result",
          "data": {
            "text/plain": [
              "Text(0.5, 1.0, 'Boxplot de Salário')"
            ]
          },
          "metadata": {},
          "execution_count": 72
        },
        {
          "output_type": "display_data",
          "data": {
            "text/plain": [
              "<Figure size 1000x300 with 2 Axes>"
            ],
            "image/png": "[encoded data removed]"
          },
          "metadata": {}
        }
      ]
    },
    {
      "cell_type": "code",
      "source": [
        "# Calcula o desvio padrão\n",
        "import statistics as sts\n",
        "desv = sts.stdev(dataset['Salario'])\n",
        "desv"
      ],
      "metadata": {
        "colab": {
          "base_uri": "https://localhost:8080/"
        },
        "id": "Vg5usg-gSphK",
        "outputId": "eb21f2ba-aec8-462f-c957-a6743933601e"
      },
      "execution_count": null,
      "outputs": [
        {
          "output_type": "execute_result",
          "data": {
            "text/plain": [
              "528720617.4240976"
            ]
          },
          "metadata": {},
          "execution_count": 73
        }
      ]
    },
    {
      "cell_type": "code",
      "source": [
        "# Define a faixa aceitável\n",
        "dataset.loc[dataset['Salario'] >= 2 * desv, 'Salario'] = 2 * desv"
      ],
      "metadata": {
        "id": "HcQ_dqotRe7E"
      },
      "execution_count": null,
      "outputs": []
    },
    {
      "cell_type": "code",
      "source": [
        "# Verifica o resultado\n",
        "%matplotlib inline\n",
        "\n",
        "fig, axes = plt.subplots(ncols=2, figsize=(10,3))\n",
        "\n",
        "dataset['Salario'].hist(ax=axes[0], bins=20)\n",
        "axes[0].set_title('Histograma de Salário')\n",
        "\n",
        "dataset['Salario'].plot(kind='box', ax=axes[1])\n",
        "axes[1].set_title('Boxplot de Salário')"
      ],
      "metadata": {
        "colab": {
          "base_uri": "https://localhost:8080/",
          "height": 349
        },
        "id": "j1-TTATNZCFJ",
        "outputId": "86151209-4555-4fe2-8d55-74541c817c41"
      },
      "execution_count": null,
      "outputs": [
        {
          "output_type": "execute_result",
          "data": {
            "text/plain": [
              "Text(0.5, 1.0, 'Boxplot de Salário')"
            ]
          },
          "metadata": {},
          "execution_count": 76
        },
        {
          "output_type": "display_data",
          "data": {
            "text/plain": [
              "<Figure size 1000x300 with 2 Axes>"
            ],
            "image/png": "[encoded data removed]"
          },
          "metadata": {}
        }
      ]
    },
    {
      "cell_type": "code",
      "source": [
        "dataset['Score'].min()"
      ],
      "metadata": {
        "colab": {
          "base_uri": "https://localhost:8080/"
        },
        "id": "Di-t7VT9Zk_5",
        "outputId": "b763f4b0-6afd-4654-8e11-b864a79bc064"
      },
      "execution_count": null,
      "outputs": [
        {
          "output_type": "execute_result",
          "data": {
            "text/plain": [
              "376"
            ]
          },
          "metadata": {},
          "execution_count": 77
        }
      ]
    },
    {
      "cell_type": "code",
      "source": [
        "dataset['Score'].max()"
      ],
      "metadata": {
        "colab": {
          "base_uri": "https://localhost:8080/"
        },
        "id": "kHykbEiqZq0-",
        "outputId": "b817aa02-952b-4e1e-bde1-c9c84fbc034a"
      },
      "execution_count": null,
      "outputs": [
        {
          "output_type": "execute_result",
          "data": {
            "text/plain": [
              "850"
            ]
          },
          "metadata": {},
          "execution_count": 78
        }
      ]
    },
    {
      "cell_type": "code",
      "source": [
        "# Padronização dos dados\n",
        "# Score - MinMax\n",
        "dataset['Score'] = (dataset['Score'] - dataset['Score'].min()) / (dataset['Score'].max() - dataset['Score'].min())\n",
        "# Idade - MinMax\n",
        "dataset['Idade'] = (dataset['Idade'] - dataset['Idade'].min()) / (dataset['Idade'].max() - dataset['Idade'].min())\n",
        "# Saldo - MinMax\n",
        "dataset['Saldo'] = (dataset['Saldo'] - dataset['Saldo'].min()) / (dataset['Saldo'].max() - dataset['Saldo'].min())\n",
        "# Salário - MinMax\n",
        "dataset['Salario'] = (dataset['Salario'] - dataset['Salario'].min()) / (dataset['Salario'].max() - dataset['Salario'].min())"
      ],
      "metadata": {
        "id": "BWLW4aDLZIhW"
      },
      "execution_count": null,
      "outputs": []
    },
    {
      "cell_type": "code",
      "source": [
        "# Transformação de variáveis categóricas em numéricas\n",
        "from sklearn.preprocessing import LabelEncoder\n",
        "# Estado\n",
        "label_encoder = LabelEncoder()\n",
        "dataset['Estado'] = label_encoder.fit_transform(dataset['Estado'])\n",
        "# Gênero\n",
        "label_encoder = LabelEncoder()\n",
        "dataset['Genero'] = label_encoder.fit_transform(dataset['Genero'])\n",
        "# Visualiza o resultado\n",
        "dataset.head()"
      ],
      "metadata": {
        "colab": {
          "base_uri": "https://localhost:8080/",
          "height": 206
        },
        "id": "cdc8PW1Gbs1m",
        "outputId": "3eb75c8e-eaa7-49fa-c424-9f2ca1b6ad93"
      },
      "execution_count": null,
      "outputs": [
        {
          "output_type": "execute_result",
          "data": {
            "text/plain": [
              "   Id     Score  Estado  Genero    Idade  Patrimonio     Saldo  Produtos  \\\n",
              "0   1  0.512658       1       0  0.38750           2  0.000000         1   \n",
              "1   2  0.489451       2       0  0.38125           1  0.395741         1   \n",
              "2   3  0.265823       1       0  0.38750           8  0.075392         3   \n",
              "3   4  0.681435       1       0  0.36875           1  0.000000         2   \n",
              "4   5  1.000000       2       0  0.39375           2  0.592663         1   \n",
              "\n",
              "   TemCartCredito  Ativo   Salario  Saiu  \n",
              "0               1      1  0.009575     1  \n",
              "1               0      1  0.010634     0  \n",
              "2               1      0  0.010765     1  \n",
              "3               0      0  0.008864     0  \n",
              "4               1      1  0.000739     0  "
            ],
            "text/html": [
              "\n",
              "  <div id=\"df-a661cfcc-8c86-41c9-b017-0817020a0351\" class=\"colab-df-container\">\n",
              "    <div>\n",
              "<style scoped>\n",
              "    .dataframe tbody tr th:only-of-type {\n",
              "        vertical-align: middle;\n",
              "    }\n",
              "\n",
              "    .dataframe tbody tr th {\n",
              "        vertical-align: top;\n",
              "    }\n",
              "\n",
              "    .dataframe thead th {\n",
              "        text-align: right;\n",
              "    }\n",
              "</style>\n",
              "<table border=\"1\" class=\"dataframe\">\n",
              "  <thead>\n",
              "    <tr style=\"text-align: right;\">\n",
              "      <th></th>\n",
              "      <th>Id</th>\n",
              "      <th>Score</th>\n",
              "      <th>Estado</th>\n",
              "      <th>Genero</th>\n",
              "      <th>Idade</th>\n",
              "      <th>Patrimonio</th>\n",
              "      <th>Saldo</th>\n",
              "      <th>Produtos</th>\n",
              "      <th>TemCartCredito</th>\n",
              "      <th>Ativo</th>\n",
              "      <th>Salario</th>\n",
              "      <th>Saiu</th>\n",
              "    </tr>\n",
              "  </thead>\n",
              "  <tbody>\n",
              "    <tr>\n",
              "      <th>0</th>\n",
              "      <td>1</td>\n",
              "      <td>0.512658</td>\n",
              "      <td>1</td>\n",
              "      <td>0</td>\n",
              "      <td>0.38750</td>\n",
              "      <td>2</td>\n",
              "      <td>0.000000</td>\n",
              "      <td>1</td>\n",
              "      <td>1</td>\n",
              "      <td>1</td>\n",
              "      <td>0.009575</td>\n",
              "      <td>1</td>\n",
              "    </tr>\n",
              "    <tr>\n",
              "      <th>1</th>\n",
              "      <td>2</td>\n",
              "      <td>0.489451</td>\n",
              "      <td>2</td>\n",
              "      <td>0</td>\n",
              "      <td>0.38125</td>\n",
              "      <td>1</td>\n",
              "      <td>0.395741</td>\n",
              "      <td>1</td>\n",
              "      <td>0</td>\n",
              "      <td>1</td>\n",
              "      <td>0.010634</td>\n",
              "      <td>0</td>\n",
              "    </tr>\n",
              "    <tr>\n",
              "      <th>2</th>\n",
              "      <td>3</td>\n",
              "      <td>0.265823</td>\n",
              "      <td>1</td>\n",
              "      <td>0</td>\n",
              "      <td>0.38750</td>\n",
              "      <td>8</td>\n",
              "      <td>0.075392</td>\n",
              "      <td>3</td>\n",
              "      <td>1</td>\n",
              "      <td>0</td>\n",
              "      <td>0.010765</td>\n",
              "      <td>1</td>\n",
              "    </tr>\n",
              "    <tr>\n",
              "      <th>3</th>\n",
              "      <td>4</td>\n",
              "      <td>0.681435</td>\n",
              "      <td>1</td>\n",
              "      <td>0</td>\n",
              "      <td>0.36875</td>\n",
              "      <td>1</td>\n",
              "      <td>0.000000</td>\n",
              "      <td>2</td>\n",
              "      <td>0</td>\n",
              "      <td>0</td>\n",
              "      <td>0.008864</td>\n",
              "      <td>0</td>\n",
              "    </tr>\n",
              "    <tr>\n",
              "      <th>4</th>\n",
              "      <td>5</td>\n",
              "      <td>1.000000</td>\n",
              "      <td>2</td>\n",
              "      <td>0</td>\n",
              "      <td>0.39375</td>\n",
              "      <td>2</td>\n",
              "      <td>0.592663</td>\n",
              "      <td>1</td>\n",
              "      <td>1</td>\n",
              "      <td>1</td>\n",
              "      <td>0.000739</td>\n",
              "      <td>0</td>\n",
              "    </tr>\n",
              "  </tbody>\n",
              "</table>\n",
              "</div>\n",
              "    <div class=\"colab-df-buttons\">\n",
              "\n",
              "  <div class=\"colab-df-container\">\n",
              "    <button class=\"colab-df-convert\" onclick=\"convertToInteractive('df-a661cfcc-8c86-41c9-b017-0817020a0351')\"\n",
              "            title=\"Convert this dataframe to an interactive table.\"\n",
              "            style=\"display:none;\">\n",
              "\n",
              "  <svg xmlns=\"http://www.w3.org/2000/svg\" height=\"24px\" viewBox=\"0 -960 960 960\">\n",
              "    <path d=\"M120-120v-720h720v720H120Zm60-500h600v-160H180v160Zm220 220h160v-160H400v160Zm0 220h160v-160H400v160ZM180-400h160v-160H180v160Zm440 0h160v-160H620v160ZM180-180h160v-160H180v160Zm440 0h160v-160H620v160Z\"/>\n",
              "  </svg>\n",
              "    </button>\n",
              "\n",
              "  <style>\n",
              "    .colab-df-container {\n",
              "      display:flex;\n",
              "      gap: 12px;\n",
              "    }\n",
              "\n",
              "    .colab-df-convert {\n",
              "      background-color: #E8F0FE;\n",
              "      border: none;\n",
              "      border-radius: 50%;\n",
              "      cursor: pointer;\n",
              "      display: none;\n",
              "      fill: #1967D2;\n",
              "      height: 32px;\n",
              "      padding: 0 0 0 0;\n",
              "      width: 32px;\n",
              "    }\n",
              "\n",
              "    .colab-df-convert:hover {\n",
              "      background-color: #E2EBFA;\n",
              "      box-shadow: 0px 1px 2px rgba(60, 64, 67, 0.3), 0px 1px 3px 1px rgba(60, 64, 67, 0.15);\n",
              "      fill: #174EA6;\n",
              "    }\n",
              "\n",
              "    .colab-df-buttons div {\n",
              "      margin-bottom: 4px;\n",
              "    }\n",
              "\n",
              "    [theme=dark] .colab-df-convert {\n",
              "      background-color: #3B4455;\n",
              "      fill: #D2E3FC;\n",
              "    }\n",
              "\n",
              "    [theme=dark] .colab-df-convert:hover {\n",
              "      background-color: #434B5C;\n",
              "      box-shadow: 0px 1px 3px 1px rgba(0, 0, 0, 0.15);\n",
              "      filter: drop-shadow(0px 1px 2px rgba(0, 0, 0, 0.3));\n",
              "      fill: #FFFFFF;\n",
              "    }\n",
              "  </style>\n",
              "\n",
              "    <script>\n",
              "      const buttonEl =\n",
              "        document.querySelector('#df-a661cfcc-8c86-41c9-b017-0817020a0351 button.colab-df-convert');\n",
              "      buttonEl.style.display =\n",
              "        google.colab.kernel.accessAllowed ? 'block' : 'none';\n",
              "\n",
              "      async function convertToInteractive(key) {\n",
              "        const element = document.querySelector('#df-a661cfcc-8c86-41c9-b017-0817020a0351');\n",
              "        const dataTable =\n",
              "          await google.colab.kernel.invokeFunction('convertToInteractive',\n",
              "                                                    [key], {});\n",
              "        if (!dataTable) return;\n",
              "\n",
              "        const docLinkHtml = 'Like what you see? Visit the ' +\n",
              "          '<a target=\"_blank\" href=https://colab.research.google.com/notebooks/data_table.ipynb>data table notebook</a>'\n",
              "          + ' to learn more about interactive tables.';\n",
              "        element.innerHTML = '';\n",
              "        dataTable['output_type'] = 'display_data';\n",
              "        await google.colab.output.renderOutput(dataTable, element);\n",
              "        const docLink = document.createElement('div');\n",
              "        docLink.innerHTML = docLinkHtml;\n",
              "        element.appendChild(docLink);\n",
              "      }\n",
              "    </script>\n",
              "  </div>\n",
              "\n",
              "\n",
              "<div id=\"df-b19f09ee-8b70-40b4-89b9-b2475c777205\">\n",
              "  <button class=\"colab-df-quickchart\" onclick=\"quickchart('df-b19f09ee-8b70-40b4-89b9-b2475c777205')\"\n",
              "            title=\"Suggest charts\"\n",
              "            style=\"display:none;\">\n",
              "\n",
              "<svg xmlns=\"http://www.w3.org/2000/svg\" height=\"24px\"viewBox=\"0 0 24 24\"\n",
              "     width=\"24px\">\n",
              "    <g>\n",
              "        <path d=\"M19 3H5c-1.1 0-2 .9-2 2v14c0 1.1.9 2 2 2h14c1.1 0 2-.9 2-2V5c0-1.1-.9-2-2-2zM9 17H7v-7h2v7zm4 0h-2V7h2v10zm4 0h-2v-4h2v4z\"/>\n",
              "    </g>\n",
              "</svg>\n",
              "  </button>\n",
              "\n",
              "<style>\n",
              "  .colab-df-quickchart {\n",
              "      --bg-color: #E8F0FE;\n",
              "      --fill-color: #1967D2;\n",
              "      --hover-bg-color: #E2EBFA;\n",
              "      --hover-fill-color: #174EA6;\n",
              "      --disabled-fill-color: #AAA;\n",
              "      --disabled-bg-color: #DDD;\n",
              "  }\n",
              "\n",
              "  [theme=dark] .colab-df-quickchart {\n",
              "      --bg-color: #3B4455;\n",
              "      --fill-color: #D2E3FC;\n",
              "      --hover-bg-color: #434B5C;\n",
              "      --hover-fill-color: #FFFFFF;\n",
              "      --disabled-bg-color: #3B4455;\n",
              "      --disabled-fill-color: #666;\n",
              "  }\n",
              "\n",
              "  .colab-df-quickchart {\n",
              "    background-color: var(--bg-color);\n",
              "    border: none;\n",
              "    border-radius: 50%;\n",
              "    cursor: pointer;\n",
              "    display: none;\n",
              "    fill: var(--fill-color);\n",
              "    height: 32px;\n",
              "    padding: 0;\n",
              "    width: 32px;\n",
              "  }\n",
              "\n",
              "  .colab-df-quickchart:hover {\n",
              "    background-color: var(--hover-bg-color);\n",
              "    box-shadow: 0 1px 2px rgba(60, 64, 67, 0.3), 0 1px 3px 1px rgba(60, 64, 67, 0.15);\n",
              "    fill: var(--button-hover-fill-color);\n",
              "  }\n",
              "\n",
              "  .colab-df-quickchart-complete:disabled,\n",
              "  .colab-df-quickchart-complete:disabled:hover {\n",
              "    background-color: var(--disabled-bg-color);\n",
              "    fill: var(--disabled-fill-color);\n",
              "    box-shadow: none;\n",
              "  }\n",
              "\n",
              "  .colab-df-spinner {\n",
              "    border: 2px solid var(--fill-color);\n",
              "    border-color: transparent;\n",
              "    border-bottom-color: var(--fill-color);\n",
              "    animation:\n",
              "      spin 1s steps(1) infinite;\n",
              "  }\n",
              "\n",
              "  @keyframes spin {\n",
              "    0% {\n",
              "      border-color: transparent;\n",
              "      border-bottom-color: var(--fill-color);\n",
              "      border-left-color: var(--fill-color);\n",
              "    }\n",
              "    20% {\n",
              "      border-color: transparent;\n",
              "      border-left-color: var(--fill-color);\n",
              "      border-top-color: var(--fill-color);\n",
              "    }\n",
              "    30% {\n",
              "      border-color: transparent;\n",
              "      border-left-color: var(--fill-color);\n",
              "      border-top-color: var(--fill-color);\n",
              "      border-right-color: var(--fill-color);\n",
              "    }\n",
              "    40% {\n",
              "      border-color: transparent;\n",
              "      border-right-color: var(--fill-color);\n",
              "      border-top-color: var(--fill-color);\n",
              "    }\n",
              "    60% {\n",
              "      border-color: transparent;\n",
              "      border-right-color: var(--fill-color);\n",
              "    }\n",
              "    80% {\n",
              "      border-color: transparent;\n",
              "      border-right-color: var(--fill-color);\n",
              "      border-bottom-color: var(--fill-color);\n",
              "    }\n",
              "    90% {\n",
              "      border-color: transparent;\n",
              "      border-bottom-color: var(--fill-color);\n",
              "    }\n",
              "  }\n",
              "</style>\n",
              "\n",
              "  <script>\n",
              "    async function quickchart(key) {\n",
              "      const quickchartButtonEl =\n",
              "        document.querySelector('#' + key + ' button');\n",
              "      quickchartButtonEl.disabled = true;  // To prevent multiple clicks.\n",
              "      quickchartButtonEl.classList.add('colab-df-spinner');\n",
              "      try {\n",
              "        const charts = await google.colab.kernel.invokeFunction(\n",
              "            'suggestCharts', [key], {});\n",
              "      } catch (error) {\n",
              "        console.error('Error during call to suggestCharts:', error);\n",
              "      }\n",
              "      quickchartButtonEl.classList.remove('colab-df-spinner');\n",
              "      quickchartButtonEl.classList.add('colab-df-quickchart-complete');\n",
              "    }\n",
              "    (() => {\n",
              "      let quickchartButtonEl =\n",
              "        document.querySelector('#df-b19f09ee-8b70-40b4-89b9-b2475c777205 button');\n",
              "      quickchartButtonEl.style.display =\n",
              "        google.colab.kernel.accessAllowed ? 'block' : 'none';\n",
              "    })();\n",
              "  </script>\n",
              "</div>\n",
              "\n",
              "    </div>\n",
              "  </div>\n"
            ],
            "application/vnd.google.colaboratory.intrinsic+json": {
              "type": "dataframe",
              "variable_name": "dataset",
              "summary": "{\n  \"name\": \"dataset\",\n  \"rows\": 999,\n  \"fields\": [\n    {\n      \"column\": \"Id\",\n      \"properties\": {\n        \"dtype\": \"number\",\n        \"std\": 288,\n        \"min\": 1,\n        \"max\": 1000,\n        \"num_unique_values\": 998,\n        \"samples\": [\n          456,\n          795,\n          212\n        ],\n        \"semantic_type\": \"\",\n        \"description\": \"\"\n      }\n    },\n    {\n      \"column\": \"Score\",\n      \"properties\": {\n        \"dtype\": \"number\",\n        \"std\": 0.20730847837335697,\n        \"min\": 0.0,\n        \"max\": 1.0,\n        \"num_unique_values\": 354,\n        \"samples\": [\n          0.9789029535864979,\n          0.5991561181434599,\n          0.08649789029535865\n        ],\n        \"semantic_type\": \"\",\n        \"description\": \"\"\n      }\n    },\n    {\n      \"column\": \"Estado\",\n      \"properties\": {\n        \"dtype\": \"number\",\n        \"std\": 0,\n        \"min\": 0,\n        \"max\": 2,\n        \"num_unique_values\": 3,\n        \"samples\": [\n          1,\n          2,\n          0\n        ],\n        \"semantic_type\": \"\",\n        \"description\": \"\"\n      }\n    },\n    {\n      \"column\": \"Genero\",\n      \"properties\": {\n        \"dtype\": \"number\",\n        \"std\": 0,\n        \"min\": 0,\n        \"max\": 1,\n        \"num_unique_values\": 2,\n        \"samples\": [\n          1,\n          0\n        ],\n        \"semantic_type\": \"\",\n        \"description\": \"\"\n      }\n    },\n    {\n      \"column\": \"Idade\",\n      \"properties\": {\n        \"dtype\": \"number\",\n        \"std\": 0.07126194767126656,\n        \"min\": 0.0,\n        \"max\": 1.0,\n        \"num_unique_values\": 64,\n        \"samples\": [\n          0.5,\n          0.55625\n        ],\n        \"semantic_type\": \"\",\n        \"description\": \"\"\n      }\n    },\n    {\n      \"column\": \"Patrimonio\",\n      \"properties\": {\n        \"dtype\": \"number\",\n        \"std\": 2,\n        \"min\": 0,\n        \"max\": 10,\n        \"num_unique_values\": 11,\n        \"samples\": [\n          6,\n          2\n        ],\n        \"semantic_type\": \"\",\n        \"description\": \"\"\n      }\n    },\n    {\n      \"column\": \"Saldo\",\n      \"properties\": {\n        \"dtype\": \"number\",\n        \"std\": 0.29804559985751833,\n        \"min\": 0.0,\n        \"max\": 1.0,\n        \"num_unique_values\": 649,\n        \"samples\": [\n          0.5880447916463521,\n          0.8869913919209559\n        ],\n        \"semantic_type\": \"\",\n        \"description\": \"\"\n      }\n    },\n    {\n      \"column\": \"Produtos\",\n      \"properties\": {\n        \"dtype\": \"number\",\n        \"std\": 0,\n        \"min\": 1,\n        \"max\": 4,\n        \"num_unique_values\": 4,\n        \"samples\": [\n          3,\n          4\n        ],\n        \"semantic_type\": \"\",\n        \"description\": \"\"\n      }\n    },\n    {\n      \"column\": \"TemCartCredito\",\n      \"properties\": {\n        \"dtype\": \"number\",\n        \"std\": 0,\n        \"min\": 0,\n        \"max\": 1,\n        \"num_unique_values\": 2,\n        \"samples\": [\n          0,\n          1\n        ],\n        \"semantic_type\": \"\",\n        \"description\": \"\"\n      }\n    },\n    {\n      \"column\": \"Ativo\",\n      \"properties\": {\n        \"dtype\": \"number\",\n        \"std\": 0,\n        \"min\": 0,\n        \"max\": 1,\n        \"num_unique_values\": 2,\n        \"samples\": [\n          0,\n          1\n        ],\n        \"semantic_type\": \"\",\n        \"description\": \"\"\n      }\n    },\n    {\n      \"column\": \"Salario\",\n      \"properties\": {\n        \"dtype\": \"number\",\n        \"std\": 0.06291219397279227,\n        \"min\": 0.0,\n        \"max\": 1.0,\n        \"num_unique_values\": 985,\n        \"samples\": [\n          0.0008782752823169728,\n          0.010102195192413165\n        ],\n        \"semantic_type\": \"\",\n        \"description\": \"\"\n      }\n    },\n    {\n      \"column\": \"Saiu\",\n      \"properties\": {\n        \"dtype\": \"number\",\n        \"std\": 0,\n        \"min\": 0,\n        \"max\": 1,\n        \"num_unique_values\": 2,\n        \"samples\": [\n          0,\n          1\n        ],\n        \"semantic_type\": \"\",\n        \"description\": \"\"\n      }\n    }\n  ]\n}"
            }
          },
          "metadata": {},
          "execution_count": 80
        }
      ]
    },
    {
      "cell_type": "code",
      "source": [
        "# Escalonamento de atributos numéricos\n",
        "from sklearn.preprocessing import StandardScaler\n",
        "scaler = StandardScaler()\n",
        "dataset[['Score', 'Idade', 'Saldo', 'Salario']] = scaler.fit_transform(dataset[['Score', 'Idade', 'Saldo', 'Salario']])\n",
        "# Visualiza o resultado\n",
        "dataset.head()"
      ],
      "metadata": {
        "colab": {
          "base_uri": "https://localhost:8080/",
          "height": 206
        },
        "id": "iMUQAfHLb8Fv",
        "outputId": "26445956-2e08-4c87-d60b-7e339f69606b"
      },
      "execution_count": null,
      "outputs": [
        {
          "output_type": "execute_result",
          "data": {
            "text/plain": [
              "   Id     Score  Estado  Genero     Idade  Patrimonio     Saldo  Produtos  \\\n",
              "0   1 -0.301600       1       0  0.271766           2 -1.135725         1   \n",
              "1   2 -0.413599       2       0  0.184017           1  0.192728         1   \n",
              "2   3 -1.492863       1       0  0.271766           8 -0.882644         3   \n",
              "3   4  0.512940       1       0  0.008520           1 -1.135725         2   \n",
              "4   5  2.050383       2       0  0.359514           2  0.853769         1   \n",
              "\n",
              "   TemCartCredito  Ativo   Salario  Saiu  \n",
              "0               1      1 -0.043850     1  \n",
              "1               0      1 -0.027015     0  \n",
              "2               1      0 -0.024926     1  \n",
              "3               0      0 -0.055163     0  \n",
              "4               1      1 -0.184379     0  "
            ],
            "text/html": [
              "\n",
              "  <div id=\"df-aaa7c6fa-46e5-4686-8da6-e250f9d19135\" class=\"colab-df-container\">\n",
              "    <div>\n",
              "<style scoped>\n",
              "    .dataframe tbody tr th:only-of-type {\n",
              "        vertical-align: middle;\n",
              "    }\n",
              "\n",
              "    .dataframe tbody tr th {\n",
              "        vertical-align: top;\n",
              "    }\n",
              "\n",
              "    .dataframe thead th {\n",
              "        text-align: right;\n",
              "    }\n",
              "</style>\n",
              "<table border=\"1\" class=\"dataframe\">\n",
              "  <thead>\n",
              "    <tr style=\"text-align: right;\">\n",
              "      <th></th>\n",
              "      <th>Id</th>\n",
              "      <th>Score</th>\n",
              "      <th>Estado</th>\n",
              "      <th>Genero</th>\n",
              "      <th>Idade</th>\n",
              "      <th>Patrimonio</th>\n",
              "      <th>Saldo</th>\n",
              "      <th>Produtos</th>\n",
              "      <th>TemCartCredito</th>\n",
              "      <th>Ativo</th>\n",
              "      <th>Salario</th>\n",
              "      <th>Saiu</th>\n",
              "    </tr>\n",
              "  </thead>\n",
              "  <tbody>\n",
              "    <tr>\n",
              "      <th>0</th>\n",
              "      <td>1</td>\n",
              "      <td>-0.301600</td>\n",
              "      <td>1</td>\n",
              "      <td>0</td>\n",
              "      <td>0.271766</td>\n",
              "      <td>2</td>\n",
              "      <td>-1.135725</td>\n",
              "      <td>1</td>\n",
              "      <td>1</td>\n",
              "      <td>1</td>\n",
              "      <td>-0.043850</td>\n",
              "      <td>1</td>\n",
              "    </tr>\n",
              "    <tr>\n",
              "      <th>1</th>\n",
              "      <td>2</td>\n",
              "      <td>-0.413599</td>\n",
              "      <td>2</td>\n",
              "      <td>0</td>\n",
              "      <td>0.184017</td>\n",
              "      <td>1</td>\n",
              "      <td>0.192728</td>\n",
              "      <td>1</td>\n",
              "      <td>0</td>\n",
              "      <td>1</td>\n",
              "      <td>-0.027015</td>\n",
              "      <td>0</td>\n",
              "    </tr>\n",
              "    <tr>\n",
              "      <th>2</th>\n",
              "      <td>3</td>\n",
              "      <td>-1.492863</td>\n",
              "      <td>1</td>\n",
              "      <td>0</td>\n",
              "      <td>0.271766</td>\n",
              "      <td>8</td>\n",
              "      <td>-0.882644</td>\n",
              "      <td>3</td>\n",
              "      <td>1</td>\n",
              "      <td>0</td>\n",
              "      <td>-0.024926</td>\n",
              "      <td>1</td>\n",
              "    </tr>\n",
              "    <tr>\n",
              "      <th>3</th>\n",
              "      <td>4</td>\n",
              "      <td>0.512940</td>\n",
              "      <td>1</td>\n",
              "      <td>0</td>\n",
              "      <td>0.008520</td>\n",
              "      <td>1</td>\n",
              "      <td>-1.135725</td>\n",
              "      <td>2</td>\n",
              "      <td>0</td>\n",
              "      <td>0</td>\n",
              "      <td>-0.055163</td>\n",
              "      <td>0</td>\n",
              "    </tr>\n",
              "    <tr>\n",
              "      <th>4</th>\n",
              "      <td>5</td>\n",
              "      <td>2.050383</td>\n",
              "      <td>2</td>\n",
              "      <td>0</td>\n",
              "      <td>0.359514</td>\n",
              "      <td>2</td>\n",
              "      <td>0.853769</td>\n",
              "      <td>1</td>\n",
              "      <td>1</td>\n",
              "      <td>1</td>\n",
              "      <td>-0.184379</td>\n",
              "      <td>0</td>\n",
              "    </tr>\n",
              "  </tbody>\n",
              "</table>\n",
              "</div>\n",
              "    <div class=\"colab-df-buttons\">\n",
              "\n",
              "  <div class=\"colab-df-container\">\n",
              "    <button class=\"colab-df-convert\" onclick=\"convertToInteractive('df-aaa7c6fa-46e5-4686-8da6-e250f9d19135')\"\n",
              "            title=\"Convert this dataframe to an interactive table.\"\n",
              "            style=\"display:none;\">\n",
              "\n",
              "  <svg xmlns=\"http://www.w3.org/2000/svg\" height=\"24px\" viewBox=\"0 -960 960 960\">\n",
              "    <path d=\"M120-120v-720h720v720H120Zm60-500h600v-160H180v160Zm220 220h160v-160H400v160Zm0 220h160v-160H400v160ZM180-400h160v-160H180v160Zm440 0h160v-160H620v160ZM180-180h160v-160H180v160Zm440 0h160v-160H620v160Z\"/>\n",
              "  </svg>\n",
              "    </button>\n",
              "\n",
              "  <style>\n",
              "    .colab-df-container {\n",
              "      display:flex;\n",
              "      gap: 12px;\n",
              "    }\n",
              "\n",
              "    .colab-df-convert {\n",
              "      background-color: #E8F0FE;\n",
              "      border: none;\n",
              "      border-radius: 50%;\n",
              "      cursor: pointer;\n",
              "      display: none;\n",
              "      fill: #1967D2;\n",
              "      height: 32px;\n",
              "      padding: 0 0 0 0;\n",
              "      width: 32px;\n",
              "    }\n",
              "\n",
              "    .colab-df-convert:hover {\n",
              "      background-color: #E2EBFA;\n",
              "      box-shadow: 0px 1px 2px rgba(60, 64, 67, 0.3), 0px 1px 3px 1px rgba(60, 64, 67, 0.15);\n",
              "      fill: #174EA6;\n",
              "    }\n",
              "\n",
              "    .colab-df-buttons div {\n",
              "      margin-bottom: 4px;\n",
              "    }\n",
              "\n",
              "    [theme=dark] .colab-df-convert {\n",
              "      background-color: #3B4455;\n",
              "      fill: #D2E3FC;\n",
              "    }\n",
              "\n",
              "    [theme=dark] .colab-df-convert:hover {\n",
              "      background-color: #434B5C;\n",
              "      box-shadow: 0px 1px 3px 1px rgba(0, 0, 0, 0.15);\n",
              "      filter: drop-shadow(0px 1px 2px rgba(0, 0, 0, 0.3));\n",
              "      fill: #FFFFFF;\n",
              "    }\n",
              "  </style>\n",
              "\n",
              "    <script>\n",
              "      const buttonEl =\n",
              "        document.querySelector('#df-aaa7c6fa-46e5-4686-8da6-e250f9d19135 button.colab-df-convert');\n",
              "      buttonEl.style.display =\n",
              "        google.colab.kernel.accessAllowed ? 'block' : 'none';\n",
              "\n",
              "      async function convertToInteractive(key) {\n",
              "        const element = document.querySelector('#df-aaa7c6fa-46e5-4686-8da6-e250f9d19135');\n",
              "        const dataTable =\n",
              "          await google.colab.kernel.invokeFunction('convertToInteractive',\n",
              "                                                    [key], {});\n",
              "        if (!dataTable) return;\n",
              "\n",
              "        const docLinkHtml = 'Like what you see? Visit the ' +\n",
              "          '<a target=\"_blank\" href=https://colab.research.google.com/notebooks/data_table.ipynb>data table notebook</a>'\n",
              "          + ' to learn more about interactive tables.';\n",
              "        element.innerHTML = '';\n",
              "        dataTable['output_type'] = 'display_data';\n",
              "        await google.colab.output.renderOutput(dataTable, element);\n",
              "        const docLink = document.createElement('div');\n",
              "        docLink.innerHTML = docLinkHtml;\n",
              "        element.appendChild(docLink);\n",
              "      }\n",
              "    </script>\n",
              "  </div>\n",
              "\n",
              "\n",
              "<div id=\"df-a8a993c0-3dac-4b51-bcc7-79fa2da84c2e\">\n",
              "  <button class=\"colab-df-quickchart\" onclick=\"quickchart('df-a8a993c0-3dac-4b51-bcc7-79fa2da84c2e')\"\n",
              "            title=\"Suggest charts\"\n",
              "            style=\"display:none;\">\n",
              "\n",
              "<svg xmlns=\"http://www.w3.org/2000/svg\" height=\"24px\"viewBox=\"0 0 24 24\"\n",
              "     width=\"24px\">\n",
              "    <g>\n",
              "        <path d=\"M19 3H5c-1.1 0-2 .9-2 2v14c0 1.1.9 2 2 2h14c1.1 0 2-.9 2-2V5c0-1.1-.9-2-2-2zM9 17H7v-7h2v7zm4 0h-2V7h2v10zm4 0h-2v-4h2v4z\"/>\n",
              "    </g>\n",
              "</svg>\n",
              "  </button>\n",
              "\n",
              "<style>\n",
              "  .colab-df-quickchart {\n",
              "      --bg-color: #E8F0FE;\n",
              "      --fill-color: #1967D2;\n",
              "      --hover-bg-color: #E2EBFA;\n",
              "      --hover-fill-color: #174EA6;\n",
              "      --disabled-fill-color: #AAA;\n",
              "      --disabled-bg-color: #DDD;\n",
              "  }\n",
              "\n",
              "  [theme=dark] .colab-df-quickchart {\n",
              "      --bg-color: #3B4455;\n",
              "      --fill-color: #D2E3FC;\n",
              "      --hover-bg-color: #434B5C;\n",
              "      --hover-fill-color: #FFFFFF;\n",
              "      --disabled-bg-color: #3B4455;\n",
              "      --disabled-fill-color: #666;\n",
              "  }\n",
              "\n",
              "  .colab-df-quickchart {\n",
              "    background-color: var(--bg-color);\n",
              "    border: none;\n",
              "    border-radius: 50%;\n",
              "    cursor: pointer;\n",
              "    display: none;\n",
              "    fill: var(--fill-color);\n",
              "    height: 32px;\n",
              "    padding: 0;\n",
              "    width: 32px;\n",
              "  }\n",
              "\n",
              "  .colab-df-quickchart:hover {\n",
              "    background-color: var(--hover-bg-color);\n",
              "    box-shadow: 0 1px 2px rgba(60, 64, 67, 0.3), 0 1px 3px 1px rgba(60, 64, 67, 0.15);\n",
              "    fill: var(--button-hover-fill-color);\n",
              "  }\n",
              "\n",
              "  .colab-df-quickchart-complete:disabled,\n",
              "  .colab-df-quickchart-complete:disabled:hover {\n",
              "    background-color: var(--disabled-bg-color);\n",
              "    fill: var(--disabled-fill-color);\n",
              "    box-shadow: none;\n",
              "  }\n",
              "\n",
              "  .colab-df-spinner {\n",
              "    border: 2px solid var(--fill-color);\n",
              "    border-color: transparent;\n",
              "    border-bottom-color: var(--fill-color);\n",
              "    animation:\n",
              "      spin 1s steps(1) infinite;\n",
              "  }\n",
              "\n",
              "  @keyframes spin {\n",
              "    0% {\n",
              "      border-color: transparent;\n",
              "      border-bottom-color: var(--fill-color);\n",
              "      border-left-color: var(--fill-color);\n",
              "    }\n",
              "    20% {\n",
              "      border-color: transparent;\n",
              "      border-left-color: var(--fill-color);\n",
              "      border-top-color: var(--fill-color);\n",
              "    }\n",
              "    30% {\n",
              "      border-color: transparent;\n",
              "      border-left-color: var(--fill-color);\n",
              "      border-top-color: var(--fill-color);\n",
              "      border-right-color: var(--fill-color);\n",
              "    }\n",
              "    40% {\n",
              "      border-color: transparent;\n",
              "      border-right-color: var(--fill-color);\n",
              "      border-top-color: var(--fill-color);\n",
              "    }\n",
              "    60% {\n",
              "      border-color: transparent;\n",
              "      border-right-color: var(--fill-color);\n",
              "    }\n",
              "    80% {\n",
              "      border-color: transparent;\n",
              "      border-right-color: var(--fill-color);\n",
              "      border-bottom-color: var(--fill-color);\n",
              "    }\n",
              "    90% {\n",
              "      border-color: transparent;\n",
              "      border-bottom-color: var(--fill-color);\n",
              "    }\n",
              "  }\n",
              "</style>\n",
              "\n",
              "  <script>\n",
              "    async function quickchart(key) {\n",
              "      const quickchartButtonEl =\n",
              "        document.querySelector('#' + key + ' button');\n",
              "      quickchartButtonEl.disabled = true;  // To prevent multiple clicks.\n",
              "      quickchartButtonEl.classList.add('colab-df-spinner');\n",
              "      try {\n",
              "        const charts = await google.colab.kernel.invokeFunction(\n",
              "            'suggestCharts', [key], {});\n",
              "      } catch (error) {\n",
              "        console.error('Error during call to suggestCharts:', error);\n",
              "      }\n",
              "      quickchartButtonEl.classList.remove('colab-df-spinner');\n",
              "      quickchartButtonEl.classList.add('colab-df-quickchart-complete');\n",
              "    }\n",
              "    (() => {\n",
              "      let quickchartButtonEl =\n",
              "        document.querySelector('#df-a8a993c0-3dac-4b51-bcc7-79fa2da84c2e button');\n",
              "      quickchartButtonEl.style.display =\n",
              "        google.colab.kernel.accessAllowed ? 'block' : 'none';\n",
              "    })();\n",
              "  </script>\n",
              "</div>\n",
              "\n",
              "    </div>\n",
              "  </div>\n"
            ],
            "application/vnd.google.colaboratory.intrinsic+json": {
              "type": "dataframe",
              "variable_name": "dataset",
              "summary": "{\n  \"name\": \"dataset\",\n  \"rows\": 999,\n  \"fields\": [\n    {\n      \"column\": \"Id\",\n      \"properties\": {\n        \"dtype\": \"number\",\n        \"std\": 288,\n        \"min\": 1,\n        \"max\": 1000,\n        \"num_unique_values\": 998,\n        \"samples\": [\n          456,\n          795,\n          212\n        ],\n        \"semantic_type\": \"\",\n        \"description\": \"\"\n      }\n    },\n    {\n      \"column\": \"Score\",\n      \"properties\": {\n        \"dtype\": \"number\",\n        \"std\": 1.0005008765653411,\n        \"min\": -2.775762885775275,\n        \"max\": 2.0503825975921064,\n        \"num_unique_values\": 354,\n        \"samples\": [\n          1.9485651823311914,\n          0.11585170763471725,\n          -2.3583114832055228\n        ],\n        \"semantic_type\": \"\",\n        \"description\": \"\"\n      }\n    },\n    {\n      \"column\": \"Estado\",\n      \"properties\": {\n        \"dtype\": \"number\",\n        \"std\": 0,\n        \"min\": 0,\n        \"max\": 2,\n        \"num_unique_values\": 3,\n        \"samples\": [\n          1,\n          2,\n          0\n        ],\n        \"semantic_type\": \"\",\n        \"description\": \"\"\n      }\n    },\n    {\n      \"column\": \"Genero\",\n      \"properties\": {\n        \"dtype\": \"number\",\n        \"std\": 0,\n        \"min\": 0,\n        \"max\": 1,\n        \"num_unique_values\": 2,\n        \"samples\": [\n          1,\n          0\n        ],\n        \"semantic_type\": \"\",\n        \"description\": \"\"\n      }\n    },\n    {\n      \"column\": \"Idade\",\n      \"properties\": {\n        \"dtype\": \"number\",\n        \"std\": 1.0005008765653414,\n        \"min\": -5.168642584894539,\n        \"max\": 8.871120700564353,\n        \"num_unique_values\": 64,\n        \"samples\": [\n          1.8512390578349072,\n          2.64097574264197\n        ],\n        \"semantic_type\": \"\",\n        \"description\": \"\"\n      }\n    },\n    {\n      \"column\": \"Patrimonio\",\n      \"properties\": {\n        \"dtype\": \"number\",\n        \"std\": 2,\n        \"min\": 0,\n        \"max\": 10,\n        \"num_unique_values\": 11,\n        \"samples\": [\n          6,\n          2\n        ],\n        \"semantic_type\": \"\",\n        \"description\": \"\"\n      }\n    },\n    {\n      \"column\": \"Saldo\",\n      \"properties\": {\n        \"dtype\": \"number\",\n        \"std\": 1.0005008765653411,\n        \"min\": -1.135725266476759,\n        \"max\": 2.2211465579810885,\n        \"num_unique_values\": 649,\n        \"samples\": [\n          0.838265726120066,\n          1.8417911455993459\n        ],\n        \"semantic_type\": \"\",\n        \"description\": \"\"\n      }\n    },\n    {\n      \"column\": \"Produtos\",\n      \"properties\": {\n        \"dtype\": \"number\",\n        \"std\": 0,\n        \"min\": 1,\n        \"max\": 4,\n        \"num_unique_values\": 4,\n        \"samples\": [\n          3,\n          4\n        ],\n        \"semantic_type\": \"\",\n        \"description\": \"\"\n      }\n    },\n    {\n      \"column\": \"TemCartCredito\",\n      \"properties\": {\n        \"dtype\": \"number\",\n        \"std\": 0,\n        \"min\": 0,\n        \"max\": 1,\n        \"num_unique_values\": 2,\n        \"samples\": [\n          0,\n          1\n        ],\n        \"semantic_type\": \"\",\n        \"description\": \"\"\n      }\n    },\n    {\n      \"column\": \"Ativo\",\n      \"properties\": {\n        \"dtype\": \"number\",\n        \"std\": 0,\n        \"min\": 0,\n        \"max\": 1,\n        \"num_unique_values\": 2,\n        \"samples\": [\n          0,\n          1\n        ],\n        \"semantic_type\": \"\",\n        \"description\": \"\"\n      }\n    },\n    {\n      \"column\": \"Salario\",\n      \"properties\": {\n        \"dtype\": \"number\",\n        \"std\": 1.0005008765653411,\n        \"min\": -0.19612684028837316,\n        \"max\": 15.707004387308446,\n        \"num_unique_values\": 985,\n        \"samples\": [\n          -0.18215951321973167,\n          -0.035470304456628875\n        ],\n        \"semantic_type\": \"\",\n        \"description\": \"\"\n      }\n    },\n    {\n      \"column\": \"Saiu\",\n      \"properties\": {\n        \"dtype\": \"number\",\n        \"std\": 0,\n        \"min\": 0,\n        \"max\": 1,\n        \"num_unique_values\": 2,\n        \"samples\": [\n          0,\n          1\n        ],\n        \"semantic_type\": \"\",\n        \"description\": \"\"\n      }\n    }\n  ]\n}"
            }
          },
          "metadata": {},
          "execution_count": 81
        }
      ]
    },
    {
      "cell_type": "code",
      "source": [
        "# prompt: visualizacoes e insights\n",
        "\n",
        "# Correlação entre as variáveis\n",
        "correlation = dataset.corr()\n",
        "\n",
        "# Visualização da correlação\n",
        "import seaborn as sns\n",
        "sns.heatmap(correlation, annot=True, fmt=\".2f\")"
      ],
      "metadata": {
        "colab": {
          "base_uri": "https://localhost:8080/",
          "height": 547
        },
        "id": "jL_BLmRkcg4k",
        "outputId": "f32de4d0-18fa-44c1-c350-c7dc74435933"
      },
      "execution_count": null,
      "outputs": [
        {
          "output_type": "execute_result",
          "data": {
            "text/plain": [
              "<Axes: >"
            ]
          },
          "metadata": {},
          "execution_count": 82
        },
        {
          "output_type": "display_data",
          "data": {
            "text/plain": [
              "<Figure size 640x480 with 2 Axes>"
            ],
            "image/png": "[encoded data removed]"
          },
          "metadata": {}
        }
      ]
    },
    {
      "cell_type": "code",
      "source": [
        "# calcular a correlação entre Saldo e Salário\n",
        "correlation = dataset['Saldo'].corr(dataset['Salario'])\n",
        "\n",
        "# exibir a correlação\n",
        "print(f'Correlação entre Saldo e Salário: {correlation:.2f}')\n",
        "\n",
        "# criar um gráfico de dispersão para visualizar a correlação\n",
        "plt.figure(figsize=(3, 3))\n",
        "plt.scatter(dataset['Saldo'], dataset['Salario'])\n",
        "plt.xlabel('Saldo')\n",
        "plt.ylabel('Salario')\n",
        "plt.title('Correlação entre Saldo e Salário')\n",
        "plt.show()\n",
        "\n",
        "# exibir um insight sobre a correlação\n",
        "print('Insight:')\n",
        "if correlation > 0.5:\n",
        "  print('A afirmação é verdadeira. Saldo e Salário têm uma correlação positiva moderada.')\n",
        "elif correlation > 0:\n",
        "  print('Saldo e Salário têm uma correlação positiva fraca.')\n",
        "elif correlation < 0:\n",
        "  print('Saldo e Salário têm uma correlação negativa.')\n",
        "else:\n",
        "  print('Saldo e Salário não têm correlação.')\n"
      ],
      "metadata": {
        "colab": {
          "base_uri": "https://localhost:8080/",
          "height": 386
        },
        "id": "sUo1-5k5rEgW",
        "outputId": "9497829b-8288-4ba7-b753-5feb00219edb"
      },
      "execution_count": null,
      "outputs": [
        {
          "output_type": "stream",
          "name": "stdout",
          "text": [
            "Correlação entre Saldo e Salário: -0.01\n"
          ]
        },
        {
          "output_type": "display_data",
          "data": {
            "text/plain": [
              "<Figure size 300x300 with 1 Axes>"
            ],
            "image/png": "[encoded data removed]"
          },
          "metadata": {}
        },
        {
          "output_type": "stream",
          "name": "stdout",
          "text": [
            "Insight:\n",
            "Saldo e Salário têm uma correlação negativa.\n"
          ]
        }
      ]
    },
    {
      "cell_type": "markdown",
      "source": [
        "`A correlação de -0.01 entre \"Saldo\" e \"Salário\" sugere que há uma relação linear muito fraca e negativa entre essas duas variáveis. Na prática, isso significa que mudanças no \"Saldo\" não estão fortemente associadas a mudanças no \"Salário\", e a relação entre elas é praticamente insignificante.`"
      ],
      "metadata": {
        "id": "XH0rA2wUts_c"
      }
    },
    {
      "cell_type": "code",
      "source": [
        "# calcular a correlação entre Idade e Saldo\n",
        "correlation = dataset['Idade'].corr(dataset['Saldo'])\n",
        "\n",
        "# exibir a correlação\n",
        "print(f'Correlação entre Idade e Saldo: {correlation:.2f}')\n",
        "\n",
        "# criar um gráfico de dispersão para visualizar a correlação\n",
        "plt.figure(figsize=(3, 3))\n",
        "plt.scatter(dataset['Idade'], dataset['Saldo'])\n",
        "plt.xlabel('Idade')\n",
        "plt.ylabel('Saldo')\n",
        "plt.title('Correlação entre Idade e Saldo')\n",
        "plt.show()\n",
        "\n",
        "# exibir um insight sobre a correlação\n",
        "print('Insight:')\n",
        "if correlation > 0.5:\n",
        "  print('Idade e Saldo têm uma correlação positiva moderada.')\n",
        "elif correlation > 0:\n",
        "  print('Idade e Saldo têm uma correlação positiva fraca.')\n",
        "elif correlation < -0.5:\n",
        "  print('Idade e Saldo têm uma correlação negativa moderada.')\n",
        "elif correlation < 0:\n",
        "  print('Idade e Saldo têm uma correlação negativa fraca.')\n",
        "else:\n",
        "  print('Idade e Saldo não têm correlação.')"
      ],
      "metadata": {
        "colab": {
          "base_uri": "https://localhost:8080/",
          "height": 385
        },
        "id": "RB-Ixa4Ht_Gb",
        "outputId": "87bd9563-30cb-4854-e81b-6639fe84e2a4"
      },
      "execution_count": null,
      "outputs": [
        {
          "output_type": "stream",
          "name": "stdout",
          "text": [
            "Correlação entre Idade e Saldo: -0.03\n"
          ]
        },
        {
          "output_type": "display_data",
          "data": {
            "text/plain": [
              "<Figure size 300x300 with 1 Axes>"
            ],
            "image/png": "[encoded data removed]"
          },
          "metadata": {}
        },
        {
          "output_type": "stream",
          "name": "stdout",
          "text": [
            "Insight:\n",
            "Idade e Saldo têm uma correlação negativa fraca.\n"
          ]
        }
      ]
    },
    {
      "cell_type": "markdown",
      "source": [
        "`A correlação de -0.03 entre \"Idade\" e \"Saldo\" sugere que há uma relação linear muito fraca e negativa entre essas duas variáveis. Na prática, isso significa que, em geral, clientes mais jovens tendem a ter um saldo ligeiramente maior do que clientes mais velhos, mas essa relação é muito fraca e pode ser influenciada por outros fatores.`"
      ],
      "metadata": {
        "id": "oZeSD_r9uoPU"
      }
    },
    {
      "cell_type": "code",
      "source": [
        "# calcular a correlação entre Score e Saída\n",
        "correlation = dataset['Score'].corr(dataset['Saiu'])\n",
        "\n",
        "# exibir a correlação\n",
        "print(f'Correlação entre Score e Saída: {correlation:.2f}')\n",
        "\n",
        "# criar um gráfico de dispersão para visualizar a correlação\n",
        "plt.figure(figsize=(3, 3))\n",
        "plt.scatter(dataset['Score'], dataset['Saiu'])\n",
        "plt.xlabel('Score')\n",
        "plt.ylabel('Saída')\n",
        "plt.title('Correlação entre Score e Saída')\n",
        "plt.show()\n",
        "\n",
        "# exibir um insight sobre a correlação\n",
        "print('Insight:')\n",
        "if correlation > 0.5:\n",
        "  print('Score e Saída têm uma correlação positiva moderada.')\n",
        "elif correlation > 0:\n",
        "  print('Score e Saída têm uma correlação positiva fraca.')\n",
        "elif correlation < -0.5:\n",
        "  print('Score e Saída têm uma correlação negativa moderada.')\n",
        "elif correlation < 0:\n",
        "  print('Score e Saída têm uma correlação negativa fraca.')\n",
        "else:\n",
        "  print('Score e Saída não têm correlação.')"
      ],
      "metadata": {
        "colab": {
          "base_uri": "https://localhost:8080/",
          "height": 386
        },
        "id": "K2BiK5g0vR4p",
        "outputId": "4ea9cae7-699e-47bd-a4d9-1cb4cdc19fc5"
      },
      "execution_count": null,
      "outputs": [
        {
          "output_type": "stream",
          "name": "stdout",
          "text": [
            "Correlação entre Score e Saída: -0.07\n"
          ]
        },
        {
          "output_type": "display_data",
          "data": {
            "text/plain": [
              "<Figure size 300x300 with 1 Axes>"
            ],
            "image/png": "[encoded data removed]"
          },
          "metadata": {}
        },
        {
          "output_type": "stream",
          "name": "stdout",
          "text": [
            "Insight:\n",
            "Score e Saída têm uma correlação negativa fraca.\n"
          ]
        }
      ]
    },
    {
      "cell_type": "markdown",
      "source": [
        "`A correlação de -0.07 entre \"Score\" e \"Saída\" sugere que há uma relação linear muito fraca e negativa entre essas duas variáveis. Na prática, isso significa que, em geral, clientes com scores mais altos tendem a ter uma probabilidade ligeiramente menor de sair, mas essa relação é muito fraca e pode ser influenciada por outros fatores.`"
      ],
      "metadata": {
        "id": "7Rzu6AJRvqye"
      }
    },
    {
      "cell_type": "code",
      "source": [
        "# calcular a correlação entre Produtos e Saída\n",
        "correlation = dataset['Produtos'].corr(dataset['Saiu'])\n",
        "\n",
        "# exibir a correlação\n",
        "print(f'Correlação entre Produtos e Saída: {correlation:.2f}')\n",
        "\n",
        "# criar um gráfico de dispersão para visualizar a correlação\n",
        "plt.figure(figsize=(3, 3))\n",
        "plt.scatter(dataset['Produtos'], dataset['Saiu'])\n",
        "plt.xlabel('Produtos')\n",
        "plt.ylabel('Saída')\n",
        "plt.title('Correlação entre Produtos e Saída')\n",
        "plt.show()\n",
        "\n",
        "# exibir um insight sobre a correlação\n",
        "print('Insight:')\n",
        "if correlation > 0.5:\n",
        "  print('Produtos e Saída têm uma correlação positiva moderada.')\n",
        "elif correlation > 0:\n",
        "  print('Produtos e Saída têm uma correlação positiva fraca.')\n",
        "elif correlation < -0.5:\n",
        "  print('Produtos e Saída têm uma correlação negativa moderada.')\n",
        "elif correlation < 0:\n",
        "  print('Produtos e Saída têm uma correlação negativa fraca.')\n",
        "else:\n",
        "  print('Produtos e Saída não têm correlação.')"
      ],
      "metadata": {
        "colab": {
          "base_uri": "https://localhost:8080/",
          "height": 386
        },
        "id": "Q8Y7v2kZv_Em",
        "outputId": "d494cc97-f821-4fd9-92ea-f7d25e9219ea"
      },
      "execution_count": null,
      "outputs": [
        {
          "output_type": "stream",
          "name": "stdout",
          "text": [
            "Correlação entre Produtos e Saída: -0.06\n"
          ]
        },
        {
          "output_type": "display_data",
          "data": {
            "text/plain": [
              "<Figure size 300x300 with 1 Axes>"
            ],
            "image/png": "[encoded data removed]"
          },
          "metadata": {}
        },
        {
          "output_type": "stream",
          "name": "stdout",
          "text": [
            "Insight:\n",
            "Produtos e Saída têm uma correlação negativa fraca.\n"
          ]
        }
      ]
    },
    {
      "cell_type": "markdown",
      "source": [
        "`A correlação é negativa fraca, sugerindo que clientes com mais produtos tendem a ter uma probabilidade ligeiramente menor de sair.`"
      ],
      "metadata": {
        "id": "wSFjTxO5xwh7"
      }
    },
    {
      "cell_type": "code",
      "source": [
        "# Insights\n",
        "# Clientes com maior score, maior saldo e mais produtos tendem a sair menos\n",
        "\n",
        "# Cria um novo DataFrame com os clientes que saíram (Saiu == 1)\n",
        "clientes_sairam = dataset[dataset['Saiu'] == 1]\n",
        "\n",
        "# Calcula a média do Score, Saldo e Produtos para os clientes que saíram\n",
        "media_score_sairam = clientes_sairam['Score'].mean()\n",
        "media_saldo_sairam = clientes_sairam['Saldo'].mean()\n",
        "media_produtos_sairam = clientes_sairam['Produtos'].mean()\n",
        "\n",
        "# Cria um novo DataFrame com os clientes que não saíram (Saiu == 0)\n",
        "clientes_nao_sairam = dataset[dataset['Saiu'] == 0]\n",
        "\n",
        "# Calcula a média do Score, Saldo e Produtos para os clientes que não saíram\n",
        "media_score_nao_sairam = clientes_nao_sairam['Score'].mean()\n",
        "media_saldo_nao_sairam = clientes_nao_sairam['Saldo'].mean()\n",
        "media_produtos_nao_sairam = clientes_nao_sairam['Produtos'].mean()"
      ],
      "metadata": {
        "id": "ZNMLexYPgN0h"
      },
      "execution_count": null,
      "outputs": []
    },
    {
      "cell_type": "code",
      "source": [
        "# Cria um gráfico de barras para comparar as médias\n",
        "\n",
        "import numpy as np\n",
        "\n",
        "labels = ['Score', 'Saldo', 'Produtos']\n",
        "media_sairam = [media_score_sairam, media_saldo_sairam, media_produtos_sairam]\n",
        "media_nao_sairam = [media_score_nao_sairam, media_saldo_nao_sairam, media_produtos_nao_sairam]\n",
        "\n",
        "plt.figure(figsize=(3, 3))\n",
        "\n",
        "x = np.arange(len(labels))  # the label locations\n",
        "width = 0.35  # the width of the bars\n",
        "\n",
        "fig, ax = plt.subplots()\n",
        "rects1 = ax.bar(x - width/2, media_sairam, width, label='Clientes que saíram')\n",
        "rects2 = ax.bar(x + width/2, media_nao_sairam, width, label='Clientes que não saíram')\n",
        "\n",
        "# Add some text for labels, title and custom x-axis tick labels, etc.\n",
        "ax.set_ylabel('Média')\n",
        "ax.set_title('Comparação de médias entre clientes que saíram e não saíram')\n",
        "ax.set_xticks(x)\n",
        "ax.set_xticklabels(labels)\n",
        "ax.legend()\n",
        "\n",
        "fig.tight_layout()\n",
        "\n",
        "plt.show()"
      ],
      "metadata": {
        "colab": {
          "base_uri": "https://localhost:8080/",
          "height": 504
        },
        "id": "zZr5RqBEg4aN",
        "outputId": "f34be8ba-79b5-4a7b-f5ee-d87602fd500d"
      },
      "execution_count": null,
      "outputs": [
        {
          "output_type": "display_data",
          "data": {
            "text/plain": [
              "<Figure size 300x300 with 0 Axes>"
            ]
          },
          "metadata": {}
        },
        {
          "output_type": "display_data",
          "data": {
            "text/plain": [
              "<Figure size 640x480 with 1 Axes>"
            ],
            "image/png": "[encoded data removed]"
          },
          "metadata": {}
        }
      ]
    },
    {
      "cell_type": "code",
      "source": [
        "print('# 1. Padrões de Churn:')\n",
        "# Calcula a média do Score para os clientes que saíram (churn)\n",
        "media_score_churn = dataset[dataset['Saiu'] == 1]['Score'].mean()\n",
        "\n",
        "# Calcula a média do Score para os clientes que não saíram (não churn)\n",
        "media_score_nao_churn = dataset[dataset['Saiu'] == 0]['Score'].mean()\n",
        "\n",
        "print(f'Média do Score para clientes que fizeram churn: {media_score_churn:.2f}')\n",
        "print(f'Média do Score para clientes que não fizeram churn: {media_score_nao_churn:.2f}')\n",
        "\n",
        "# Insight:\n",
        "if media_score_churn < media_score_nao_churn:\n",
        "  print('Clientes com scores mais baixos tendem a ter uma probabilidade ligeiramente maior de churn.')\n",
        "else:\n",
        "  print('Clientes com scores mais baixos NÃO tendem a ter uma probabilidade maior de churn.')\n",
        "\n",
        "print('===============================================================================')\n",
        "# Calcula a média do Saldo para os clientes que saíram (churn)\n",
        "media_saldo_churn = dataset[dataset['Saiu'] == 1]['Saldo'].mean()\n",
        "\n",
        "# Calcula a média do Saldo para os clientes que não saíram (não churn)\n",
        "media_saldo_nao_churn = dataset[dataset['Saiu'] == 0]['Saldo'].mean()\n",
        "\n",
        "print(f'Média do Saldo para clientes que fizeram churn: {media_saldo_churn:.2f}')\n",
        "print(f'Média do Saldo para clientes que não fizeram churn: {media_saldo_nao_churn:.2f}')\n",
        "\n",
        "# Insight:\n",
        "if media_saldo_churn > media_saldo_nao_churn:\n",
        "  print('Clientes com saldos mais altos tendem a ter uma probabilidade ligeiramente maior de churn.')\n",
        "else:\n",
        "  print('Clientes com saldos mais altos NÃO tendem a ter uma probabilidade maior de churn.')\n",
        "\n",
        "print('===============================================================================')\n",
        "\n",
        "# Calcula a média de Produtos para os clientes que saíram (churn)\n",
        "media_produtos_churn = dataset[dataset['Saiu'] == 1]['Produtos'].mean()\n",
        "\n",
        "# Calcula a média de Produtos para os clientes que não saíram (não churn)\n",
        "media_produtos_nao_churn = dataset[dataset['Saiu'] == 0]['Produtos'].mean()\n",
        "\n",
        "print(f'Média de Produtos para clientes que fizeram churn: {media_produtos_churn:.2f}')\n",
        "print(f'Média de Produtos para clientes que não fizeram churn: {media_produtos_nao_churn:.2f}')\n",
        "\n",
        "# Insight:\n",
        "if media_produtos_churn < media_produtos_nao_churn:\n",
        "  print('Clientes com menos produtos tendem a ter uma probabilidade ligeiramente maior de churn.')\n",
        "else:\n",
        "  print('Clientes com menos produtos NÃO tendem a ter uma probabilidade maior de churn.')\n"
      ],
      "metadata": {
        "colab": {
          "base_uri": "https://localhost:8080/"
        },
        "id": "IuXQAHIrzgJl",
        "outputId": "0055566a-4a16-4ac2-aa27-63d9ed7e8226"
      },
      "execution_count": null,
      "outputs": [
        {
          "output_type": "stream",
          "name": "stdout",
          "text": [
            "# 1. Padrões de Churn:\n",
            "Média do Score para clientes que fizeram churn: -0.13\n",
            "Média do Score para clientes que não fizeram churn: 0.03\n",
            "Clientes com scores mais baixos tendem a ter uma probabilidade ligeiramente maior de churn.\n",
            "===============================================================================\n",
            "Média do Saldo para clientes que fizeram churn: 0.22\n",
            "Média do Saldo para clientes que não fizeram churn: -0.05\n",
            "Clientes com saldos mais altos tendem a ter uma probabilidade ligeiramente maior de churn.\n",
            "===============================================================================\n",
            "Média de Produtos para clientes que fizeram churn: 1.46\n",
            "Média de Produtos para clientes que não fizeram churn: 1.54\n",
            "Clientes com menos produtos tendem a ter uma probabilidade ligeiramente maior de churn.\n"
          ]
        }
      ]
    },
    {
      "cell_type": "markdown",
      "source": [
        "\n",
        "`2. Importância do Score, Saldo e Produtos: Essas três variáveis, apesar de apresentarem correlações fracas com o churn, podem ser indicadores importantes a serem considerados em estratégias de retenção.`\n",
        "\n",
        "\n"
      ],
      "metadata": {
        "id": "EiHvF7NL2wKm"
      }
    },
    {
      "cell_type": "code",
      "source": [
        "\n",
        "\n",
        "\n",
        "\n",
        "# 3. Necessidade de Análise Multivariada:\n",
        "# - As correlações fracas sugerem que o churn é influenciado por uma combinação de fatores,\n",
        "#   e não apenas por uma única variável. Uma análise multivariada, como regressão logística,\n",
        "#   poderia ajudar a identificar a importância relativa de cada variável e como elas interagem\n",
        "#   para influenciar o churn.\n",
        "\n",
        "# 4. Segmentação de Clientes:\n",
        "# - Os insights sobre os padrões de churn podem ser usados para segmentar clientes com base\n",
        "#   em seu risco de churn. Isso permite que a empresa direcione esforços de retenção de forma\n",
        "#   mais eficaz, concentrando-se nos clientes com maior probabilidade de sair.\n",
        "\n",
        "# 5. Oportunidades de Melhoria:\n",
        "# - A análise dos dados pode revelar oportunidades para melhorar a experiência do cliente e\n",
        "#   reduzir o churn. Por exemplo, a empresa pode considerar oferecer incentivos para clientes\n",
        "#   com scores baixos aumentarem seus scores, ou oferecer produtos adicionais para clientes\n",
        "#   com poucos produtos.\n",
        "\n",
        "# 6. Monitoramento Contínuo:\n",
        "# - É importante monitorar continuamente os padrões de churn e ajustar as estratégias de\n",
        "#   retenção conforme necessário. O churn é um processo dinâmico e as variáveis que o\n",
        "#   influenciam podem mudar ao longo do tempo.\n"
      ],
      "metadata": {
        "id": "v1slawugyRoF"
      },
      "execution_count": null,
      "outputs": []
    },
    {
      "cell_type": "code",
      "source": [
        " # Clientes com maior salário, mais idade e com cartão de crédito tendem a sair menos\n",
        "\n",
        "# Cria um novo DataFrame com os clientes que saíram (Saiu == 1)\n",
        "clientes_sairam = dataset[dataset['Saiu'] == 1]\n",
        "\n",
        "# Calcula a média do Salário, Idade e TemCartCredito para os clientes que saíram\n",
        "media_salario_sairam = clientes_sairam['Salario'].mean()\n",
        "media_idade_sairam = clientes_sairam['Idade'].mean()\n",
        "media_cartao_sairam = clientes_sairam['TemCartCredito'].mean()\n",
        "\n",
        "# Cria um novo DataFrame com os clientes que não saíram (Saiu == 0)\n",
        "clientes_nao_sairam = dataset[dataset['Saiu'] == 0]\n",
        "\n",
        "# Calcula a média do Salário, Idade e TemCartCredito para os clientes que não saíram\n",
        "media_salario_nao_sairam = clientes_nao_sairam['Salario'].mean()\n",
        "media_idade_nao_sairam = clientes_nao_sairam['Idade'].mean()\n",
        "media_cartao_nao_sairam = clientes_nao_sairam['TemCartCredito'].mean()"
      ],
      "metadata": {
        "id": "u3862DaHhuGP"
      },
      "execution_count": null,
      "outputs": []
    },
    {
      "cell_type": "code",
      "source": [
        "# Cria um gráfico de barras para comparar as médias\n",
        "labels = ['Salário', 'Idade', 'Cartão de Crédito']\n",
        "media_sairam = [media_salario_sairam, media_idade_sairam, media_cartao_sairam]\n",
        "media_nao_sairam = [media_salario_nao_sairam, media_idade_nao_sairam, media_cartao_nao_sairam]\n",
        "\n",
        "x = np.arange(len(labels))  # the label locations\n",
        "width = 0.35  # the width of the bars\n",
        "\n",
        "fig, ax = plt.subplots()\n",
        "rects1 = ax.bar(x - width/2, media_sairam, width, label='Clientes que saíram')\n",
        "rects2 = ax.bar(x + width/2, media_nao_sairam, width, label='Clientes que não saíram')\n",
        "\n",
        "# Add some text for labels, title and custom x-axis tick labels, etc.\n",
        "ax.set_ylabel('Média')\n",
        "ax.set_title('Comparação de médias entre clientes que saíram e não saíram')\n",
        "ax.set_xticks(x)\n",
        "ax.set_xticklabels(labels)\n",
        "ax.legend()\n",
        "\n",
        "fig.tight_layout()\n",
        "\n",
        "plt.show()"
      ],
      "metadata": {
        "colab": {
          "base_uri": "https://localhost:8080/",
          "height": 487
        },
        "id": "-atOnVFWiONP",
        "outputId": "970c08da-2cc7-4f95-ad69-8acbca64e912"
      },
      "execution_count": null,
      "outputs": [
        {
          "output_type": "display_data",
          "data": {
            "text/plain": [
              "<Figure size 640x480 with 1 Axes>"
            ],
            "image/png": "[encoded data removed]"
          },
          "metadata": {}
        }
      ]
    },
    {
      "cell_type": "code",
      "source": [
        "print('# 1. Padrões de Churn:')\n",
        "# Calcula a média do Salário para os clientes que saíram (churn)\n",
        "media_salario_churn = dataset[dataset['Saiu'] == 1]['Salario'].mean()\n",
        "\n",
        "# Calcula a média do Salário para os clientes que não saíram (não churn)\n",
        "media_salario_nao_churn = dataset[dataset['Saiu'] == 0]['Salario'].mean()\n",
        "\n",
        "print(f'Média do Salário para clientes que fizeram churn: {media_salario_churn:.2f}')\n",
        "print(f'Média do Salário para clientes que não fizeram churn: {media_salario_nao_churn:.2f}')\n",
        "\n",
        "# Insight:\n",
        "if media_salario_churn < media_salario_nao_churn:\n",
        "  print('Clientes com salários mais baixos tendem a ter uma probabilidade ligeiramente maior de churn.')\n",
        "else:\n",
        "  print('Clientes com salários mais baixos NÃO tendem a ter uma probabilidade maior de churn.')\n",
        "\n",
        "print('===============================================================================')\n",
        "# Calcula a média da Idade para os clientes que saíram (churn)\n",
        "media_idade_churn = dataset[dataset['Saiu'] == 1]['Idade'].mean()\n",
        "\n",
        "# Calcula a média da Idade para os clientes que não saíram (não churn)\n",
        "media_idade_nao_churn = dataset[dataset['Saiu'] == 0]['Idade'].mean()\n",
        "\n",
        "print(f'Média da Idade para clientes que fizeram churn: {media_idade_churn:.2f}')\n",
        "print(f'Média da Idade para clientes que não fizeram churn: {media_idade_nao_churn:.2f}')\n",
        "\n",
        "# Insight:\n",
        "if media_idade_churn < media_idade_nao_churn:\n",
        "  print('Clientes mais jovens tendem a ter uma probabilidade ligeiramente maior de churn.')\n",
        "else:\n",
        "  print('Clientes mais jovens NÃO tendem a ter uma probabilidade maior de churn.')\n",
        "\n",
        "print('===============================================================================')\n",
        "\n",
        "# Calcula a média de TemCartCredito para os clientes que saíram (churn)\n",
        "media_cartao_churn = dataset[dataset['Saiu'] == 1]['TemCartCredito'].mean()\n",
        "\n",
        "# Calcula a média de TemCartCredito para os clientes que não saíram (não churn)\n",
        "media_cartao_nao_churn = dataset[dataset['Saiu'] == 0]['TemCartCredito'].mean()\n",
        "\n",
        "print(f'Média de TemCartCredito para clientes que fizeram churn: {media_cartao_churn:.2f}')\n",
        "print(f'Média de TemCartCredito para clientes que não fizeram churn: {media_cartao_nao_churn:.2f}')\n",
        "\n",
        "# Insight:\n",
        "if media_cartao_churn < media_cartao_nao_churn:\n",
        "  print('Clientes sem cartão de crédito tendem a ter uma probabilidade ligeiramente maior de churn.')\n",
        "else:\n",
        "  print('Clientes sem cartão de crédito NÃO tendem a ter uma probabilidade maior de churn.')\n",
        "\n",
        "# Insights adicionais:\n",
        "print('\\n# 2. Insights Adicionais:')\n",
        "print('- Clientes com salários mais baixos, mais jovens e sem cartão de crédito podem representar um grupo de maior risco de churn.')\n",
        "print('- Estratégias de retenção podem ser direcionadas para esses clientes, oferecendo incentivos para aumentar seus salários (se aplicável), benefícios exclusivos para clientes mais jovens e facilidades para obtenção de cartão de crédito.')\n",
        "print('- É importante considerar outros fatores e realizar análises multivariadas para entender melhor as causas do churn e desenvolver estratégias de retenção mais eficazes.')\n"
      ],
      "metadata": {
        "colab": {
          "base_uri": "https://localhost:8080/"
        },
        "id": "gf_mjn6d_ua1",
        "outputId": "a94ca9d8-7bd4-4bbc-8a5a-4f86b2068444"
      },
      "execution_count": null,
      "outputs": [
        {
          "output_type": "stream",
          "name": "stdout",
          "text": [
            "# 1. Padrões de Churn:\n",
            "Média do Salário para clientes que fizeram churn: 0.02\n",
            "Média do Salário para clientes que não fizeram churn: -0.00\n",
            "Clientes com salários mais baixos NÃO tendem a ter uma probabilidade maior de churn.\n",
            "===============================================================================\n",
            "Média da Idade para clientes que fizeram churn: 0.49\n",
            "Média da Idade para clientes que não fizeram churn: -0.13\n",
            "Clientes mais jovens NÃO tendem a ter uma probabilidade maior de churn.\n",
            "===============================================================================\n",
            "Média de TemCartCredito para clientes que fizeram churn: 0.70\n",
            "Média de TemCartCredito para clientes que não fizeram churn: 0.70\n",
            "Clientes sem cartão de crédito NÃO tendem a ter uma probabilidade maior de churn.\n",
            "\n",
            "# 2. Insights Adicionais:\n",
            "- Clientes com salários mais baixos, mais jovens e sem cartão de crédito podem representar um grupo de maior risco de churn.\n",
            "- Estratégias de retenção podem ser direcionadas para esses clientes, oferecendo incentivos para aumentar seus salários (se aplicável), benefícios exclusivos para clientes mais jovens e facilidades para obtenção de cartão de crédito.\n",
            "- É importante considerar outros fatores e realizar análises multivariadas para entender melhor as causas do churn e desenvolver estratégias de retenção mais eficazes.\n"
          ]
        }
      ]
    },
    {
      "cell_type": "code",
      "source": [
        "# prompt: mostrar graficamente e por meio de insight se os seguintes insights sao verdadeiro?\n",
        "# # Clientes do sexo feminino tendem a sair mais\n",
        "# # Clientes com menos produtos tendem a sair mais\n",
        "# # Clientes menos ativos tendem a sair mais\n",
        "\n",
        "# Clientes do sexo feminino tendem a sair mais?\n",
        "\n",
        "# Cria um novo DataFrame com os clientes do sexo feminino\n",
        "clientes_feminino = dataset[dataset['Genero'] == 1]\n",
        "\n",
        "# Calcula a taxa de saída para clientes do sexo feminino\n",
        "taxa_saida_feminino = clientes_feminino['Saiu'].mean()\n",
        "\n",
        "# Cria um novo DataFrame com os clientes do sexo masculino\n",
        "clientes_masculino = dataset[dataset['Genero'] == 0]\n",
        "\n",
        "# Calcula a taxa de saída para clientes do sexo masculino\n",
        "taxa_saida_masculino = clientes_masculino['Saiu'].mean()\n",
        "\n",
        "# Cria um gráfico de barras para comparar as taxas de saída\n",
        "labels = ['Feminino', 'Masculino']\n",
        "taxas_saida = [taxa_saida_feminino, taxa_saida_masculino]\n",
        "\n",
        "x = np.arange(len(labels))  # the label locations\n",
        "width = 0.35  # the width of the bars\n",
        "\n",
        "fig, ax = plt.subplots()\n",
        "rects1 = ax.bar(x, taxas_saida, width, label='Taxa de Saída')\n",
        "\n",
        "# Add some text for labels, title and custom x-axis tick labels, etc.\n",
        "ax.set_ylabel('Taxa de Saída')\n",
        "ax.set_title('Comparação da taxa de saída entre clientes do sexo feminino e masculino')\n",
        "ax.set_xticks(x)\n",
        "ax.set_xticklabels(labels)\n",
        "ax.legend()\n",
        "\n",
        "fig.tight_layout()\n",
        "\n",
        "plt.show()\n",
        "\n",
        "# Insight: A taxa de saída de clientes do sexo feminino é ligeiramente maior que a de clientes do sexo masculino.\n",
        "\n",
        "\n",
        "# Clientes com menos produtos tendem a sair mais?\n",
        "\n",
        "# Agrupa os dados pelo número de produtos e calcula a média da coluna 'Saiu'\n",
        "produtos_saida = dataset.groupby('Produtos')['Saiu'].mean()\n",
        "\n",
        "# Cria um gráfico de barras para visualizar a relação entre número de produtos e taxa de saída\n",
        "plt.figure(figsize=(8, 4))\n",
        "\n",
        "plt.bar(produtos_saida.index, produtos_saida.values)\n",
        "plt.xlabel('Número de Produtos')\n",
        "plt.ylabel('Taxa de Saída')\n",
        "plt.title('Relação entre número de produtos e taxa de saída')\n",
        "plt.show()\n",
        "\n",
        "# Insight: Clientes com menos produtos tendem a ter uma taxa de saída maior,\n",
        "#          com exceção de clientes com 5 ou 6 produtos, que apresentam uma taxa de saída menor.\n",
        "\n",
        "\n",
        "# Clientes menos ativos tendem a sair mais?\n",
        "\n",
        "# Cria um novo DataFrame com os clientes ativos\n",
        "clientes_ativos = dataset[dataset['Ativo'] == 1]\n",
        "\n",
        "# Calcula a taxa de saída para clientes ativos\n",
        "taxa_saida_ativos = clientes_ativos['Saiu'].mean()\n",
        "\n",
        "# Cria um novo DataFrame com os clientes inativos\n",
        "clientes_inativos = dataset[dataset['Ativo'] == 0]\n",
        "\n",
        "# Calcula a taxa de saída para clientes inativos\n",
        "taxa_saida_inativos = clientes_inativos['Saiu'].mean()\n",
        "\n",
        "# Cria um gráfico de barras para comparar as taxas de saída\n",
        "labels = ['Ativos', 'Inativos']\n",
        "taxas_saida = [taxa_saida_ativos, taxa_saida_inativos]\n",
        "\n",
        "x = np.arange(len(labels))  # the label locations\n",
        "width = 0.35  # the width of the bars\n",
        "\n",
        "fig, ax = plt.subplots()\n",
        "rects1 = ax.bar(x, taxas_saida, width, label='Taxa de Saída')\n",
        "\n",
        "# Add some text for labels, title and custom x-axis tick labels, etc.\n",
        "ax.set_ylabel('Taxa de Saída')\n",
        "ax.set_title('Comparação da taxa de saída entre clientes ativos e inativos')\n",
        "ax.set_xticks(x)\n",
        "ax.set_xticklabels(labels)\n",
        "ax.legend()\n",
        "\n",
        "fig.tight_layout()\n",
        "\n",
        "plt.show()\n",
        "\n",
        "# Insight: Clientes inativos tendem a ter uma taxa de saída significativamente maior que clientes ativos.\n"
      ],
      "metadata": {
        "id": "KKYCj78PjG2C"
      },
      "execution_count": null,
      "outputs": []
    },
    {
      "cell_type": "code",
      "source": [
        "# prompt: mostrar outros insights\n",
        "\n",
        "# Insights Adicionais\n",
        "\n",
        "# 1. Relação entre Estado e Saída\n",
        "\n",
        "# Agrupa os dados por estado e calcula a média da coluna 'Saiu'\n",
        "estado_saida = dataset.groupby('Estado')['Saiu'].mean()\n",
        "\n",
        "# Cria um gráfico de barras para visualizar a relação entre estado e taxa de saída\n",
        "plt.figure(figsize=(10, 4))\n",
        "\n",
        "plt.bar(estado_saida.index, estado_saida.values)\n",
        "plt.xlabel('Estado')\n",
        "plt.ylabel('Taxa de Saída')\n",
        "plt.title('Relação entre estado e taxa de saída')\n",
        "plt.xticks(rotation=45)\n",
        "plt.show()\n",
        "\n",
        "# Insight: A taxa de saída varia entre os estados, com alguns estados apresentando taxas\n",
        "#          significativamente maiores que outros.\n",
        "\n",
        "\n",
        "# 2. Relação entre Patrimônio e Saída\n",
        "\n",
        "plt.figure(figsize=(3, 3))\n",
        "\n",
        "plt.scatter(dataset['Patrimonio'], dataset['Saiu'])\n",
        "plt.xlabel('Patrimônio')\n",
        "plt.ylabel('Saiu')\n",
        "plt.title('Relação entre Patrimônio e Saída')\n",
        "\n",
        "# Insight: Aparentemente não há uma relação clara entre patrimônio e saída,\n",
        "#          uma vez que os pontos estão dispersos no gráfico.\n",
        "\n",
        "\n",
        "# 3. Distribuição de Idade dos Clientes que Saíram\n",
        "\n",
        "# Filtra os dados para incluir apenas clientes que saíram\n",
        "clientes_sairam = dataset[dataset['Saiu'] == 1]\n",
        "\n",
        "# Cria um histograma da idade dos clientes que saíram\n",
        "plt.figure(figsize=(6, 4))\n",
        "\n",
        "plt.hist(clientes_sairam['Idade'], bins=10)\n",
        "plt.xlabel('Idade')\n",
        "plt.ylabel('Frequência')\n",
        "plt.title('Distribuição de idade dos clientes que saíram')\n",
        "plt.show()\n",
        "\n",
        "# Insight: A distribuição de idade dos clientes que saíram parece ser bimodal,\n",
        "#          com picos em torno de 0.3 e 0.7 (após a padronização).\n",
        "\n",
        "\n",
        "# 4. Análise de Clusters\n",
        "\n",
        "from sklearn.cluster import KMeans\n",
        "\n",
        "# Seleciona as features para clustering\n",
        "features = ['Score', 'Saldo', 'Salario']\n",
        "X = dataset[features]\n",
        "\n",
        "# Encontra o número ideal de clusters usando o método Elbow\n",
        "inertia = []\n",
        "for i in range(1, 11):\n",
        "  kmeans = KMeans(n_clusters=i, random_state=42)\n",
        "  kmeans.fit(X)\n",
        "  inertia.append(kmeans.inertia_)\n",
        "\n",
        "plt.figure(figsize=(6, 4))\n",
        "\n",
        "plt.plot(range(1, 11), inertia, marker='o')\n",
        "plt.xlabel('Número de Clusters')\n",
        "plt.ylabel('Inertia')\n",
        "plt.title('Método Elbow para encontrar o número ideal de clusters')\n",
        "plt.show()\n",
        "\n",
        "# Aplica o K-Means com o número ideal de clusters\n",
        "kmeans = KMeans(n_clusters=3, random_state=42)\n",
        "dataset['Cluster'] = kmeans.fit_predict(X)\n",
        "\n",
        "# Visualiza os clusters\n",
        "plt.figure(figsize=(6, 4))\n",
        "\n",
        "plt.scatter(dataset['Saldo'], dataset['Salario'], c=dataset['Cluster'])\n",
        "plt.xlabel('Saldo')\n",
        "plt.ylabel('Salario')\n",
        "plt.title('Clusters de Clientes')\n",
        "plt.show()\n",
        "\n",
        "# Insight: Os clusters formados podem representar diferentes grupos de clientes com\n",
        "#          características distintas em relação a Score, Saldo e Salário.\n",
        "\n",
        "# 5. Impacto do Gênero na Relação entre Saldo e Salário\n",
        "\n",
        "plt.figure(figsize=(6, 4))\n",
        "\n",
        "sns.scatterplot(x='Saldo', y='Salario', hue='Genero', data=dataset)\n",
        "plt.xlabel('Saldo')\n",
        "plt.ylabel('Salario')\n",
        "plt.title('Relação entre Saldo e Salário por Gênero')\n",
        "plt.show()\n",
        "\n",
        "# Insight: Podemos analisar se o gênero tem algum impacto na relação entre saldo e salário.\n",
        "#          Neste caso, parece haver uma ligeira diferença na distribuição dos pontos\n",
        "#          entre os gêneros.\n"
      ],
      "metadata": {
        "id": "LwDoyTF6mXhi"
      },
      "execution_count": null,
      "outputs": []
    },
    {
      "cell_type": "code",
      "source": [
        "# Insights\n",
        "# Clientes com maior score, maior saldo e mais produtos tendem a sair menos\n",
        "# Clientes com maior salário, mais idade e com cartão de crédito tendem a sair menos\n",
        "# Clientes do sexo feminino tendem a sair mais\n",
        "# Clientes com menos produtos tendem a sair mais\n",
        "# Clientes menos ativos tendem a sair mais"
      ],
      "metadata": {
        "id": "bG0TPCBlcJ74"
      },
      "execution_count": null,
      "outputs": []
    }
  ]
}