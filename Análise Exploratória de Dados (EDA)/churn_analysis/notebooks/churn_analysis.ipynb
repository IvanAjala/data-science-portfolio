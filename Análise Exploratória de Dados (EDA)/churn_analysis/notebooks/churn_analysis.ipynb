{
  "nbformat": 4,
  "nbformat_minor": 0,
  "metadata": {
    "colab": {
      "provenance": [],
      "include_colab_link": true
    },
    "kernelspec": {
      "name": "python3",
      "display_name": "Python 3"
    },
    "language_info": {
      "name": "python"
    }
  },
  "cells": [
    {
      "cell_type": "markdown",
      "metadata": {
        "id": "view-in-github",
        "colab_type": "text"
      },
      "source": [
        "<a href=\"https://colab.research.google.com/github/IvanAjala/data-science-portfolio/blob/main/An%C3%A1lise%20Explorat%C3%B3ria%20de%20Dados%20(EDA)/churn_analysis/notebooks/churn_analysis.ipynb\" target=\"_parent\"><img src=\"https://colab.research.google.com/assets/colab-badge.svg\" alt=\"Open In Colab\"/></a>"
      ]
    },
    {
      "cell_type": "code",
      "execution_count": null,
      "metadata": {
        "id": "Aaako-Du7Dnf"
      },
      "outputs": [],
      "source": [
        "import pandas as pd"
      ]
    },
    {
      "cell_type": "code",
      "source": [
        "# URL do arquivo CSV no GitHub\n",
        "url = 'https://raw.githubusercontent.com/IvanAjala/data-science-portfolio/main/An%C3%A1lise%20Explorat%C3%B3ria%20de%20Dados%20(EDA)/churn_analysis/data/Churn.csv'\n",
        "\n",
        "# Importa a base de dados\n",
        "dataset = pd.read_csv(url, sep=';')\n",
        "\n",
        "# Visualiza\n",
        "dataset.head()\n"
      ],
      "metadata": {
        "id": "K577sgZ7_k_r"
      },
      "execution_count": null,
      "outputs": []
    },
    {
      "cell_type": "code",
      "source": [
        "dataset.shape"
      ],
      "metadata": {
        "id": "WpxgaBnrACjo"
      },
      "execution_count": null,
      "outputs": []
    },
    {
      "cell_type": "code",
      "source": [
        "# Renomeia as colunas\n",
        "dataset.columns = [\"Id\",\"Score\",\"Estado\",\"Genero\",\"Idade\",\"Patrimonio\",\"Saldo\",\"Produtos\",\"TemCartCredito\",\n",
        "                  \"Ativo\",\"Salario\",\"Saiu\"]"
      ],
      "metadata": {
        "id": "UPHblqrZAFsz"
      },
      "execution_count": null,
      "outputs": []
    },
    {
      "cell_type": "code",
      "source": [
        "dataset.head(2)"
      ],
      "metadata": {
        "id": "QItO7igwAYSQ"
      },
      "execution_count": null,
      "outputs": []
    },
    {
      "cell_type": "code",
      "source": [
        "# Explorando dados categóricos\n",
        "# Estado\n",
        "dataset['Estado'].unique()"
      ],
      "metadata": {
        "id": "Tjv0Xl-TAnH0"
      },
      "execution_count": null,
      "outputs": []
    },
    {
      "cell_type": "code",
      "source": [
        "dataset['Estado'].value_counts()"
      ],
      "metadata": {
        "id": "wPl3Vqa7A1s-"
      },
      "execution_count": null,
      "outputs": []
    },
    {
      "cell_type": "code",
      "source": [
        "#Genero\n",
        "dataset['Genero'].value_counts()"
      ],
      "metadata": {
        "id": "bLRZRnLhA8zt"
      },
      "execution_count": null,
      "outputs": []
    },
    {
      "cell_type": "code",
      "source": [
        "#visualizar graficos das variaveis categoricas Estado e Genero\n",
        "\n",
        "import matplotlib.pyplot as plt\n",
        "%matplotlib inline\n",
        "\n",
        "fig, axes = plt.subplots(ncols=2, figsize=(6,3))\n",
        "\n",
        "dataset['Estado'].value_counts().plot(kind='bar', ax=axes[0])\n",
        "axes[0].set_title('Estado')\n",
        "\n",
        "dataset['Genero'].value_counts().plot(kind='bar', ax=axes[1])\n",
        "axes[1].set_title('Genero')\n"
      ],
      "metadata": {
        "id": "MAnuXW78B-M_"
      },
      "execution_count": null,
      "outputs": []
    },
    {
      "cell_type": "code",
      "source": [
        "# Explorando dados numericos\n",
        "dataset.describe()"
      ],
      "metadata": {
        "id": "a7jHd_zxG5DY"
      },
      "execution_count": null,
      "outputs": []
    },
    {
      "cell_type": "code",
      "source": [
        "# visualizar graficamente as variaveis numericas\n",
        "\n",
        "%matplotlib inline\n",
        "\n",
        "num_attributes = dataset.select_dtypes(include=['int64', 'float64'])\n",
        "\n",
        "fig, axes = plt.subplots(ncols=3, nrows=3, figsize=(10,10))\n",
        "\n",
        "count = 0\n",
        "for i in range(3):\n",
        "  for j in range(3):\n",
        "    count += 1\n",
        "    if count < len(num_attributes.columns):\n",
        "      num_attributes.iloc[:, count-1].hist(ax=axes[i][j], bins=10)\n",
        "      axes[i][j].set_title(num_attributes.columns[count-1])\n"
      ],
      "metadata": {
        "collapsed": true,
        "id": "1okYZKa_G89G"
      },
      "execution_count": null,
      "outputs": []
    },
    {
      "cell_type": "code",
      "source": [
        "# visualizar graficamente com graficos os outliers das variaveis numericas\n",
        "\n",
        "%matplotlib inline\n",
        "\n",
        "num_attributes = dataset.select_dtypes(include=['int64', 'float64'])\n",
        "\n",
        "fig, axes = plt.subplots(ncols=3, nrows=3, figsize=(15,15))\n",
        "\n",
        "count = 0\n",
        "for i in range(3):\n",
        "  for j in range(3):\n",
        "    count += 1\n",
        "    if count < len(num_attributes.columns):\n",
        "      num_attributes.iloc[:, count-1].plot(kind='box', ax=axes[i][j])\n"
      ],
      "metadata": {
        "id": "g1Feszs5ITXB"
      },
      "execution_count": null,
      "outputs": []
    },
    {
      "cell_type": "code",
      "source": [
        "# Visualizar dados faltantes\n",
        "dataset.isnull().sum()"
      ],
      "metadata": {
        "id": "WU1lZoRdBQbA"
      },
      "execution_count": null,
      "outputs": []
    },
    {
      "cell_type": "code",
      "source": [
        "dataset['Salario'].describe()"
      ],
      "metadata": {
        "id": "X1sFjSqVK2cB"
      },
      "execution_count": null,
      "outputs": []
    },
    {
      "cell_type": "code",
      "source": [
        "dataset['Salario'].median()"
      ],
      "metadata": {
        "id": "GO5xz8m8LVJF"
      },
      "execution_count": null,
      "outputs": []
    },
    {
      "cell_type": "code",
      "source": [
        "# Tratamento de dados faltantes\n",
        "# Genero e Salário\n",
        "# Salário - Substituir pela mediana\n",
        "dataset['Salario'].fillna(dataset['Salario'].median(), inplace = True)\n",
        "dataset['Salario'].isnull().sum()"
      ],
      "metadata": {
        "id": "jCzkeGbHJn6H"
      },
      "execution_count": null,
      "outputs": []
    },
    {
      "cell_type": "code",
      "source": [
        "dataset['Genero'].describe()"
      ],
      "metadata": {
        "id": "Myvqz-15Lp0c"
      },
      "execution_count": null,
      "outputs": []
    },
    {
      "cell_type": "code",
      "source": [
        "dataset['Genero'].mode()"
      ],
      "metadata": {
        "id": "Jzsd5w0vKggs"
      },
      "execution_count": null,
      "outputs": []
    },
    {
      "cell_type": "code",
      "source": [
        "# Genero - Substituir pela moda\n",
        "dataset['Genero'].fillna(dataset['Genero'].mode()[0], inplace = True)\n",
        "dataset['Genero'].isnull().sum()"
      ],
      "metadata": {
        "id": "Zc3I2TpYKPCv"
      },
      "execution_count": null,
      "outputs": []
    },
    {
      "cell_type": "code",
      "source": [
        "# validando se ainda existem valores faltantes\n",
        "dataset.isnull().sum()"
      ],
      "metadata": {
        "id": "VAeyequwL3Tk"
      },
      "execution_count": null,
      "outputs": []
    },
    {
      "cell_type": "code",
      "source": [
        "# Verificando dados inconsistentes\n",
        "# Estado\n",
        "dataset['Estado'].value_counts()"
      ],
      "metadata": {
        "id": "SRCH70KoME5X"
      },
      "execution_count": null,
      "outputs": []
    },
    {
      "cell_type": "code",
      "source": [
        "# Padronizar de acordo com o dominio os valores SP, RP e TD pela moda\n",
        "dataset.loc[dataset['Estado'].isin(['SP', 'RP', 'TD']), 'Estado'] = dataset['Estado'].mode()[0]\n",
        "dataset['Estado'].value_counts()\n"
      ],
      "metadata": {
        "id": "6sJZn0NwOAPs"
      },
      "execution_count": null,
      "outputs": []
    },
    {
      "cell_type": "code",
      "source": [
        "# Genero\n",
        "dataset['Genero'].value_counts()"
      ],
      "metadata": {
        "id": "dXf7NWMQPFic"
      },
      "execution_count": null,
      "outputs": []
    },
    {
      "cell_type": "code",
      "source": [
        "# Padronizar Genero de acordo com o domínio ('M' por \"Masculino' e 'Fem' e 'F' por 'Feminino')\n",
        "dataset.loc[dataset['Genero'] == 'M', 'Genero'] = 'Masculino'\n",
        "dataset.loc[dataset['Genero'].isin(['Fem', 'F']), 'Genero'] = 'Feminino'\n",
        "dataset['Genero'].unique()"
      ],
      "metadata": {
        "id": "xoNZcEMdP04D"
      },
      "execution_count": null,
      "outputs": []
    },
    {
      "cell_type": "code",
      "source": [
        "# Outliers em Salário\n",
        "\n",
        "%matplotlib inline\n",
        "\n",
        "fig, axes = plt.subplots(ncols=2, figsize=(10,3))\n",
        "\n",
        "dataset['Salario'].hist(ax=axes[0], bins=20)\n",
        "axes[0].set_title('Histograma de Salário')\n",
        "\n",
        "dataset['Salario'].plot(kind='box', ax=axes[1])\n",
        "axes[1].set_title('Boxplot de Salário')\n"
      ],
      "metadata": {
        "id": "-AZ-kT0_Rs24"
      },
      "execution_count": null,
      "outputs": []
    },
    {
      "cell_type": "code",
      "source": [
        "# Calcula o desvio padrão\n",
        "import statistics as sts\n",
        "desv = sts.stdev(dataset['Salario'])\n",
        "desv"
      ],
      "metadata": {
        "id": "Vg5usg-gSphK"
      },
      "execution_count": null,
      "outputs": []
    },
    {
      "cell_type": "code",
      "source": [
        "# Define a faixa aceitável\n",
        "dataset.loc[dataset['Salario'] >= 2 * desv, 'Salario'] = 2 * desv"
      ],
      "metadata": {
        "id": "HcQ_dqotRe7E"
      },
      "execution_count": null,
      "outputs": []
    },
    {
      "cell_type": "code",
      "source": [
        "# Verifica o resultado\n",
        "%matplotlib inline\n",
        "\n",
        "fig, axes = plt.subplots(ncols=2, figsize=(10,3))\n",
        "\n",
        "dataset['Salario'].hist(ax=axes[0], bins=20)\n",
        "axes[0].set_title('Histograma de Salário')\n",
        "\n",
        "dataset['Salario'].plot(kind='box', ax=axes[1])\n",
        "axes[1].set_title('Boxplot de Salário')"
      ],
      "metadata": {
        "id": "j1-TTATNZCFJ"
      },
      "execution_count": null,
      "outputs": []
    },
    {
      "cell_type": "code",
      "source": [
        "dataset['Score'].min()"
      ],
      "metadata": {
        "id": "Di-t7VT9Zk_5"
      },
      "execution_count": null,
      "outputs": []
    },
    {
      "cell_type": "code",
      "source": [
        "dataset['Score'].max()"
      ],
      "metadata": {
        "id": "kHykbEiqZq0-"
      },
      "execution_count": null,
      "outputs": []
    },
    {
      "cell_type": "code",
      "source": [
        "# Padronização dos dados\n",
        "# Score - MinMax\n",
        "dataset['Score'] = (dataset['Score'] - dataset['Score'].min()) / (dataset['Score'].max() - dataset['Score'].min())\n",
        "# Idade - MinMax\n",
        "dataset['Idade'] = (dataset['Idade'] - dataset['Idade'].min()) / (dataset['Idade'].max() - dataset['Idade'].min())\n",
        "# Saldo - MinMax\n",
        "dataset['Saldo'] = (dataset['Saldo'] - dataset['Saldo'].min()) / (dataset['Saldo'].max() - dataset['Saldo'].min())\n",
        "# Salário - MinMax\n",
        "dataset['Salario'] = (dataset['Salario'] - dataset['Salario'].min()) / (dataset['Salario'].max() - dataset['Salario'].min())"
      ],
      "metadata": {
        "id": "BWLW4aDLZIhW"
      },
      "execution_count": null,
      "outputs": []
    },
    {
      "cell_type": "code",
      "source": [
        "# Transformação de variáveis categóricas em numéricas\n",
        "from sklearn.preprocessing import LabelEncoder\n",
        "# Estado\n",
        "label_encoder = LabelEncoder()\n",
        "dataset['Estado'] = label_encoder.fit_transform(dataset['Estado'])\n",
        "# Gênero\n",
        "label_encoder = LabelEncoder()\n",
        "dataset['Genero'] = label_encoder.fit_transform(dataset['Genero'])\n",
        "# Visualiza o resultado\n",
        "dataset.head()"
      ],
      "metadata": {
        "id": "cdc8PW1Gbs1m"
      },
      "execution_count": null,
      "outputs": []
    },
    {
      "cell_type": "code",
      "source": [
        "# Escalonamento de atributos numéricos\n",
        "from sklearn.preprocessing import StandardScaler\n",
        "scaler = StandardScaler()\n",
        "dataset[['Score', 'Idade', 'Saldo', 'Salario']] = scaler.fit_transform(dataset[['Score', 'Idade', 'Saldo', 'Salario']])\n",
        "# Visualiza o resultado\n",
        "dataset.head()"
      ],
      "metadata": {
        "id": "iMUQAfHLb8Fv"
      },
      "execution_count": null,
      "outputs": []
    },
    {
      "cell_type": "code",
      "source": [
        "# prompt: visualizacoes e insights\n",
        "\n",
        "# Correlação entre as variáveis\n",
        "correlation = dataset.corr()\n",
        "\n",
        "# Visualização da correlação\n",
        "import seaborn as sns\n",
        "sns.heatmap(correlation, annot=True, fmt=\".2f\")"
      ],
      "metadata": {
        "id": "jL_BLmRkcg4k"
      },
      "execution_count": null,
      "outputs": []
    },
    {
      "cell_type": "code",
      "source": [
        "# calcular a correlação entre Saldo e Salário\n",
        "correlation = dataset['Saldo'].corr(dataset['Salario'])\n",
        "\n",
        "# exibir a correlação\n",
        "print(f'Correlação entre Saldo e Salário: {correlation:.2f}')\n",
        "\n",
        "# criar um gráfico de dispersão para visualizar a correlação\n",
        "plt.figure(figsize=(3, 3))\n",
        "plt.scatter(dataset['Saldo'], dataset['Salario'])\n",
        "plt.xlabel('Saldo')\n",
        "plt.ylabel('Salario')\n",
        "plt.title('Correlação entre Saldo e Salário')\n",
        "plt.show()\n",
        "\n",
        "# exibir um insight sobre a correlação\n",
        "print('Insight:')\n",
        "if correlation > 0.5:\n",
        "  print('A afirmação é verdadeira. Saldo e Salário têm uma correlação positiva moderada.')\n",
        "elif correlation > 0:\n",
        "  print('Saldo e Salário têm uma correlação positiva fraca.')\n",
        "elif correlation < 0:\n",
        "  print('Saldo e Salário têm uma correlação negativa.')\n",
        "else:\n",
        "  print('Saldo e Salário não têm correlação.')\n"
      ],
      "metadata": {
        "id": "sUo1-5k5rEgW"
      },
      "execution_count": null,
      "outputs": []
    },
    {
      "cell_type": "markdown",
      "source": [
        "`A correlação de -0.01 entre \"Saldo\" e \"Salário\" sugere que há uma relação linear muito fraca e negativa entre essas duas variáveis. Na prática, isso significa que mudanças no \"Saldo\" não estão fortemente associadas a mudanças no \"Salário\", e a relação entre elas é praticamente insignificante.`"
      ],
      "metadata": {
        "id": "XH0rA2wUts_c"
      }
    },
    {
      "cell_type": "code",
      "source": [
        "# calcular a correlação entre Idade e Saldo\n",
        "correlation = dataset['Idade'].corr(dataset['Saldo'])\n",
        "\n",
        "# exibir a correlação\n",
        "print(f'Correlação entre Idade e Saldo: {correlation:.2f}')\n",
        "\n",
        "# criar um gráfico de dispersão para visualizar a correlação\n",
        "plt.figure(figsize=(3, 3))\n",
        "plt.scatter(dataset['Idade'], dataset['Saldo'])\n",
        "plt.xlabel('Idade')\n",
        "plt.ylabel('Saldo')\n",
        "plt.title('Correlação entre Idade e Saldo')\n",
        "plt.show()\n",
        "\n",
        "# exibir um insight sobre a correlação\n",
        "print('Insight:')\n",
        "if correlation > 0.5:\n",
        "  print('Idade e Saldo têm uma correlação positiva moderada.')\n",
        "elif correlation > 0:\n",
        "  print('Idade e Saldo têm uma correlação positiva fraca.')\n",
        "elif correlation < -0.5:\n",
        "  print('Idade e Saldo têm uma correlação negativa moderada.')\n",
        "elif correlation < 0:\n",
        "  print('Idade e Saldo têm uma correlação negativa fraca.')\n",
        "else:\n",
        "  print('Idade e Saldo não têm correlação.')"
      ],
      "metadata": {
        "id": "RB-Ixa4Ht_Gb"
      },
      "execution_count": null,
      "outputs": []
    },
    {
      "cell_type": "markdown",
      "source": [
        "`A correlação de -0.03 entre \"Idade\" e \"Saldo\" sugere que há uma relação linear muito fraca e negativa entre essas duas variáveis. Na prática, isso significa que, em geral, clientes mais jovens tendem a ter um saldo ligeiramente maior do que clientes mais velhos, mas essa relação é muito fraca e pode ser influenciada por outros fatores.`"
      ],
      "metadata": {
        "id": "oZeSD_r9uoPU"
      }
    },
    {
      "cell_type": "code",
      "source": [
        "# calcular a correlação entre Score e Saída\n",
        "correlation = dataset['Score'].corr(dataset['Saiu'])\n",
        "\n",
        "# exibir a correlação\n",
        "print(f'Correlação entre Score e Saída: {correlation:.2f}')\n",
        "\n",
        "# criar um gráfico de dispersão para visualizar a correlação\n",
        "plt.figure(figsize=(3, 3))\n",
        "plt.scatter(dataset['Score'], dataset['Saiu'])\n",
        "plt.xlabel('Score')\n",
        "plt.ylabel('Saída')\n",
        "plt.title('Correlação entre Score e Saída')\n",
        "plt.show()\n",
        "\n",
        "# exibir um insight sobre a correlação\n",
        "print('Insight:')\n",
        "if correlation > 0.5:\n",
        "  print('Score e Saída têm uma correlação positiva moderada.')\n",
        "elif correlation > 0:\n",
        "  print('Score e Saída têm uma correlação positiva fraca.')\n",
        "elif correlation < -0.5:\n",
        "  print('Score e Saída têm uma correlação negativa moderada.')\n",
        "elif correlation < 0:\n",
        "  print('Score e Saída têm uma correlação negativa fraca.')\n",
        "else:\n",
        "  print('Score e Saída não têm correlação.')"
      ],
      "metadata": {
        "id": "K2BiK5g0vR4p"
      },
      "execution_count": null,
      "outputs": []
    },
    {
      "cell_type": "markdown",
      "source": [
        "`A correlação de -0.07 entre \"Score\" e \"Saída\" sugere que há uma relação linear muito fraca e negativa entre essas duas variáveis. Na prática, isso significa que, em geral, clientes com scores mais altos tendem a ter uma probabilidade ligeiramente menor de sair, mas essa relação é muito fraca e pode ser influenciada por outros fatores.`"
      ],
      "metadata": {
        "id": "7Rzu6AJRvqye"
      }
    },
    {
      "cell_type": "code",
      "source": [
        "# calcular a correlação entre Produtos e Saída\n",
        "correlation = dataset['Produtos'].corr(dataset['Saiu'])\n",
        "\n",
        "# exibir a correlação\n",
        "print(f'Correlação entre Produtos e Saída: {correlation:.2f}')\n",
        "\n",
        "# criar um gráfico de dispersão para visualizar a correlação\n",
        "plt.figure(figsize=(3, 3))\n",
        "plt.scatter(dataset['Produtos'], dataset['Saiu'])\n",
        "plt.xlabel('Produtos')\n",
        "plt.ylabel('Saída')\n",
        "plt.title('Correlação entre Produtos e Saída')\n",
        "plt.show()\n",
        "\n",
        "# exibir um insight sobre a correlação\n",
        "print('Insight:')\n",
        "if correlation > 0.5:\n",
        "  print('Produtos e Saída têm uma correlação positiva moderada.')\n",
        "elif correlation > 0:\n",
        "  print('Produtos e Saída têm uma correlação positiva fraca.')\n",
        "elif correlation < -0.5:\n",
        "  print('Produtos e Saída têm uma correlação negativa moderada.')\n",
        "elif correlation < 0:\n",
        "  print('Produtos e Saída têm uma correlação negativa fraca.')\n",
        "else:\n",
        "  print('Produtos e Saída não têm correlação.')"
      ],
      "metadata": {
        "id": "Q8Y7v2kZv_Em"
      },
      "execution_count": null,
      "outputs": []
    },
    {
      "cell_type": "markdown",
      "source": [
        "`A correlação é negativa fraca, sugerindo que clientes com mais produtos tendem a ter uma probabilidade ligeiramente menor de sair.`"
      ],
      "metadata": {
        "id": "wSFjTxO5xwh7"
      }
    },
    {
      "cell_type": "code",
      "source": [
        "# Insights\n",
        "# Clientes com maior score, maior saldo e mais produtos tendem a sair menos\n",
        "\n",
        "# Cria um novo DataFrame com os clientes que saíram (Saiu == 1)\n",
        "clientes_sairam = dataset[dataset['Saiu'] == 1]\n",
        "\n",
        "# Calcula a média do Score, Saldo e Produtos para os clientes que saíram\n",
        "media_score_sairam = clientes_sairam['Score'].mean()\n",
        "media_saldo_sairam = clientes_sairam['Saldo'].mean()\n",
        "media_produtos_sairam = clientes_sairam['Produtos'].mean()\n",
        "\n",
        "# Cria um novo DataFrame com os clientes que não saíram (Saiu == 0)\n",
        "clientes_nao_sairam = dataset[dataset['Saiu'] == 0]\n",
        "\n",
        "# Calcula a média do Score, Saldo e Produtos para os clientes que não saíram\n",
        "media_score_nao_sairam = clientes_nao_sairam['Score'].mean()\n",
        "media_saldo_nao_sairam = clientes_nao_sairam['Saldo'].mean()\n",
        "media_produtos_nao_sairam = clientes_nao_sairam['Produtos'].mean()"
      ],
      "metadata": {
        "id": "ZNMLexYPgN0h"
      },
      "execution_count": null,
      "outputs": []
    },
    {
      "cell_type": "code",
      "source": [
        "# Cria um gráfico de barras para comparar as médias\n",
        "\n",
        "import numpy as np\n",
        "\n",
        "labels = ['Score', 'Saldo', 'Produtos']\n",
        "media_sairam = [media_score_sairam, media_saldo_sairam, media_produtos_sairam]\n",
        "media_nao_sairam = [media_score_nao_sairam, media_saldo_nao_sairam, media_produtos_nao_sairam]\n",
        "\n",
        "plt.figure(figsize=(3, 3))\n",
        "\n",
        "x = np.arange(len(labels))  # the label locations\n",
        "width = 0.35  # the width of the bars\n",
        "\n",
        "fig, ax = plt.subplots()\n",
        "rects1 = ax.bar(x - width/2, media_sairam, width, label='Clientes que saíram')\n",
        "rects2 = ax.bar(x + width/2, media_nao_sairam, width, label='Clientes que não saíram')\n",
        "\n",
        "# Add some text for labels, title and custom x-axis tick labels, etc.\n",
        "ax.set_ylabel('Média')\n",
        "ax.set_title('Comparação de médias entre clientes que saíram e não saíram')\n",
        "ax.set_xticks(x)\n",
        "ax.set_xticklabels(labels)\n",
        "ax.legend()\n",
        "\n",
        "fig.tight_layout()\n",
        "\n",
        "plt.show()"
      ],
      "metadata": {
        "id": "zZr5RqBEg4aN"
      },
      "execution_count": null,
      "outputs": []
    },
    {
      "cell_type": "code",
      "source": [
        "print('# 1. Padrões de Churn:')\n",
        "# Calcula a média do Score para os clientes que saíram (churn)\n",
        "media_score_churn = dataset[dataset['Saiu'] == 1]['Score'].mean()\n",
        "\n",
        "# Calcula a média do Score para os clientes que não saíram (não churn)\n",
        "media_score_nao_churn = dataset[dataset['Saiu'] == 0]['Score'].mean()\n",
        "\n",
        "print(f'Média do Score para clientes que fizeram churn: {media_score_churn:.2f}')\n",
        "print(f'Média do Score para clientes que não fizeram churn: {media_score_nao_churn:.2f}')\n",
        "\n",
        "# Insight:\n",
        "if media_score_churn < media_score_nao_churn:\n",
        "  print('Clientes com scores mais baixos tendem a ter uma probabilidade ligeiramente maior de churn.')\n",
        "else:\n",
        "  print('Clientes com scores mais baixos NÃO tendem a ter uma probabilidade maior de churn.')\n",
        "\n",
        "print('===============================================================================')\n",
        "# Calcula a média do Saldo para os clientes que saíram (churn)\n",
        "media_saldo_churn = dataset[dataset['Saiu'] == 1]['Saldo'].mean()\n",
        "\n",
        "# Calcula a média do Saldo para os clientes que não saíram (não churn)\n",
        "media_saldo_nao_churn = dataset[dataset['Saiu'] == 0]['Saldo'].mean()\n",
        "\n",
        "print(f'Média do Saldo para clientes que fizeram churn: {media_saldo_churn:.2f}')\n",
        "print(f'Média do Saldo para clientes que não fizeram churn: {media_saldo_nao_churn:.2f}')\n",
        "\n",
        "# Insight:\n",
        "if media_saldo_churn > media_saldo_nao_churn:\n",
        "  print('Clientes com saldos mais altos tendem a ter uma probabilidade ligeiramente maior de churn.')\n",
        "else:\n",
        "  print('Clientes com saldos mais altos NÃO tendem a ter uma probabilidade maior de churn.')\n",
        "\n",
        "print('===============================================================================')\n",
        "\n",
        "# Calcula a média de Produtos para os clientes que saíram (churn)\n",
        "media_produtos_churn = dataset[dataset['Saiu'] == 1]['Produtos'].mean()\n",
        "\n",
        "# Calcula a média de Produtos para os clientes que não saíram (não churn)\n",
        "media_produtos_nao_churn = dataset[dataset['Saiu'] == 0]['Produtos'].mean()\n",
        "\n",
        "print(f'Média de Produtos para clientes que fizeram churn: {media_produtos_churn:.2f}')\n",
        "print(f'Média de Produtos para clientes que não fizeram churn: {media_produtos_nao_churn:.2f}')\n",
        "\n",
        "# Insight:\n",
        "if media_produtos_churn < media_produtos_nao_churn:\n",
        "  print('Clientes com menos produtos tendem a ter uma probabilidade ligeiramente maior de churn.')\n",
        "else:\n",
        "  print('Clientes com menos produtos NÃO tendem a ter uma probabilidade maior de churn.')\n"
      ],
      "metadata": {
        "id": "IuXQAHIrzgJl"
      },
      "execution_count": null,
      "outputs": []
    },
    {
      "cell_type": "markdown",
      "source": [
        "\n",
        "`2. Importância do Score, Saldo e Produtos: Essas três variáveis, apesar de apresentarem correlações fracas com o churn, podem ser indicadores importantes a serem considerados em estratégias de retenção.`\n",
        "\n",
        "\n"
      ],
      "metadata": {
        "id": "EiHvF7NL2wKm"
      }
    },
    {
      "cell_type": "code",
      "source": [
        "\n",
        "\n",
        "\n",
        "\n",
        "# 3. Necessidade de Análise Multivariada:\n",
        "# - As correlações fracas sugerem que o churn é influenciado por uma combinação de fatores,\n",
        "#   e não apenas por uma única variável. Uma análise multivariada, como regressão logística,\n",
        "#   poderia ajudar a identificar a importância relativa de cada variável e como elas interagem\n",
        "#   para influenciar o churn.\n",
        "\n",
        "# 4. Segmentação de Clientes:\n",
        "# - Os insights sobre os padrões de churn podem ser usados para segmentar clientes com base\n",
        "#   em seu risco de churn. Isso permite que a empresa direcione esforços de retenção de forma\n",
        "#   mais eficaz, concentrando-se nos clientes com maior probabilidade de sair.\n",
        "\n",
        "# 5. Oportunidades de Melhoria:\n",
        "# - A análise dos dados pode revelar oportunidades para melhorar a experiência do cliente e\n",
        "#   reduzir o churn. Por exemplo, a empresa pode considerar oferecer incentivos para clientes\n",
        "#   com scores baixos aumentarem seus scores, ou oferecer produtos adicionais para clientes\n",
        "#   com poucos produtos.\n",
        "\n",
        "# 6. Monitoramento Contínuo:\n",
        "# - É importante monitorar continuamente os padrões de churn e ajustar as estratégias de\n",
        "#   retenção conforme necessário. O churn é um processo dinâmico e as variáveis que o\n",
        "#   influenciam podem mudar ao longo do tempo.\n"
      ],
      "metadata": {
        "id": "v1slawugyRoF"
      },
      "execution_count": null,
      "outputs": []
    },
    {
      "cell_type": "code",
      "source": [
        " # Clientes com maior salário, mais idade e com cartão de crédito tendem a sair menos\n",
        "\n",
        "# Cria um novo DataFrame com os clientes que saíram (Saiu == 1)\n",
        "clientes_sairam = dataset[dataset['Saiu'] == 1]\n",
        "\n",
        "# Calcula a média do Salário, Idade e TemCartCredito para os clientes que saíram\n",
        "media_salario_sairam = clientes_sairam['Salario'].mean()\n",
        "media_idade_sairam = clientes_sairam['Idade'].mean()\n",
        "media_cartao_sairam = clientes_sairam['TemCartCredito'].mean()\n",
        "\n",
        "# Cria um novo DataFrame com os clientes que não saíram (Saiu == 0)\n",
        "clientes_nao_sairam = dataset[dataset['Saiu'] == 0]\n",
        "\n",
        "# Calcula a média do Salário, Idade e TemCartCredito para os clientes que não saíram\n",
        "media_salario_nao_sairam = clientes_nao_sairam['Salario'].mean()\n",
        "media_idade_nao_sairam = clientes_nao_sairam['Idade'].mean()\n",
        "media_cartao_nao_sairam = clientes_nao_sairam['TemCartCredito'].mean()"
      ],
      "metadata": {
        "id": "u3862DaHhuGP"
      },
      "execution_count": null,
      "outputs": []
    },
    {
      "cell_type": "code",
      "source": [
        "# Cria um gráfico de barras para comparar as médias\n",
        "labels = ['Salário', 'Idade', 'Cartão de Crédito']\n",
        "media_sairam = [media_salario_sairam, media_idade_sairam, media_cartao_sairam]\n",
        "media_nao_sairam = [media_salario_nao_sairam, media_idade_nao_sairam, media_cartao_nao_sairam]\n",
        "\n",
        "x = np.arange(len(labels))  # the label locations\n",
        "width = 0.35  # the width of the bars\n",
        "\n",
        "fig, ax = plt.subplots()\n",
        "rects1 = ax.bar(x - width/2, media_sairam, width, label='Clientes que saíram')\n",
        "rects2 = ax.bar(x + width/2, media_nao_sairam, width, label='Clientes que não saíram')\n",
        "\n",
        "# Add some text for labels, title and custom x-axis tick labels, etc.\n",
        "ax.set_ylabel('Média')\n",
        "ax.set_title('Comparação de médias entre clientes que saíram e não saíram')\n",
        "ax.set_xticks(x)\n",
        "ax.set_xticklabels(labels)\n",
        "ax.legend()\n",
        "\n",
        "fig.tight_layout()\n",
        "\n",
        "plt.show()"
      ],
      "metadata": {
        "id": "-atOnVFWiONP"
      },
      "execution_count": null,
      "outputs": []
    },
    {
      "cell_type": "code",
      "source": [
        "print('# 1. Padrões de Churn:')\n",
        "# Calcula a média do Salário para os clientes que saíram (churn)\n",
        "media_salario_churn = dataset[dataset['Saiu'] == 1]['Salario'].mean()\n",
        "\n",
        "# Calcula a média do Salário para os clientes que não saíram (não churn)\n",
        "media_salario_nao_churn = dataset[dataset['Saiu'] == 0]['Salario'].mean()\n",
        "\n",
        "print(f'Média do Salário para clientes que fizeram churn: {media_salario_churn:.2f}')\n",
        "print(f'Média do Salário para clientes que não fizeram churn: {media_salario_nao_churn:.2f}')\n",
        "\n",
        "# Insight:\n",
        "if media_salario_churn < media_salario_nao_churn:\n",
        "  print('Clientes com salários mais baixos tendem a ter uma probabilidade ligeiramente maior de churn.')\n",
        "else:\n",
        "  print('Clientes com salários mais baixos NÃO tendem a ter uma probabilidade maior de churn.')\n",
        "\n",
        "print('===============================================================================')\n",
        "# Calcula a média da Idade para os clientes que saíram (churn)\n",
        "media_idade_churn = dataset[dataset['Saiu'] == 1]['Idade'].mean()\n",
        "\n",
        "# Calcula a média da Idade para os clientes que não saíram (não churn)\n",
        "media_idade_nao_churn = dataset[dataset['Saiu'] == 0]['Idade'].mean()\n",
        "\n",
        "print(f'Média da Idade para clientes que fizeram churn: {media_idade_churn:.2f}')\n",
        "print(f'Média da Idade para clientes que não fizeram churn: {media_idade_nao_churn:.2f}')\n",
        "\n",
        "# Insight:\n",
        "if media_idade_churn < media_idade_nao_churn:\n",
        "  print('Clientes mais jovens tendem a ter uma probabilidade ligeiramente maior de churn.')\n",
        "else:\n",
        "  print('Clientes mais jovens NÃO tendem a ter uma probabilidade maior de churn.')\n",
        "\n",
        "print('===============================================================================')\n",
        "\n",
        "# Calcula a média de TemCartCredito para os clientes que saíram (churn)\n",
        "media_cartao_churn = dataset[dataset['Saiu'] == 1]['TemCartCredito'].mean()\n",
        "\n",
        "# Calcula a média de TemCartCredito para os clientes que não saíram (não churn)\n",
        "media_cartao_nao_churn = dataset[dataset['Saiu'] == 0]['TemCartCredito'].mean()\n",
        "\n",
        "print(f'Média de TemCartCredito para clientes que fizeram churn: {media_cartao_churn:.2f}')\n",
        "print(f'Média de TemCartCredito para clientes que não fizeram churn: {media_cartao_nao_churn:.2f}')\n",
        "\n",
        "# Insight:\n",
        "if media_cartao_churn < media_cartao_nao_churn:\n",
        "  print('Clientes sem cartão de crédito tendem a ter uma probabilidade ligeiramente maior de churn.')\n",
        "else:\n",
        "  print('Clientes sem cartão de crédito NÃO tendem a ter uma probabilidade maior de churn.')\n",
        "\n",
        "# Insights adicionais:\n",
        "print('\\n# 2. Insights Adicionais:')\n",
        "print('- Clientes com salários mais baixos, mais jovens e sem cartão de crédito podem representar um grupo de maior risco de churn.')\n",
        "print('- Estratégias de retenção podem ser direcionadas para esses clientes, oferecendo incentivos para aumentar seus salários (se aplicável), benefícios exclusivos para clientes mais jovens e facilidades para obtenção de cartão de crédito.')\n",
        "print('- É importante considerar outros fatores e realizar análises multivariadas para entender melhor as causas do churn e desenvolver estratégias de retenção mais eficazes.')\n"
      ],
      "metadata": {
        "id": "gf_mjn6d_ua1"
      },
      "execution_count": null,
      "outputs": []
    },
    {
      "cell_type": "code",
      "source": [
        "# prompt: mostrar graficamente e por meio de insight se os seguintes insights sao verdadeiro?\n",
        "# # Clientes do sexo feminino tendem a sair mais\n",
        "# # Clientes com menos produtos tendem a sair mais\n",
        "# # Clientes menos ativos tendem a sair mais\n",
        "\n",
        "# Clientes do sexo feminino tendem a sair mais?\n",
        "\n",
        "# Cria um novo DataFrame com os clientes do sexo feminino\n",
        "clientes_feminino = dataset[dataset['Genero'] == 1]\n",
        "\n",
        "# Calcula a taxa de saída para clientes do sexo feminino\n",
        "taxa_saida_feminino = clientes_feminino['Saiu'].mean()\n",
        "\n",
        "# Cria um novo DataFrame com os clientes do sexo masculino\n",
        "clientes_masculino = dataset[dataset['Genero'] == 0]\n",
        "\n",
        "# Calcula a taxa de saída para clientes do sexo masculino\n",
        "taxa_saida_masculino = clientes_masculino['Saiu'].mean()\n",
        "\n",
        "# Cria um gráfico de barras para comparar as taxas de saída\n",
        "labels = ['Feminino', 'Masculino']\n",
        "taxas_saida = [taxa_saida_feminino, taxa_saida_masculino]\n",
        "\n",
        "x = np.arange(len(labels))  # the label locations\n",
        "width = 0.35  # the width of the bars\n",
        "\n",
        "fig, ax = plt.subplots()\n",
        "rects1 = ax.bar(x, taxas_saida, width, label='Taxa de Saída')\n",
        "\n",
        "# Add some text for labels, title and custom x-axis tick labels, etc.\n",
        "ax.set_ylabel('Taxa de Saída')\n",
        "ax.set_title('Comparação da taxa de saída entre clientes do sexo feminino e masculino')\n",
        "ax.set_xticks(x)\n",
        "ax.set_xticklabels(labels)\n",
        "ax.legend()\n",
        "\n",
        "fig.tight_layout()\n",
        "\n",
        "plt.show()\n",
        "\n",
        "# Insight: A taxa de saída de clientes do sexo feminino é ligeiramente maior que a de clientes do sexo masculino.\n",
        "\n",
        "\n",
        "# Clientes com menos produtos tendem a sair mais?\n",
        "\n",
        "# Agrupa os dados pelo número de produtos e calcula a média da coluna 'Saiu'\n",
        "produtos_saida = dataset.groupby('Produtos')['Saiu'].mean()\n",
        "\n",
        "# Cria um gráfico de barras para visualizar a relação entre número de produtos e taxa de saída\n",
        "plt.figure(figsize=(8, 4))\n",
        "\n",
        "plt.bar(produtos_saida.index, produtos_saida.values)\n",
        "plt.xlabel('Número de Produtos')\n",
        "plt.ylabel('Taxa de Saída')\n",
        "plt.title('Relação entre número de produtos e taxa de saída')\n",
        "plt.show()\n",
        "\n",
        "# Insight: Clientes com menos produtos tendem a ter uma taxa de saída maior,\n",
        "#          com exceção de clientes com 5 ou 6 produtos, que apresentam uma taxa de saída menor.\n",
        "\n",
        "\n",
        "# Clientes menos ativos tendem a sair mais?\n",
        "\n",
        "# Cria um novo DataFrame com os clientes ativos\n",
        "clientes_ativos = dataset[dataset['Ativo'] == 1]\n",
        "\n",
        "# Calcula a taxa de saída para clientes ativos\n",
        "taxa_saida_ativos = clientes_ativos['Saiu'].mean()\n",
        "\n",
        "# Cria um novo DataFrame com os clientes inativos\n",
        "clientes_inativos = dataset[dataset['Ativo'] == 0]\n",
        "\n",
        "# Calcula a taxa de saída para clientes inativos\n",
        "taxa_saida_inativos = clientes_inativos['Saiu'].mean()\n",
        "\n",
        "# Cria um gráfico de barras para comparar as taxas de saída\n",
        "labels = ['Ativos', 'Inativos']\n",
        "taxas_saida = [taxa_saida_ativos, taxa_saida_inativos]\n",
        "\n",
        "x = np.arange(len(labels))  # the label locations\n",
        "width = 0.35  # the width of the bars\n",
        "\n",
        "fig, ax = plt.subplots()\n",
        "rects1 = ax.bar(x, taxas_saida, width, label='Taxa de Saída')\n",
        "\n",
        "# Add some text for labels, title and custom x-axis tick labels, etc.\n",
        "ax.set_ylabel('Taxa de Saída')\n",
        "ax.set_title('Comparação da taxa de saída entre clientes ativos e inativos')\n",
        "ax.set_xticks(x)\n",
        "ax.set_xticklabels(labels)\n",
        "ax.legend()\n",
        "\n",
        "fig.tight_layout()\n",
        "\n",
        "plt.show()\n",
        "\n",
        "# Insight: Clientes inativos tendem a ter uma taxa de saída significativamente maior que clientes ativos.\n"
      ],
      "metadata": {
        "id": "KKYCj78PjG2C"
      },
      "execution_count": null,
      "outputs": []
    },
    {
      "cell_type": "code",
      "source": [
        "# prompt: mostrar outros insights\n",
        "\n",
        "# Insights Adicionais\n",
        "\n",
        "# 1. Relação entre Estado e Saída\n",
        "\n",
        "# Agrupa os dados por estado e calcula a média da coluna 'Saiu'\n",
        "estado_saida = dataset.groupby('Estado')['Saiu'].mean()\n",
        "\n",
        "# Cria um gráfico de barras para visualizar a relação entre estado e taxa de saída\n",
        "plt.figure(figsize=(10, 4))\n",
        "\n",
        "plt.bar(estado_saida.index, estado_saida.values)\n",
        "plt.xlabel('Estado')\n",
        "plt.ylabel('Taxa de Saída')\n",
        "plt.title('Relação entre estado e taxa de saída')\n",
        "plt.xticks(rotation=45)\n",
        "plt.show()\n",
        "\n",
        "# Insight: A taxa de saída varia entre os estados, com alguns estados apresentando taxas\n",
        "#          significativamente maiores que outros.\n",
        "\n",
        "\n",
        "# 2. Relação entre Patrimônio e Saída\n",
        "\n",
        "plt.figure(figsize=(3, 3))\n",
        "\n",
        "plt.scatter(dataset['Patrimonio'], dataset['Saiu'])\n",
        "plt.xlabel('Patrimônio')\n",
        "plt.ylabel('Saiu')\n",
        "plt.title('Relação entre Patrimônio e Saída')\n",
        "\n",
        "# Insight: Aparentemente não há uma relação clara entre patrimônio e saída,\n",
        "#          uma vez que os pontos estão dispersos no gráfico.\n",
        "\n",
        "\n",
        "# 3. Distribuição de Idade dos Clientes que Saíram\n",
        "\n",
        "# Filtra os dados para incluir apenas clientes que saíram\n",
        "clientes_sairam = dataset[dataset['Saiu'] == 1]\n",
        "\n",
        "# Cria um histograma da idade dos clientes que saíram\n",
        "plt.figure(figsize=(6, 4))\n",
        "\n",
        "plt.hist(clientes_sairam['Idade'], bins=10)\n",
        "plt.xlabel('Idade')\n",
        "plt.ylabel('Frequência')\n",
        "plt.title('Distribuição de idade dos clientes que saíram')\n",
        "plt.show()\n",
        "\n",
        "# Insight: A distribuição de idade dos clientes que saíram parece ser bimodal,\n",
        "#          com picos em torno de 0.3 e 0.7 (após a padronização).\n",
        "\n",
        "\n",
        "# 4. Análise de Clusters\n",
        "\n",
        "from sklearn.cluster import KMeans\n",
        "\n",
        "# Seleciona as features para clustering\n",
        "features = ['Score', 'Saldo', 'Salario']\n",
        "X = dataset[features]\n",
        "\n",
        "# Encontra o número ideal de clusters usando o método Elbow\n",
        "inertia = []\n",
        "for i in range(1, 11):\n",
        "  kmeans = KMeans(n_clusters=i, random_state=42)\n",
        "  kmeans.fit(X)\n",
        "  inertia.append(kmeans.inertia_)\n",
        "\n",
        "plt.figure(figsize=(6, 4))\n",
        "\n",
        "plt.plot(range(1, 11), inertia, marker='o')\n",
        "plt.xlabel('Número de Clusters')\n",
        "plt.ylabel('Inertia')\n",
        "plt.title('Método Elbow para encontrar o número ideal de clusters')\n",
        "plt.show()\n",
        "\n",
        "# Aplica o K-Means com o número ideal de clusters\n",
        "kmeans = KMeans(n_clusters=3, random_state=42)\n",
        "dataset['Cluster'] = kmeans.fit_predict(X)\n",
        "\n",
        "# Visualiza os clusters\n",
        "plt.figure(figsize=(6, 4))\n",
        "\n",
        "plt.scatter(dataset['Saldo'], dataset['Salario'], c=dataset['Cluster'])\n",
        "plt.xlabel('Saldo')\n",
        "plt.ylabel('Salario')\n",
        "plt.title('Clusters de Clientes')\n",
        "plt.show()\n",
        "\n",
        "# Insight: Os clusters formados podem representar diferentes grupos de clientes com\n",
        "#          características distintas em relação a Score, Saldo e Salário.\n",
        "\n",
        "# 5. Impacto do Gênero na Relação entre Saldo e Salário\n",
        "\n",
        "plt.figure(figsize=(6, 4))\n",
        "\n",
        "sns.scatterplot(x='Saldo', y='Salario', hue='Genero', data=dataset)\n",
        "plt.xlabel('Saldo')\n",
        "plt.ylabel('Salario')\n",
        "plt.title('Relação entre Saldo e Salário por Gênero')\n",
        "plt.show()\n",
        "\n",
        "# Insight: Podemos analisar se o gênero tem algum impacto na relação entre saldo e salário.\n",
        "#          Neste caso, parece haver uma ligeira diferença na distribuição dos pontos\n",
        "#          entre os gêneros.\n"
      ],
      "metadata": {
        "id": "LwDoyTF6mXhi"
      },
      "execution_count": null,
      "outputs": []
    },
    {
      "cell_type": "code",
      "source": [
        "# Insights\n",
        "# Clientes com maior score, maior saldo e mais produtos tendem a sair menos\n",
        "# Clientes com maior salário, mais idade e com cartão de crédito tendem a sair menos\n",
        "# Clientes do sexo feminino tendem a sair mais\n",
        "# Clientes com menos produtos tendem a sair mais\n",
        "# Clientes menos ativos tendem a sair mais"
      ],
      "metadata": {
        "id": "bG0TPCBlcJ74"
      },
      "execution_count": null,
      "outputs": []
    }
  ]
}